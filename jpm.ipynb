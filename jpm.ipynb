{
 "cells": [
  {
   "cell_type": "code",
   "execution_count": 2,
   "metadata": {},
   "outputs": [],
   "source": [
    "import textract\n",
    "import pandas as pd\n",
    "import numpy as np\n",
    "import re"
   ]
  },
  {
   "cell_type": "code",
   "execution_count": 3,
   "metadata": {},
   "outputs": [],
   "source": [
    "import tabula"
   ]
  },
  {
   "cell_type": "code",
   "execution_count": 4,
   "metadata": {},
   "outputs": [],
   "source": [
    "#extraigo texto\n",
    "archivo= 'tresalia\\Edo Cta\\JPM_PDF_por_contratar BE.pdf'"
   ]
  },
  {
   "cell_type": "code",
   "execution_count": 5,
   "metadata": {},
   "outputs": [],
   "source": [
    "text = textract.process(archivo)"
   ]
  },
  {
   "cell_type": "code",
   "execution_count": 6,
   "metadata": {},
   "outputs": [],
   "source": [
    "#cambio formato\n",
    "encoding = 'utf-8'\n",
    "text_str=text.decode(encoding)"
   ]
  },
  {
   "cell_type": "code",
   "execution_count": 7,
   "metadata": {},
   "outputs": [],
   "source": [
    "#separo\n",
    "pdf=re.split(r\"[~\\r\\n]+\", text_str)"
   ]
  },
  {
   "cell_type": "code",
   "execution_count": 8,
   "metadata": {},
   "outputs": [
    {
     "data": {
      "text/html": [
       "<div>\n",
       "<style scoped>\n",
       "    .dataframe tbody tr th:only-of-type {\n",
       "        vertical-align: middle;\n",
       "    }\n",
       "\n",
       "    .dataframe tbody tr th {\n",
       "        vertical-align: top;\n",
       "    }\n",
       "\n",
       "    .dataframe thead th {\n",
       "        text-align: right;\n",
       "    }\n",
       "</style>\n",
       "<table border=\"1\" class=\"dataframe\">\n",
       "  <thead>\n",
       "    <tr style=\"text-align: right;\">\n",
       "      <th></th>\n",
       "      <th>informacion</th>\n",
       "    </tr>\n",
       "  </thead>\n",
       "  <tbody>\n",
       "    <tr>\n",
       "      <th>0</th>\n",
       "      <td>NOMBRE APELLIDO P APELLIDO M DIRECCIÓN COL</td>\n",
       "    </tr>\n",
       "    <tr>\n",
       "      <th>1</th>\n",
       "      <td>MEXICO, DF 00000 MEXICO</td>\n",
       "    </tr>\n",
       "    <tr>\n",
       "      <th>2</th>\n",
       "      <td>For the Period 8/1/20 to 8/31/20</td>\n",
       "    </tr>\n",
       "    <tr>\n",
       "      <th>3</th>\n",
       "      <td>Account Summary</td>\n",
       "    </tr>\n",
       "    <tr>\n",
       "      <th>4</th>\n",
       "      <td>Account Number</td>\n",
       "    </tr>\n",
       "  </tbody>\n",
       "</table>\n",
       "</div>"
      ],
      "text/plain": [
       "                                  informacion\n",
       "0  NOMBRE APELLIDO P APELLIDO M DIRECCIÓN COL\n",
       "1                     MEXICO, DF 00000 MEXICO\n",
       "2          \n",
       "\n",
       "For the Period 8/1/20 to 8/31/20\n",
       "3                             Account Summary\n",
       "4                              Account Number"
      ]
     },
     "execution_count": 8,
     "metadata": {},
     "output_type": "execute_result"
    }
   ],
   "source": [
    "information_pdf=pd.DataFrame(pdf).rename(columns={0:\"informacion\"})\n",
    "information_pdf.head()"
   ]
  },
  {
   "cell_type": "code",
   "execution_count": 9,
   "metadata": {},
   "outputs": [],
   "source": [
    "#periodo\n",
    "periodo_lista= []\n",
    "for i in pdf:\n",
    "    if re.search('Period',i):\n",
    "        periodo_lista.append(i)\n",
    "periodo=periodo_lista[0]"
   ]
  },
  {
   "cell_type": "code",
   "execution_count": 10,
   "metadata": {},
   "outputs": [
    {
     "data": {
      "text/plain": [
       "'\\x0c\\x0cFor the Period 8/1/20 to 8/31/20'"
      ]
     },
     "execution_count": 10,
     "metadata": {},
     "output_type": "execute_result"
    }
   ],
   "source": [
    "periodo"
   ]
  },
  {
   "cell_type": "code",
   "execution_count": 11,
   "metadata": {},
   "outputs": [],
   "source": [
    "datos_lista=[]\n",
    "for i in pdf:\n",
    "    if re.search('COL',i):\n",
    "        datos_lista.append(i)\n",
    "        \n",
    "datos_personales=datos_lista[0]"
   ]
  },
  {
   "cell_type": "code",
   "execution_count": 12,
   "metadata": {},
   "outputs": [
    {
     "data": {
      "text/plain": [
       "'NOMBRE APELLIDO P APELLIDO M DIRECCIÓN COL'"
      ]
     },
     "execution_count": 12,
     "metadata": {},
     "output_type": "execute_result"
    }
   ],
   "source": [
    "datos_personales"
   ]
  },
  {
   "cell_type": "code",
   "execution_count": 13,
   "metadata": {},
   "outputs": [],
   "source": [
    "#cuenta\n",
    "cuenta_lista=[]\n",
    "for i in range(len(pdf)):\n",
    "    if re.search('Account Number',pdf[i]):\n",
    "        cuenta_lista.append(pdf[i])\n",
    "        cuenta_lista.append(pdf[i+1])"
   ]
  },
  {
   "cell_type": "code",
   "execution_count": 14,
   "metadata": {},
   "outputs": [],
   "source": [
    "cuenta_lista_2=[]\n",
    "for i in range(len(cuenta_lista)):\n",
    "    if cuenta_lista[i].startswith('Account'):\n",
    "        cuenta_lista_2.append(cuenta_lista[i+1])\n",
    "        "
   ]
  },
  {
   "cell_type": "code",
   "execution_count": 15,
   "metadata": {},
   "outputs": [
    {
     "data": {
      "text/plain": [
       "'X99999999'"
      ]
     },
     "execution_count": 15,
     "metadata": {},
     "output_type": "execute_result"
    }
   ],
   "source": [
    "cuenta=cuenta_lista_2[1]\n",
    "cuenta"
   ]
  },
  {
   "cell_type": "code",
   "execution_count": 51,
   "metadata": {},
   "outputs": [],
   "source": [
    "saldo_lista=[]\n",
    "for i in range(len(pdf)):\n",
    "    if re.search('beginning cash',pdf[i].lower()):\n",
    "        saldo_lista.append(pdf[i+1])\n",
    "        saldo_lista.append(pdf[i+2])\n",
    "        saldo_lista.append(pdf[i+3])\n",
    "        saldo_lista.append(pdf[i+4])\n",
    "        saldo_lista.append(pdf[i+5])"
   ]
  },
  {
   "cell_type": "code",
   "execution_count": 55,
   "metadata": {},
   "outputs": [],
   "source": [
    "for i in saldo_lista:\n",
    "    if re.search(r'\\d+',i):\n",
    "        saldo_inicial=i"
   ]
  },
  {
   "cell_type": "code",
   "execution_count": 56,
   "metadata": {},
   "outputs": [
    {
     "data": {
      "text/plain": [
       "'6,146.33'"
      ]
     },
     "execution_count": 56,
     "metadata": {},
     "output_type": "execute_result"
    }
   ],
   "source": [
    "saldo_inicial"
   ]
  },
  {
   "cell_type": "code",
   "execution_count": 19,
   "metadata": {},
   "outputs": [],
   "source": [
    "indice_actividad=[]\n",
    "for i in range(len(pdf)):\n",
    "    if re.search('Portfolio Activity Detail - U S Dollar',pdf[i]):\n",
    "        indice_actividad.append(i)\n",
    "    "
   ]
  },
  {
   "cell_type": "code",
   "execution_count": 20,
   "metadata": {},
   "outputs": [
    {
     "data": {
      "text/plain": [
       "['\\x0cPortfolio Activity Detail - U S Dollar',\n",
       " 'INFLOWS & OUTFLOWS',\n",
       " 'Type Settle Date Selection Method 8/3 Interest Income 8/11 ACH Payment',\n",
       " '8/13 Misc Credit',\n",
       " 'Total Inflows & Outflows',\n",
       " 'Description',\n",
       " 'DEPOSIT SWEEP INTEREST FOR 07/01/20 - 07/31/20 @ .05% RATE ON AVG COLLECTED BALANCE OF $264,551.41 AS OF 08/01/20',\n",
       " 'ACH DEBIT ORIG CO NAME:CHASE CREDIT CRD ORIG ID:4760039224 DESC DATE:200810 CO ENTRY DESCR:AUTOPAY SEC:PPD TRACE#:021000029480167 EED:200810 IND ID:0000XXXXX022922 IND NAME:XXXXXXXX XXXXXXX A TRN: 2239480167TC AS OF 08/10/20',\n",
       " 'FEDWIRE CREDIT VIA: THE BANK OF NEW YORK MELLON/021000018 B/O: XXXXXX XXXXXX XXXXXX XXXXX XXXXXXXX: CHASE NYC/CTR/BNF=XXXX XXXXXXX X-II MEXICO, DF 11000 MEXICO MX/ AC-000000051115 RFB=O/B BK OF NY C OBI=TRASPASO CUENTA PROPIA BBI=/C HGS/USD0,00/OCMT/USD20656,21/ TRN: 5608509226FF',\n",
       " 'ACCT. X99999999 For the Period 8/1/20 to 8/31/20',\n",
       " 'Quantity Cost',\n",
       " 'Per Unit Amount',\n",
       " 'Amount 11.22',\n",
       " '(5,833.99)',\n",
       " '2,656.21',\n",
       " '$4,833.44',\n",
       " 'Account X99999999 Page 9 of 9',\n",
       " 'Consolidated Statement Page 12',\n",
       " '\\x0cTHIS PAGE INTENTIONALLY LEFT BLANK',\n",
       " '\\x0cJ.P. Morgan Securities LLC 383 Madison Avenue, New York, NY 10179',\n",
       " 'Margin Account',\n",
       " 'J.P. Morgan Team',\n",
       " 'XXXX XXXX XXXX XXXXX XXX XXXXX Online access',\n",
       " 'Client Service Team Client Service Team Client Service Team www.jpmorganonline.com',\n",
       " '999/999-9999',\n",
       " 'Transactions cleared and carried through J.P. Morgan Securities LLC (\"JPMS\") - 4 Chase Metrotech Center, Brooklyn, N.Y. 11245-0001, (347) 643-9953',\n",
       " 'No market value or activity to report during this period',\n",
       " 'Please see disclosures located at the end of this statement package for important information relating to each J.P.Morgan account.',\n",
       " 'ACCT. 99999999 For the Period 8/1/20 to 8/31/20',\n",
       " 'Account 99999999 Page 1 of 1 Consolidated Statement Page 13',\n",
       " '\\x0cTHIS PAGE INTENTIONALLY LEFT BLANK',\n",
       " '\\x0cFor the Period 8/1/20 to 8/31/20',\n",
       " 'IMPORTANT INFORMATION ABOUT YOUR STATEMENT',\n",
       " 'For your convenience this statement combines information about your J.P. Morgan accounts identified in this package.',\n",
       " 'Bank deposit accounts, such as checking, savings and bank lending, may be subject to approval. Deposit products and related services are offered by JPMorgan Chase Bank, N.A. Member FDIC.',\n",
       " 'JPMorgan Chase Bank, N.A. and its affiliates (collectively \"JPMCB\") offer investment products, which may include bank-managed accounts and custody, as part of its trust and fiduciary services. Other investment products and services, such as brokerage and advisory accounts, are offered through J.P. Morgan Securities LLC (\"JPMS\"), a member of FINRA and SIPC. JPMCB and JPMS (collectively \"J.P. Morgan\") are affiliated companies under the common control of JPMorgan Chase & Co. Important Information about Pricing, Valuations, Estimated Annual Income, and Estimated Yield Market value information (including without limitation, prices, exchange rates, accrued income and bond ratings) furnished herein, some of which has been provided by pricing sources that J.P. Morgan believes to be reliable, is not guaranteed for accuracy but provided for informational purposes and is furnished for the exclusive use of the client. The current price is the value of the financial asset share, unit or contract as priced at the close of the market on the last day of the statement period or the last available price. All values provided for structured yield deposits (for example, JPMorgan London Time Deposits) reflect the original deposit amount only. The value for Real Estate, Mineral Interests and Miscellaneous Assets may not reflect the most current value of the asset. The values in this statement are shown in USD. If your investment currency is not USD, please be aware that the value of your return could differ positively or negatively due to exchange fluctuations from the value shown in this statement. Valuations of over-the-counter derivative transactions, including certain derivatives-related deposit products, have been prepared on a mid-market basis. These valuations are sourced from the various issuers of the securities or they are sourced from a third party valuation provider. J.P. Morgan expressly disclaims any responsibility for (1) the accuracy of the models or estimates used in deriving the valuations, (2) any errors or omissions in computing or disseminating the valuations, and (3) any uses to which the valuations are put. Valuations are provided for information purposes only and are intended solely for your own use. Please refer to the trade confirmation for details of each transaction. Certain assets, including but not limited to, pooled and private investments, non-publicly traded and infrequently traded securities, derivatives, partnership interests and tangible assets are generally illiquid, the value of such asset may have been provided to us by third parties who may or may not be independent of the issuer or manager. Such information is reflected as of the last date provided to us, and is not independently verified. J.P. Morgan makes no representation, warranty or guarantee, express or implied, that any quoted value represents the actual terms at which securities could be bought or sold or new transactions could be entered into, or the actual terms on which existing transactions or securities could be liquidated. Such values may only be indicative. If a partial call is made with respect to an issue of securities included in your Accounts we will allocate the call by a method we deem fair and equitable. CERTAIN DEFINED TERMS THAT MAY APPEAR IN YOUR STATEMENT EAI: Estimated annual income. Actual income could be lower or higher than the estimated amount. Certain types of securities could include a return of principal or capital gains, in which case the EAI would be overstated. EY: Estimated yield. EY reflects only the estimated yield generated by an investment and does not reflect changes in its price, which may fluctuate. Actual yield could be lower or higher than the estimated amount. Certain types of securities could include a return of principal or capital gains, in which case the EY would be overstated.',\n",
       " 'Disclosures Page 1 of 6',\n",
       " '\\x0cFor the Period 8/1/20 to 8/31/20',\n",
       " 'UNPRICED: If we are unable to obtain a current market value from an internal or outside source for a particular security, the price column on your statement will indicate \"unpriced.\" Although such securities may have value, please note that the value of a security indicated as \"unpriced\" will not be included in your overall current market value as reflected on the statement. Please see below for additional defined terms related to assets not held at J.P. Morgan. Offshore Deposits Deposits of non-U.S. dollar funds will be held in accounts at JPMorgan Chase Bank, N.A. (\"JPMCB\") outside of the United States (\"Foreign Accounts\"), in addition to any funds you have elected to be held in Foreign Accounts. Under federal law, deposits that are maintained outside of the United States, including in any JPMCB branch located outside of the United States, are not insured by the FDIC or any other agency of the U.S. Federal Government; are subject to cross-border risks; and enjoy a lesser preference, as compared to deposits held in the United States, in the event JPMCB should be liquidated, become insolvent or be placed into receivership or be subject to other proceedings for the benefit of creditors. Certain Foreign Accounts are considered reportable to FinCEN on Report of Foreign Bank and Financial Accounts (FinCEN Form 114). JPMCB\\'s London Branch is a participant in the UK Financial Services Compensation Scheme (the \"FSCS\"), and the following terms apply to the extent any of your cash deposits are deposited in one or more deposit accounts at JPMCB\\'s London Branch. Subject to the FSCS rules regarding eligible deposits, you may have a right to claim compensation from the FSCS. The terms of the FSCS offer protection to certain types of claimants to whom JPMCB London Branch provides deposit services in the event that they suffer a financial loss as a direct consequence of JPMCB\\'S London Branch being unable to meet any of its obligations. Subject to the FSCS rules, the maximum compensation payable by the FSCS in relation to eligible deposits is as set out in the relevant information sheet which is available online as referenced below. For the purposes of establishing such maximum compensation, all your eligible deposits at JPMCB London Branch are aggregated and the total is subject to such maximum compensation. For further information about the compensation provided by the FSCS, refer to the FSCS website at www.FSCS.org.uk. Further information is also available online at http://www.jpmorgan.com/pages/deposit-quarantee-scheme-directive.',\n",
       " 'ASSETS NOT HELD AT J.P. MORGAN ASSETS NOT HELD AT J.P. MORGAN are certain securities, financial instruments, and other assets that are held outside of J.P. Morgan (the \"Assets\"), and may include the following categories: 1. ASSET HELD OTHER INST: are assets where J.P. Morgan is fiduciary or custodian for assets held at another financial institution at the request or direction of the client, beneficiary or other interested party. 2. ASSET HELD AT ISSUER: are assets held by J.P. Morgan as trustee, agent or custodian that are either not managed by J.P. Morgan or not included in the J.P. Morgan selection of approved funds, including, but not limited to, hedge funds, private equity or other alternatives. 3. CLIENT HELD ASSET: are certain physical assets held under the custody and control of a client, beneficiary or other interested party. 4. MEMO POSTED ASSET: are assets held at other institutions or locations external to and without affiliation to J.P. Morgan and for which we have no fiduciary or other custodial responsibility. J.P. Morgan has no responsibility for the verification, valuation, safekeeping or management of those assets. Categories 1, 2 and 3 apply only to client assets for which J.P. Morgan acts in a fiduciary or agency capacity pursuant to a trust instrument or other written agreement to provide trust or custodial services for the Assets.',\n",
       " 'Unless we have otherwise agreed or notified you in writing, the Assets have not been issued, sponsored, advised, managed or otherwise affiliated with J.P. Morgan or any of its affiliates, and no J.P. Morgan affiliate currently acts or has acted as a placement agent for the Assets. J.P. Morgan has not performed and, in the future, will not perform any due diligence in connection with the Assets, including the investment merits or value of the Assets. The Assets are not covered by the Securities Investor Protection Corporation (SIPC) insurance applicable to securities held in the custody of J.P. Morgan Securities LLC, or by the Federal Deposit Insurance Corporation (FDIC) insurance applicable to cash deposit assets held in the custody of JPMorgan Chase Bank, N.A. If you have questions about SIPC or FDIC coverage for the Assets, you should contact the entities where the Assets are held. Information on Memo Posted Assets is being reflected in your statements at your request, for informational purposes only and as a courtesy. The information reflected in your statements for the Assets',\n",
       " 'Disclosures Page 2 of 6',\n",
       " '\\x0cFor the Period 8/1/20 to 8/31/20',\n",
       " 'will be based solely on information provided by you, or by third parties. J.P. Morgan will not be responsible for the completeness or accuracy of this information. Information on Memo Posted Assets in your statements reflect, at your request, valuations and other information, such as cost basis, market values, gains /losses and yield/return (\"Investment Information\"), provided to us by the pricing/information source specified by you. J.P. Morgan\\'s ability to include such information on your statements is contingent upon our receipt of the Investment Information in a timely manner. It is your responsibility to instruct the pricing/information source to provide us with the Investment Information that we require. J.P. Morgan will rely on the accuracy of the Investment Information, and will not verify any Investment Information or the methodology utilized to derive the Investment Information. J.P. Morgan will not be liable for any errors or omissions in compiling or disseminating the Investment Information. J.P. Morgan encourages you to review and maintain the original source documents and statements for the Investment Information, and to contact the third parties that provided those documents should you have any questions about their accuracy. Ongoing, if J.P. Morgan does not receive documentation from the pricing/information source stating updated Investment Information, J.P. Morgan reserves the right to update the price of the affected Memo Posted Assets to \"zero\" or \"not priced\" and may remove those Assets from your statement without additional notice. J.P. Morgan reserves the right to, in its sole discretion and without notice to you, discontinue including information regarding the Memo Posted Assets in your statements. If at any time you no longer wish to have the Memo Posted Assets reflected in your statements, please inform your J.P. Morgan Client Service representative in writing.',\n",
       " 'Fund manager disclosure information available upon request If you have an investment account that is managed by an SEC-Registered Investment Advisor, J.P. Morgan will provide a copy of the advisor\\'s Form ADV 2A or brochure upon written request. These statements are not official documents for income tax reporting purposes and should not be relied upon for such purposes, including determination of income, cost basis, amortization or accretion, or gain/loss. Such information, which may be inaccurate, incomplete or subject to updating, should be confirmed with your records and your tax advisor. What to Do If You Think Your Statement Contains an Error Please review your statements and promptly report any inaccuracy or discrepancy in writing to the following address: J.P. Morgan 500 Stanton Christiana Road NCC1, Floor 1 Newark, DE 19713-2107 Any oral communication should be re-confirmed in writing to further protect your rights, including any rights that you may have under the Securities Investor Protection Act (\"SIPA\"). In case of errors or questions about electronic fund transfers We must hear from you no later than 60 days after we sent you the FIRST statement on which the error or problem appeared. In your communication, please: - Provide your name and account number; - Describe the error or the transfer you are unsure about, and explain as clearly as you can why you believe it is an error or why you need more information; and - Tell us the dollar amount of the suspected error. We will investigate your complaint and will correct any error promptly. If we take more than 10 business days (or 20 business days for new accounts) to do this, we will provisionally credit your account for the amount you think is in error, so that you will have the use of the money during the time it takes us to complete our investigation. If the alleged error involves an account which is subject to margin requirements or is otherwise covered by Regulation T of the Federal Reserve Board, we will not provisionally credit the account involved. For more complete details, see the applicable account agreements and appendices that govern your account.',\n",
       " 'Disclosures Page 3 of 6',\n",
       " '\\x0cFor the Period 8/1/20 to 8/31/20',\n",
       " 'In case of errors or questions about non-electronic transfers If you believe that your statement is incorrect or if you need information about any non-electronic transaction shown on this statement, please contact us at the above address immediately. If any such error appears, you must notify us in writing as soon as possible after your statement was made available to you. For more complete details, see the applicable account agreements and appendices that govern your account. JPMS, a member of the Securities Investor Protection Corp (\"SIPC\"), provides account protection for the net equity of a customer\\'s funds and securities positions. SIPC provides $500,000 of primary net equity protection, including $250,000 for claims for cash (\"SIPC Coverage\"). You may obtain information about SIPC, including the SIPC Brochure, on their website, at \"www.sipc.org\" or by contacting them at (202) 371-8300. Account protection applies when a SIPC member firm fails financially and is unable to meet its obligations to its securities customers, but does not apply to losses from the rise or fall in the market value of investments or to SIPC ineligible assets such as futures, options on futures, foreign exchange transactions, or any investment contracts that are not registered as securities or deposit account balances. For more information about SIPC Coverage, including the SIPC Brochure, visit www.sipc.org (follow the link to How SIPC Protects Investors) or by calling SIPC at (202) 371-8300. IMPORTANT NOTICE REGARDING CALLABLE SECURITIES To the extent J.P. Morgan Securities LLC (JPMS LLC) holds on behalf of any introduced customer account securities which, by their terms, may be called or redeemed prior to maturity (\"callable securities\") and a partial call or redemption involving such securities occurs, the following procedures will be followed: JPMS LLC will generally administer the partial call or redemption via an impartial lottery system by which it will allocate among its introduced customers the securities to be selected as called or redeemed. In the event the call or redemption is deemed to be on terms favorable to the applicable holder as determined by JPMS LLC, JPMS LLC shall not allocate the securities to any account in which it or its associated persons (or the associated persons of its introducing brokers, to the extent those accounts have been identified to JPMS LLC by the introducing broker, generally, \"associated persons\") have an interest until all other customers\\' positions in such securities have been satisfied. In the event the call or redemption is deemed to be on terms unfavorable to the applicable holder, as determined by JPMS LLC, the accounts of customers and associated persons will participate in the impartial lottery on equal terms. See https://www.jpmorgan.com/country/US/EN/disclosures/callable_securities This information supersedes any prior or inconsistent terms relating to callable securities in your account.',\n",
       " \"IMPORTANT ADDITIONAL INFORMATION APPLICABLE ONLY TO YOUR ASSET ACCOUNT(S) (LINKED TO JPMS) You must promptly advise your J.P.Morgan representative of material changes in your investment objectives or financial situation or if you wish to modify the management of your account. Unless you inform otherwise, your J.P.Morgan representative will consider the information currently in its files to be complete and accurate. MARGIN ACCOUNTS: IMPORTANT INFORMATION All positions in your Margin Account Portfolio(s) are held in custody with JPMS. If you have any questions regarding custody of your positions, please write JPMS at 4 Chase Metrotech Center, Brooklyn, NY 11245-001, or call (347) 643-2578. If you have a margin account as permitted by law, we may use certain securities in such account for, among other things, settling short sales and lending the securities for short sales, and as a result may receive compensation in connection therewith. Securities purchased on margin are the firm's collateral for the loan to you. If the securities in your account decline in value, so does the value of the collateral supporting your loan, and, as a result, the firm can take action, such as issue a margin call and/or sell securities or other assets in any of your accounts held with the member, in order to maintain the required equity in the account. It is important that you fully understand the risks involved in trading securities on margin. These risks include the following: - You can lose more funds than you deposit in the margin account. - The firm can force the sale of securities or other assets in your account(s).\",\n",
       " 'Disclosures Page 4 of 6',\n",
       " '\\x0cFor the Period 8/1/20 to 8/31/20',\n",
       " '- The firm can sell your securities or other assets without contacting you. - You are not entitled to choose which securities or other assets in your account(s) are liquidated or sold to meet a margin call. - The firm can increase its \"house\" maintenance margin requirements at any time and is not required to provide you advance written notice. - You are not entitled to an extension of time on a margin call. Please keep the following in mind when using a statement to track your brokerage activity in a margin account: The statement combines your general margin account with the special memorandum account required by Section 220.6 Regulation T. As required by Regulation T, a permanent record of your separate account is available upon your request. Free credit balances in your Margin Account(s) are not segregated and may be used in the operation of JPMS\\'s business, subject to the limitations of SEC Rule 15c3-3. Unless otherwise noted, JPMS or its agents and depositories will hold your securities. Upon your demand, JPMS will pay to you the amount of your free credit balance, and will deliver to you fully paid securities held on your behalf. Interest will be charged on any debit balance; the method of calculating interest is described in a letter sent to all margin customers. J.P. MORGAN FUNDS OR THIRD PARTY FUNDS Shares of the funds referenced above are not bank deposits and are not guaranteed by any bank, government entity, or the FDIC. Return and share price will fluctuate and redemption value may be more or less than original cost. The estimated annual income and dividend yield figures for mutual funds represent the funds\\' most recent income dividend annualized. You could lose money by investing in a Money Market Fund. With respect to a Money Market Fund that qualifies as a \"retail\" or \"government\" money market fund under applicable money market fund regulations, although the Money Market Fund seeks to preserve the value of your investment at $1.00 per share, it cannot guarantee it will do so. In the case of a Money Market Fund that does not qualify as a \"retail\" or \"government\" money market fund, because the share price of the Money Market Fund will fluctuate, when you sell your shares they may be worth more or less than what you originally paid for them. If a Money Market Fund does not qualify as a \"government\" money market fund the Money Market Fund may impose a fee upon sale of your shares or may temporarily suspend your ability to sell shares if the Money Market Fund\\'s liquidity falls below required minimums because of market conditions or other factors. An investment in a Money Market Fund is not insured or guaranteed by the Federal Deposit Insurance Corporation or any other government agency. A Money Market Fund\\'s sponsor has no legal obligation to provide financial support to the Fund, and you should not expect that the sponsor will provide financial support to the Fund at any time. Additional information about J.P. Morgan Funds fees is available in the J.P. Morgan Funds Disclosure Statement and in prospectuses that you may obtain from JPMorgan Distribution Services, Inc., for the J.P. Morgan Funds by calling 800.480.4111 (Mutual Funds), 844.457.6383 (ETFs), or by visiting www.jpmorganfunds.com, and for the Six Circles Funds, by calling 212.464.2070. Additional information about third party fund fees is available in the Third Party Funds Disclosure Statement. Additional information, and a prospectus for any Registered Fund in your account, may be obtained by contacting your J.P. Morgan representative team. IMPORTANT INFORMATION ABOUT MUTUAL FUNDS AND EXCHANGE-TRADED FUNDS REGISTERED UNDER THE INVESTMENT COMPANY ACT OF 1940, AS AMENDED (\"REGISTERED FUNDS\") (i) J.P. Morgan Funds - Management Fees J.P. Morgan or its affiliates may be sponsors or managers of Registered Funds (\"J.P. Morgan Funds\") that are purchased for the Client\\'s Portfolio. In such case, J.P. Morgan or its affiliates may receive a fee for managing the J.P. Morgan Funds. As such, J.P. Morgan and its affiliates will receive more total revenue when the Client\\'s Portfolio is invested in J.P. Morgan Funds than when it is invested in third party funds. (ii) J.P. Morgan Funds and Third Party Funds - Other Fees & Expenses All Registered Funds have various internal fees and other expenses that are paid by managers or issuers of the Registered Funds or by the Registered Fund itself, but that ultimately are borne by the investor. J.P. Morgan may receive administrative, servicing and other fees for providing services to both J.P. Morgan Funds and third party Registered Funds that are held in the Client\\'s Portfolio. These payments may be made by sponsors of Registered Funds (including affiliates of J.P. Morgan) or by the Registered Funds themselves, and may be based on the value of the Registered Funds in the Client\\'s Portfolio. Registered Funds or their sponsors may have other business relationships with J.P. Morgan outside of its portfolio management role or with the broker-dealer affiliates of J.P. Morgan, which may provide brokerage or other services that pay commissions, fees and other compensation. (iii) Six Circles Funds The Six Circles Funds are Registered Funds specifically designed by J.P. Morgan for use in discretionary accounts as completion funds to align with J.P. Morgan\\'s core portfolio views. A J.P. Morgan affiliate acts as investment advisor to the Six Circles Funds and engages third-party investment managers as sub-advisors to the Funds\\' investment portfolios. J.P. Morgan may',\n",
       " 'Disclosures Page 5 of 6',\n",
       " \"\\x0cFor the Period 8/1/20 to 8/31/20 experience certain benefits and efficiencies from investing account assets in the Six Circles Funds instead of unaffiliated investment vehicles; however, J.P. Morgan does not retain investment advisory fees for managing the Six Circles Funds through an agreement to waive any investment advisory fees that exceed the fees owed to the Six Circles Funds' third-party sub-advisors. The Six Circles Funds do not pay fees to J.P. Morgan for any other services to the Six Circles Funds. Services are provided by third-party service providers and are generally paid by the Six Circles Funds or J.P. Morgan. (Note that the market value of assets invested in the Six Circles Funds will be included in calculating the advisory fees paid on the overall Portfolio.) Periodic reviews of mutual fund investments held in client accounts are undertaken to determine if you can access better pricing on your J.P. Morgan and third party mutual fund positions for which J.P. Morgan provides ongoing due diligence services. As a result of these reviews, we may identify share classes that have lower fees than those in which you are currently invested. Where such share classes are available, under the terms of your custody with Brokerage account(s), you have the option at any time to instruct us to convert your current positions into share classes with lower fees. Please note: Depending on your tax residence and status, there may be tax implications associated with converting your position(s). As such, we recommend you discuss this matter with your independent professional tax adviser prior to taking any action.\",\n",
       " 'Disclosures Page 6 of 6']"
      ]
     },
     "execution_count": 20,
     "metadata": {},
     "output_type": "execute_result"
    }
   ],
   "source": [
    "tabla=pdf[indice_actividad[0]:-1]\n",
    "tabla"
   ]
  },
  {
   "cell_type": "code",
   "execution_count": 21,
   "metadata": {},
   "outputs": [],
   "source": [
    "fecha_lista=[]\n",
    "for i in range(len(tabla)):\n",
    "    if re.search('Settle Date',tabla[i]):\n",
    "        fecha_lista.append(tabla[i])\n",
    "        fecha_lista.append(tabla[i+1])\n",
    "        fecha_lista.append(tabla[i+2])"
   ]
  },
  {
   "cell_type": "code",
   "execution_count": 22,
   "metadata": {},
   "outputs": [],
   "source": [
    "fecha_lista_2=[]\n",
    "for i in fecha_lista:\n",
    "    j=re.findall(r'\\d+/\\d+',i)\n",
    "    fecha_lista_2.append(j)"
   ]
  },
  {
   "cell_type": "code",
   "execution_count": 23,
   "metadata": {},
   "outputs": [
    {
     "data": {
      "text/plain": [
       "[['8/3', '8/11'], ['8/13'], []]"
      ]
     },
     "execution_count": 23,
     "metadata": {},
     "output_type": "execute_result"
    }
   ],
   "source": [
    "fecha_lista_2"
   ]
  },
  {
   "cell_type": "code",
   "execution_count": 24,
   "metadata": {},
   "outputs": [],
   "source": [
    "fechas = []\n",
    "for sublist in fecha_lista_2:\n",
    "    for item in sublist:\n",
    "        fechas.append(item)"
   ]
  },
  {
   "cell_type": "code",
   "execution_count": 25,
   "metadata": {},
   "outputs": [
    {
     "data": {
      "text/plain": [
       "['8/3', '8/11', '8/13']"
      ]
     },
     "execution_count": 25,
     "metadata": {},
     "output_type": "execute_result"
    }
   ],
   "source": [
    "fechas"
   ]
  },
  {
   "cell_type": "code",
   "execution_count": 26,
   "metadata": {},
   "outputs": [],
   "source": [
    "#tipos\n",
    "tipo_lista=[]\n",
    "for i in range(len(tabla)):\n",
    "    if re.search('Type',tabla[i]):\n",
    "        tipo_lista.append(tabla[i])\n",
    "        tipo_lista.append(tabla[i+1])\n",
    "        tipo_lista.append(tabla[i+2])"
   ]
  },
  {
   "cell_type": "code",
   "execution_count": 27,
   "metadata": {},
   "outputs": [
    {
     "data": {
      "text/plain": [
       "['Type Settle Date Selection Method 8/3 Interest Income 8/11 ACH Payment',\n",
       " '8/13 Misc Credit',\n",
       " 'Total Inflows & Outflows']"
      ]
     },
     "execution_count": 27,
     "metadata": {},
     "output_type": "execute_result"
    }
   ],
   "source": [
    "tipo_lista"
   ]
  },
  {
   "cell_type": "code",
   "execution_count": 28,
   "metadata": {},
   "outputs": [],
   "source": [
    "tipo_lista_2=[]\n",
    "for i in tipo_lista:\n",
    "    j=re.split(r'\\d+/\\d+',i)\n",
    "    tipo_lista_2.append(j)"
   ]
  },
  {
   "cell_type": "code",
   "execution_count": 29,
   "metadata": {},
   "outputs": [
    {
     "data": {
      "text/plain": [
       "[['Type Settle Date Selection Method ', ' Interest Income ', ' ACH Payment'],\n",
       " ['', ' Misc Credit'],\n",
       " ['Total Inflows & Outflows']]"
      ]
     },
     "execution_count": 29,
     "metadata": {},
     "output_type": "execute_result"
    }
   ],
   "source": [
    "tipo_lista_2"
   ]
  },
  {
   "cell_type": "code",
   "execution_count": 30,
   "metadata": {},
   "outputs": [
    {
     "name": "stdout",
     "output_type": "stream",
     "text": [
      " Interest Income \n",
      " ACH Payment\n",
      " Misc Credit\n"
     ]
    }
   ],
   "source": [
    "tipos = []\n",
    "for sublist in tipo_lista_2:\n",
    "    for item in sublist:\n",
    "        if item.startswith('Type')==False and item.startswith('Total')==False and item!='':\n",
    "            print(item)\n",
    "            tipos.append(item)"
   ]
  },
  {
   "cell_type": "code",
   "execution_count": 31,
   "metadata": {},
   "outputs": [
    {
     "data": {
      "text/plain": [
       "[' Interest Income ', ' ACH Payment', ' Misc Credit']"
      ]
     },
     "execution_count": 31,
     "metadata": {},
     "output_type": "execute_result"
    }
   ],
   "source": [
    "tipos"
   ]
  },
  {
   "cell_type": "code",
   "execution_count": 32,
   "metadata": {},
   "outputs": [],
   "source": [
    "#descripcion\n",
    "descripcion_lista=[]\n",
    "for i in range(len(tabla)):\n",
    "    if re.search('Description',tabla[i]):\n",
    "        descripcion_lista.append(tabla[i])\n",
    "        descripcion_lista.append(tabla[i+1])\n",
    "        descripcion_lista.append(tabla[i+2])\n",
    "        descripcion_lista.append(tabla[i+3])"
   ]
  },
  {
   "cell_type": "code",
   "execution_count": 33,
   "metadata": {},
   "outputs": [],
   "source": [
    "descripciones=descripcion_lista[1:len(descripcion_lista)]"
   ]
  },
  {
   "cell_type": "code",
   "execution_count": 34,
   "metadata": {},
   "outputs": [
    {
     "data": {
      "text/plain": [
       "['DEPOSIT SWEEP INTEREST FOR 07/01/20 - 07/31/20 @ .05% RATE ON AVG COLLECTED BALANCE OF $264,551.41 AS OF 08/01/20',\n",
       " 'ACH DEBIT ORIG CO NAME:CHASE CREDIT CRD ORIG ID:4760039224 DESC DATE:200810 CO ENTRY DESCR:AUTOPAY SEC:PPD TRACE#:021000029480167 EED:200810 IND ID:0000XXXXX022922 IND NAME:XXXXXXXX XXXXXXX A TRN: 2239480167TC AS OF 08/10/20',\n",
       " 'FEDWIRE CREDIT VIA: THE BANK OF NEW YORK MELLON/021000018 B/O: XXXXXX XXXXXX XXXXXX XXXXX XXXXXXXX: CHASE NYC/CTR/BNF=XXXX XXXXXXX X-II MEXICO, DF 11000 MEXICO MX/ AC-000000051115 RFB=O/B BK OF NY C OBI=TRASPASO CUENTA PROPIA BBI=/C HGS/USD0,00/OCMT/USD20656,21/ TRN: 5608509226FF']"
      ]
     },
     "execution_count": 34,
     "metadata": {},
     "output_type": "execute_result"
    }
   ],
   "source": [
    "descripciones"
   ]
  },
  {
   "cell_type": "code",
   "execution_count": 35,
   "metadata": {},
   "outputs": [],
   "source": [
    "#cantidad\n",
    "#descripcion\n",
    "cantidad_lista=[]\n",
    "for i in range(len(tabla)):\n",
    "    if re.search('Amount ',tabla[i]):\n",
    "        cantidad_lista.append(tabla[i])\n",
    "        cantidad_lista.append(tabla[i+1])\n",
    "        cantidad_lista.append(tabla[i+2])"
   ]
  },
  {
   "cell_type": "code",
   "execution_count": 36,
   "metadata": {},
   "outputs": [
    {
     "data": {
      "text/plain": [
       "['Amount 11.22', '(5,833.99)', '2,656.21']"
      ]
     },
     "execution_count": 36,
     "metadata": {},
     "output_type": "execute_result"
    }
   ],
   "source": [
    "cantidad_lista"
   ]
  },
  {
   "cell_type": "code",
   "execution_count": 62,
   "metadata": {},
   "outputs": [],
   "source": [
    "cantidad_lista_2=[]\n",
    "for i in cantidad_lista:\n",
    "    j=i.split(' ')\n",
    "    cantidad_lista_2.append(j)"
   ]
  },
  {
   "cell_type": "code",
   "execution_count": 63,
   "metadata": {},
   "outputs": [],
   "source": [
    "cantidad_lista_3=[]\n",
    "for sublist in cantidad_lista_2:\n",
    "    for item in sublist:\n",
    "        cantidad_lista_3.append(item)"
   ]
  },
  {
   "cell_type": "code",
   "execution_count": 64,
   "metadata": {},
   "outputs": [
    {
     "data": {
      "text/plain": [
       "['Amount', '11.22', '(5,833.99)', '2,656.21']"
      ]
     },
     "execution_count": 64,
     "metadata": {},
     "output_type": "execute_result"
    }
   ],
   "source": [
    "cantidad_lista_3"
   ]
  },
  {
   "cell_type": "code",
   "execution_count": 70,
   "metadata": {},
   "outputs": [],
   "source": [
    "movimientos=cantidad_lista_3[1:len(cantidad_lista_3)]"
   ]
  },
  {
   "cell_type": "code",
   "execution_count": 81,
   "metadata": {},
   "outputs": [],
   "source": [
    "retiros=[]\n",
    "depositos=[]\n",
    "\n",
    "for i in movimientos:\n",
    "    if i.startswith('('):\n",
    "        retiros.append((i.replace('(','').replace(')','')))\n",
    "        depositos.append(0)\n",
    "    else:\n",
    "        retiros.append(0)\n",
    "        depositos.append(i)"
   ]
  },
  {
   "cell_type": "code",
   "execution_count": 82,
   "metadata": {},
   "outputs": [
    {
     "data": {
      "text/plain": [
       "['11.22', 0, '2,656.21']"
      ]
     },
     "execution_count": 82,
     "metadata": {},
     "output_type": "execute_result"
    }
   ],
   "source": [
    "depositos"
   ]
  },
  {
   "cell_type": "code",
   "execution_count": 83,
   "metadata": {},
   "outputs": [
    {
     "data": {
      "text/plain": [
       "[0, '5,833.99', 0]"
      ]
     },
     "execution_count": 83,
     "metadata": {},
     "output_type": "execute_result"
    }
   ],
   "source": [
    "retiros"
   ]
  },
  {
   "cell_type": "code",
   "execution_count": 86,
   "metadata": {},
   "outputs": [],
   "source": [
    "from re import sub\n",
    "from decimal import Decimal"
   ]
  },
  {
   "cell_type": "code",
   "execution_count": 88,
   "metadata": {},
   "outputs": [
    {
     "data": {
      "text/plain": [
       "Decimal('5833.99')"
      ]
     },
     "execution_count": 88,
     "metadata": {},
     "output_type": "execute_result"
    }
   ],
   "source": [
    "Decimal(sub(r'[^\\d.]', '','5,833.99' ))"
   ]
  },
  {
   "cell_type": "code",
   "execution_count": 100,
   "metadata": {},
   "outputs": [],
   "source": [
    "#cambio formato\n",
    "depositos_2=[]\n",
    "for i in depositos:\n",
    "    value = Decimal(sub(r'[^\\d.]', '', str(i)))\n",
    "    depositos_2.append(int(value))\n",
    "    "
   ]
  },
  {
   "cell_type": "code",
   "execution_count": 101,
   "metadata": {},
   "outputs": [],
   "source": [
    "retiros_2=[]\n",
    "for i in retiros:\n",
    "    value = Decimal(sub(r'[^\\d.]', '', str(i)))\n",
    "    retiros_2.append(int(value))"
   ]
  },
  {
   "cell_type": "code",
   "execution_count": 107,
   "metadata": {},
   "outputs": [],
   "source": [
    "saldo_inicial_num= int(Decimal(sub(r'[^\\d.]', '', saldo_inicial)))"
   ]
  },
  {
   "cell_type": "code",
   "execution_count": 108,
   "metadata": {},
   "outputs": [],
   "source": [
    "saldos=[]\n",
    "saldo=saldo_inicial_num\n",
    "for i,j in zip(depositos_2,retiros_2):\n",
    "    saldo=int(saldo)+i-j\n",
    "    saldos.append(saldo)"
   ]
  },
  {
   "cell_type": "code",
   "execution_count": 110,
   "metadata": {},
   "outputs": [],
   "source": [
    "estado=pd.DataFrame(list(zip(fechas, descripciones, retiros, depositos, saldos)),\n",
    "              columns=['fecha','concepto','retiro', 'deposito','saldo'])"
   ]
  },
  {
   "cell_type": "code",
   "execution_count": 112,
   "metadata": {},
   "outputs": [],
   "source": [
    "estado['banco']= 'JPMorgan'"
   ]
  },
  {
   "cell_type": "code",
   "execution_count": 113,
   "metadata": {},
   "outputs": [],
   "source": [
    "estado['nacionalidad']='extranjero'"
   ]
  },
  {
   "cell_type": "code",
   "execution_count": 114,
   "metadata": {},
   "outputs": [],
   "source": [
    "estado['fecha de corte']=periodo"
   ]
  },
  {
   "cell_type": "code",
   "execution_count": 115,
   "metadata": {},
   "outputs": [],
   "source": [
    "estado['titular']=datos_personales"
   ]
  },
  {
   "cell_type": "code",
   "execution_count": 116,
   "metadata": {},
   "outputs": [],
   "source": [
    "estado['cuenta']=cuenta"
   ]
  },
  {
   "cell_type": "code",
   "execution_count": 118,
   "metadata": {},
   "outputs": [],
   "source": [
    "if re.search('usd',text_str.lower()) or re.search('dolar', text_str.lower()) or re.search('dollar', text_str.lower()):\n",
    "    moneda='usd'\n",
    "else:\n",
    "    moneda='mxn'"
   ]
  },
  {
   "cell_type": "code",
   "execution_count": 120,
   "metadata": {},
   "outputs": [],
   "source": [
    "estado['divisa']=moneda"
   ]
  },
  {
   "cell_type": "code",
   "execution_count": 121,
   "metadata": {},
   "outputs": [],
   "source": [
    "estado['saldo inicial']=saldo_inicial_num"
   ]
  },
  {
   "cell_type": "code",
   "execution_count": 122,
   "metadata": {},
   "outputs": [],
   "source": [
    "edo_cuenta= estado[['banco','nacionalidad','fecha de corte', 'titular','cuenta','fecha','concepto','saldo inicial',\n",
    "                    'retiro','deposito','saldo','divisa']]"
   ]
  },
  {
   "cell_type": "code",
   "execution_count": 124,
   "metadata": {},
   "outputs": [
    {
     "data": {
      "text/html": [
       "<div>\n",
       "<style scoped>\n",
       "    .dataframe tbody tr th:only-of-type {\n",
       "        vertical-align: middle;\n",
       "    }\n",
       "\n",
       "    .dataframe tbody tr th {\n",
       "        vertical-align: top;\n",
       "    }\n",
       "\n",
       "    .dataframe thead th {\n",
       "        text-align: right;\n",
       "    }\n",
       "</style>\n",
       "<table border=\"1\" class=\"dataframe\">\n",
       "  <thead>\n",
       "    <tr style=\"text-align: right;\">\n",
       "      <th></th>\n",
       "      <th>banco</th>\n",
       "      <th>nacionalidad</th>\n",
       "      <th>fecha de corte</th>\n",
       "      <th>titular</th>\n",
       "      <th>cuenta</th>\n",
       "      <th>fecha</th>\n",
       "      <th>concepto</th>\n",
       "      <th>saldo inicial</th>\n",
       "      <th>retiro</th>\n",
       "      <th>deposito</th>\n",
       "      <th>saldo</th>\n",
       "      <th>divisa</th>\n",
       "    </tr>\n",
       "  </thead>\n",
       "  <tbody>\n",
       "    <tr>\n",
       "      <th>0</th>\n",
       "      <td>JPMorgan</td>\n",
       "      <td>extranjero</td>\n",
       "      <td>For the Period 8/1/20 to 8/31/20</td>\n",
       "      <td>NOMBRE APELLIDO P APELLIDO M DIRECCIÓN COL</td>\n",
       "      <td>X99999999</td>\n",
       "      <td>8/3</td>\n",
       "      <td>DEPOSIT SWEEP INTEREST FOR 07/01/20 - 07/31/20...</td>\n",
       "      <td>6146</td>\n",
       "      <td>0</td>\n",
       "      <td>11.22</td>\n",
       "      <td>6157</td>\n",
       "      <td>usd</td>\n",
       "    </tr>\n",
       "    <tr>\n",
       "      <th>1</th>\n",
       "      <td>JPMorgan</td>\n",
       "      <td>extranjero</td>\n",
       "      <td>For the Period 8/1/20 to 8/31/20</td>\n",
       "      <td>NOMBRE APELLIDO P APELLIDO M DIRECCIÓN COL</td>\n",
       "      <td>X99999999</td>\n",
       "      <td>8/11</td>\n",
       "      <td>ACH DEBIT ORIG CO NAME:CHASE CREDIT CRD ORIG I...</td>\n",
       "      <td>6146</td>\n",
       "      <td>5,833.99</td>\n",
       "      <td>0</td>\n",
       "      <td>324</td>\n",
       "      <td>usd</td>\n",
       "    </tr>\n",
       "    <tr>\n",
       "      <th>2</th>\n",
       "      <td>JPMorgan</td>\n",
       "      <td>extranjero</td>\n",
       "      <td>For the Period 8/1/20 to 8/31/20</td>\n",
       "      <td>NOMBRE APELLIDO P APELLIDO M DIRECCIÓN COL</td>\n",
       "      <td>X99999999</td>\n",
       "      <td>8/13</td>\n",
       "      <td>FEDWIRE CREDIT VIA: THE BANK OF NEW YORK MELLO...</td>\n",
       "      <td>6146</td>\n",
       "      <td>0</td>\n",
       "      <td>2,656.21</td>\n",
       "      <td>2980</td>\n",
       "      <td>usd</td>\n",
       "    </tr>\n",
       "  </tbody>\n",
       "</table>\n",
       "</div>"
      ],
      "text/plain": [
       "      banco nacionalidad                      fecha de corte  \\\n",
       "0  JPMorgan   extranjero  \n",
       "\n",
       "For the Period 8/1/20 to 8/31/20   \n",
       "1  JPMorgan   extranjero  \n",
       "\n",
       "For the Period 8/1/20 to 8/31/20   \n",
       "2  JPMorgan   extranjero  \n",
       "\n",
       "For the Period 8/1/20 to 8/31/20   \n",
       "\n",
       "                                      titular     cuenta fecha  \\\n",
       "0  NOMBRE APELLIDO P APELLIDO M DIRECCIÓN COL  X99999999   8/3   \n",
       "1  NOMBRE APELLIDO P APELLIDO M DIRECCIÓN COL  X99999999  8/11   \n",
       "2  NOMBRE APELLIDO P APELLIDO M DIRECCIÓN COL  X99999999  8/13   \n",
       "\n",
       "                                            concepto  saldo inicial    retiro  \\\n",
       "0  DEPOSIT SWEEP INTEREST FOR 07/01/20 - 07/31/20...           6146         0   \n",
       "1  ACH DEBIT ORIG CO NAME:CHASE CREDIT CRD ORIG I...           6146  5,833.99   \n",
       "2  FEDWIRE CREDIT VIA: THE BANK OF NEW YORK MELLO...           6146         0   \n",
       "\n",
       "   deposito  saldo divisa  \n",
       "0     11.22   6157    usd  \n",
       "1         0    324    usd  \n",
       "2  2,656.21   2980    usd  "
      ]
     },
     "execution_count": 124,
     "metadata": {},
     "output_type": "execute_result"
    }
   ],
   "source": [
    "edo_cuenta"
   ]
  },
  {
   "cell_type": "code",
   "execution_count": 164,
   "metadata": {},
   "outputs": [
    {
     "data": {
      "text/plain": [
       "'8-1-20-jpmorgan'"
      ]
     },
     "execution_count": 164,
     "metadata": {},
     "output_type": "execute_result"
    }
   ],
   "source": [
    "nombre_archivo=re.findall(r'\\d+/\\d+/\\d+',periodo)[0]+'-jpmorgan'\n",
    "nombre_archivo=nombre_archivo.replace('/','-')\n",
    "nombre_archivo"
   ]
  },
  {
   "cell_type": "code",
   "execution_count": 165,
   "metadata": {},
   "outputs": [],
   "source": [
    "#exporto\n",
    "#edo_cuenta.to_csv('tresalia\\Bancos\\jpmorgan\\salida\\\\'+nombre_archivo+'.txt' , sep='\\t', index=False)"
   ]
  },
  {
   "cell_type": "code",
   "execution_count": null,
   "metadata": {},
   "outputs": [],
   "source": []
  }
 ],
 "metadata": {
  "kernelspec": {
   "display_name": "Python 3",
   "language": "python",
   "name": "python3"
  },
  "language_info": {
   "codemirror_mode": {
    "name": "ipython",
    "version": 3
   },
   "file_extension": ".py",
   "mimetype": "text/x-python",
   "name": "python",
   "nbconvert_exporter": "python",
   "pygments_lexer": "ipython3",
   "version": "3.7.2"
  }
 },
 "nbformat": 4,
 "nbformat_minor": 2
}
