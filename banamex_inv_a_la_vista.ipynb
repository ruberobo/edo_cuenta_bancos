{
 "cells": [
  {
   "cell_type": "code",
   "execution_count": 1,
   "metadata": {},
   "outputs": [],
   "source": [
    "import pandas as pd\n",
    "import numpy as np\n",
    "import re\n",
    "import textract"
   ]
  },
  {
   "cell_type": "code",
   "execution_count": 16,
   "metadata": {},
   "outputs": [],
   "source": [
    "import tabula"
   ]
  },
  {
   "cell_type": "code",
   "execution_count": 2,
   "metadata": {},
   "outputs": [],
   "source": [
    "#extraigo texto\n",
    "archivo= 'tresalia\\Bancos\\Banamex_nacional\\pdf\\Banamex Inv a la Vista.pdf'"
   ]
  },
  {
   "cell_type": "code",
   "execution_count": 3,
   "metadata": {},
   "outputs": [],
   "source": [
    "text = textract.process(archivo)"
   ]
  },
  {
   "cell_type": "code",
   "execution_count": 4,
   "metadata": {},
   "outputs": [],
   "source": [
    "#cambio formato\n",
    "encoding = 'utf-8'\n",
    "text_str=text.decode(encoding)"
   ]
  },
  {
   "cell_type": "code",
   "execution_count": 5,
   "metadata": {},
   "outputs": [],
   "source": [
    "#separo\n",
    "pdf=re.split(r\"[~\\r\\n]+\", text_str)"
   ]
  },
  {
   "cell_type": "code",
   "execution_count": 6,
   "metadata": {},
   "outputs": [
    {
     "data": {
      "text/plain": [
       "['ESTADO DE CUENTA AL 30 DE SEPTIEMBRE DE 2020',\n",
       " 'CLIENTE:',\n",
       " 'Registro Federal de Contribuyentes: Página:',\n",
       " '99999999',\n",
       " 'XXX999999XX9 1 de 7',\n",
       " '0005607',\n",
       " 'Suc. 165 C.F. POLANCO,CDMX PRESIDENTE MAZARIK 375 POLANCO IV SECCION',\n",
       " 'INVERSION EMPRESARIAL',\n",
       " 'GAT Nominal antes de impuestos',\n",
       " '2.75%',\n",
       " 'GAT Real antes de impuestos',\n",
       " '-0.80%',\n",
       " 'Interés Aplicable o Rendimientos',\n",
       " '$510.26',\n",
       " 'Comisiones efectivamente cobradas',\n",
       " 'No Aplica',\n",
       " 'La GAT real es el rendimiento que obtendría',\n",
       " 'después de descontar la inflación estimada',\n",
       " 'XCDOXIRXLEOXCNXCIXIAÓXNXXXXXXXXXXXX',\n",
       " 'OT',\n",
       " '00000 DELEGACIÓN, CIUDAD DE MEXICO C.R.11801',\n",
       " 'La fecha de corte es la indicada después de la leyenda \"ESTADO DE CUENTA AL\". Salvo que expresamente se determine otra moneda, todas las cifras contenidas',\n",
       " 'en el estado de cuenta se encuentran denominadas en Pesos Moneda Nacional.',\n",
       " 'Su estado de cuenta contiene',\n",
       " 'PRODUCTO/SERVICIO INVERSION EMPRESARIAL',\n",
       " 'información de los siguientes productos',\n",
       " 'RESUMEN GENERAL',\n",
       " 'CONTRATO 9999999999',\n",
       " 'SALDO ANTERIOR $10,366.75',\n",
       " 'y servicios:',\n",
       " 'SALDO AL 30/SEP/2020 $7,877.01',\n",
       " '\"Este documento es una representación impresa sin validez fiscal\"',\n",
       " 'INVERSION EMPRESARIAL',\n",
       " 'RESUMEN DEL: 01/SEP/2020 AL 30/SEP/2020',\n",
       " 'Contrato 9999999999 Saldo Anterior ( + ) Depósitos ( - ) Retiros',\n",
       " '( + ) Intereses Pagados',\n",
       " '$10,366.75 $9,000.00 $8,000.00',\n",
       " '$510.26',\n",
       " 'Saldo al 30 DE SEPTIEMBRE de 2020 Cuenta Eje para Cargos y Abonos',\n",
       " '$7,877.01 CH 660/9999999999',\n",
       " 'Saldo Promedio Días Transcurridos Tasa Neta',\n",
       " '(Expresada en términos anuales) Impuesto Retenido Intereses Pagados',\n",
       " 'Interes bruto pagado',\n",
       " 'EN EL PERIODO $8,360.01 30 1.27%',\n",
       " '$7,271.56 $6,510.26 $3,781.82',\n",
       " 'EN EL AÑO 2.36%',\n",
       " '$4,716.77',\n",
       " 'DETALLE DE OPERACIONES',\n",
       " 'FECHA',\n",
       " '01 SEP 01 SEP 02 SEP 03 SEP 03 SEP',\n",
       " 'CONCEPTO',\n",
       " 'SALDO ANTERIOR INTERESES AL 1.27% INTERESES AL 1.27% RETIRO 72825 INTERESES AL 1.23%',\n",
       " 'RETIROS 8,000.00',\n",
       " 'DEPOSITOS',\n",
       " '209.13 209.13',\n",
       " '186.34',\n",
       " 'SALDO 10,366.75 10,575.88 10,785.01',\n",
       " '2,971.35',\n",
       " '000182.B10OTDA006.OD.0930.01',\n",
       " '\\x0cTRESALIA CAPITAL SA DE CV',\n",
       " 'ESTADO DE CUENTA AL 30 DE SEPTIEMBRE DE 2020',\n",
       " 'CLIENTE:',\n",
       " '62538775',\n",
       " 'Página:',\n",
       " '2 de 7',\n",
       " 'DETALLE DE OPERACIONES',\n",
       " 'FECHA',\n",
       " '04 SEP 05 SEP 06 SEP 07 SEP 08 SEP 09 SEP 10 SEP 10 SEP 11 SEP 11 SEP 12 SEP 13 SEP 14 SEP 14 SEP 15 SEP 16 SEP 17 SEP 17 SEP 18 SEP 19 SEP 20 SEP 21 SEP 22 SEP 23 SEP 24 SEP 24 SEP 25 SEP 26 SEP 27 SEP 28 SEP 29 SEP 30 SEP',\n",
       " 'CONCEPTO',\n",
       " 'INTERESES AL 1.23% INTERESES AL 1.23% INTERESES AL 1.23% INTERESES AL 1.23% INTERESES AL 1.23% INTERESES AL 1.23% DEPOSITO 113148 INTERESES AL 1.22% DEPOSITO 139775 INTERESES AL 1.62% INTERESES AL 1.62% INTERESES AL 1.62% RETIRO 334585 INTERESES AL 1.44% INTERESES AL 1.44% INTERESES AL 1.44% RETIRO 189211 INTERESES AL 1.24% INTERESES AL 1.24% INTERESES AL 1.24% INTERESES AL 1.24% INTERESES AL 1.24% INTERESES AL 1.24% INTERESES AL 1.24% RETIRO 64331 INTERESES AL 0.91% INTERESES AL 0.91% INTERESES AL 0.91% INTERESES AL 0.91% INTERESES AL 0.91% INTERESES AL 0.91% INTERESES AL 0.91%',\n",
       " 'RETIROS',\n",
       " '8,000.00 7,000.00',\n",
       " '465,000.00',\n",
       " 'DEPOSITOS 186.35 186.36 186.36 186.37 186.38 186.38',\n",
       " '2,000.00 188.93',\n",
       " '7,000.00 507.15 507.18 507.20',\n",
       " '330.73 330.75 330.76',\n",
       " '178.65 178.65 178.66 178.66 178.67 178.68 178.68',\n",
       " '119.15 119.15 119.16 119.15 119.16 119.17 119.17',\n",
       " 'SALDO 3,157.70 3,344.06 3,530.42 3,716.79 3,903.17 4,089.55',\n",
       " '6,278.48',\n",
       " '3,785.63 4,292.81 4,800.01',\n",
       " '7,130.74 7,461.49 7,792.25',\n",
       " '7,970.90 1,149.55 1,328.21 1,506.87 1,685.54 1,864.22 2,042.90',\n",
       " '7,162.05 7,281.20 7,400.36 7,519.51 7,638.67 7,757.84 7,877.01',\n",
       " '000182.B10OTDA006.OD.0930.01',\n",
       " '\\x0cTRESALIA CAPITAL SA DE CV',\n",
       " 'ESTADO DE CUENTA AL 30 DE SEPTIEMBRE DE 2020',\n",
       " 'CLIENTE: Página:',\n",
       " '99999999 3 de 7',\n",
       " 'CADENA ORIGINAL DEL COMPLEMENTO DE CERTIFICACIÓN DIGITAL DEL SAT',\n",
       " '||1.1|136C1141-A75B-4A01-929F-4216593B85A2|2020-10-01T20:02:27|CEC961028A98|ZcM6qoA+FLED64 zCUV+KSOexNGNSkOBNGg9MEbRtu4dIhMPSu4JEExOL0DnPRKqlbrMQJQz+AVaVzF2y/pclWKEobr7S6 EcG7I +kJ01ev0e73MGazyu1qwp9wtmeThTDDNOsAXwuGzAh6LyrZu36+aJYCdiY+ft9m80xhbuSsMhPEXK1DlY7y7H gJlLeP9m9QKjRXKpyjOzY1AaN3fii0m1BfPebkGaS0FAXRkwEM2H9vkzBU8aS6p1TL2/hYqeQQaU3dCxueMeeWATdM YVGp/6tJ7JhQ5I7czRyS2+Nw3ikgcB7GRaA==|00001000000407058485|iBtiYY7E 7ypSh/iBNAYOU5WrsL1ApO6tF9sPUKncXg4EP3nRy2vIpGL8w1TznntFBi7i+cTa65/iAe13jMt9BHkUbMSpYG//Rg 03hDx1EnbAv8mmik5+DZ7dQoo+NY1DaRGVsJp6k1VRQGtZWwdbTB7LBclVVue+mYT27uGVw3A/xUBOryb6cZBu8Jl8 I6OBCfyF6DkzEmEfaSi8tkZxGoKHHHQ76z5ZqBIOJcDS74xAekNEZpHPZbGQTGEI0gHp2qz0hfTkgwN5+goGxziF1G gptBm4aPMFqqsMdKW/9IBPhzXvG7wLnchjVoc5o0F2CuwI5Xurtaz2bOvkxI2d9g==||',\n",
       " 'SELLO DIGITAL DEL EMISOR',\n",
       " 'ZcM6qoA+FLED64zCUV+KSOexNGNSkOBNGg9MEbRtu4dIhMPSu +uoL4X8fkG2 4JEExOaVzF2y/pclWKEobr7S6EcG7I+kJ01ev0e73 MGazyu1qwp9wtmeThTDDNOsAXwuGzAh6LyrZu36+aJYCdiY+ft9m80xhbuSs MhPEXK1DlY7y7HgJlLeP9m9QKjRXKpyjOzY1AaN3fii0m1BfPebkGaS0FAXR kwEM2H9vkzBU8aS6p1TL2/hYqeQQaU3dCxueMeeWATdMYVGp/6tJ7JhQ5I7c zRyS2+Nw3ikgcFJqcH40zSGJqi8A1kYqrJKvB7GRaA==',\n",
       " 'SELLO DIGITAL SAT',\n",
       " 'iBtiYY7E7ypSh/iBNAYOU5WrsL1ApO6tF9sPUKncXg4EP3nRy2vIpGL8w1Tz nntFBi7i+cTa65/iAe13jMt9BHkUbMSpYG//Rg03hDx1EnbAv8mmik5+DZ7d Qoo+NY1DaRGVsJp6k1VRQGtZWwdbTB7LBclVVue+mYT27uGVw3A/ xUBOrybSi8tkZxGoKHHHQ76z5ZqBIOJcDS74xAekNE ZpHPZbGQTGEI0gHp2qz0hfTkgwN5+goGxziF1GgptBm4aPMFqqsMdKW/9IBP hzXvG7wLnchjVoc5o0F2CuwI5Xurtaz2bOvkxI2d9g==',\n",
       " '\"ESTE DOCUMENTO ES UNA REPRESENTACIÓN IMPRESA DE UN CFDI\"',\n",
       " 'Versión',\n",
       " 'Folio Forma de Pago No. de Serie de CSD del Emisor Tipo de Cambio Moneda Tipo de Comprobante Método de Pago Lugar de Expedición Fecha de Expedición Fecha y Hora de Emisión Fecha y Hora de Certificación RFC del Emisor Nombre del Emisor Régimen fiscal del Emisor RFC del Receptor Nombre del Receptor UsoCFDI UUID RFC Proveedor Certificado',\n",
       " 'No de serie de CSD del SAT',\n",
       " '3.3',\n",
       " '009252417302 03-Transferencia electrónica de fondos 00001000000909999990 1 MXN-Peso Mexicano I-Ingreso PUE-Pago en una sola exhibición 06000-Ciudad de México 2020-10-01 2020-10-01T19:56:53 2020-10-01T20:02:27 BNM840515VB1 BANCO NACIONAL DE MEXICO, S.A. 601-General de Ley Personas Morales XXX999999XX4 XXXXXXXXXXXXXXXX G03-Gastos en general 136C1199-X7XX-9X99-999X-4216593B85A2 XXX999999X99 00000000000000000000',\n",
       " 'CONCEPTOS SUBTOTALES Clave Prod Serv 84121500-Instituciones bancarias',\n",
       " 'Descripción Servicios de Facturación Valor Unitario',\n",
       " 'Cantidad $0.01',\n",
       " 'Subtotal',\n",
       " '$0.00',\n",
       " '1 Clave Unidad',\n",
       " 'E48-Unidad de servicio',\n",
       " 'Importe',\n",
       " '$0.01',\n",
       " 'Descuento $0.01',\n",
       " 'IMPUESTOS Base',\n",
       " '$0.00',\n",
       " 'Impuesto',\n",
       " '002-IVA Tasa',\n",
       " '16%',\n",
       " 'Total IVA Importe',\n",
       " '$0.00 $0.00',\n",
       " 'Total Importe',\n",
       " '$0.00',\n",
       " '000182.B10OTDA006.OD.0930.01',\n",
       " '\\x0cTRESALIA CAPITAL SA DE CV',\n",
       " 'ESTADO DE CUENTA AL 30 DE SEPTIEMBRE DE 2020',\n",
       " 'CLIENTE: Página:',\n",
       " '99999999 4 de 7',\n",
       " 'Banco Nacional de México, S.A., integrante del Grupo Financiero Banamex recibe las consultas, reclamaciones o aclaraciones, en su Unidad Especializada de Atencióna Usuarios, ubicada en Av.Insurgentes Sur No. 926, ColoniaDel Valle,DelegaciónBenitoJuárez, C.P.03100 Ciudad de Méxicoy por correo electrónicounebanamex@banamex.com o teléfono (55) 12 26 45 83, así como en cualquierade sus sucursales u oficinas.En el caso de no obtener una respuesta satisfactoria, podrá acudir a la ComisiónNacional para la Protección y Defensa de los Usuarios de Servicios Financieros www.condusef.gob.mx Teléfonos: 53-40-09-99 o 01-800-999-8080.',\n",
       " 'Banamex Resuelve Segmento Corporativo, Empresarial y Gobierno',\n",
       " 'Cd de México: 2226 1111, del Interior de la República:01 800 111 1122',\n",
       " 'EUA y Canadá: 1 855 295 7093 Horario: De lunes a sábado de',\n",
       " '07:00 a 21:00 horas Correo electrónico: resuelve@citibanamex.com',\n",
       " 'Banamex Resuelve PyMEs',\n",
       " 'Segmento Pequeña y Mediana Empresa (PYME) y Sucursal Cd. de México: 1226 8867, del Interior de la República: 01 800 111 2020 Horarios: De lunes a sábado de 07:00 a 21:00 horas, domingos de 09:00 a 16:30 horas Correo electrónico: resuelvepymes@citibanamex.com',\n",
       " 'RFC:BNM840515VB1 Isabel la Católica número 44, Colonia Centro, Delegación Cuauhtémoc, 06000, Ciudad de México. Tel. 1226-8867',\n",
       " 'IMPORTANTE: ° Si deseas realizar una aclaración sobre tu estado de cuenta, tienes 90 días naturales posteriores al corte del mismo. Para ello, por favor llama a la Unidad Especializada Banamex. ° Incumplir sus obligaciones le puede generar comisiones e intereses moratorios. Para consultar información sobre comisiones con fines informativos y de comparación, ingresawaww.condusef.gob.mxy www.citibanamex.com',\n",
       " 'El IPAB garantiza el pago hasta 400 mil unidades de Inversión (UDI s) por persona, por banco, de las obligaciones garantizadas wwwi.pab.org.mx',\n",
       " 'LEY FEDERAL DE PROTECCION DE DATOS PERSONALES EN POSESION DE LOS PARTICULARES En Banamex los datos están protegidos, consulta el aviso de privacidad correspondiente en www.citibanamex.com/avisode privacidad o en la sucursal de tu preferencia',\n",
       " 'Agradecemos su preferencia',\n",
       " '000182.B10OTDA006.OD.0930.01',\n",
       " '\\x0cXXXXXXXX DIRECCIÓN COLONIA 00000 DELEGACIÓN, CIUDAD DE MEXICO C.R.11801',\n",
       " 'R.F.C. XXX999999XX9',\n",
       " 'CLIENTE: 99999999',\n",
       " 'Contrato: 9999999999',\n",
       " 'PERIODO DEL 01/SEP/2020 AL 30/SEP/2020',\n",
       " 'Constancia de retención de impuesto sobre la renta INVERSION EMPRESARIAL BANAMEX',\n",
       " 'TASA NETA',\n",
       " '1.27%',\n",
       " 'IMPUESTO RETENIDO',\n",
       " '7,271.56',\n",
       " 'INTERESES NETOS',\n",
       " '6,510.26',\n",
       " 'El mencionado impuesto retenido deberá ser adicionado a los intereses netos devengados, según el procedimiento de cálculo normal establecido en el art. 7-a de la Ley del Impuesto Sobre la Renta, a fin de obtener el interés bruto, el cual es el que deberá acumularse para fines fiscales.',\n",
       " '000182.B10OTDA006.OD.0930.01',\n",
       " '\\x0c000182.B10OTDA006.OD.0930.01',\n",
       " '\\x0c000182.B10OTDA006.OD.0930.01',\n",
       " '\\x0c']"
      ]
     },
     "execution_count": 6,
     "metadata": {},
     "output_type": "execute_result"
    }
   ],
   "source": [
    "pdf"
   ]
  },
  {
   "cell_type": "code",
   "execution_count": 7,
   "metadata": {},
   "outputs": [
    {
     "data": {
      "text/html": [
       "<div>\n",
       "<style scoped>\n",
       "    .dataframe tbody tr th:only-of-type {\n",
       "        vertical-align: middle;\n",
       "    }\n",
       "\n",
       "    .dataframe tbody tr th {\n",
       "        vertical-align: top;\n",
       "    }\n",
       "\n",
       "    .dataframe thead th {\n",
       "        text-align: right;\n",
       "    }\n",
       "</style>\n",
       "<table border=\"1\" class=\"dataframe\">\n",
       "  <thead>\n",
       "    <tr style=\"text-align: right;\">\n",
       "      <th></th>\n",
       "      <th>informacion</th>\n",
       "    </tr>\n",
       "  </thead>\n",
       "  <tbody>\n",
       "    <tr>\n",
       "      <th>0</th>\n",
       "      <td>ESTADO DE CUENTA AL 30 DE SEPTIEMBRE DE 2020</td>\n",
       "    </tr>\n",
       "    <tr>\n",
       "      <th>1</th>\n",
       "      <td>CLIENTE:</td>\n",
       "    </tr>\n",
       "    <tr>\n",
       "      <th>2</th>\n",
       "      <td>Registro Federal de Contribuyentes: Página:</td>\n",
       "    </tr>\n",
       "    <tr>\n",
       "      <th>3</th>\n",
       "      <td>99999999</td>\n",
       "    </tr>\n",
       "    <tr>\n",
       "      <th>4</th>\n",
       "      <td>XXX999999XX9 1 de 7</td>\n",
       "    </tr>\n",
       "  </tbody>\n",
       "</table>\n",
       "</div>"
      ],
      "text/plain": [
       "                                    informacion\n",
       "0  ESTADO DE CUENTA AL 30 DE SEPTIEMBRE DE 2020\n",
       "1                                      CLIENTE:\n",
       "2   Registro Federal de Contribuyentes: Página:\n",
       "3                                      99999999\n",
       "4                           XXX999999XX9 1 de 7"
      ]
     },
     "execution_count": 7,
     "metadata": {},
     "output_type": "execute_result"
    }
   ],
   "source": [
    "information_pdf=pd.DataFrame(pdf).rename(columns={0:\"informacion\"})\n",
    "information_pdf.head()"
   ]
  },
  {
   "cell_type": "code",
   "execution_count": 8,
   "metadata": {},
   "outputs": [],
   "source": [
    "#periodo\n",
    "periodo_lista=[]\n",
    "\n",
    "for i in pdf:\n",
    "    if i.startswith('PERIODO') or i.startswith('Periodo') or i.startswith('periodo'):\n",
    "        periodo_lista.append(i)\n",
    "        \n"
   ]
  },
  {
   "cell_type": "code",
   "execution_count": 9,
   "metadata": {},
   "outputs": [
    {
     "data": {
      "text/plain": [
       "'PERIODO DEL 01/SEP/2020 AL 30/SEP/2020'"
      ]
     },
     "execution_count": 9,
     "metadata": {},
     "output_type": "execute_result"
    }
   ],
   "source": [
    "periodo=periodo_lista[0]\n",
    "periodo"
   ]
  },
  {
   "cell_type": "code",
   "execution_count": 10,
   "metadata": {},
   "outputs": [
    {
     "data": {
      "text/plain": [
       "['CLIENTE:',\n",
       " 'CLIENTE:',\n",
       " 'CLIENTE: Página:',\n",
       " 'CLIENTE: Página:',\n",
       " 'CLIENTE: 99999999']"
      ]
     },
     "execution_count": 10,
     "metadata": {},
     "output_type": "execute_result"
    }
   ],
   "source": [
    "#numero de cliente\n",
    "cliente_lista=[]\n",
    "for i in pdf:\n",
    "    if i.startswith('CLIENTE') or i.startswith('Cliente') or i.startswith('cliente'):\n",
    "        cliente_lista.append(i)\n",
    "cliente_lista "
   ]
  },
  {
   "cell_type": "code",
   "execution_count": 11,
   "metadata": {},
   "outputs": [
    {
     "data": {
      "text/plain": [
       "'CLIENTE: 99999999'"
      ]
     },
     "execution_count": 11,
     "metadata": {},
     "output_type": "execute_result"
    }
   ],
   "source": [
    "cliente= cliente_lista[-1]\n",
    "cliente"
   ]
  },
  {
   "cell_type": "code",
   "execution_count": 12,
   "metadata": {},
   "outputs": [
    {
     "data": {
      "text/plain": [
       "'\\x0cXXXXXXXX DIRECCIÓN COLONIA 00000 DELEGACIÓN, CIUDAD DE MEXICO C.R.11801'"
      ]
     },
     "execution_count": 12,
     "metadata": {},
     "output_type": "execute_result"
    }
   ],
   "source": [
    "#direecion\n",
    "direccion_lista=[]\n",
    "for i in pdf:\n",
    "    if re.search('DIRECCIÓN', i):\n",
    "        direccion_lista.append(i)\n",
    "direccion_lista\n",
    "direccion=direccion_lista[0]\n",
    "direccion"
   ]
  },
  {
   "cell_type": "code",
   "execution_count": 13,
   "metadata": {},
   "outputs": [
    {
     "data": {
      "text/plain": [
       "['ESTADO DE CUENTA AL 30 DE SEPTIEMBRE DE 2020',\n",
       " 'CLIENTE:',\n",
       " 'Registro Federal de Contribuyentes: Página:',\n",
       " '99999999',\n",
       " 'XXX999999XX9 1 de 7',\n",
       " '0005607',\n",
       " 'Suc. 165 C.F. POLANCO,CDMX PRESIDENTE MAZARIK 375 POLANCO IV SECCION',\n",
       " 'INVERSION EMPRESARIAL',\n",
       " 'GAT Nominal antes de impuestos',\n",
       " '2.75%',\n",
       " 'GAT Real antes de impuestos',\n",
       " '-0.80%',\n",
       " 'Interés Aplicable o Rendimientos',\n",
       " '$510.26',\n",
       " 'Comisiones efectivamente cobradas',\n",
       " 'No Aplica',\n",
       " 'La GAT real es el rendimiento que obtendría',\n",
       " 'después de descontar la inflación estimada',\n",
       " 'XCDOXIRXLEOXCNXCIXIAÓXNXXXXXXXXXXXX',\n",
       " 'OT',\n",
       " '00000 DELEGACIÓN, CIUDAD DE MEXICO C.R.11801',\n",
       " 'La fecha de corte es la indicada después de la leyenda \"ESTADO DE CUENTA AL\". Salvo que expresamente se determine otra moneda, todas las cifras contenidas',\n",
       " 'en el estado de cuenta se encuentran denominadas en Pesos Moneda Nacional.',\n",
       " 'Su estado de cuenta contiene',\n",
       " 'PRODUCTO/SERVICIO INVERSION EMPRESARIAL',\n",
       " 'información de los siguientes productos',\n",
       " 'RESUMEN GENERAL',\n",
       " 'CONTRATO 9999999999',\n",
       " 'SALDO ANTERIOR $10,366.75',\n",
       " 'y servicios:',\n",
       " 'SALDO AL 30/SEP/2020 $7,877.01',\n",
       " '\"Este documento es una representación impresa sin validez fiscal\"',\n",
       " 'INVERSION EMPRESARIAL',\n",
       " 'RESUMEN DEL: 01/SEP/2020 AL 30/SEP/2020',\n",
       " 'Contrato 9999999999 Saldo Anterior ( + ) Depósitos ( - ) Retiros',\n",
       " '( + ) Intereses Pagados',\n",
       " '$10,366.75 $9,000.00 $8,000.00',\n",
       " '$510.26',\n",
       " 'Saldo al 30 DE SEPTIEMBRE de 2020 Cuenta Eje para Cargos y Abonos',\n",
       " '$7,877.01 CH 660/9999999999',\n",
       " 'Saldo Promedio Días Transcurridos Tasa Neta',\n",
       " '(Expresada en términos anuales) Impuesto Retenido Intereses Pagados',\n",
       " 'Interes bruto pagado',\n",
       " 'EN EL PERIODO $8,360.01 30 1.27%',\n",
       " '$7,271.56 $6,510.26 $3,781.82',\n",
       " 'EN EL AÑO 2.36%',\n",
       " '$4,716.77',\n",
       " 'DETALLE DE OPERACIONES',\n",
       " 'FECHA',\n",
       " '01 SEP 01 SEP 02 SEP 03 SEP 03 SEP',\n",
       " 'CONCEPTO',\n",
       " 'SALDO ANTERIOR INTERESES AL 1.27% INTERESES AL 1.27% RETIRO 72825 INTERESES AL 1.23%',\n",
       " 'RETIROS 8,000.00',\n",
       " 'DEPOSITOS',\n",
       " '209.13 209.13',\n",
       " '186.34',\n",
       " 'SALDO 10,366.75 10,575.88 10,785.01',\n",
       " '2,971.35',\n",
       " '000182.B10OTDA006.OD.0930.01',\n",
       " '\\x0cTRESALIA CAPITAL SA DE CV',\n",
       " 'ESTADO DE CUENTA AL 30 DE SEPTIEMBRE DE 2020',\n",
       " 'CLIENTE:',\n",
       " '62538775',\n",
       " 'Página:',\n",
       " '2 de 7',\n",
       " 'DETALLE DE OPERACIONES',\n",
       " 'FECHA',\n",
       " '04 SEP 05 SEP 06 SEP 07 SEP 08 SEP 09 SEP 10 SEP 10 SEP 11 SEP 11 SEP 12 SEP 13 SEP 14 SEP 14 SEP 15 SEP 16 SEP 17 SEP 17 SEP 18 SEP 19 SEP 20 SEP 21 SEP 22 SEP 23 SEP 24 SEP 24 SEP 25 SEP 26 SEP 27 SEP 28 SEP 29 SEP 30 SEP',\n",
       " 'CONCEPTO',\n",
       " 'INTERESES AL 1.23% INTERESES AL 1.23% INTERESES AL 1.23% INTERESES AL 1.23% INTERESES AL 1.23% INTERESES AL 1.23% DEPOSITO 113148 INTERESES AL 1.22% DEPOSITO 139775 INTERESES AL 1.62% INTERESES AL 1.62% INTERESES AL 1.62% RETIRO 334585 INTERESES AL 1.44% INTERESES AL 1.44% INTERESES AL 1.44% RETIRO 189211 INTERESES AL 1.24% INTERESES AL 1.24% INTERESES AL 1.24% INTERESES AL 1.24% INTERESES AL 1.24% INTERESES AL 1.24% INTERESES AL 1.24% RETIRO 64331 INTERESES AL 0.91% INTERESES AL 0.91% INTERESES AL 0.91% INTERESES AL 0.91% INTERESES AL 0.91% INTERESES AL 0.91% INTERESES AL 0.91%',\n",
       " 'RETIROS',\n",
       " '8,000.00 7,000.00',\n",
       " '465,000.00',\n",
       " 'DEPOSITOS 186.35 186.36 186.36 186.37 186.38 186.38',\n",
       " '2,000.00 188.93',\n",
       " '7,000.00 507.15 507.18 507.20',\n",
       " '330.73 330.75 330.76',\n",
       " '178.65 178.65 178.66 178.66 178.67 178.68 178.68',\n",
       " '119.15 119.15 119.16 119.15 119.16 119.17 119.17',\n",
       " 'SALDO 3,157.70 3,344.06 3,530.42 3,716.79 3,903.17 4,089.55',\n",
       " '6,278.48',\n",
       " '3,785.63 4,292.81 4,800.01',\n",
       " '7,130.74 7,461.49 7,792.25',\n",
       " '7,970.90 1,149.55 1,328.21 1,506.87 1,685.54 1,864.22 2,042.90',\n",
       " '7,162.05 7,281.20 7,400.36 7,519.51 7,638.67 7,757.84 7,877.01',\n",
       " '000182.B10OTDA006.OD.0930.01',\n",
       " '\\x0cTRESALIA CAPITAL SA DE CV',\n",
       " 'ESTADO DE CUENTA AL 30 DE SEPTIEMBRE DE 2020',\n",
       " 'CLIENTE: Página:',\n",
       " '99999999 3 de 7',\n",
       " 'CADENA ORIGINAL DEL COMPLEMENTO DE CERTIFICACIÓN DIGITAL DEL SAT',\n",
       " '||1.1|136C1141-A75B-4A01-929F-4216593B85A2|2020-10-01T20:02:27|CEC961028A98|ZcM6qoA+FLED64 zCUV+KSOexNGNSkOBNGg9MEbRtu4dIhMPSu4JEExOL0DnPRKqlbrMQJQz+AVaVzF2y/pclWKEobr7S6 EcG7I +kJ01ev0e73MGazyu1qwp9wtmeThTDDNOsAXwuGzAh6LyrZu36+aJYCdiY+ft9m80xhbuSsMhPEXK1DlY7y7H gJlLeP9m9QKjRXKpyjOzY1AaN3fii0m1BfPebkGaS0FAXRkwEM2H9vkzBU8aS6p1TL2/hYqeQQaU3dCxueMeeWATdM YVGp/6tJ7JhQ5I7czRyS2+Nw3ikgcB7GRaA==|00001000000407058485|iBtiYY7E 7ypSh/iBNAYOU5WrsL1ApO6tF9sPUKncXg4EP3nRy2vIpGL8w1TznntFBi7i+cTa65/iAe13jMt9BHkUbMSpYG//Rg 03hDx1EnbAv8mmik5+DZ7dQoo+NY1DaRGVsJp6k1VRQGtZWwdbTB7LBclVVue+mYT27uGVw3A/xUBOryb6cZBu8Jl8 I6OBCfyF6DkzEmEfaSi8tkZxGoKHHHQ76z5ZqBIOJcDS74xAekNEZpHPZbGQTGEI0gHp2qz0hfTkgwN5+goGxziF1G gptBm4aPMFqqsMdKW/9IBPhzXvG7wLnchjVoc5o0F2CuwI5Xurtaz2bOvkxI2d9g==||',\n",
       " 'SELLO DIGITAL DEL EMISOR',\n",
       " 'ZcM6qoA+FLED64zCUV+KSOexNGNSkOBNGg9MEbRtu4dIhMPSu +uoL4X8fkG2 4JEExOaVzF2y/pclWKEobr7S6EcG7I+kJ01ev0e73 MGazyu1qwp9wtmeThTDDNOsAXwuGzAh6LyrZu36+aJYCdiY+ft9m80xhbuSs MhPEXK1DlY7y7HgJlLeP9m9QKjRXKpyjOzY1AaN3fii0m1BfPebkGaS0FAXR kwEM2H9vkzBU8aS6p1TL2/hYqeQQaU3dCxueMeeWATdMYVGp/6tJ7JhQ5I7c zRyS2+Nw3ikgcFJqcH40zSGJqi8A1kYqrJKvB7GRaA==',\n",
       " 'SELLO DIGITAL SAT',\n",
       " 'iBtiYY7E7ypSh/iBNAYOU5WrsL1ApO6tF9sPUKncXg4EP3nRy2vIpGL8w1Tz nntFBi7i+cTa65/iAe13jMt9BHkUbMSpYG//Rg03hDx1EnbAv8mmik5+DZ7d Qoo+NY1DaRGVsJp6k1VRQGtZWwdbTB7LBclVVue+mYT27uGVw3A/ xUBOrybSi8tkZxGoKHHHQ76z5ZqBIOJcDS74xAekNE ZpHPZbGQTGEI0gHp2qz0hfTkgwN5+goGxziF1GgptBm4aPMFqqsMdKW/9IBP hzXvG7wLnchjVoc5o0F2CuwI5Xurtaz2bOvkxI2d9g==',\n",
       " '\"ESTE DOCUMENTO ES UNA REPRESENTACIÓN IMPRESA DE UN CFDI\"',\n",
       " 'Versión',\n",
       " 'Folio Forma de Pago No. de Serie de CSD del Emisor Tipo de Cambio Moneda Tipo de Comprobante Método de Pago Lugar de Expedición Fecha de Expedición Fecha y Hora de Emisión Fecha y Hora de Certificación RFC del Emisor Nombre del Emisor Régimen fiscal del Emisor RFC del Receptor Nombre del Receptor UsoCFDI UUID RFC Proveedor Certificado',\n",
       " 'No de serie de CSD del SAT',\n",
       " '3.3',\n",
       " '009252417302 03-Transferencia electrónica de fondos 00001000000909999990 1 MXN-Peso Mexicano I-Ingreso PUE-Pago en una sola exhibición 06000-Ciudad de México 2020-10-01 2020-10-01T19:56:53 2020-10-01T20:02:27 BNM840515VB1 BANCO NACIONAL DE MEXICO, S.A. 601-General de Ley Personas Morales XXX999999XX4 XXXXXXXXXXXXXXXX G03-Gastos en general 136C1199-X7XX-9X99-999X-4216593B85A2 XXX999999X99 00000000000000000000',\n",
       " 'CONCEPTOS SUBTOTALES Clave Prod Serv 84121500-Instituciones bancarias',\n",
       " 'Descripción Servicios de Facturación Valor Unitario',\n",
       " 'Cantidad $0.01',\n",
       " 'Subtotal',\n",
       " '$0.00',\n",
       " '1 Clave Unidad',\n",
       " 'E48-Unidad de servicio',\n",
       " 'Importe',\n",
       " '$0.01',\n",
       " 'Descuento $0.01',\n",
       " 'IMPUESTOS Base',\n",
       " '$0.00',\n",
       " 'Impuesto',\n",
       " '002-IVA Tasa',\n",
       " '16%',\n",
       " 'Total IVA Importe',\n",
       " '$0.00 $0.00',\n",
       " 'Total Importe',\n",
       " '$0.00',\n",
       " '000182.B10OTDA006.OD.0930.01',\n",
       " '\\x0cTRESALIA CAPITAL SA DE CV',\n",
       " 'ESTADO DE CUENTA AL 30 DE SEPTIEMBRE DE 2020',\n",
       " 'CLIENTE: Página:',\n",
       " '99999999 4 de 7',\n",
       " 'Banco Nacional de México, S.A., integrante del Grupo Financiero Banamex recibe las consultas, reclamaciones o aclaraciones, en su Unidad Especializada de Atencióna Usuarios, ubicada en Av.Insurgentes Sur No. 926, ColoniaDel Valle,DelegaciónBenitoJuárez, C.P.03100 Ciudad de Méxicoy por correo electrónicounebanamex@banamex.com o teléfono (55) 12 26 45 83, así como en cualquierade sus sucursales u oficinas.En el caso de no obtener una respuesta satisfactoria, podrá acudir a la ComisiónNacional para la Protección y Defensa de los Usuarios de Servicios Financieros www.condusef.gob.mx Teléfonos: 53-40-09-99 o 01-800-999-8080.',\n",
       " 'Banamex Resuelve Segmento Corporativo, Empresarial y Gobierno',\n",
       " 'Cd de México: 2226 1111, del Interior de la República:01 800 111 1122',\n",
       " 'EUA y Canadá: 1 855 295 7093 Horario: De lunes a sábado de',\n",
       " '07:00 a 21:00 horas Correo electrónico: resuelve@citibanamex.com',\n",
       " 'Banamex Resuelve PyMEs',\n",
       " 'Segmento Pequeña y Mediana Empresa (PYME) y Sucursal Cd. de México: 1226 8867, del Interior de la República: 01 800 111 2020 Horarios: De lunes a sábado de 07:00 a 21:00 horas, domingos de 09:00 a 16:30 horas Correo electrónico: resuelvepymes@citibanamex.com',\n",
       " 'RFC:BNM840515VB1 Isabel la Católica número 44, Colonia Centro, Delegación Cuauhtémoc, 06000, Ciudad de México. Tel. 1226-8867',\n",
       " 'IMPORTANTE: ° Si deseas realizar una aclaración sobre tu estado de cuenta, tienes 90 días naturales posteriores al corte del mismo. Para ello, por favor llama a la Unidad Especializada Banamex. ° Incumplir sus obligaciones le puede generar comisiones e intereses moratorios. Para consultar información sobre comisiones con fines informativos y de comparación, ingresawaww.condusef.gob.mxy www.citibanamex.com',\n",
       " 'El IPAB garantiza el pago hasta 400 mil unidades de Inversión (UDI s) por persona, por banco, de las obligaciones garantizadas wwwi.pab.org.mx',\n",
       " 'LEY FEDERAL DE PROTECCION DE DATOS PERSONALES EN POSESION DE LOS PARTICULARES En Banamex los datos están protegidos, consulta el aviso de privacidad correspondiente en www.citibanamex.com/avisode privacidad o en la sucursal de tu preferencia',\n",
       " 'Agradecemos su preferencia',\n",
       " '000182.B10OTDA006.OD.0930.01',\n",
       " '\\x0cXXXXXXXX DIRECCIÓN COLONIA 00000 DELEGACIÓN, CIUDAD DE MEXICO C.R.11801',\n",
       " 'R.F.C. XXX999999XX9',\n",
       " 'CLIENTE: 99999999',\n",
       " 'Contrato: 9999999999',\n",
       " 'PERIODO DEL 01/SEP/2020 AL 30/SEP/2020',\n",
       " 'Constancia de retención de impuesto sobre la renta INVERSION EMPRESARIAL BANAMEX',\n",
       " 'TASA NETA',\n",
       " '1.27%',\n",
       " 'IMPUESTO RETENIDO',\n",
       " '7,271.56',\n",
       " 'INTERESES NETOS',\n",
       " '6,510.26',\n",
       " 'El mencionado impuesto retenido deberá ser adicionado a los intereses netos devengados, según el procedimiento de cálculo normal establecido en el art. 7-a de la Ley del Impuesto Sobre la Renta, a fin de obtener el interés bruto, el cual es el que deberá acumularse para fines fiscales.',\n",
       " '000182.B10OTDA006.OD.0930.01',\n",
       " '\\x0c000182.B10OTDA006.OD.0930.01',\n",
       " '\\x0c000182.B10OTDA006.OD.0930.01',\n",
       " '\\x0c']"
      ]
     },
     "execution_count": 13,
     "metadata": {},
     "output_type": "execute_result"
    }
   ],
   "source": [
    "pdf"
   ]
  },
  {
   "cell_type": "code",
   "execution_count": 14,
   "metadata": {},
   "outputs": [],
   "source": [
    "#localizo la tabla a partir de la palabra \"detalle operaciones\"\n",
    "indices_detalle=[]\n",
    "for i in range(len(pdf)):\n",
    "    if re.search('detalle de operaciones',pdf[i].lower()):\n",
    "        indices_detalle.append(i)"
   ]
  },
  {
   "cell_type": "code",
   "execution_count": 15,
   "metadata": {},
   "outputs": [
    {
     "data": {
      "text/plain": [
       "[47, 65]"
      ]
     },
     "execution_count": 15,
     "metadata": {},
     "output_type": "execute_result"
    }
   ],
   "source": [
    "indices_detalle"
   ]
  },
  {
   "cell_type": "code",
   "execution_count": 20,
   "metadata": {},
   "outputs": [],
   "source": [
    "tabla=tabula.read_pdf(archivo, pages='all')"
   ]
  },
  {
   "cell_type": "markdown",
   "metadata": {},
   "source": [
    "# pagina 1"
   ]
  },
  {
   "cell_type": "code",
   "execution_count": 29,
   "metadata": {},
   "outputs": [
    {
     "data": {
      "text/plain": [
       "['DETALLE DE OPERACIONES',\n",
       " 'FECHA',\n",
       " '01 SEP 01 SEP 02 SEP 03 SEP 03 SEP',\n",
       " 'CONCEPTO',\n",
       " 'SALDO ANTERIOR INTERESES AL 1.27% INTERESES AL 1.27% RETIRO 72825 INTERESES AL 1.23%',\n",
       " 'RETIROS 8,000.00',\n",
       " 'DEPOSITOS',\n",
       " '209.13 209.13',\n",
       " '186.34',\n",
       " 'SALDO 10,366.75 10,575.88 10,785.01',\n",
       " '2,971.35',\n",
       " '000182.B10OTDA006.OD.0930.01',\n",
       " '\\x0cTRESALIA CAPITAL SA DE CV',\n",
       " 'ESTADO DE CUENTA AL 30 DE SEPTIEMBRE DE 2020',\n",
       " 'CLIENTE:',\n",
       " '62538775',\n",
       " 'Página:',\n",
       " '2 de 7']"
      ]
     },
     "execution_count": 29,
     "metadata": {},
     "output_type": "execute_result"
    }
   ],
   "source": [
    "tabla_pag_1= pdf[indices_detalle[0]: indices_detalle[1]]\n",
    "tabla_pag_1"
   ]
  },
  {
   "cell_type": "code",
   "execution_count": 31,
   "metadata": {},
   "outputs": [
    {
     "data": {
      "text/plain": [
       "['01 SEP 01 SEP 02 SEP 03 SEP 03 SEP']"
      ]
     },
     "execution_count": 31,
     "metadata": {},
     "output_type": "execute_result"
    }
   ],
   "source": [
    "#fechas\n",
    "fecha_lista_pag_1=[]\n",
    "for i in range(len(tabla_pag_1)):\n",
    "    if re.match('fecha',tabla_pag_1[i].lower()):\n",
    "        fecha_lista_pag_1.append(tabla_pag_1[i+1])\n",
    "        \n",
    "fecha_lista_pag_1"
   ]
  },
  {
   "cell_type": "code",
   "execution_count": 47,
   "metadata": {},
   "outputs": [],
   "source": [
    "#separo\n",
    "fechas_pag_1=re.findall(r'\\d{2} \\w{3}',fecha_lista_pag_1[0])"
   ]
  },
  {
   "cell_type": "code",
   "execution_count": 49,
   "metadata": {},
   "outputs": [
    {
     "name": "stdout",
     "output_type": "stream",
     "text": [
      "['01 SEP', '01 SEP', '02 SEP', '03 SEP', '03 SEP']\n"
     ]
    },
    {
     "data": {
      "text/plain": [
       "5"
      ]
     },
     "execution_count": 49,
     "metadata": {},
     "output_type": "execute_result"
    }
   ],
   "source": [
    "print(fechas_pag_1)\n",
    "len(fechas_pag_1) #si son 5 debe de haber 5 valores para cada columna por la pagina 1"
   ]
  },
  {
   "cell_type": "code",
   "execution_count": 33,
   "metadata": {},
   "outputs": [
    {
     "data": {
      "text/plain": [
       "['SALDO ANTERIOR INTERESES AL 1.27% INTERESES AL 1.27% RETIRO 72825 INTERESES AL 1.23%']"
      ]
     },
     "execution_count": 33,
     "metadata": {},
     "output_type": "execute_result"
    }
   ],
   "source": [
    "#conceptos\n",
    "conceptos_lista_pag_1=[]\n",
    "for i in range(len(tabla_pag_1)):\n",
    "    if re.match('concepto',tabla_pag_1[i].lower()):\n",
    "        conceptos_lista_pag_1.append(tabla_pag_1[i+1])\n",
    "        \n",
    "conceptos_lista_pag_1"
   ]
  },
  {
   "cell_type": "code",
   "execution_count": 42,
   "metadata": {},
   "outputs": [
    {
     "data": {
      "text/plain": [
       "['', 'ANTERIOR', 'AL 1.27%', 'AL 1.27%', '72825', 'AL 1.23%']"
      ]
     },
     "execution_count": 42,
     "metadata": {},
     "output_type": "execute_result"
    }
   ],
   "source": [
    "conceptos_prueba1=re.split('SALDO | INTERESES | RETIRO ',conceptos_lista_pag_1[0])\n",
    "conceptos_prueba1"
   ]
  },
  {
   "cell_type": "code",
   "execution_count": 45,
   "metadata": {},
   "outputs": [
    {
     "data": {
      "text/plain": [
       "['SALDO ANTERIOR',\n",
       " 'INTERES AL 1.27%',\n",
       " 'INTERES AL 1.27%',\n",
       " 'RETIRO 72825',\n",
       " 'INTERES AL 1.23%']"
      ]
     },
     "execution_count": 45,
     "metadata": {},
     "output_type": "execute_result"
    }
   ],
   "source": [
    "conceptos_pag_1=[]\n",
    "for i in range(len(conceptos_prueba1)):\n",
    "    if conceptos_prueba1[i].startswith('ANTERIOR'):\n",
    "        j='SALDO '+conceptos_prueba1[i]\n",
    "        conceptos_pag_1.append(j)\n",
    "    elif conceptos_prueba1[i].startswith('AL'):\n",
    "        j='INTERES '+conceptos_prueba1[i]\n",
    "        conceptos_pag_1.append(j)\n",
    "    elif conceptos_prueba1[i].isdigit():\n",
    "        j='RETIRO '+ conceptos_prueba1[i]\n",
    "        conceptos_pag_1.append(j)\n",
    "\n",
    "conceptos_pag_1"
   ]
  },
  {
   "cell_type": "code",
   "execution_count": 52,
   "metadata": {},
   "outputs": [
    {
     "data": {
      "text/plain": [
       "['RETIROS 8,000.00', 'DEPOSITOS']"
      ]
     },
     "execution_count": 52,
     "metadata": {},
     "output_type": "execute_result"
    }
   ],
   "source": [
    "#retiros\n",
    "retiros_lista_pag_1=[]\n",
    "for i in range(len(tabla_pag_1)):\n",
    "    if re.match('retiros',tabla_pag_1[i].lower()):\n",
    "        retiros_lista_pag_1.append(tabla_pag_1[i])\n",
    "        retiros_lista_pag_1.append(tabla_pag_1[i+1])\n",
    "        \n",
    "retiros_lista_pag_1"
   ]
  },
  {
   "cell_type": "code",
   "execution_count": 60,
   "metadata": {},
   "outputs": [],
   "source": [
    "retiros1=retiros_lista_pag_1[0].split('RETIROS ')\n",
    "retiros1_1=[]\n",
    "for i in retiros1:\n",
    "    if re.search(r'\\d+', i):\n",
    "        retiros1_1.append(i)"
   ]
  },
  {
   "cell_type": "code",
   "execution_count": 153,
   "metadata": {},
   "outputs": [
    {
     "data": {
      "text/plain": [
       "['0', '0', '0', '8,000.00', '0']"
      ]
     },
     "execution_count": 153,
     "metadata": {},
     "output_type": "execute_result"
    }
   ],
   "source": [
    "#organizo retiros pagina 1\n",
    "retiros_pag_1=[]\n",
    "contador=0\n",
    "for i in range(len(conceptos_pag_1)):\n",
    "    if conceptos_pag_1[i].startswith('RETIRO'):\n",
    "        retiros_pag_1.append(retiros1_1[contador])\n",
    "        contador=contador+1\n",
    "    else:\n",
    "        retiros_pag_1.append('0')\n",
    "retiros_pag_1"
   ]
  },
  {
   "cell_type": "code",
   "execution_count": 160,
   "metadata": {},
   "outputs": [
    {
     "data": {
      "text/plain": [
       "['DEPOSITOS', '209.13 209.13', '186.34']"
      ]
     },
     "execution_count": 160,
     "metadata": {},
     "output_type": "execute_result"
    }
   ],
   "source": [
    "#depositos\n",
    "depositos_lista_pag_1=[]\n",
    "for i in range(len(tabla_pag_1)):\n",
    "    if re.match('depositos',tabla_pag_1[i].lower()):\n",
    "        depositos_lista_pag_1.append(tabla_pag_1[i])\n",
    "        depositos_lista_pag_1.append(tabla_pag_1[i+1])\n",
    "        depositos_lista_pag_1.append(tabla_pag_1[i+2])\n",
    "        \n",
    "depositos_lista_pag_1"
   ]
  },
  {
   "cell_type": "code",
   "execution_count": 93,
   "metadata": {},
   "outputs": [],
   "source": [
    "depositos1=[]\n",
    "for i in depositos_lista_pag_1:\n",
    "    if re.search(r'\\d+', i):\n",
    "        depositos1.append(i)\n",
    "\n",
    "depositos1_1=[]     \n",
    "for i in depositos1:\n",
    "    j=i.split(' ')\n",
    "    for k in j:\n",
    "        depositos1_1.append(k)"
   ]
  },
  {
   "cell_type": "code",
   "execution_count": 94,
   "metadata": {},
   "outputs": [
    {
     "data": {
      "text/plain": [
       "['209.13', '209.13', '186.34']"
      ]
     },
     "execution_count": 94,
     "metadata": {},
     "output_type": "execute_result"
    }
   ],
   "source": [
    "depositos1_1"
   ]
  },
  {
   "cell_type": "code",
   "execution_count": 121,
   "metadata": {},
   "outputs": [
    {
     "data": {
      "text/plain": [
       "['0', '209.13', '209.13', '0', '186.34']"
      ]
     },
     "execution_count": 121,
     "metadata": {},
     "output_type": "execute_result"
    }
   ],
   "source": [
    "#organizo depositos\n",
    "depositos_pag_1=[]\n",
    "contador=0\n",
    "for i in range(len(conceptos_pag_1)):\n",
    "    if conceptos_pag_1[i].startswith('DEPOSITO') or conceptos_pag_1[i].startswith('INTERES'):\n",
    "        depositos_pag_1.append(depositos1_1[contador])\n",
    "        contador=contador+1\n",
    "    else:\n",
    "        depositos_pag_1.append('0')\n",
    "depositos_pag_1"
   ]
  },
  {
   "cell_type": "code",
   "execution_count": 98,
   "metadata": {},
   "outputs": [
    {
     "data": {
      "text/plain": [
       "['SALDO ANTERIOR INTERESES AL 1.27% INTERESES AL 1.27% RETIRO 72825 INTERESES AL 1.23%',\n",
       " 'RETIROS 8,000.00',\n",
       " 'DEPOSITOS',\n",
       " 'SALDO 10,366.75 10,575.88 10,785.01',\n",
       " '2,971.35',\n",
       " '000182.B10OTDA006.OD.0930.01']"
      ]
     },
     "execution_count": 98,
     "metadata": {},
     "output_type": "execute_result"
    }
   ],
   "source": [
    "#saldos\n",
    "saldos_lista_pag_1=[]\n",
    "for i in range(len(tabla_pag_1)):\n",
    "    if re.match('saldo',tabla_pag_1[i].lower()):\n",
    "        saldos_lista_pag_1.append(tabla_pag_1[i])\n",
    "        saldos_lista_pag_1.append(tabla_pag_1[i+1])\n",
    "        saldos_lista_pag_1.append(tabla_pag_1[i+2])\n",
    "        \n",
    "saldos_lista_pag_1"
   ]
  },
  {
   "cell_type": "code",
   "execution_count": 105,
   "metadata": {},
   "outputs": [
    {
     "data": {
      "text/plain": [
       "['SALDO 10,366.75 10,575.88 10,785.01', '2,971.35']"
      ]
     },
     "execution_count": 105,
     "metadata": {},
     "output_type": "execute_result"
    }
   ],
   "source": [
    "saldos1_1=[]\n",
    "for i in range(len(saldos_lista_pag_1)):\n",
    "    if re.search(r'SALDO \\d+', saldos_lista_pag_1[i]):\n",
    "        saldos1_1.append(saldos_lista_pag_1[i])\n",
    "        saldos1_1.append(saldos_lista_pag_1[i+1])\n",
    "        \n",
    "saldos1_1"
   ]
  },
  {
   "cell_type": "code",
   "execution_count": 113,
   "metadata": {},
   "outputs": [
    {
     "data": {
      "text/plain": [
       "['10,366.75', '10,575.88', '10,785.01', '2,971.35']"
      ]
     },
     "execution_count": 113,
     "metadata": {},
     "output_type": "execute_result"
    }
   ],
   "source": [
    "saldos1_2=[]\n",
    "for i in saldos1_1:\n",
    "    j=i.split(' ')\n",
    "    saldos1_2.append(j)\n",
    "    \n",
    "saldos1_3=[]\n",
    "for i in saldos1_2:\n",
    "    for j in i:\n",
    "        if re.search(r'\\d+',j):\n",
    "            saldos1_3.append(j)\n",
    "            \n",
    "saldos1_3"
   ]
  },
  {
   "cell_type": "code",
   "execution_count": 120,
   "metadata": {},
   "outputs": [
    {
     "data": {
      "text/plain": [
       "['10,366.75', '10,575.88', '10,785.01', '0', '2,971.35']"
      ]
     },
     "execution_count": 120,
     "metadata": {},
     "output_type": "execute_result"
    }
   ],
   "source": [
    "#organizo saldos\n",
    "saldos_pag_1=[]\n",
    "contador=0\n",
    "for i in range(len(conceptos_pag_1)):\n",
    "    if conceptos_pag_1[i].startswith('SALDO') or conceptos_pag_1[i].startswith('INTERES') :\n",
    "        saldos_pag_1.append(saldos1_3[contador])\n",
    "        contador=contador+1\n",
    "    else:\n",
    "        saldos_pag_1.append('0')\n",
    "saldos_pag_1"
   ]
  },
  {
   "cell_type": "markdown",
   "metadata": {},
   "source": [
    "# pagina 2"
   ]
  },
  {
   "cell_type": "code",
   "execution_count": 122,
   "metadata": {},
   "outputs": [
    {
     "data": {
      "text/plain": [
       "['DETALLE DE OPERACIONES',\n",
       " 'FECHA',\n",
       " '04 SEP 05 SEP 06 SEP 07 SEP 08 SEP 09 SEP 10 SEP 10 SEP 11 SEP 11 SEP 12 SEP 13 SEP 14 SEP 14 SEP 15 SEP 16 SEP 17 SEP 17 SEP 18 SEP 19 SEP 20 SEP 21 SEP 22 SEP 23 SEP 24 SEP 24 SEP 25 SEP 26 SEP 27 SEP 28 SEP 29 SEP 30 SEP',\n",
       " 'CONCEPTO',\n",
       " 'INTERESES AL 1.23% INTERESES AL 1.23% INTERESES AL 1.23% INTERESES AL 1.23% INTERESES AL 1.23% INTERESES AL 1.23% DEPOSITO 113148 INTERESES AL 1.22% DEPOSITO 139775 INTERESES AL 1.62% INTERESES AL 1.62% INTERESES AL 1.62% RETIRO 334585 INTERESES AL 1.44% INTERESES AL 1.44% INTERESES AL 1.44% RETIRO 189211 INTERESES AL 1.24% INTERESES AL 1.24% INTERESES AL 1.24% INTERESES AL 1.24% INTERESES AL 1.24% INTERESES AL 1.24% INTERESES AL 1.24% RETIRO 64331 INTERESES AL 0.91% INTERESES AL 0.91% INTERESES AL 0.91% INTERESES AL 0.91% INTERESES AL 0.91% INTERESES AL 0.91% INTERESES AL 0.91%',\n",
       " 'RETIROS',\n",
       " '8,000.00 7,000.00',\n",
       " '465,000.00',\n",
       " 'DEPOSITOS 186.35 186.36 186.36 186.37 186.38 186.38',\n",
       " '2,000.00 188.93',\n",
       " '7,000.00 507.15 507.18 507.20',\n",
       " '330.73 330.75 330.76',\n",
       " '178.65 178.65 178.66 178.66 178.67 178.68 178.68',\n",
       " '119.15 119.15 119.16 119.15 119.16 119.17 119.17',\n",
       " 'SALDO 3,157.70 3,344.06 3,530.42 3,716.79 3,903.17 4,089.55',\n",
       " '6,278.48',\n",
       " '3,785.63 4,292.81 4,800.01',\n",
       " '7,130.74 7,461.49 7,792.25',\n",
       " '7,970.90 1,149.55 1,328.21 1,506.87 1,685.54 1,864.22 2,042.90',\n",
       " '7,162.05 7,281.20 7,400.36 7,519.51 7,638.67 7,757.84 7,877.01',\n",
       " '000182.B10OTDA006.OD.0930.01',\n",
       " '\\x0cTRESALIA CAPITAL SA DE CV',\n",
       " 'ESTADO DE CUENTA AL 30 DE SEPTIEMBRE DE 2020',\n",
       " 'CLIENTE: Página:',\n",
       " '99999999 3 de 7',\n",
       " 'CADENA ORIGINAL DEL COMPLEMENTO DE CERTIFICACIÓN DIGITAL DEL SAT',\n",
       " '||1.1|136C1141-A75B-4A01-929F-4216593B85A2|2020-10-01T20:02:27|CEC961028A98|ZcM6qoA+FLED64 zCUV+KSOexNGNSkOBNGg9MEbRtu4dIhMPSu4JEExOL0DnPRKqlbrMQJQz+AVaVzF2y/pclWKEobr7S6 EcG7I +kJ01ev0e73MGazyu1qwp9wtmeThTDDNOsAXwuGzAh6LyrZu36+aJYCdiY+ft9m80xhbuSsMhPEXK1DlY7y7H gJlLeP9m9QKjRXKpyjOzY1AaN3fii0m1BfPebkGaS0FAXRkwEM2H9vkzBU8aS6p1TL2/hYqeQQaU3dCxueMeeWATdM YVGp/6tJ7JhQ5I7czRyS2+Nw3ikgcB7GRaA==|00001000000407058485|iBtiYY7E 7ypSh/iBNAYOU5WrsL1ApO6tF9sPUKncXg4EP3nRy2vIpGL8w1TznntFBi7i+cTa65/iAe13jMt9BHkUbMSpYG//Rg 03hDx1EnbAv8mmik5+DZ7dQoo+NY1DaRGVsJp6k1VRQGtZWwdbTB7LBclVVue+mYT27uGVw3A/xUBOryb6cZBu8Jl8 I6OBCfyF6DkzEmEfaSi8tkZxGoKHHHQ76z5ZqBIOJcDS74xAekNEZpHPZbGQTGEI0gHp2qz0hfTkgwN5+goGxziF1G gptBm4aPMFqqsMdKW/9IBPhzXvG7wLnchjVoc5o0F2CuwI5Xurtaz2bOvkxI2d9g==||',\n",
       " 'SELLO DIGITAL DEL EMISOR',\n",
       " 'ZcM6qoA+FLED64zCUV+KSOexNGNSkOBNGg9MEbRtu4dIhMPSu +uoL4X8fkG2 4JEExOaVzF2y/pclWKEobr7S6EcG7I+kJ01ev0e73 MGazyu1qwp9wtmeThTDDNOsAXwuGzAh6LyrZu36+aJYCdiY+ft9m80xhbuSs MhPEXK1DlY7y7HgJlLeP9m9QKjRXKpyjOzY1AaN3fii0m1BfPebkGaS0FAXR kwEM2H9vkzBU8aS6p1TL2/hYqeQQaU3dCxueMeeWATdMYVGp/6tJ7JhQ5I7c zRyS2+Nw3ikgcFJqcH40zSGJqi8A1kYqrJKvB7GRaA==',\n",
       " 'SELLO DIGITAL SAT',\n",
       " 'iBtiYY7E7ypSh/iBNAYOU5WrsL1ApO6tF9sPUKncXg4EP3nRy2vIpGL8w1Tz nntFBi7i+cTa65/iAe13jMt9BHkUbMSpYG//Rg03hDx1EnbAv8mmik5+DZ7d Qoo+NY1DaRGVsJp6k1VRQGtZWwdbTB7LBclVVue+mYT27uGVw3A/ xUBOrybSi8tkZxGoKHHHQ76z5ZqBIOJcDS74xAekNE ZpHPZbGQTGEI0gHp2qz0hfTkgwN5+goGxziF1GgptBm4aPMFqqsMdKW/9IBP hzXvG7wLnchjVoc5o0F2CuwI5Xurtaz2bOvkxI2d9g==',\n",
       " '\"ESTE DOCUMENTO ES UNA REPRESENTACIÓN IMPRESA DE UN CFDI\"',\n",
       " 'Versión',\n",
       " 'Folio Forma de Pago No. de Serie de CSD del Emisor Tipo de Cambio Moneda Tipo de Comprobante Método de Pago Lugar de Expedición Fecha de Expedición Fecha y Hora de Emisión Fecha y Hora de Certificación RFC del Emisor Nombre del Emisor Régimen fiscal del Emisor RFC del Receptor Nombre del Receptor UsoCFDI UUID RFC Proveedor Certificado',\n",
       " 'No de serie de CSD del SAT',\n",
       " '3.3',\n",
       " '009252417302 03-Transferencia electrónica de fondos 00001000000909999990 1 MXN-Peso Mexicano I-Ingreso PUE-Pago en una sola exhibición 06000-Ciudad de México 2020-10-01 2020-10-01T19:56:53 2020-10-01T20:02:27 BNM840515VB1 BANCO NACIONAL DE MEXICO, S.A. 601-General de Ley Personas Morales XXX999999XX4 XXXXXXXXXXXXXXXX G03-Gastos en general 136C1199-X7XX-9X99-999X-4216593B85A2 XXX999999X99 00000000000000000000',\n",
       " 'CONCEPTOS SUBTOTALES Clave Prod Serv 84121500-Instituciones bancarias',\n",
       " 'Descripción Servicios de Facturación Valor Unitario',\n",
       " 'Cantidad $0.01',\n",
       " 'Subtotal',\n",
       " '$0.00',\n",
       " '1 Clave Unidad',\n",
       " 'E48-Unidad de servicio',\n",
       " 'Importe',\n",
       " '$0.01',\n",
       " 'Descuento $0.01',\n",
       " 'IMPUESTOS Base',\n",
       " '$0.00',\n",
       " 'Impuesto',\n",
       " '002-IVA Tasa',\n",
       " '16%',\n",
       " 'Total IVA Importe',\n",
       " '$0.00 $0.00',\n",
       " 'Total Importe',\n",
       " '$0.00',\n",
       " '000182.B10OTDA006.OD.0930.01',\n",
       " '\\x0cTRESALIA CAPITAL SA DE CV',\n",
       " 'ESTADO DE CUENTA AL 30 DE SEPTIEMBRE DE 2020',\n",
       " 'CLIENTE: Página:',\n",
       " '99999999 4 de 7',\n",
       " 'Banco Nacional de México, S.A., integrante del Grupo Financiero Banamex recibe las consultas, reclamaciones o aclaraciones, en su Unidad Especializada de Atencióna Usuarios, ubicada en Av.Insurgentes Sur No. 926, ColoniaDel Valle,DelegaciónBenitoJuárez, C.P.03100 Ciudad de Méxicoy por correo electrónicounebanamex@banamex.com o teléfono (55) 12 26 45 83, así como en cualquierade sus sucursales u oficinas.En el caso de no obtener una respuesta satisfactoria, podrá acudir a la ComisiónNacional para la Protección y Defensa de los Usuarios de Servicios Financieros www.condusef.gob.mx Teléfonos: 53-40-09-99 o 01-800-999-8080.',\n",
       " 'Banamex Resuelve Segmento Corporativo, Empresarial y Gobierno',\n",
       " 'Cd de México: 2226 1111, del Interior de la República:01 800 111 1122',\n",
       " 'EUA y Canadá: 1 855 295 7093 Horario: De lunes a sábado de',\n",
       " '07:00 a 21:00 horas Correo electrónico: resuelve@citibanamex.com',\n",
       " 'Banamex Resuelve PyMEs',\n",
       " 'Segmento Pequeña y Mediana Empresa (PYME) y Sucursal Cd. de México: 1226 8867, del Interior de la República: 01 800 111 2020 Horarios: De lunes a sábado de 07:00 a 21:00 horas, domingos de 09:00 a 16:30 horas Correo electrónico: resuelvepymes@citibanamex.com',\n",
       " 'RFC:BNM840515VB1 Isabel la Católica número 44, Colonia Centro, Delegación Cuauhtémoc, 06000, Ciudad de México. Tel. 1226-8867',\n",
       " 'IMPORTANTE: ° Si deseas realizar una aclaración sobre tu estado de cuenta, tienes 90 días naturales posteriores al corte del mismo. Para ello, por favor llama a la Unidad Especializada Banamex. ° Incumplir sus obligaciones le puede generar comisiones e intereses moratorios. Para consultar información sobre comisiones con fines informativos y de comparación, ingresawaww.condusef.gob.mxy www.citibanamex.com',\n",
       " 'El IPAB garantiza el pago hasta 400 mil unidades de Inversión (UDI s) por persona, por banco, de las obligaciones garantizadas wwwi.pab.org.mx',\n",
       " 'LEY FEDERAL DE PROTECCION DE DATOS PERSONALES EN POSESION DE LOS PARTICULARES En Banamex los datos están protegidos, consulta el aviso de privacidad correspondiente en www.citibanamex.com/avisode privacidad o en la sucursal de tu preferencia',\n",
       " 'Agradecemos su preferencia',\n",
       " '000182.B10OTDA006.OD.0930.01',\n",
       " '\\x0cXXXXXXXX DIRECCIÓN COLONIA 00000 DELEGACIÓN, CIUDAD DE MEXICO C.R.11801',\n",
       " 'R.F.C. XXX999999XX9',\n",
       " 'CLIENTE: 99999999',\n",
       " 'Contrato: 9999999999',\n",
       " 'PERIODO DEL 01/SEP/2020 AL 30/SEP/2020',\n",
       " 'Constancia de retención de impuesto sobre la renta INVERSION EMPRESARIAL BANAMEX',\n",
       " 'TASA NETA',\n",
       " '1.27%',\n",
       " 'IMPUESTO RETENIDO',\n",
       " '7,271.56',\n",
       " 'INTERESES NETOS',\n",
       " '6,510.26',\n",
       " 'El mencionado impuesto retenido deberá ser adicionado a los intereses netos devengados, según el procedimiento de cálculo normal establecido en el art. 7-a de la Ley del Impuesto Sobre la Renta, a fin de obtener el interés bruto, el cual es el que deberá acumularse para fines fiscales.',\n",
       " '000182.B10OTDA006.OD.0930.01',\n",
       " '\\x0c000182.B10OTDA006.OD.0930.01',\n",
       " '\\x0c000182.B10OTDA006.OD.0930.01']"
      ]
     },
     "execution_count": 122,
     "metadata": {},
     "output_type": "execute_result"
    }
   ],
   "source": [
    "tabla_pag_2= pdf[indices_detalle[1]:-1]\n",
    "tabla_pag_2"
   ]
  },
  {
   "cell_type": "code",
   "execution_count": 124,
   "metadata": {},
   "outputs": [
    {
     "data": {
      "text/plain": [
       "['04 SEP 05 SEP 06 SEP 07 SEP 08 SEP 09 SEP 10 SEP 10 SEP 11 SEP 11 SEP 12 SEP 13 SEP 14 SEP 14 SEP 15 SEP 16 SEP 17 SEP 17 SEP 18 SEP 19 SEP 20 SEP 21 SEP 22 SEP 23 SEP 24 SEP 24 SEP 25 SEP 26 SEP 27 SEP 28 SEP 29 SEP 30 SEP']"
      ]
     },
     "execution_count": 124,
     "metadata": {},
     "output_type": "execute_result"
    }
   ],
   "source": [
    "#fecha\n",
    "fecha_lista_pag_2=[]\n",
    "for i in range(len(tabla_pag_2)):\n",
    "    if re.match('fecha',tabla_pag_2[i].lower()):\n",
    "        fecha_lista_pag_2.append(tabla_pag_2[i+1])\n",
    "        \n",
    "fecha_lista_pag_2"
   ]
  },
  {
   "cell_type": "code",
   "execution_count": 126,
   "metadata": {},
   "outputs": [],
   "source": [
    "#separo\n",
    "fechas_pag_2=re.findall(r'\\d{2} \\w{3}',fecha_lista_pag_2[0])"
   ]
  },
  {
   "cell_type": "code",
   "execution_count": 129,
   "metadata": {},
   "outputs": [
    {
     "data": {
      "text/plain": [
       "32"
      ]
     },
     "execution_count": 129,
     "metadata": {},
     "output_type": "execute_result"
    }
   ],
   "source": [
    "len(fechas_pag_2)"
   ]
  },
  {
   "cell_type": "code",
   "execution_count": 128,
   "metadata": {},
   "outputs": [
    {
     "data": {
      "text/plain": [
       "['INTERESES AL 1.23% INTERESES AL 1.23% INTERESES AL 1.23% INTERESES AL 1.23% INTERESES AL 1.23% INTERESES AL 1.23% DEPOSITO 113148 INTERESES AL 1.22% DEPOSITO 139775 INTERESES AL 1.62% INTERESES AL 1.62% INTERESES AL 1.62% RETIRO 334585 INTERESES AL 1.44% INTERESES AL 1.44% INTERESES AL 1.44% RETIRO 189211 INTERESES AL 1.24% INTERESES AL 1.24% INTERESES AL 1.24% INTERESES AL 1.24% INTERESES AL 1.24% INTERESES AL 1.24% INTERESES AL 1.24% RETIRO 64331 INTERESES AL 0.91% INTERESES AL 0.91% INTERESES AL 0.91% INTERESES AL 0.91% INTERESES AL 0.91% INTERESES AL 0.91% INTERESES AL 0.91%',\n",
       " 'Descripción Servicios de Facturación Valor Unitario']"
      ]
     },
     "execution_count": 128,
     "metadata": {},
     "output_type": "execute_result"
    }
   ],
   "source": [
    "#conceptos\n",
    "conceptos_lista_pag_2=[]\n",
    "for i in range(len(tabla_pag_2)):\n",
    "    if re.match('concepto',tabla_pag_2[i].lower()):\n",
    "        conceptos_lista_pag_2.append(tabla_pag_2[i+1])\n",
    "        \n",
    "conceptos_lista_pag_2"
   ]
  },
  {
   "cell_type": "code",
   "execution_count": 133,
   "metadata": {},
   "outputs": [
    {
     "data": {
      "text/plain": [
       "['',\n",
       " 'AL 1.23% ',\n",
       " 'AL 1.23% ',\n",
       " 'AL 1.23% ',\n",
       " 'AL 1.23% ',\n",
       " 'AL 1.23% ',\n",
       " 'AL 1.23%',\n",
       " 'POSITO 113148 ',\n",
       " 'AL 1.22%',\n",
       " 'POSITO 139775 ',\n",
       " 'AL 1.62% ',\n",
       " 'AL 1.62% ',\n",
       " 'AL 1.62%',\n",
       " 'IRO 334585 ',\n",
       " 'AL 1.44% ',\n",
       " 'AL 1.44% ',\n",
       " 'AL 1.44%',\n",
       " 'IRO 189211 ',\n",
       " 'AL 1.24% ',\n",
       " 'AL 1.24% ',\n",
       " 'AL 1.24% ',\n",
       " 'AL 1.24% ',\n",
       " 'AL 1.24% ',\n",
       " 'AL 1.24% ',\n",
       " 'AL 1.24%',\n",
       " 'IRO 64331 ',\n",
       " 'AL 0.91% ',\n",
       " 'AL 0.91% ',\n",
       " 'AL 0.91% ',\n",
       " 'AL 0.91% ',\n",
       " 'AL 0.91% ',\n",
       " 'AL 0.91% ',\n",
       " 'AL 0.91%']"
      ]
     },
     "execution_count": 133,
     "metadata": {},
     "output_type": "execute_result"
    }
   ],
   "source": [
    "conceptos_prueba2=re.split('SALDO |INTERESES | RET| DE',conceptos_lista_pag_2[0])\n",
    "conceptos_prueba2"
   ]
  },
  {
   "cell_type": "code",
   "execution_count": 135,
   "metadata": {},
   "outputs": [
    {
     "data": {
      "text/plain": [
       "['INTERES AL 1.23% ',\n",
       " 'INTERES AL 1.23% ',\n",
       " 'INTERES AL 1.23% ',\n",
       " 'INTERES AL 1.23% ',\n",
       " 'INTERES AL 1.23% ',\n",
       " 'INTERES AL 1.23%',\n",
       " 'DEPOSITO 113148 ',\n",
       " 'INTERES AL 1.22%',\n",
       " 'DEPOSITO 139775 ',\n",
       " 'INTERES AL 1.62% ',\n",
       " 'INTERES AL 1.62% ',\n",
       " 'INTERES AL 1.62%',\n",
       " 'RETIRO 334585 ',\n",
       " 'INTERES AL 1.44% ',\n",
       " 'INTERES AL 1.44% ',\n",
       " 'INTERES AL 1.44%',\n",
       " 'RETIRO 189211 ',\n",
       " 'INTERES AL 1.24% ',\n",
       " 'INTERES AL 1.24% ',\n",
       " 'INTERES AL 1.24% ',\n",
       " 'INTERES AL 1.24% ',\n",
       " 'INTERES AL 1.24% ',\n",
       " 'INTERES AL 1.24% ',\n",
       " 'INTERES AL 1.24%',\n",
       " 'RETIRO 64331 ',\n",
       " 'INTERES AL 0.91% ',\n",
       " 'INTERES AL 0.91% ',\n",
       " 'INTERES AL 0.91% ',\n",
       " 'INTERES AL 0.91% ',\n",
       " 'INTERES AL 0.91% ',\n",
       " 'INTERES AL 0.91% ',\n",
       " 'INTERES AL 0.91%']"
      ]
     },
     "execution_count": 135,
     "metadata": {},
     "output_type": "execute_result"
    }
   ],
   "source": [
    "conceptos_pag_2=[]\n",
    "for i in range(len(conceptos_prueba2)):\n",
    "    if conceptos_prueba2[i].startswith('ANTERIOR'):\n",
    "        j='SALDO '+conceptos_prueba2[i]\n",
    "        conceptos_pag_2.append(j)\n",
    "    elif conceptos_prueba2[i].startswith('AL'):\n",
    "        j='INTERES '+conceptos_prueba2[i]\n",
    "        conceptos_pag_2.append(j)\n",
    "    elif conceptos_prueba2[i].startswith('IRO'):\n",
    "        j='RET'+ conceptos_prueba2[i]\n",
    "        conceptos_pag_2.append(j)\n",
    "    elif conceptos_prueba2[i].startswith('POSITO'):\n",
    "        j='DE'+ conceptos_prueba2[i]\n",
    "        conceptos_pag_2.append(j)\n",
    "\n",
    "conceptos_pag_2"
   ]
  },
  {
   "cell_type": "code",
   "execution_count": 141,
   "metadata": {},
   "outputs": [
    {
     "data": {
      "text/plain": [
       "['RETIROS', '8,000.00 7,000.00', '465,000.00']"
      ]
     },
     "execution_count": 141,
     "metadata": {},
     "output_type": "execute_result"
    }
   ],
   "source": [
    "#retiros\n",
    "retiros_lista_pag_2=[]\n",
    "for i in range(len(tabla_pag_2)):\n",
    "    if re.match('retiros',tabla_pag_2[i].lower()):\n",
    "        retiros_lista_pag_2.append(tabla_pag_2[i])\n",
    "        retiros_lista_pag_2.append(tabla_pag_2[i+1])\n",
    "        retiros_lista_pag_2.append(tabla_pag_2[i+2])\n",
    "        \n",
    "retiros_lista_pag_2"
   ]
  },
  {
   "cell_type": "code",
   "execution_count": null,
   "metadata": {},
   "outputs": [],
   "source": [
    "retiros1=retiros_lista_pag_1[0].split('RETIROS ')\n",
    "retiros1_1=[]\n",
    "for i in retiros1:\n",
    "    if re.search(r'\\d+', i):\n",
    "        retiros1_1.append(i)"
   ]
  },
  {
   "cell_type": "code",
   "execution_count": 149,
   "metadata": {},
   "outputs": [
    {
     "data": {
      "text/plain": [
       "[['RETIROS'], ['8,000.00', '7,000.00'], ['465,000.00']]"
      ]
     },
     "execution_count": 149,
     "metadata": {},
     "output_type": "execute_result"
    }
   ],
   "source": [
    "retiros2_1=[]\n",
    "for i in retiros_lista_pag_2:\n",
    "    retiros2_1.append(i.split(' '))\n",
    "    \n",
    "retiros2_1"
   ]
  },
  {
   "cell_type": "code",
   "execution_count": 150,
   "metadata": {},
   "outputs": [
    {
     "data": {
      "text/plain": [
       "['8,000.00', '7,000.00', '465,000.00']"
      ]
     },
     "execution_count": 150,
     "metadata": {},
     "output_type": "execute_result"
    }
   ],
   "source": [
    "retiros2_2=[]\n",
    "for i in retiros2_1:\n",
    "    for j in i:\n",
    "        if re.search(r'\\d+', j):\n",
    "            retiros2_2.append(j)\n",
    "        \n",
    "retiros2_2"
   ]
  },
  {
   "cell_type": "code",
   "execution_count": 152,
   "metadata": {},
   "outputs": [
    {
     "data": {
      "text/plain": [
       "['0',\n",
       " '0',\n",
       " '0',\n",
       " '0',\n",
       " '0',\n",
       " '0',\n",
       " '0',\n",
       " '0',\n",
       " '0',\n",
       " '0',\n",
       " '0',\n",
       " '0',\n",
       " '8,000.00',\n",
       " '0',\n",
       " '0',\n",
       " '0',\n",
       " '7,000.00',\n",
       " '0',\n",
       " '0',\n",
       " '0',\n",
       " '0',\n",
       " '0',\n",
       " '0',\n",
       " '0',\n",
       " '465,000.00',\n",
       " '0',\n",
       " '0',\n",
       " '0',\n",
       " '0',\n",
       " '0',\n",
       " '0',\n",
       " '0']"
      ]
     },
     "execution_count": 152,
     "metadata": {},
     "output_type": "execute_result"
    }
   ],
   "source": [
    "#organizo retiros pagina 2\n",
    "retiros_pag_2=[]\n",
    "contador=0\n",
    "for i in range(len(conceptos_pag_2)):\n",
    "    if conceptos_pag_2[i].startswith('RETIRO'):\n",
    "        retiros_pag_2.append(retiros2_2[contador])\n",
    "        contador=contador+1\n",
    "    else:\n",
    "        retiros_pag_2.append('0')\n",
    "retiros_pag_2"
   ]
  },
  {
   "cell_type": "code",
   "execution_count": 166,
   "metadata": {},
   "outputs": [
    {
     "data": {
      "text/plain": [
       "['DEPOSITOS 186.35 186.36 186.36 186.37 186.38 186.38',\n",
       " '2,000.00 188.93',\n",
       " '7,000.00 507.15 507.18 507.20',\n",
       " '330.73 330.75 330.76',\n",
       " '178.65 178.65 178.66 178.66 178.67 178.68 178.68',\n",
       " '119.15 119.15 119.16 119.15 119.16 119.17 119.17']"
      ]
     },
     "execution_count": 166,
     "metadata": {},
     "output_type": "execute_result"
    }
   ],
   "source": [
    "#depositos\n",
    "depositos_lista_pag_2=[]\n",
    "for i in range(len(tabla_pag_2)):\n",
    "    if re.match('depositos',tabla_pag_2[i].lower()):\n",
    "        depositos_lista_pag_2.append(tabla_pag_2[i])\n",
    "        depositos_lista_pag_2.append(tabla_pag_2[i+1])\n",
    "        depositos_lista_pag_2.append(tabla_pag_2[i+2])\n",
    "        depositos_lista_pag_2.append(tabla_pag_2[i+3])\n",
    "        depositos_lista_pag_2.append(tabla_pag_2[i+4])\n",
    "        depositos_lista_pag_2.append(tabla_pag_2[i+5])\n",
    "        \n",
    "depositos_lista_pag_2"
   ]
  },
  {
   "cell_type": "code",
   "execution_count": 175,
   "metadata": {},
   "outputs": [],
   "source": [
    "depositos2_1=[]\n",
    "for i in depositos_lista_pag_2:\n",
    "    j=i.split('DEPOSITOS')\n",
    "    depositos2_1.append(j)"
   ]
  },
  {
   "cell_type": "code",
   "execution_count": 176,
   "metadata": {},
   "outputs": [
    {
     "data": {
      "text/plain": [
       "['186.35 186.36 186.36 186.37 186.38 186.38',\n",
       " '2,000.00 188.93',\n",
       " '7,000.00 507.15 507.18 507.20',\n",
       " '330.73 330.75 330.76',\n",
       " '178.65 178.65 178.66 178.66 178.67 178.68 178.68',\n",
       " '119.15 119.15 119.16 119.15 119.16 119.17 119.17']"
      ]
     },
     "execution_count": 176,
     "metadata": {},
     "output_type": "execute_result"
    }
   ],
   "source": [
    "depositos2_2=[]\n",
    "for i in depositos2_1:\n",
    "    for j in i:\n",
    "        if re.search(r'\\d+', j):\n",
    "            depositos2_2.append(j.strip())\n",
    "        \n",
    "depositos2_2"
   ]
  },
  {
   "cell_type": "code",
   "execution_count": 178,
   "metadata": {},
   "outputs": [],
   "source": [
    "depositos2_3=[]\n",
    "for i in depositos2_2:\n",
    "    j=i.split(' ')\n",
    "    for k in j:\n",
    "        depositos2_3.append(k)"
   ]
  },
  {
   "cell_type": "code",
   "execution_count": 180,
   "metadata": {},
   "outputs": [
    {
     "data": {
      "text/plain": [
       "32"
      ]
     },
     "execution_count": 180,
     "metadata": {},
     "output_type": "execute_result"
    }
   ],
   "source": [
    "#organizo depositos\n",
    "depositos_pag_2=[]\n",
    "contador=0\n",
    "for i in range(len(conceptos_pag_2)):\n",
    "    if conceptos_pag_2[i].startswith('DEPOSITO') or conceptos_pag_2[i].startswith('INTERES'):\n",
    "        depositos_pag_2.append(depositos2_3[contador])\n",
    "        contador=contador+1\n",
    "    else:\n",
    "        depositos_pag_2.append('0')\n",
    "len(depositos_pag_2)"
   ]
  },
  {
   "cell_type": "code",
   "execution_count": 193,
   "metadata": {},
   "outputs": [],
   "source": [
    "#saldos\n",
    "saldos_lista_pag_2=[]\n",
    "for i in range(len(tabla_pag_2)):\n",
    "    if re.match('saldo',tabla_pag_2[i].lower()):\n",
    "        saldos_lista_pag_2.append(tabla_pag_2[i])\n",
    "        saldos_lista_pag_2.append(tabla_pag_2[i+1])\n",
    "        saldos_lista_pag_2.append(tabla_pag_2[i+2])\n",
    "        saldos_lista_pag_2.append(tabla_pag_2[i+3])\n",
    "        saldos_lista_pag_2.append(tabla_pag_2[i+4])\n",
    "        saldos_lista_pag_2.append(tabla_pag_2[i+5])\n",
    "        \n",
    "saldos2_1=saldos_lista_pag_2"
   ]
  },
  {
   "cell_type": "code",
   "execution_count": 196,
   "metadata": {},
   "outputs": [],
   "source": [
    "saldos2_2=[]\n",
    "for i in saldos2_1:\n",
    "    j=i.split(' ')\n",
    "    saldos2_2.append(j)\n",
    "    \n",
    "saldos2_3=[]\n",
    "for i in saldos2_2:\n",
    "    for j in i:\n",
    "        if re.search(r'\\d+',j):\n",
    "            saldos2_3.append(j)"
   ]
  },
  {
   "cell_type": "code",
   "execution_count": 198,
   "metadata": {},
   "outputs": [
    {
     "data": {
      "text/plain": [
       "32"
      ]
     },
     "execution_count": 198,
     "metadata": {},
     "output_type": "execute_result"
    }
   ],
   "source": [
    "#organizo saldos\n",
    "saldos_pag_2=[]\n",
    "contador=0\n",
    "for i in range(len(conceptos_pag_2)):\n",
    "    if conceptos_pag_2[i].startswith('SALDO') or conceptos_pag_2[i].startswith('INTERES') :\n",
    "        saldos_pag_2.append(saldos2_3[contador])\n",
    "        contador=contador+1\n",
    "    else:\n",
    "        saldos_pag_2.append('0')\n"
   ]
  },
  {
   "cell_type": "code",
   "execution_count": 201,
   "metadata": {},
   "outputs": [],
   "source": [
    "#junto toda la información\n",
    "fechas= fechas_pag_1+fechas_pag_2\n",
    "conceptos = conceptos_pag_1+conceptos_pag_2\n",
    "retiros= retiros_pag_1+retiros_pag_2\n",
    "depositos= depositos_pag_1+depositos_pag_2\n",
    "saldos= saldos_pag_1+saldos_pag_2"
   ]
  },
  {
   "cell_type": "code",
   "execution_count": 202,
   "metadata": {},
   "outputs": [],
   "source": [
    "#este data frame se puede exportar como csv\n",
    "edo_cuenta=pd.DataFrame(list(zip(fechas, conceptos, retiros, depositos, saldos)),\n",
    "              columns=['fecha','concepto','retiro', 'deposito','saldo'])"
   ]
  },
  {
   "cell_type": "code",
   "execution_count": 203,
   "metadata": {},
   "outputs": [
    {
     "data": {
      "text/html": [
       "<div>\n",
       "<style scoped>\n",
       "    .dataframe tbody tr th:only-of-type {\n",
       "        vertical-align: middle;\n",
       "    }\n",
       "\n",
       "    .dataframe tbody tr th {\n",
       "        vertical-align: top;\n",
       "    }\n",
       "\n",
       "    .dataframe thead th {\n",
       "        text-align: right;\n",
       "    }\n",
       "</style>\n",
       "<table border=\"1\" class=\"dataframe\">\n",
       "  <thead>\n",
       "    <tr style=\"text-align: right;\">\n",
       "      <th></th>\n",
       "      <th>fecha</th>\n",
       "      <th>concepto</th>\n",
       "      <th>retiro</th>\n",
       "      <th>deposito</th>\n",
       "      <th>saldo</th>\n",
       "    </tr>\n",
       "  </thead>\n",
       "  <tbody>\n",
       "    <tr>\n",
       "      <th>0</th>\n",
       "      <td>01 SEP</td>\n",
       "      <td>SALDO ANTERIOR</td>\n",
       "      <td>0</td>\n",
       "      <td>0</td>\n",
       "      <td>10,366.75</td>\n",
       "    </tr>\n",
       "    <tr>\n",
       "      <th>1</th>\n",
       "      <td>01 SEP</td>\n",
       "      <td>INTERES AL 1.27%</td>\n",
       "      <td>0</td>\n",
       "      <td>209.13</td>\n",
       "      <td>10,575.88</td>\n",
       "    </tr>\n",
       "    <tr>\n",
       "      <th>2</th>\n",
       "      <td>02 SEP</td>\n",
       "      <td>INTERES AL 1.27%</td>\n",
       "      <td>0</td>\n",
       "      <td>209.13</td>\n",
       "      <td>10,785.01</td>\n",
       "    </tr>\n",
       "    <tr>\n",
       "      <th>3</th>\n",
       "      <td>03 SEP</td>\n",
       "      <td>RETIRO 72825</td>\n",
       "      <td>8,000.00</td>\n",
       "      <td>0</td>\n",
       "      <td>0</td>\n",
       "    </tr>\n",
       "    <tr>\n",
       "      <th>4</th>\n",
       "      <td>03 SEP</td>\n",
       "      <td>INTERES AL 1.23%</td>\n",
       "      <td>0</td>\n",
       "      <td>186.34</td>\n",
       "      <td>2,971.35</td>\n",
       "    </tr>\n",
       "    <tr>\n",
       "      <th>5</th>\n",
       "      <td>04 SEP</td>\n",
       "      <td>INTERES AL 1.23%</td>\n",
       "      <td>0</td>\n",
       "      <td>186.35</td>\n",
       "      <td>3,157.70</td>\n",
       "    </tr>\n",
       "    <tr>\n",
       "      <th>6</th>\n",
       "      <td>05 SEP</td>\n",
       "      <td>INTERES AL 1.23%</td>\n",
       "      <td>0</td>\n",
       "      <td>186.36</td>\n",
       "      <td>3,344.06</td>\n",
       "    </tr>\n",
       "    <tr>\n",
       "      <th>7</th>\n",
       "      <td>06 SEP</td>\n",
       "      <td>INTERES AL 1.23%</td>\n",
       "      <td>0</td>\n",
       "      <td>186.36</td>\n",
       "      <td>3,530.42</td>\n",
       "    </tr>\n",
       "    <tr>\n",
       "      <th>8</th>\n",
       "      <td>07 SEP</td>\n",
       "      <td>INTERES AL 1.23%</td>\n",
       "      <td>0</td>\n",
       "      <td>186.37</td>\n",
       "      <td>3,716.79</td>\n",
       "    </tr>\n",
       "    <tr>\n",
       "      <th>9</th>\n",
       "      <td>08 SEP</td>\n",
       "      <td>INTERES AL 1.23%</td>\n",
       "      <td>0</td>\n",
       "      <td>186.38</td>\n",
       "      <td>3,903.17</td>\n",
       "    </tr>\n",
       "    <tr>\n",
       "      <th>10</th>\n",
       "      <td>09 SEP</td>\n",
       "      <td>INTERES AL 1.23%</td>\n",
       "      <td>0</td>\n",
       "      <td>186.38</td>\n",
       "      <td>4,089.55</td>\n",
       "    </tr>\n",
       "    <tr>\n",
       "      <th>11</th>\n",
       "      <td>10 SEP</td>\n",
       "      <td>DEPOSITO 113148</td>\n",
       "      <td>0</td>\n",
       "      <td>2,000.00</td>\n",
       "      <td>0</td>\n",
       "    </tr>\n",
       "    <tr>\n",
       "      <th>12</th>\n",
       "      <td>10 SEP</td>\n",
       "      <td>INTERES AL 1.22%</td>\n",
       "      <td>0</td>\n",
       "      <td>188.93</td>\n",
       "      <td>6,278.48</td>\n",
       "    </tr>\n",
       "    <tr>\n",
       "      <th>13</th>\n",
       "      <td>11 SEP</td>\n",
       "      <td>DEPOSITO 139775</td>\n",
       "      <td>0</td>\n",
       "      <td>7,000.00</td>\n",
       "      <td>0</td>\n",
       "    </tr>\n",
       "    <tr>\n",
       "      <th>14</th>\n",
       "      <td>11 SEP</td>\n",
       "      <td>INTERES AL 1.62%</td>\n",
       "      <td>0</td>\n",
       "      <td>507.15</td>\n",
       "      <td>3,785.63</td>\n",
       "    </tr>\n",
       "    <tr>\n",
       "      <th>15</th>\n",
       "      <td>12 SEP</td>\n",
       "      <td>INTERES AL 1.62%</td>\n",
       "      <td>0</td>\n",
       "      <td>507.18</td>\n",
       "      <td>4,292.81</td>\n",
       "    </tr>\n",
       "    <tr>\n",
       "      <th>16</th>\n",
       "      <td>13 SEP</td>\n",
       "      <td>INTERES AL 1.62%</td>\n",
       "      <td>0</td>\n",
       "      <td>507.20</td>\n",
       "      <td>4,800.01</td>\n",
       "    </tr>\n",
       "    <tr>\n",
       "      <th>17</th>\n",
       "      <td>14 SEP</td>\n",
       "      <td>RETIRO 334585</td>\n",
       "      <td>8,000.00</td>\n",
       "      <td>0</td>\n",
       "      <td>0</td>\n",
       "    </tr>\n",
       "    <tr>\n",
       "      <th>18</th>\n",
       "      <td>14 SEP</td>\n",
       "      <td>INTERES AL 1.44%</td>\n",
       "      <td>0</td>\n",
       "      <td>330.73</td>\n",
       "      <td>7,130.74</td>\n",
       "    </tr>\n",
       "    <tr>\n",
       "      <th>19</th>\n",
       "      <td>15 SEP</td>\n",
       "      <td>INTERES AL 1.44%</td>\n",
       "      <td>0</td>\n",
       "      <td>330.75</td>\n",
       "      <td>7,461.49</td>\n",
       "    </tr>\n",
       "    <tr>\n",
       "      <th>20</th>\n",
       "      <td>16 SEP</td>\n",
       "      <td>INTERES AL 1.44%</td>\n",
       "      <td>0</td>\n",
       "      <td>330.76</td>\n",
       "      <td>7,792.25</td>\n",
       "    </tr>\n",
       "    <tr>\n",
       "      <th>21</th>\n",
       "      <td>17 SEP</td>\n",
       "      <td>RETIRO 189211</td>\n",
       "      <td>7,000.00</td>\n",
       "      <td>0</td>\n",
       "      <td>0</td>\n",
       "    </tr>\n",
       "    <tr>\n",
       "      <th>22</th>\n",
       "      <td>17 SEP</td>\n",
       "      <td>INTERES AL 1.24%</td>\n",
       "      <td>0</td>\n",
       "      <td>178.65</td>\n",
       "      <td>7,970.90</td>\n",
       "    </tr>\n",
       "    <tr>\n",
       "      <th>23</th>\n",
       "      <td>18 SEP</td>\n",
       "      <td>INTERES AL 1.24%</td>\n",
       "      <td>0</td>\n",
       "      <td>178.65</td>\n",
       "      <td>1,149.55</td>\n",
       "    </tr>\n",
       "    <tr>\n",
       "      <th>24</th>\n",
       "      <td>19 SEP</td>\n",
       "      <td>INTERES AL 1.24%</td>\n",
       "      <td>0</td>\n",
       "      <td>178.66</td>\n",
       "      <td>1,328.21</td>\n",
       "    </tr>\n",
       "    <tr>\n",
       "      <th>25</th>\n",
       "      <td>20 SEP</td>\n",
       "      <td>INTERES AL 1.24%</td>\n",
       "      <td>0</td>\n",
       "      <td>178.66</td>\n",
       "      <td>1,506.87</td>\n",
       "    </tr>\n",
       "    <tr>\n",
       "      <th>26</th>\n",
       "      <td>21 SEP</td>\n",
       "      <td>INTERES AL 1.24%</td>\n",
       "      <td>0</td>\n",
       "      <td>178.67</td>\n",
       "      <td>1,685.54</td>\n",
       "    </tr>\n",
       "    <tr>\n",
       "      <th>27</th>\n",
       "      <td>22 SEP</td>\n",
       "      <td>INTERES AL 1.24%</td>\n",
       "      <td>0</td>\n",
       "      <td>178.68</td>\n",
       "      <td>1,864.22</td>\n",
       "    </tr>\n",
       "    <tr>\n",
       "      <th>28</th>\n",
       "      <td>23 SEP</td>\n",
       "      <td>INTERES AL 1.24%</td>\n",
       "      <td>0</td>\n",
       "      <td>178.68</td>\n",
       "      <td>2,042.90</td>\n",
       "    </tr>\n",
       "    <tr>\n",
       "      <th>29</th>\n",
       "      <td>24 SEP</td>\n",
       "      <td>RETIRO 64331</td>\n",
       "      <td>465,000.00</td>\n",
       "      <td>0</td>\n",
       "      <td>0</td>\n",
       "    </tr>\n",
       "    <tr>\n",
       "      <th>30</th>\n",
       "      <td>24 SEP</td>\n",
       "      <td>INTERES AL 0.91%</td>\n",
       "      <td>0</td>\n",
       "      <td>119.15</td>\n",
       "      <td>7,162.05</td>\n",
       "    </tr>\n",
       "    <tr>\n",
       "      <th>31</th>\n",
       "      <td>25 SEP</td>\n",
       "      <td>INTERES AL 0.91%</td>\n",
       "      <td>0</td>\n",
       "      <td>119.15</td>\n",
       "      <td>7,281.20</td>\n",
       "    </tr>\n",
       "    <tr>\n",
       "      <th>32</th>\n",
       "      <td>26 SEP</td>\n",
       "      <td>INTERES AL 0.91%</td>\n",
       "      <td>0</td>\n",
       "      <td>119.16</td>\n",
       "      <td>7,400.36</td>\n",
       "    </tr>\n",
       "    <tr>\n",
       "      <th>33</th>\n",
       "      <td>27 SEP</td>\n",
       "      <td>INTERES AL 0.91%</td>\n",
       "      <td>0</td>\n",
       "      <td>119.15</td>\n",
       "      <td>7,519.51</td>\n",
       "    </tr>\n",
       "    <tr>\n",
       "      <th>34</th>\n",
       "      <td>28 SEP</td>\n",
       "      <td>INTERES AL 0.91%</td>\n",
       "      <td>0</td>\n",
       "      <td>119.16</td>\n",
       "      <td>7,638.67</td>\n",
       "    </tr>\n",
       "    <tr>\n",
       "      <th>35</th>\n",
       "      <td>29 SEP</td>\n",
       "      <td>INTERES AL 0.91%</td>\n",
       "      <td>0</td>\n",
       "      <td>119.17</td>\n",
       "      <td>7,757.84</td>\n",
       "    </tr>\n",
       "    <tr>\n",
       "      <th>36</th>\n",
       "      <td>30 SEP</td>\n",
       "      <td>INTERES AL 0.91%</td>\n",
       "      <td>0</td>\n",
       "      <td>119.17</td>\n",
       "      <td>7,877.01</td>\n",
       "    </tr>\n",
       "  </tbody>\n",
       "</table>\n",
       "</div>"
      ],
      "text/plain": [
       "     fecha           concepto      retiro  deposito      saldo\n",
       "0   01 SEP     SALDO ANTERIOR           0         0  10,366.75\n",
       "1   01 SEP   INTERES AL 1.27%           0    209.13  10,575.88\n",
       "2   02 SEP   INTERES AL 1.27%           0    209.13  10,785.01\n",
       "3   03 SEP       RETIRO 72825    8,000.00         0          0\n",
       "4   03 SEP   INTERES AL 1.23%           0    186.34   2,971.35\n",
       "5   04 SEP  INTERES AL 1.23%            0    186.35   3,157.70\n",
       "6   05 SEP  INTERES AL 1.23%            0    186.36   3,344.06\n",
       "7   06 SEP  INTERES AL 1.23%            0    186.36   3,530.42\n",
       "8   07 SEP  INTERES AL 1.23%            0    186.37   3,716.79\n",
       "9   08 SEP  INTERES AL 1.23%            0    186.38   3,903.17\n",
       "10  09 SEP   INTERES AL 1.23%           0    186.38   4,089.55\n",
       "11  10 SEP   DEPOSITO 113148            0  2,000.00          0\n",
       "12  10 SEP   INTERES AL 1.22%           0    188.93   6,278.48\n",
       "13  11 SEP   DEPOSITO 139775            0  7,000.00          0\n",
       "14  11 SEP  INTERES AL 1.62%            0    507.15   3,785.63\n",
       "15  12 SEP  INTERES AL 1.62%            0    507.18   4,292.81\n",
       "16  13 SEP   INTERES AL 1.62%           0    507.20   4,800.01\n",
       "17  14 SEP     RETIRO 334585     8,000.00         0          0\n",
       "18  14 SEP  INTERES AL 1.44%            0    330.73   7,130.74\n",
       "19  15 SEP  INTERES AL 1.44%            0    330.75   7,461.49\n",
       "20  16 SEP   INTERES AL 1.44%           0    330.76   7,792.25\n",
       "21  17 SEP     RETIRO 189211     7,000.00         0          0\n",
       "22  17 SEP  INTERES AL 1.24%            0    178.65   7,970.90\n",
       "23  18 SEP  INTERES AL 1.24%            0    178.65   1,149.55\n",
       "24  19 SEP  INTERES AL 1.24%            0    178.66   1,328.21\n",
       "25  20 SEP  INTERES AL 1.24%            0    178.66   1,506.87\n",
       "26  21 SEP  INTERES AL 1.24%            0    178.67   1,685.54\n",
       "27  22 SEP  INTERES AL 1.24%            0    178.68   1,864.22\n",
       "28  23 SEP   INTERES AL 1.24%           0    178.68   2,042.90\n",
       "29  24 SEP      RETIRO 64331   465,000.00         0          0\n",
       "30  24 SEP  INTERES AL 0.91%            0    119.15   7,162.05\n",
       "31  25 SEP  INTERES AL 0.91%            0    119.15   7,281.20\n",
       "32  26 SEP  INTERES AL 0.91%            0    119.16   7,400.36\n",
       "33  27 SEP  INTERES AL 0.91%            0    119.15   7,519.51\n",
       "34  28 SEP  INTERES AL 0.91%            0    119.16   7,638.67\n",
       "35  29 SEP  INTERES AL 0.91%            0    119.17   7,757.84\n",
       "36  30 SEP   INTERES AL 0.91%           0    119.17   7,877.01"
      ]
     },
     "execution_count": 203,
     "metadata": {},
     "output_type": "execute_result"
    }
   ],
   "source": [
    "edo_cuenta"
   ]
  },
  {
   "cell_type": "code",
   "execution_count": null,
   "metadata": {},
   "outputs": [],
   "source": []
  }
 ],
 "metadata": {
  "kernelspec": {
   "display_name": "Python 3",
   "language": "python",
   "name": "python3"
  },
  "language_info": {
   "codemirror_mode": {
    "name": "ipython",
    "version": 3
   },
   "file_extension": ".py",
   "mimetype": "text/x-python",
   "name": "python",
   "nbconvert_exporter": "python",
   "pygments_lexer": "ipython3",
   "version": "3.7.2"
  }
 },
 "nbformat": 4,
 "nbformat_minor": 2
}
