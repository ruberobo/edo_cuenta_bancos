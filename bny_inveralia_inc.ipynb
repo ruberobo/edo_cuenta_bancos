{
 "cells": [
  {
   "cell_type": "code",
   "execution_count": 1,
   "metadata": {},
   "outputs": [],
   "source": [
    "import pandas as pd\n",
    "import numpy as np\n",
    "import re\n",
    "import textract"
   ]
  },
  {
   "cell_type": "code",
   "execution_count": 2,
   "metadata": {},
   "outputs": [],
   "source": [
    "import tabula"
   ]
  },
  {
   "cell_type": "code",
   "execution_count": 3,
   "metadata": {},
   "outputs": [],
   "source": [
    "#extraigo texto\n",
    "archivo= 'tresalia\\Edo Cta\\BNY PDF Inveralia Inc.pdf'"
   ]
  },
  {
   "cell_type": "code",
   "execution_count": 4,
   "metadata": {},
   "outputs": [],
   "source": [
    "text = textract.process(archivo)"
   ]
  },
  {
   "cell_type": "code",
   "execution_count": 5,
   "metadata": {},
   "outputs": [],
   "source": [
    "#cambio formato\n",
    "encoding = 'utf-8'\n",
    "text_str=text.decode(encoding)"
   ]
  },
  {
   "cell_type": "code",
   "execution_count": 6,
   "metadata": {},
   "outputs": [],
   "source": [
    "#separo\n",
    "pdf=re.split(r\"[~\\r\\n]+\", text_str)"
   ]
  },
  {
   "cell_type": "code",
   "execution_count": 7,
   "metadata": {},
   "outputs": [
    {
     "data": {
      "text/html": [
       "<div>\n",
       "<style scoped>\n",
       "    .dataframe tbody tr th:only-of-type {\n",
       "        vertical-align: middle;\n",
       "    }\n",
       "\n",
       "    .dataframe tbody tr th {\n",
       "        vertical-align: top;\n",
       "    }\n",
       "\n",
       "    .dataframe thead th {\n",
       "        text-align: right;\n",
       "    }\n",
       "</style>\n",
       "<table border=\"1\" class=\"dataframe\">\n",
       "  <thead>\n",
       "    <tr style=\"text-align: right;\">\n",
       "      <th></th>\n",
       "      <th>informacion</th>\n",
       "    </tr>\n",
       "  </thead>\n",
       "  <tbody>\n",
       "    <tr>\n",
       "      <th>0</th>\n",
       "      <td>Statement from 04/01/20 through 04/30/20</td>\n",
       "    </tr>\n",
       "    <tr>\n",
       "      <th>1</th>\n",
       "      <td>XXXXXXXXXX % LOEB BLOCK &amp; PARTNERS LLP 505 PAR...</td>\n",
       "    </tr>\n",
       "    <tr>\n",
       "      <th>2</th>\n",
       "      <td>0</td>\n",
       "    </tr>\n",
       "    <tr>\n",
       "      <th>3</th>\n",
       "      <td>99999999</td>\n",
       "    </tr>\n",
       "    <tr>\n",
       "      <th>4</th>\n",
       "      <td>Page 1 of 2 BZ 9999999999 ( 0 )</td>\n",
       "    </tr>\n",
       "  </tbody>\n",
       "</table>\n",
       "</div>"
      ],
      "text/plain": [
       "                                         informacion\n",
       "0           Statement from 04/01/20 through 04/30/20\n",
       "1  XXXXXXXXXX % LOEB BLOCK & PARTNERS LLP 505 PAR...\n",
       "2                                                  0\n",
       "3                                           99999999\n",
       "4                    Page 1 of 2 BZ 9999999999 ( 0 )"
      ]
     },
     "execution_count": 7,
     "metadata": {},
     "output_type": "execute_result"
    }
   ],
   "source": [
    "information_pdf=pd.DataFrame(pdf).rename(columns={0:\"informacion\"})\n",
    "information_pdf.head()"
   ]
  },
  {
   "cell_type": "code",
   "execution_count": 8,
   "metadata": {},
   "outputs": [
    {
     "data": {
      "text/plain": [
       "['Statement from 04/01/20 through 04/30/20',\n",
       " 'XXXXXXXXXX % LOEB BLOCK & PARTNERS LLP 505 PARK AVE 8TH FL NEW YORK NY 10022-1106',\n",
       " '0',\n",
       " '99999999',\n",
       " 'Page 1 of 2 BZ 9999999999 ( 0 )',\n",
       " 'For personal assistance, call XXXXXXXXXXX BNY Mellon Wealth Management 200 Park Avenue New York, NY 10166 999-999-9999',\n",
       " 'After business hours, call our Digital Online Support Center at 999-999-9999',\n",
       " 'REMINDER: SELF-SERVICE BANKING AND 24/7 ACCOUNT ACCESS IS AVAILABLE THROUGH ONLINE AND MOBILE BANKING, WHERE YOU CAN CHECK BALANCES, TRANSFER FUNDS, VIEW TRANSACTIONS, LOCATE ATMS AND MAKE MOBILE DEPOSITS. IF YOU ARE NOT ENROLLED IN ONLINE OR MOBILE BANKING OR NEED ASSISTANCE, PLEASE CONTACT OUR WEALTH ONLINE SUPPORT TEAM AT 800-880-5631(WEEKDAYS, 6 A.M.- 10 P.M. AND WEEKENDS, 8 A.M.- 8 P.M. ET).',\n",
       " 'Business Checking 9999999999',\n",
       " 'Account Summary',\n",
       " 'BEGINNING BALANCE',\n",
       " 'DEPOSITS WIRE TRANSFER CREDITS OTHER CREDITS TOTAL CREDITS',\n",
       " 'CHECKS PAID WIRE TRANSFER DEBITS SERVICE CHARGE OTHER DEBITS TOTAL DEBITS',\n",
       " 'ENDING BALANCE',\n",
       " 'Items',\n",
       " '0 3 0 3',\n",
       " '0 2 2 0 4',\n",
       " 'Dollar Subtotals',\n",
       " '0.00 4,900.00',\n",
       " '0.00',\n",
       " '0.00 4,717.00',\n",
       " '45.00 0.00',\n",
       " 'Dollar Totals 2,809.65',\n",
       " '4,900.00',\n",
       " '4,762.00 2,947.65',\n",
       " 'Account Activity',\n",
       " 'Date Posted',\n",
       " 'Transaction Description',\n",
       " 'Checks/ Other Debits',\n",
       " '03-31 ENDING BALANCE PREVIOUS STATEMENT ..................................................................',\n",
       " '04-14',\n",
       " 'WIRE TRANSFER CREDIT REF # 000000000009999',\n",
       " 'O/B:XXXXXXXX WIRE TRANSFER CREDIT REF # 000000000009999',\n",
       " 'O/B:XXXXXX',\n",
       " '........................................................ ........................................................',\n",
       " 'Deposits/ Other Credits',\n",
       " '2,809.65',\n",
       " '1,700.00',\n",
       " '1,200.00',\n",
       " '\\x0cStatement from 04/01/20 through 04/30/20',\n",
       " '9999999',\n",
       " 'Page 2 of 2 Account #: 6310019982',\n",
       " 'Date Posted',\n",
       " 'Transaction Description',\n",
       " 'Checks/ Other Debits',\n",
       " 'WIRE TRANSFER CREDIT REF # 000000000203008 ........................................................ O/XXXXXXXX',\n",
       " 'Deposits/ Other Credits',\n",
       " '52,000.00',\n",
       " '04-15',\n",
       " 'WIRE TRANSFER-OUT BEN:XXXXX',\n",
       " '8,286.00',\n",
       " '04-17',\n",
       " 'WIRE TRANSFER-OUT',\n",
       " 'BEN:XXXXXXXXXXXXXXXX XXX',\n",
       " 'WIRE TRANSFER FEE',\n",
       " '6,431.00 30.00',\n",
       " '04-30',\n",
       " 'SERVICE CHARGE MONTHLY MAINT FEE',\n",
       " 'Service Charge Detail',\n",
       " 'Service Description',\n",
       " '15.00',\n",
       " 'Charge',\n",
       " 'DIRECT SERVICE CHG ....................................................................................................................... SERVICE CHARGE ..............................................................................................................................',\n",
       " 'TOTAL SERVICE CHARGES ....................................................................................................',\n",
       " '30.00 15.00',\n",
       " '45.00',\n",
       " 'IMPORTANT INFORMATION: PLEASE EXAMINE AND RECONCILE YOUR STATEMENT PROMPTLY. ERRORS AND IMPROPER TRANSFERS MUST BE REPORTED TO THE BANK WITHIN 30 DAYS. IF YOU HAVE ANY QUESTIONS, PLEASE CALL YOUR RELATIONSHIP MANAGER, YOUR BNY MELLON OFFICE OR OUR DIGITAL ONLINE SUPPORT CENTER AT 800-830-0549.',\n",
       " 'BNY Mellon, N.A. Member FDIC',\n",
       " 'Equal Housing Lender',\n",
       " '\\x0c']"
      ]
     },
     "execution_count": 8,
     "metadata": {},
     "output_type": "execute_result"
    }
   ],
   "source": [
    "pdf"
   ]
  },
  {
   "cell_type": "code",
   "execution_count": 9,
   "metadata": {},
   "outputs": [
    {
     "data": {
      "text/plain": [
       "'Statement from 04/01/20 through 04/30/20'"
      ]
     },
     "execution_count": 9,
     "metadata": {},
     "output_type": "execute_result"
    }
   ],
   "source": [
    "#periodo\n",
    "periodo_lista = []\n",
    "for i in pdf:\n",
    "    if re.search('from',i) and re.search('through',i):\n",
    "        periodo_lista.append(i)\n",
    "periodo=periodo_lista[0]\n",
    "periodo"
   ]
  },
  {
   "cell_type": "code",
   "execution_count": 10,
   "metadata": {},
   "outputs": [
    {
     "data": {
      "text/plain": [
       "'Business Checking 9999999999'"
      ]
     },
     "execution_count": 10,
     "metadata": {},
     "output_type": "execute_result"
    }
   ],
   "source": [
    "#nombre\n",
    "cuenta_lista = []\n",
    "for i in pdf:\n",
    "    if re.search('Business Checking',i):\n",
    "        cuenta_lista.append(i)\n",
    "cuenta= cuenta_lista[0]\n",
    "cuenta"
   ]
  },
  {
   "cell_type": "code",
   "execution_count": 11,
   "metadata": {},
   "outputs": [],
   "source": [
    "datos_lista = []\n",
    "for i in pdf:\n",
    "    if re.search('%',i):\n",
    "        datos_lista.append(i)\n",
    "nombre=datos_lista[0].split('%')[0]\n",
    "direccion=datos_lista[0].split('%')[1]"
   ]
  },
  {
   "cell_type": "code",
   "execution_count": 12,
   "metadata": {},
   "outputs": [
    {
     "data": {
      "text/plain": [
       "{'nombre': 'XXXXXXXXXX ',\n",
       " 'direccion': ' LOEB BLOCK & PARTNERS LLP 505 PARK AVE 8TH FL NEW YORK NY 10022-1106'}"
      ]
     },
     "execution_count": 12,
     "metadata": {},
     "output_type": "execute_result"
    }
   ],
   "source": [
    "datos=dict(zip(['nombre','direccion'],[nombre,direccion]))\n",
    "datos"
   ]
  },
  {
   "cell_type": "code",
   "execution_count": 13,
   "metadata": {},
   "outputs": [],
   "source": [
    "indices_cuenta=[]\n",
    "for i in range(len(pdf)):\n",
    "    if re.search('account activity', pdf[i].lower()):\n",
    "        indices_cuenta.append(i)"
   ]
  },
  {
   "cell_type": "code",
   "execution_count": 33,
   "metadata": {},
   "outputs": [],
   "source": [
    "indices_service_charge=[]\n",
    "for i in range(len(pdf)):\n",
    "    if re.search('service charge detail', pdf[i].lower()):\n",
    "        indices_service_charge.append(i)"
   ]
  },
  {
   "cell_type": "code",
   "execution_count": 34,
   "metadata": {},
   "outputs": [
    {
     "data": {
      "text/plain": [
       "[58]"
      ]
     },
     "execution_count": 34,
     "metadata": {},
     "output_type": "execute_result"
    }
   ],
   "source": [
    "indices_service_charge"
   ]
  },
  {
   "cell_type": "code",
   "execution_count": 53,
   "metadata": {},
   "outputs": [],
   "source": [
    "tabla=pdf[indices_cuenta[0]:indices_service_charge[0]+3]"
   ]
  },
  {
   "cell_type": "code",
   "execution_count": 54,
   "metadata": {},
   "outputs": [
    {
     "data": {
      "text/plain": [
       "['Account Activity',\n",
       " 'Date Posted',\n",
       " 'Transaction Description',\n",
       " 'Checks/ Other Debits',\n",
       " '03-31 ENDING BALANCE PREVIOUS STATEMENT ..................................................................',\n",
       " '04-14',\n",
       " 'WIRE TRANSFER CREDIT REF # 000000000009999',\n",
       " 'O/B:XXXXXXXX WIRE TRANSFER CREDIT REF # 000000000009999',\n",
       " 'O/B:XXXXXX',\n",
       " '........................................................ ........................................................',\n",
       " 'Deposits/ Other Credits',\n",
       " '2,809.65',\n",
       " '1,700.00',\n",
       " '1,200.00',\n",
       " '\\x0cStatement from 04/01/20 through 04/30/20',\n",
       " '9999999',\n",
       " 'Page 2 of 2 Account #: 6310019982',\n",
       " 'Date Posted',\n",
       " 'Transaction Description',\n",
       " 'Checks/ Other Debits',\n",
       " 'WIRE TRANSFER CREDIT REF # 000000000203008 ........................................................ O/XXXXXXXX',\n",
       " 'Deposits/ Other Credits',\n",
       " '52,000.00',\n",
       " '04-15',\n",
       " 'WIRE TRANSFER-OUT BEN:XXXXX',\n",
       " '8,286.00',\n",
       " '04-17',\n",
       " 'WIRE TRANSFER-OUT',\n",
       " 'BEN:XXXXXXXXXXXXXXXX XXX',\n",
       " 'WIRE TRANSFER FEE',\n",
       " '6,431.00 30.00',\n",
       " '04-30',\n",
       " 'SERVICE CHARGE MONTHLY MAINT FEE',\n",
       " 'Service Charge Detail',\n",
       " 'Service Description',\n",
       " '15.00']"
      ]
     },
     "execution_count": 54,
     "metadata": {},
     "output_type": "execute_result"
    }
   ],
   "source": [
    "tabla"
   ]
  },
  {
   "cell_type": "code",
   "execution_count": 56,
   "metadata": {},
   "outputs": [],
   "source": [
    "#fechas\n",
    "lista_fechas=[]\n",
    "for i in tabla:\n",
    "    if re.search(r'\\d{2}-\\d{2}', i):\n",
    "        lista_fechas.append(i)"
   ]
  },
  {
   "cell_type": "code",
   "execution_count": 57,
   "metadata": {},
   "outputs": [
    {
     "data": {
      "text/plain": [
       "['03-31 ENDING BALANCE PREVIOUS STATEMENT ..................................................................',\n",
       " '04-14',\n",
       " '04-15',\n",
       " '04-17',\n",
       " '04-30']"
      ]
     },
     "execution_count": 57,
     "metadata": {},
     "output_type": "execute_result"
    }
   ],
   "source": [
    "lista_fechas"
   ]
  },
  {
   "cell_type": "code",
   "execution_count": 58,
   "metadata": {},
   "outputs": [],
   "source": [
    "lista_fechas_2=[]\n",
    "for i in lista_fechas:\n",
    "    j=re.findall(r'\\d{2}-\\d{2}', i)\n",
    "    lista_fechas_2.append(j)"
   ]
  },
  {
   "cell_type": "code",
   "execution_count": 59,
   "metadata": {},
   "outputs": [
    {
     "data": {
      "text/plain": [
       "[['03-31'], ['04-14'], ['04-15'], ['04-17'], ['04-30']]"
      ]
     },
     "execution_count": 59,
     "metadata": {},
     "output_type": "execute_result"
    }
   ],
   "source": [
    "lista_fechas_2"
   ]
  },
  {
   "cell_type": "code",
   "execution_count": 60,
   "metadata": {},
   "outputs": [],
   "source": [
    "fechas=[]\n",
    "for sublist in lista_fechas_2:\n",
    "    for item in sublist:\n",
    "        if item.startswith('00')==False:\n",
    "            fechas.append(item)"
   ]
  },
  {
   "cell_type": "code",
   "execution_count": 61,
   "metadata": {},
   "outputs": [
    {
     "data": {
      "text/plain": [
       "['03-31', '04-14', '04-15', '04-17', '04-30']"
      ]
     },
     "execution_count": 61,
     "metadata": {},
     "output_type": "execute_result"
    }
   ],
   "source": [
    "fechas"
   ]
  },
  {
   "cell_type": "code",
   "execution_count": 62,
   "metadata": {},
   "outputs": [],
   "source": [
    "#transaction description\n",
    "lista_descripcion=[]\n",
    "for i in tabla:\n",
    "    if re.search(r'WIRE|ENDING|SERVICE CHARGE',i):\n",
    "        lista_descripcion.append(i)"
   ]
  },
  {
   "cell_type": "code",
   "execution_count": 63,
   "metadata": {},
   "outputs": [
    {
     "data": {
      "text/plain": [
       "['03-31 ENDING BALANCE PREVIOUS STATEMENT ..................................................................',\n",
       " 'WIRE TRANSFER CREDIT REF # 000000000009999',\n",
       " 'O/B:XXXXXXXX WIRE TRANSFER CREDIT REF # 000000000009999',\n",
       " 'WIRE TRANSFER CREDIT REF # 000000000203008 ........................................................ O/XXXXXXXX',\n",
       " 'WIRE TRANSFER-OUT BEN:XXXXX',\n",
       " 'WIRE TRANSFER-OUT',\n",
       " 'WIRE TRANSFER FEE',\n",
       " 'SERVICE CHARGE MONTHLY MAINT FEE']"
      ]
     },
     "execution_count": 63,
     "metadata": {},
     "output_type": "execute_result"
    }
   ],
   "source": [
    "lista_descripcion"
   ]
  },
  {
   "cell_type": "code",
   "execution_count": 69,
   "metadata": {},
   "outputs": [],
   "source": [
    "#depositos/créditos tablas\n",
    "\n",
    "cheques_depositos=[]\n",
    "for i in tabla:\n",
    "    if re.search(r'\\.\\d{2}$',i):\n",
    "        cheques_depositos.append(i)"
   ]
  },
  {
   "cell_type": "code",
   "execution_count": 73,
   "metadata": {},
   "outputs": [],
   "source": [
    "cheques_depositos_2=[]\n",
    "for i in cheques_depositos:\n",
    "    j=i.split(' ')\n",
    "    cheques_depositos_2.append(j)"
   ]
  },
  {
   "cell_type": "code",
   "execution_count": 76,
   "metadata": {},
   "outputs": [],
   "source": [
    "#aplano\n",
    "cheques_depositos_3=[]\n",
    "for sublist in cheques_depositos_2:\n",
    "    for item in sublist:\n",
    "            cheques_depositos_3.append(item)"
   ]
  },
  {
   "cell_type": "code",
   "execution_count": 77,
   "metadata": {},
   "outputs": [
    {
     "data": {
      "text/plain": [
       "['2,809.65',\n",
       " '1,700.00',\n",
       " '1,200.00',\n",
       " '52,000.00',\n",
       " '8,286.00',\n",
       " '6,431.00',\n",
       " '30.00',\n",
       " '15.00']"
      ]
     },
     "execution_count": 77,
     "metadata": {},
     "output_type": "execute_result"
    }
   ],
   "source": [
    "cheques_depositos_3"
   ]
  },
  {
   "cell_type": "code",
   "execution_count": 79,
   "metadata": {},
   "outputs": [
    {
     "name": "stdout",
     "output_type": "stream",
     "text": [
      "WIRE TRANSFER CREDIT REF # 000000000009999\n",
      "O/B:XXXXXXXX WIRE TRANSFER CREDIT REF # 000000000009999\n",
      "WIRE TRANSFER CREDIT REF # 000000000203008 ........................................................ O/XXXXXXXX\n"
     ]
    }
   ],
   "source": [
    "#arrego Fechla\n",
    "contador=0\n",
    "fecha_2=[]\n",
    "for i in lista_descripcion:\n",
    "    if re.search('WIRE TRANSFER CREDIT',i):\n",
    "        print(i)"
   ]
  },
  {
   "cell_type": "code",
   "execution_count": 85,
   "metadata": {},
   "outputs": [],
   "source": [
    "#no se como arreglar fechas de forma automatica\n",
    "fechas.insert(2,'0-14')\n",
    "fechas.insert(2,'0-14')"
   ]
  },
  {
   "cell_type": "code",
   "execution_count": 88,
   "metadata": {},
   "outputs": [],
   "source": [
    "fechas.insert(6,'04-17')"
   ]
  },
  {
   "cell_type": "code",
   "execution_count": 89,
   "metadata": {},
   "outputs": [],
   "source": [
    "estado=pd.DataFrame(list(zip(fechas,lista_descripcion,cheques_depositos_3)), columns=['fecha','descripción', 'cheques,depósito'])"
   ]
  },
  {
   "cell_type": "code",
   "execution_count": 90,
   "metadata": {},
   "outputs": [
    {
     "data": {
      "text/html": [
       "<div>\n",
       "<style scoped>\n",
       "    .dataframe tbody tr th:only-of-type {\n",
       "        vertical-align: middle;\n",
       "    }\n",
       "\n",
       "    .dataframe tbody tr th {\n",
       "        vertical-align: top;\n",
       "    }\n",
       "\n",
       "    .dataframe thead th {\n",
       "        text-align: right;\n",
       "    }\n",
       "</style>\n",
       "<table border=\"1\" class=\"dataframe\">\n",
       "  <thead>\n",
       "    <tr style=\"text-align: right;\">\n",
       "      <th></th>\n",
       "      <th>fecha</th>\n",
       "      <th>descripción</th>\n",
       "      <th>cheques,depósito</th>\n",
       "    </tr>\n",
       "  </thead>\n",
       "  <tbody>\n",
       "    <tr>\n",
       "      <th>0</th>\n",
       "      <td>03-31</td>\n",
       "      <td>03-31 ENDING BALANCE PREVIOUS STATEMENT .........</td>\n",
       "      <td>2,809.65</td>\n",
       "    </tr>\n",
       "    <tr>\n",
       "      <th>1</th>\n",
       "      <td>04-14</td>\n",
       "      <td>WIRE TRANSFER CREDIT REF # 000000000009999</td>\n",
       "      <td>1,700.00</td>\n",
       "    </tr>\n",
       "    <tr>\n",
       "      <th>2</th>\n",
       "      <td>0-14</td>\n",
       "      <td>O/B:XXXXXXXX WIRE TRANSFER CREDIT REF # 000000...</td>\n",
       "      <td>1,200.00</td>\n",
       "    </tr>\n",
       "    <tr>\n",
       "      <th>3</th>\n",
       "      <td>0-14</td>\n",
       "      <td>WIRE TRANSFER CREDIT REF # 000000000203008 ......</td>\n",
       "      <td>52,000.00</td>\n",
       "    </tr>\n",
       "    <tr>\n",
       "      <th>4</th>\n",
       "      <td>04-15</td>\n",
       "      <td>WIRE TRANSFER-OUT BEN:XXXXX</td>\n",
       "      <td>8,286.00</td>\n",
       "    </tr>\n",
       "    <tr>\n",
       "      <th>5</th>\n",
       "      <td>04-17</td>\n",
       "      <td>WIRE TRANSFER-OUT</td>\n",
       "      <td>6,431.00</td>\n",
       "    </tr>\n",
       "    <tr>\n",
       "      <th>6</th>\n",
       "      <td>04-17</td>\n",
       "      <td>WIRE TRANSFER FEE</td>\n",
       "      <td>30.00</td>\n",
       "    </tr>\n",
       "    <tr>\n",
       "      <th>7</th>\n",
       "      <td>04-30</td>\n",
       "      <td>SERVICE CHARGE MONTHLY MAINT FEE</td>\n",
       "      <td>15.00</td>\n",
       "    </tr>\n",
       "  </tbody>\n",
       "</table>\n",
       "</div>"
      ],
      "text/plain": [
       "   fecha                                        descripción cheques,depósito\n",
       "0  03-31  03-31 ENDING BALANCE PREVIOUS STATEMENT .........         2,809.65\n",
       "1  04-14         WIRE TRANSFER CREDIT REF # 000000000009999         1,700.00\n",
       "2   0-14  O/B:XXXXXXXX WIRE TRANSFER CREDIT REF # 000000...         1,200.00\n",
       "3   0-14  WIRE TRANSFER CREDIT REF # 000000000203008 ......        52,000.00\n",
       "4  04-15                        WIRE TRANSFER-OUT BEN:XXXXX         8,286.00\n",
       "5  04-17                                  WIRE TRANSFER-OUT         6,431.00\n",
       "6  04-17                                  WIRE TRANSFER FEE            30.00\n",
       "7  04-30                   SERVICE CHARGE MONTHLY MAINT FEE            15.00"
      ]
     },
     "execution_count": 90,
     "metadata": {},
     "output_type": "execute_result"
    }
   ],
   "source": [
    "#estado se puede exportar\n",
    "estado"
   ]
  },
  {
   "cell_type": "code",
   "execution_count": null,
   "metadata": {},
   "outputs": [],
   "source": []
  }
 ],
 "metadata": {
  "kernelspec": {
   "display_name": "Python 3",
   "language": "python",
   "name": "python3"
  },
  "language_info": {
   "codemirror_mode": {
    "name": "ipython",
    "version": 3
   },
   "file_extension": ".py",
   "mimetype": "text/x-python",
   "name": "python",
   "nbconvert_exporter": "python",
   "pygments_lexer": "ipython3",
   "version": "3.7.2"
  }
 },
 "nbformat": 4,
 "nbformat_minor": 2
}
