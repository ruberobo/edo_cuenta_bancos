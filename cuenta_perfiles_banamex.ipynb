{
 "cells": [
  {
   "cell_type": "code",
   "execution_count": 1,
   "metadata": {},
   "outputs": [],
   "source": [
    "#pip install git+https://github.com/deanmalmgren/textract.git"
   ]
  },
  {
   "cell_type": "code",
   "execution_count": 2,
   "metadata": {},
   "outputs": [],
   "source": [
    "import textract"
   ]
  },
  {
   "cell_type": "code",
   "execution_count": 3,
   "metadata": {},
   "outputs": [],
   "source": [
    "import pandas as pd\n",
    "import numpy as np\n",
    "import re"
   ]
  },
  {
   "cell_type": "code",
   "execution_count": 4,
   "metadata": {},
   "outputs": [],
   "source": [
    "#extraigo texto\n",
    "archivo= 'tresalia\\Edo Cta\\cuenta_perfiles_banamex.pdf'"
   ]
  },
  {
   "cell_type": "code",
   "execution_count": 5,
   "metadata": {},
   "outputs": [],
   "source": [
    "text = textract.process('tresalia\\Edo Cta\\cuenta_perfiles_banamex.pdf')"
   ]
  },
  {
   "cell_type": "code",
   "execution_count": 6,
   "metadata": {},
   "outputs": [],
   "source": [
    "#cambio formato\n",
    "encoding = 'utf-8'\n",
    "text_str=text.decode(encoding)"
   ]
  },
  {
   "cell_type": "code",
   "execution_count": 7,
   "metadata": {},
   "outputs": [],
   "source": [
    "#separo\n",
    "pdf=re.split(r\"[~\\r\\n]+\", text_str)"
   ]
  },
  {
   "cell_type": "code",
   "execution_count": 8,
   "metadata": {},
   "outputs": [
    {
     "data": {
      "text/html": [
       "<div>\n",
       "<style scoped>\n",
       "    .dataframe tbody tr th:only-of-type {\n",
       "        vertical-align: middle;\n",
       "    }\n",
       "\n",
       "    .dataframe tbody tr th {\n",
       "        vertical-align: top;\n",
       "    }\n",
       "\n",
       "    .dataframe thead th {\n",
       "        text-align: right;\n",
       "    }\n",
       "</style>\n",
       "<table border=\"1\" class=\"dataframe\">\n",
       "  <thead>\n",
       "    <tr style=\"text-align: right;\">\n",
       "      <th></th>\n",
       "      <th>informacion</th>\n",
       "    </tr>\n",
       "  </thead>\n",
       "  <tbody>\n",
       "    <tr>\n",
       "      <th>0</th>\n",
       "      <td>cffibanamex@</td>\n",
       "    </tr>\n",
       "    <tr>\n",
       "      <th>1</th>\n",
       "      <td>El Banco Nacional de México</td>\n",
       "    </tr>\n",
       "    <tr>\n",
       "      <th>2</th>\n",
       "      <td>Página 1 de 11</td>\n",
       "    </tr>\n",
       "    <tr>\n",
       "      <th>3</th>\n",
       "      <td>g NOMBRE APELLIDO P  APELLIDO M</td>\n",
       "    </tr>\n",
       "    <tr>\n",
       "      <th>4</th>\n",
       "      <td>..,. DIRECCIÓN \"' COLONIA</td>\n",
       "    </tr>\n",
       "  </tbody>\n",
       "</table>\n",
       "</div>"
      ],
      "text/plain": [
       "                       informacion\n",
       "0                     cffibanamex@\n",
       "1      El Banco Nacional de México\n",
       "2                   Página 1 de 11\n",
       "3  g NOMBRE APELLIDO P  APELLIDO M\n",
       "4        ..,. DIRECCIÓN \"' COLONIA"
      ]
     },
     "execution_count": 8,
     "metadata": {},
     "output_type": "execute_result"
    }
   ],
   "source": [
    "information_pdf=pd.DataFrame(pdf).rename(columns={0:\"informacion\"})\n",
    "information_pdf.head()"
   ]
  },
  {
   "cell_type": "code",
   "execution_count": 9,
   "metadata": {},
   "outputs": [],
   "source": [
    "#extraigo nombre de cliente\n",
    "cliente_nombre_list=[]\n",
    "for index,row in information_pdf.iterrows():\n",
    "    if row[\"informacion\"].startswith(\"g\"):\n",
    "        cliente_nombre=row[0]\n",
    "        cliente_nombre_list.append(cliente_nombre)\n",
    "    "
   ]
  },
  {
   "cell_type": "code",
   "execution_count": 10,
   "metadata": {},
   "outputs": [
    {
     "data": {
      "text/plain": [
       "['g NOMBRE APELLIDO P  APELLIDO M']"
      ]
     },
     "execution_count": 10,
     "metadata": {},
     "output_type": "execute_result"
    }
   ],
   "source": [
    "cliente_nombre_list"
   ]
  },
  {
   "cell_type": "code",
   "execution_count": 11,
   "metadata": {},
   "outputs": [],
   "source": [
    "nombre=(cliente_nombre_list[0].replace('g','')).strip()"
   ]
  },
  {
   "cell_type": "code",
   "execution_count": 12,
   "metadata": {},
   "outputs": [
    {
     "data": {
      "text/plain": [
       "'NOMBRE APELLIDO P  APELLIDO M'"
      ]
     },
     "execution_count": 12,
     "metadata": {},
     "output_type": "execute_result"
    }
   ],
   "source": [
    "nombre"
   ]
  },
  {
   "cell_type": "code",
   "execution_count": 13,
   "metadata": {},
   "outputs": [],
   "source": [
    "#obtengo periodo"
   ]
  },
  {
   "cell_type": "code",
   "execution_count": 14,
   "metadata": {},
   "outputs": [],
   "source": [
    "periodo_list=[]\n",
    "for index,row in information_pdf.iterrows():\n",
    "    if row[\"informacion\"].startswith(\"Período\") or row[\"informacion\"].startswith(\"período\") or row[\"informacion\"].startswith(\"Periodo\") or row[\"informacion\"].startswith(\"periodo\"):\n",
    "        periodo=row[0]\n",
    "        periodo_list.append(periodo)"
   ]
  },
  {
   "cell_type": "code",
   "execution_count": 15,
   "metadata": {},
   "outputs": [
    {
     "data": {
      "text/plain": [
       "'Período del 5 de septiembre al 4 de octubre del 2020'"
      ]
     },
     "execution_count": 15,
     "metadata": {},
     "output_type": "execute_result"
    }
   ],
   "source": [
    "periodo"
   ]
  },
  {
   "cell_type": "code",
   "execution_count": 16,
   "metadata": {},
   "outputs": [
    {
     "name": "stdout",
     "output_type": "stream",
     "text": [
      "['Período del 5 de septiembre al 4 de octubre del 2020']\n"
     ]
    }
   ],
   "source": [
    "periodo=[]\n",
    "for i in pdf:\n",
    "    if i.startswith(\"Período\") or i.startswith(\"período\") or i.startswith(\"Periodo\") or i.startswith(\"periodo\"):\n",
    "        periodo.append(i)\n",
    "        \n",
    "print(periodo)"
   ]
  },
  {
   "cell_type": "code",
   "execution_count": 17,
   "metadata": {
    "scrolled": true
   },
   "outputs": [
    {
     "name": "stdout",
     "output_type": "stream",
     "text": [
      "['Número de contrato Número de sucursal Número de cuenta de cheques Número de Tarjeta de Débito CLABE lnterbancaria Número de cliente RFC', '9999999999 9999 99999999999 9999999999999999 999999999999999999 99999999 XXXX999999X99', 'Número de contrato', '9999999999', 'Tambien puedes realizar dep6sitos en cajeros automaticos y sucursales Cltibanamex. En caso de no estar de acuerdo con las modificaciones senaladas, podras solicitar la terminaci6n del Contrato dentro de los 30 dfas posteriore a Que surta electo la presente notificaci6n, por lo que durante ese pedodo nose aplicara el cobra de las comisiones mencionadas previamente. Se entendera que aceptas las modificaciones efectuadas a las comisiones, si no solicitas la terminaci6n del contrato dentro del plazo seiialado. Tu derecho a dar por terminado el Contrato en cualquier otro momenta seguira siendo vigente.', 'Atentamente.', 'Tu contrato de Banca lectr6nica tiene na nueva actualizaci6n', 'Te inlormarnos que tu contrato de prestacion de servicios de banca electronica para personas fislcas tuvo recientes modificaciones que entraran en vigor en 30 dias a partir de la presente notificaci6n.', 'Te inlormarnos que tu contrato de prestacion de servicios de banca electronica para personas fislcas tuvo recientes modificaciones que entraran en vigor en 30 dias a partir de la presente notificaci6n.', 'Pag. 1 Nueva secci6n DECLARACIONES tanto del Cllente coma de Citibanamex, en la cual ambas partes declaran su capacidad jurfdlca para llevar a cabo et contrato de serviclo.', 'Pag. 1 Nueva secci6n DECLARACIONES tanto del Cllente coma de Citibanamex, en la cual ambas partes declaran su capacidad jurfdlca para llevar a cabo et contrato de serviclo.', 'Pag. 5 Se rntegra la secci6n INSTRUCCIONES, RESPONSABILIDADES Y LIMITES entre Cltibanamex y el Cllente, en donde se acepta el uso responsable del serv1cio.', 'Consulta las actualizaciones del Contrato de Banca Electr6n1ca en www.cillbanamex.com/contrato·bancaelectronica y en caso de no estar de acuerdo con las modiricaciones senaladas, podras solicitar la terminaci6n del mismo dentro de las 30 dias posteriores de haber recib1do esta notificaci6n. Se entendera que aceptas las mod1ficaciones si no solicitas la terminac16n del contrato dentro del plaza senalado. Tu derecho a dar par termrnado el Contrato seguira siendo vigente.', 'Atentamente,']\n"
     ]
    }
   ],
   "source": [
    "informacion=[]\n",
    "for i in range(len(pdf)):\n",
    "    if re.search('contrato',pdf[i]):\n",
    "        informacion.append(pdf[i])\n",
    "        informacion.append(pdf[i+1])\n",
    "\n",
    "print(informacion)"
   ]
  },
  {
   "cell_type": "code",
   "execution_count": 18,
   "metadata": {},
   "outputs": [],
   "source": [
    "nombre=informacion[0].split('Número')\n",
    "nombre.pop(0)\n",
    "nombre[3]='Tarjeta de Débito'\n",
    "nombre[4]='CLABE'\n",
    "nombre.append('# cliente')\n",
    "nombre.append('RFC')\n"
   ]
  },
  {
   "cell_type": "code",
   "execution_count": 19,
   "metadata": {},
   "outputs": [
    {
     "data": {
      "text/plain": [
       "[' de contrato ',\n",
       " ' de sucursal ',\n",
       " ' de cuenta de cheques ',\n",
       " 'Tarjeta de Débito',\n",
       " 'CLABE',\n",
       " '# cliente',\n",
       " 'RFC']"
      ]
     },
     "execution_count": 19,
     "metadata": {},
     "output_type": "execute_result"
    }
   ],
   "source": [
    "nombre"
   ]
  },
  {
   "cell_type": "code",
   "execution_count": 20,
   "metadata": {},
   "outputs": [],
   "source": [
    "valores=informacion[1].split(' ')"
   ]
  },
  {
   "cell_type": "code",
   "execution_count": 21,
   "metadata": {},
   "outputs": [],
   "source": [
    "val_dict= dict(zip(nombre,valores))"
   ]
  },
  {
   "cell_type": "code",
   "execution_count": 22,
   "metadata": {},
   "outputs": [
    {
     "data": {
      "text/plain": [
       "{' de contrato ': '9999999999',\n",
       " ' de sucursal ': '9999',\n",
       " ' de cuenta de cheques ': '99999999999',\n",
       " 'Tarjeta de Débito': '9999999999999999',\n",
       " 'CLABE': '999999999999999999',\n",
       " '# cliente': '99999999',\n",
       " 'RFC': 'XXXX999999X99'}"
      ]
     },
     "execution_count": 22,
     "metadata": {},
     "output_type": "execute_result"
    }
   ],
   "source": [
    "val_dict"
   ]
  },
  {
   "cell_type": "code",
   "execution_count": 23,
   "metadata": {},
   "outputs": [
    {
     "data": {
      "text/plain": [
       "['cffibanamex@',\n",
       " 'El Banco Nacional de México',\n",
       " 'Página 1 de 11',\n",
       " 'g NOMBRE APELLIDO P  APELLIDO M',\n",
       " '..,. DIRECCIÓN \"\\' COLONIA',\n",
       " 'IN',\n",
       " '00000 DELEGACIÓN, CIUDAD DE MEXICO C.R.11801',\n",
       " 'Estado de Cuenta',\n",
       " 'Cuenta Perfiles',\n",
       " 'Período del 5 de septiembre al 4 de octubre del 2020',\n",
       " 'Fecha de Corte',\n",
       " '02 de octubre de 2020',\n",
       " 'Número de contrato Número de sucursal Número de cuenta de cheques Número de Tarjeta de Débito CLABE lnterbancaria Número de cliente RFC',\n",
       " '9999999999 9999 99999999999 9999999999999999 999999999999999999 99999999 XXXX999999X99',\n",
       " 'GAT Nominal y Real antes de impuestos Interés aplicable o Rendimientos Comisiones efectivamente cobradas',\n",
       " 'Comportamiento',\n",
       " 'No Aplica $0.00',\n",
       " '$105.00',\n",
       " 'Resumen En Pesos Moneda Nacional',\n",
       " 'Saldo anterior Depósitos Retiros en efectivo Otros cargos Saldo al corte Saldo promedio mensuaf',\n",
       " '1,291.41 0.00 0.00',\n",
       " '5,538.45 5,647.96 2,065.77',\n",
       " 'Saldo anterior',\n",
       " 'o',\n",
       " 'Depósitos',\n",
       " 'Retiros en efectivo',\n",
       " '$0',\n",
       " 'Comisiones $105',\n",
       " 'Otros Cargos',\n",
       " '$5,538',\n",
       " 'Saldo al corte',\n",
       " 'Saldo',\n",
       " 'Promedio Mensual',\n",
       " 'Las cifras ilustradas en la gráfica son sin decimales y sin redondear',\n",
       " 'Conoce como evitar pagar com1s1ón',\n",
       " 'PLAN DE RENTA',\n",
       " 'PLAN DE SALDO',\n",
       " 'PORTABILIDAD DE NÓMINA',\n",
       " 'Mantén un safdo promedio mensual de $2,000 y realiza 6 compras· o más',\n",
       " 'antes de tu fecha de corte en comercios y exenta el pago de esta comisión.',\n",
       " 'Mantén un saldo promedio mensual** de $4,000 y exenta el pago de camisón',\n",
       " 'Trae tu nómina y evita ef pago de comisión por manejode cuenta',\n",
       " 'º Saldo solo en tu cuenta º Saldo solo en tu Ahorro fácil º Saldo en tu cuenta+ en tu Ahorro fácil',\n",
       " 'º Saldo solo en cuenta 0 Saldo solo en Ahorro fácil',\n",
       " '0 Saldo en cuenta+ Ahorro fácil',\n",
       " '$55.00 más IVA',\n",
       " '$165.00 más IVA',\n",
       " '$0.00',\n",
       " '* No aplican compras en linea ni domiciliaciones.',\n",
       " '** Para calcular el saldo promedio mensual de la cue&ÍJl\\\\la el saldo de cada día del mes comprendiendo entre tus fechas de corte y divide el resultado entre el total',\n",
       " 'de días del mes.',\n",
       " 'Puedes cambiar el plan de comisiones que elegiste,',\n",
       " 'solicítalo en sucursal o en el Centro de Atencion Telefónica',\n",
       " 'Por tu seguridad',\n",
       " '¿Recibiste un correo electrónico que te pide dar clic a un enlace para dirigirte a tu servicio de banca?',\n",
       " '¡Cuidado! Puede ser fraude a través de Phishing. Teclea directamente en el navegador www cl!Jbanamex.com',\n",
       " 'rn',\n",
       " 'Nunca compartas datos confidenciales como son:',\n",
       " 'Contraseñas Número de seguridad de tu Tarjeta Número de cliente Claves de Nelkey',\n",
       " '#PreviniendoFraudes',\n",
       " 'Mm IO: PCt1IOOl3H(',\n",
       " '0006475',\n",
       " '000190.B25INDA0I0.OD.1002.0l',\n",
       " '\\x0ccffibanamex@',\n",
       " 'Centro de Atención Telefónica',\n",
       " 'Ciudad de México 9-999 9999 (1-Banamex) Otra ciudad sin costo 09 999 999 9999',\n",
       " 'Cuenta Perfiles',\n",
       " 'Resumen',\n",
       " 'del 5 de septiembre al 4 de octubre del 2020',\n",
       " 'Número de contrato',\n",
       " '9999999999',\n",
       " 'Saldo anterior En pesos M.N. ____ 1,291.41',\n",
       " '(+) O Depósitos',\n",
       " '0.00',\n",
       " '(-) 22 Retiros/Otros cargos',\n",
       " '5,643.45',\n",
       " '(+)',\n",
       " 'Intereses menos Impuesto Sobre la Renta',\n",
       " '0.00',\n",
       " 'Saldo al Corte',\n",
       " '5,647.96',\n",
       " 'Saldo promedio mensual',\n",
       " 'En el período 2,065.77',\n",
       " 'Días del periodo',\n",
       " '30',\n",
       " 'Tasa de interés Bruta*',\n",
       " '0.00%',\n",
       " 'Intereses',\n",
       " '0.00',\n",
       " 'Impuesto Sobre la Renta retenido',\n",
       " '0.00',\n",
       " 'Intereses menos Impuesto Sobre la Renta 0.00',\n",
       " 'En el ano 0.00',\n",
       " '* Expresada en términos anuales.',\n",
       " 'Detalle de Operaciones En pesos Moneda Nacional',\n",
       " 'FECHA 05 SEP 07 SEP 08 SEP',\n",
       " '10 SEP 10 SEP 10 SEP 18 SEP 18 SEP',\n",
       " '18 SEP',\n",
       " 'CONCEPTO',\n",
       " 'SALDO ANTERIOR COBRO DE CHEQUE NUMERO 000 SUC 0000 CAJA 0000 AUT 00000000 HORA 15:41 EXENCION COBRO COMISION MANEJO DE CUENTA PERIODO AGO05 AL SEP04 IMPORTE A EX ENTAR $165.00 CAJA 0000 AUT 00000000 HORA 03:09 SUC 0000 COBRO DE CHEQUE NUMERO 000',\n",
       " 'suc 0000',\n",
       " 'CAJA 0000 AUT 00000000 HORA 14:30 COBRO DE CHEQUE NUMERO 174',\n",
       " 'suc 0000',\n",
       " 'CAJA 0000 AUT 00000000 HORA 14:49 COBRO DE CHEQUE NUMERO 000',\n",
       " 'suc 0000',\n",
       " 'CAJA 0000 AUT 00000000 HORA 14:50 GNC PLAZA LILAS MAX0611157H8 9999 999999999999999999999999 99999999 CAJA 0093 AUT 99999999 99999999 HORA 06:48 SUC 9999 XXXX XXXX & XXX XX 000000000 0000',\n",
       " 'suc 0342',\n",
       " 'CAJA 0000 AUT 00000000 HORA 06:48 00000000 00000000000000000000000',\n",
       " '00000000 suc 0000',\n",
       " 'CAJA 0000 AUT 00000000 HORA 06:48 LILAS 000000000',\n",
       " '0006475',\n",
       " 'Envía y recibe dinero al instante',\n",
       " 'sin dar de alta una cuenta, hazlo desde CoDi(!) en',\n",
       " 'Citibanamex Móvil Maneja tu dinero desde la App.',\n",
       " 'RETIROS',\n",
       " 'DEPÓSITOS',\n",
       " '2,000.00',\n",
       " '950.00 1 686.00 1,326.00 2,029.70',\n",
       " '350.00',\n",
       " '000190.B25INDA0I0.OD.1002.01',\n",
       " 'Página 2 de 11',\n",
       " 'SALDO 1 291.41 9,291.41 9,291.41 8,341.41 6 655.41 5,329.41 3,299.71 2 949.71',\n",
       " '\\x0ccffibanamex@',\n",
       " 'NOMBRE APELLIDO P APELLIDO M',\n",
       " 'Detalle de Operaciones En pesos Moneda Nacional',\n",
       " 'FECHA 21 SEP 21 SEP 21 SEP 22 SEP',\n",
       " '24 SEP 24 SEP 24 SEP 25 SEP 25 SEP',\n",
       " '25 SEP',\n",
       " '28 SEP',\n",
       " 'CONCEPTO',\n",
       " '5411 75412910263975987909057 20200921 CAJA 0093 AUT 02985979 20200921 HORA 06:48 SUC 0342 REPOSTERIA XXXX999999XX9 5441 20200923 75326900265000784368680',\n",
       " '20200923 suc 0342',\n",
       " 'CAJA 0093 AUT 01011285 HORA 05:30 CITY MARKET 5411 75435290266536760465142 20200923 CAJA 0093 AUT 01011287 20200923 HORA 05:30 SUC 0342 FLORES 5992 20200923',\n",
       " '75412780265000108700221 20200923 suc',\n",
       " '0342 CAJA 0093 AUT 01011289 HORA 05:30 TERMINAL 131210UU7 5811',\n",
       " 'suc 0342',\n",
       " 'CAJA 0093 AUT 00881422 HORA 05:30 20200924 75445500266001282364505',\n",
       " '20200924 suc 0342',\n",
       " 'CAJA 0093 AUT 00881422 HORA 05:30 CITY MARKET 5411 75435290269536760467046 20200928 CAJA 0093 AUT 00906083 20200928 HORA 05:40 SUC 0342 COBRO DE CHEQUE NUMERO 999 SUC 4409 CAJA 0003 AUT 00451934 HORA 12:19 COBRO DE CHEQUE NUMERO 999 SUC 4409 CAJA 0003 AUT 00451948 HORA 12:32 COBRO DE CHEQUE NUMERO 999 SUC 4409 CAJA 0001 AUT 00017534 HORA 11:29 UBER *EATS HELP.UBER.COM 5812 20200928 15276320270002487493963',\n",
       " '20200928 suc 0342',\n",
       " 'CAJA 0093 AUT 02611056 HORA 05:44 1,459.70 Mexican Peso 20200928 CAJA 0093 AUT 02611056 20200928 HORA 05:44 SUC 0342 UBER *EATS HELP.UBER.COM 5812 20200928 15276320270002530791413 493.18',\n",
       " '20200928 suc 0342',\n",
       " 'CAJA 0093 AUT 02611057 HORA 05:44 Mexican Peso 20200928 CAJA 0093 AUT 02611057 20200928 HORA 05:44 SUC 0342 UBER *EATS HELP.UBER.COM 5812 20200929 15276320272002337138493 351.24',\n",
       " '0006475',\n",
       " 'SUC. 9656 ARCOS BOSQUES, CDMX AVE. PASEO DE LOS TAMARINDOS 400B BOSQUES DE LAS LOMAS',\n",
       " 'RETIROS',\n",
       " 'DEPÓSITOS',\n",
       " '234.00',\n",
       " '1 360.00 1,496.20 1 000.00',\n",
       " '2,186.73',\n",
       " '360.00 8 000.00 4,000.00 15 146.00',\n",
       " '1,459.70',\n",
       " '493.18',\n",
       " '000190.B25INDA0I0.OD.1002.01',\n",
       " 'Página 3 de 11',\n",
       " 'SALDO 2,715.71 1 355.71 9,859.51 8,859.51',\n",
       " '6,672.78 6,312.78 8 312.78 4,312.78 9 166.78',\n",
       " '7,707.08',\n",
       " '7 213.90',\n",
       " '\\x0ccffibanamex@',\n",
       " 'Detalle de Operaciones En pesos Moneda Nacional',\n",
       " 'FECHA 30 SEP 30 SEP',\n",
       " '02 OCT 02 OCT',\n",
       " 'CONCEPTO',\n",
       " '20200929 suc 0342',\n",
       " 'CAJA 0093 AUT 01012606 HORA 05:39 Mexican Peso 20200929 CAJA 0093 AUT 01012606 20200929 HORA 05:39 SUC 0342 PROSECCO 20201002 75445500274001277147220',\n",
       " '20201002 suc 0342',\n",
       " 'CAJA 0093 AUT 00684097 HORA 05:25 XXXXXXXXXXXX 1311076Y5 7298',\n",
       " 'suc 0342',\n",
       " 'CAJA 0093 AUT 00684100 HORA 05:25 20201002 75412910275910272446024',\n",
       " '20201002 suc 0342',\n",
       " 'CAJA 0093 AUT 00684100 HORA 05:25 COMISIONOP R 7 CHEQUES GIRADOS CAJA 0000 AUT 01906646 HORA 23:59 SUC 9656 IVA COMISION CHEQUE GIRADO CAJA 0000 AUT 01906646 HORA 23:59 SUC 9656',\n",
       " 'Centro de Atención Telefónica',\n",
       " 'Ciudad de México 9-999 9999 (1Banamex) Otra ciudad sin costo 99 999 999 9999',\n",
       " 'RETIROS',\n",
       " 'DEPÓSITOS',\n",
       " '351.24 742.90',\n",
       " '350.00 105.00',\n",
       " 'lNecesitas enviar el comprobante de una transferencia?',\n",
       " 'Compártelo después de hacer tu operación desde Citibanamex Móvil',\n",
       " '· Maneja tu dinero desde la APP.',\n",
       " '(ar¡¡¡ft rISl!os lle ooolooci C01111ll0fl!S y cOfllióa lle ISO d! proikrctDI y lmllOS !11 .e',\n",
       " 'Página 4 de 11',\n",
       " 'SALDO 6 862.66',\n",
       " '6,119.76',\n",
       " '5 769.76 5 664.76',\n",
       " '0006475',\n",
       " '000190.B25INDA0I0.OD.1002.01',\n",
       " '\\x0ccffibanamex@',\n",
       " 'NOMBRE APELLIDO P APELLIDO M',\n",
       " 'Resumen Operaciones Tarjeta TARJETA 9999999999999999',\n",
       " 'SUC. 9656 ARCOS BOSQUES, CDMX AVE. PASEO DE LOS TAMARINDOS 400B BOSQUES DE LAS LOMAS',\n",
       " 'CONCEPTO',\n",
       " 'RESTAURANTES ENTRETENIMIENTO SALUD SUPERMERCADOS VARIOS',\n",
       " 'TOTAL DE CONSUMOS TOTAL GENERAL',\n",
       " 'Resumen Operaciones Chequera CHEQUERA 9999 000000000000',\n",
       " 'CHEQUES GIRADOS',\n",
       " '7',\n",
       " 'CONSUMOS',\n",
       " '3 4 10 10',\n",
       " 'TOTAL',\n",
       " '3,108.00',\n",
       " 'Comisiones Cobradas COMISIONES COBRADAS EN EL PERIODO: 105.00',\n",
       " 'Página 5 de 11',\n",
       " 'IMPORTE 742.90 2,186.73',\n",
       " '2,729.70 3 450.20 1,000.00 10,109.53 10,109.53',\n",
       " '0006475',\n",
       " '000190.B25INDA0I0.OD.1002.01',\n",
       " '\\x0ccffibanamex@',\n",
       " 'SUC. 9656 ARCOS BOSQUES, CDMX AVE. PASEO DE LOS TAMARINDOS 400B BOSQUES DE LAS LOMAS',\n",
       " 'Página 6 de 11',\n",
       " 'Estamos para servirte las 24 horas, los 365 días del año: Reporte de robo o extravío de cheques, Tarjetas de Débito y atención de aclaraciones.',\n",
       " 'Importante',\n",
       " 'Si deseas realizar una aclaración sobre tu Estado de Cuenta, tienes 90 días naturales posteriores al corte del mismo. Para ello, por favor llama a la Unidad Especializada de Atención a Usuarios.',\n",
       " 'Incumplir tus obligaciones te puede generar comisiones e intereses moratorias.',\n",
       " 'Para consultar información sobre comisiones con fines informativos y de comparación, ingresa a www.condusef.gob.mx y www.citibanamex.com',\n",
       " 'Centro de Atención Telefónica',\n",
       " 'Ciudad de México: 9-999-9999 (1-BANAMEX)',\n",
       " 'Guadalajara y Monterrey 9999 999-9 (BANAMEX-1)',\n",
       " 'LADA Nacional sin costo 99 999-999 9999',\n",
       " 'EUA y Canadá 9 999 999 9999 (1 800 BANAMEX)',\n",
       " 'Banco Nacional de México, S.A., integrante del Grupo Financiero Banamex recibe las consultas, reclamaciones o aclaraciones, en su Unidad Especializada de Atención a Usuarios, ubicada en Av. Insurgentes Sur No. 926, Colonia Del Valle, Delegación Benito Juárez, C.P.03100Ciudad de México y por correo electrónico une@citibanamex.com o teléfono (55) 1226-4583, así como en cualquiera de sus sucursales u oficinas. En el caso de no obtener una respuesta satisfactoria, podrá acudir a la Comisión Nacional para la Protección y Defensa de los Usuarios de Servicios Financieros www.condusef.gob.mx, teléfonos: 01-800-999-8080 y 5340-0999.',\n",
       " 'RFC: BNM840515VB1 Isabel la Católica no. 44, Colonia Centro, Delegación Cuauhtémoc, 06000, Ciudad de México.',\n",
       " \"Producto garantizado por el IPAB hasta por 400,000 - Unidades de Inversión UDl's por persona y por banco\",\n",
       " 'www.gob.mx/ipab',\n",
       " 'Ley Federal de Protección de datos personales en posesión de los particulares. En Banamex tus datos están protegidos, consulta el aviso de privacidad correspondiente en www.citibanamex.com/avisodep ivacidad',\n",
       " '0006475',\n",
       " '000190.B25INDA0I0.OD.1002.01',\n",
       " '\\x0ccffibanamex@',\n",
       " 'NOMBRE APELLIDO P APELIDO M',\n",
       " 'sue. 9656 ARCOS BOSQUES, CDMX',\n",
       " 'AVE. PASEO DE LOS TAMARINDOS 400B BOSQUES DE LAS LOMAS',\n",
       " 'Pagina 7 de 11',\n",
       " 'CFDI DE INGRESO CADENA ORIGINAL DEL COMPLEMENTO DE CERTIFICACION DIGITAL DEL SAT',\n",
       " 'I',\n",
       " '])1.1)BFAOFA82-6F30-4F36-AC49-AOOD5665378D)2020-10-03T20:47:20)CEC961028A98)ZolWij8/dHGdrkjyxKe8ozD+sW1ZYKXBA 9Bfa03dVclycdn7z1wXE3AU4d9qx8/puqC7t0JFIC6v768svpAmGcVLEHKdvAAZzlC7IhOBouFLXTs4FC6m04BClvREiWn8BLgiLEHP oM4SJkP30mlXibLufCOL1XldmWu9WmHJ0g2A6uU5+ZH14kYr1+Mr++rmyH0chuPv1yYAMyybkltPQ2SWXF6HbcXDbn4A6A6H+UQy MCtMWdHsZewl/olfBaa/5pRFfC5MrydoVCaKfdABfazXBnSoJIrqCmC5Bibtjf+f/lxuO/KhnvTvbTut1by9S2gU16vcKvQA= =)00001000000407058485)LevP1K+C1h1WJoHSalu9SXelU5twNFF52zEFF878Mbc4ya4fPp8vvg8+D7tcbkcBgXqvkGB6Tu+ecu7X SN2NfiNXyFYCwfS4RBvYeEc0dSemYIA0E5zuQpnQwvuh33VReYlrDVkKxfW+Hg/5Kld0W5oihFvgpAl9+bS6OmKc0G0YfbvNRRSdv aeHRRzS2QM4sFYNAtNtGGKYrFRoMVsntSnydyWKZR9CQli8+0S6MWrg2cJFAwD+dglx0Gfebt38IabtT8wENwXGQ+Fk+iGWtH4QB 27bAqX9Q3b8r+QpXwSKWhEyxm4V9BobL4TJfOVcgR6B+cGvsv6KEhWCWMBeg==])',\n",
       " 'Versi6n Serie Folio Forma de Pacio No. de Serie de CSD del Emisor',\n",
       " 'Tioo de Cambia Moneda Tioo de Comorobante Metodo de Pacio Lugar de Expedici6n Fecha de Expedici6n Fecha v Hora de Emisi6n Fecha y Hora de Certificaci6n RFC del Emisor Nombre del Emisor Regimen fiscal del Emisor RFC del Receptor Nombre del Receptor Uso CFDI UUID RFC Proveedor Certificado No de serie de CSD del SAT',\n",
       " '3.3 I P000000000000000000000 03-Transferencia electr6nica de fondos 00000000000000000000 1 MXN-Peso Mexicano I-lncireso PUE-Pacio en una sola exhibici6n 06000-Ciudad de Mexico 12020-10-03 12020-10-03T20:41:06 12020-10-03T20:47:20 XXX999999XX9 BANCO NACIONAL DE MEXICO, S.A. 01-General de Ley Personas Morales XXXX999999XX9 XXXXXXXXXX XXXXXXXX XXXXXXXXXXXX 03-Gastos en general XXXXXXXX-XXXX-XXXX-XXXX-XXXXXXXXXXXX XXX999999X99 00000000000000000000',\n",
       " 'Sella Digital del Emisar',\n",
       " \"l£iY· Vf-gX9Tz!trcd'IuPbcQZZ7HRRZ8/x2Xt3viAs0J¥fS368sfcKiC6VlYgTVFr1PLV?PJn0GUSZvxUZDNawvMT¥C6wuo;6Hc9KrlhY1BXKeVbLz0ist7KF7ccVvcJsr1L3STVMgLBTRe7mtvtU,qxTsE}lU'0aPii:cjo':acYKXMbfiRZZQlvFI92xKt5zXBcKRR2\",\n",
       " '8 ;w YIJ]fr [rOevXZuuSJssY6XTco8ClsRTs8S:mTMI!SZebGMZfMcL·aV3J6XvrM6eoU8Eva\"Swxs9eReBLMV!vlc1BzXpsz·tBwtimD8u6IdcTTZKNzJla\\'aH:ZkopFSKms9)1sciBXz&2:Jt,·5GzO3a8ZVm5gJr2L0qFn1XXcAs3necR55M,gvsDFw55sXUjlxUwz1lSBLB;20f2PYLU\\\\7,vMZS4imrwRuaoL1rxM14C};4YtTcc54M9ccI?x4c4s1vE:s2Gib2cI-QIFLDaQI8JWzaU:Ba8imv6rXuenv0Z912VgPhK93208:RlL09o:s:l0Pl',\n",
       " 'ZolWij8/dHGdrkjyxKe8ozD+sW1ZYKXBA9Bfa03dVclycdn7z1wXE3AU4d9qx8/puqC7t0JFIC6 v768svpAmGcVLEHKdvAAZzlC7IhOBouFLXTs4FC6m04BClvREiWn8BLgiLEHPoM4SJkP30 mlXibLufCOL1XldmWu9WmHJOg2A6uU5+ZH14kYr1+Mr++rmyH0chuPv1yYAMyybkltPQ2SW +UQyMCtMWdHsZewl/olfBaa/5pRFfC5MrydoV6oXFcvE000CaKfdABf azXBnSoJI rqCmC5Bibtjf+f/lxuO/KhnvTvbTut1by9S2gU16vcKvQA==',\n",
       " 'Sella Digital SAT',\n",
       " 'I',\n",
       " 'LevP1K+C1h1WJoHSalu9SXelU5twNFF52zEFF878Mbc4ya4fPp8vvg8+D7tcbkcBgXqvkGB6Tu +ecu7XSN2NfiNXyFYCwfS4RBvYeEc0dSemYIA0E5zuQpnQwvuh33VReYlrDVkKxfW+Hg/5KI d0W5oihFvgpAl9+bS6OmKc0G0YfbvNRRSdvaeHRRzS2QM4sFYNAtNtGGKYrFRoMVsntSny dyWKZR9CQli8+0S6MWrg2cJFAwD+Fk+iGWtH4QB27bAqX 9Q3b8r +QpXwSKWhEyxm4V9BobL4TJf0VcgR6B+cGvsv6KEhWCWMBeg==',\n",
       " 'Este Dacumenta es una Representaci6n lmpresa de un CFDI',\n",
       " 'I',\n",
       " '0006475',\n",
       " '000190.B25INDA0I0.OD.1002.01',\n",
       " '\\x0ccffibanamex@',\n",
       " 'Centro de Atenci6n Telefonica',\n",
       " 'Ciudad de Mexico 9-999 9999 (1Banamex) Otra ciudad sin costo 99 999 999 9999',\n",
       " 'Pagina 8 de 11',\n",
       " 'CONCEPTOS SUBTOTALES',\n",
       " 'I ISUBTOTAL',\n",
       " 'I105.oo',\n",
       " 'Clav Prod Serv DESCRIPCION',\n",
       " 'IMPUESTOS',\n",
       " 'I IBASE',\n",
       " '84121500-1nstituciones bancarias COMISION COBRADA',\n",
       " 'CANTIDAD',\n",
       " '[VALOR UNITARIO',\n",
       " '1 105.00',\n",
       " '105.00',\n",
       " 'I IIMPUESTO',\n",
       " '002-IVA',\n",
       " 'I',\n",
       " 'I',\n",
       " 'CLAVE UNIDAD',\n",
       " 'E48-Unidad de servicio',\n",
       " 'IMPORTE',\n",
       " 'I ITOTAL IVA',\n",
       " 'I ITASA',\n",
       " '16% IMPORTE',\n",
       " 'ITOTAL DE IMPORTE',\n",
       " 'I',\n",
       " '105.0C',\n",
       " 'I16.80',\n",
       " 'I16.80',\n",
       " '121.80 I',\n",
       " '0006475',\n",
       " '000190.B25INDA0I0.OD.1002.01',\n",
       " '\\x0ccffibanamex@',\n",
       " 'NOMBRE APELLIDO P APELLIDO M',\n",
       " 'sue. 9656 ARCOS BOSQUES, CDMX',\n",
       " 'AVE. PASEO DE LOS TAMARINDOS 400B BOSQUES DE LAS LOMAS',\n",
       " 'Pagina 9 de 11',\n",
       " 'Pr6ximamente podras realizar dep6sitos a tu tarjeta de debito y/o cuenta de cheques en 7 - Eleven, Futurama y Casa Ley.',\n",
       " 'Apreciable Cllente:',\n",
       " 'Banco Naclonal de Mexico S.A., lntegrante del Grupo Financiero Banamex, en lo sucesivo \"Citibanamex··. en cumplimiento con lo establectdo en las disposiclones de caracter general en materla de transparencla aplicables a las instituciones de credito y sociedades fin,mcieras de obieto multiple, entidades reguladas de la CONDUSEF informa lo siguiente:',\n",
       " 'A partir del 02 de noviembre 2020, estas operaciones tendran la siguiente comisi6n, en los corresponsales indicados:',\n",
       " 'Dep6sito en efectivo a Tarjetas de Debito y Cuentas de Cheques abiertas en Citibanamex en comisionista 7-Eleven',\n",
       " 'Dep6sito en efectivo a Tarjeta de Debito en comisionista Futurama',\n",
       " 'Dep6sito en efectivo a Tarjetas de Debito v Cuentas de Cheques abiertas en Citlbanamex en comlslonista Casa Ley',\n",
       " '$10.35 mas IVA por evento',\n",
       " '$7.76 mas IVA por evento',\n",
       " '$6.90 mas IVA por evento',\n",
       " 'Consulta detalle de todas las comisiones en www.citibanamex.com',\n",
       " 'Tambien puedes realizar dep6sitos en cajeros automaticos y sucursales Cltibanamex. En caso de no estar de acuerdo con las modificaciones senaladas, podras solicitar la terminaci6n del Contrato dentro de los 30 dfas posteriore a Que surta electo la presente notificaci6n, por lo que durante ese pedodo nose aplicara el cobra de las comisiones mencionadas previamente. Se entendera que aceptas las modificaciones efectuadas a las comisiones, si no solicitas la terminaci6n del contrato dentro del plazo seiialado. Tu derecho a dar por terminado el Contrato en cualquier otro momenta seguira siendo vigente.',\n",
       " 'Atentamente.',\n",
       " 'Banco Nacfonal de Mexico S.A., lntegrante del Grupo Financiero Banamex.',\n",
       " 'cffi banamex@·',\n",
       " 'El Banco Nacional de Mexico',\n",
       " \"re rernrdamas las dalos de la llllld,d [sptcialilada de atencloo a ctienles son: OGmlcifia. Av. IIISl[rgenles Sti1 No. 926, Colotia D!t Valle, Delegacioo Benito Ju.im, 03100 Ciud.Jrj de Mlco lel/1111111: 55 lmi4583. rorrtalllttl!llnico uniUh311.1mm.om·y IM lelelonMde taiha1.1ml'I SM.551221, i 55'!J./,I&391 Cllll un horario de alentilln de lmllsa l'I sd<!0700 a 2100 lwla, badM I dnmilllJ!K dP Offil a 21 00 !was, am domicifiO en 16 de Stpli.'nmrr &u11em 71, planla baja, Clllcni.l CJ,nlro llr.ildia Cmuhl!moc_ Ol,l)llO, CU/dlll d, llhirn. a lral'f'i le IM\",\n",
       " \"cuM no1 pllEdl'S cnladar para cualq1lier duda o aclaraci61 a l'lle lMpEdo\",\n",
       " '0006475',\n",
       " '000190.B25INDA0I0.OD.1002.01',\n",
       " '\\x0ccffibanamex@',\n",
       " 'Centro de Atenci6n Telefonica',\n",
       " 'Ciudad de Mexico 9-999 9999 (1Banamex) Otra ciudad sin costo 99 999 999 9999',\n",
       " 'Pagina 1 o de 11',\n",
       " 'Tu contrato de Banca lectr6nica tiene na nueva actualizaci6n',\n",
       " 'Te inlormarnos que tu contrato de prestacion de servicios de banca electronica para personas fislcas tuvo recientes modificaciones que entraran en vigor en 30 dias a partir de la presente notificaci6n.',\n",
       " 'Pag. 1 Nueva secci6n DECLARACIONES tanto del Cllente coma de Citibanamex, en la cual ambas partes declaran su capacidad jurfdlca para llevar a cabo et contrato de serviclo.',\n",
       " 'Pag. 5 Se rntegra la secci6n INSTRUCCIONES, RESPONSABILIDADES Y LIMITES entre Cltibanamex y el Cllente, en donde se acepta el uso responsable del serv1cio.',\n",
       " 'Pag. 6 RESPONSABILIDADES DEL CLIENTE. En esta seccion se establecen las obligaciones que los usuarios deberan mantener para la seguridad de sus operaciones.',\n",
       " 'Pag. 8 Se incluye un apartado relac1onado a las acciones que Citibanamex lleva a cabo para lemas de PREVENC16N DE FR.A.UDES.',\n",
       " 'Pag. 8 En esta misma paglna se establecen los llneamientos para la CONTRATACl6N DE MANERA NO PRESENCIAL O REMOTA, asf como otras lormas de contratac16n a luturo.',\n",
       " 'Pag. 8 Se establecen clausulas especificas por cada servicio de banca electr6nica, identiflcando las transacciones que se pueaen realizar en calla media.',\n",
       " 'Pag. 13 Se agrega inlormaci6n relacionada a Alertas y Notilicaciones que inlormen a los chentes respecto a su transaccionalldad.',\n",
       " 'Consulta las actualizaciones del Contrato de Banca Electr6n1ca en www.cillbanamex.com/contrato·bancaelectronica y en caso de no estar de acuerdo con las modiricaciones senaladas, podras solicitar la terminaci6n del mismo dentro de las 30 dias posteriores de haber recib1do esta notificaci6n. Se entendera que aceptas las mod1ficaciones si no solicitas la terminac16n del contrato dentro del plaza senalado. Tu derecho a dar par termrnado el Contrato seguira siendo vigente.',\n",
       " 'Atentamente,',\n",
       " 'Banco Nacional de Mexico S.A., lnlegrante del Grupo Financiero Banamex.',\n",
       " \"11 fl(Qfdil!IO! lo! dalOI di Ii Uoi!Md lt!elllna 551126 513 y SGS to/ di Ul!i I l'lfll!S di 01'00 1 lJ:OO Ofll  PJ.Colo111Ac«lil.\",\n",
       " ',ho illl!I 01 !It 091lO I ltOO Mfn. , 00240 C dt !!CD J II 011',\n",
       " 'llf1!90ln kml1I  tP OJIOO Cwll.tll di MillCO I 5512261639 y 55 ll616J91 lllllM IIO!illO df ,1111 I',\n",
       " \"rd1t1YIH ill IIIGJUGarn II p!MI trilo cu Pien ID: l'CP-000113-DZ\",\n",
       " '0006475',\n",
       " '000190.B25INDA0I0.OD.1002.01',\n",
       " '\\x0ccffibanamex@',\n",
       " 'NOMBRE APELLIDO P APELLIDO M',\n",
       " 'sue. 9656 ARCOS BOSQUES, CDMX',\n",
       " 'AVE. PASEO DE LOS TAMARINDOS 400B BOSQUES DE LAS LOMAS',\n",
       " 'Pagina 11 de 11',\n",
       " 'Glosario de Abreviaturas',\n",
       " 'lf.R AQ AAlNtL,! AUD/AUDIOMAl AUD£ A\\\\JT B PER BBAPNRArME 8.ANC 8-0 BCOIR 8CNCT BBCE0II5H',\n",
       " 'em',\n",
       " 'BMI/BNM BBNNrEt BONlf C C!I/CIIO t fONDO.S C/COPIA CIAT RJ- C/TARJITA',\n",
       " 'ccCceAJec',\n",
       " 'CLOE.S',\n",
       " 'mmr',\n",
       " 'CCGf O CH. DEV S/tONOOS Clll CM COl,t COM. OI S/fONOOS COMISICOMS CONC(NT CONSULT/ CONS CP',\n",
       " '..QL_ cCrIAA. M. CfAS CTO',\n",
       " 'crRO',\n",
       " 'CHIO CCIlJ/£l OES/D(BIT DEP DEP P/DISPOSICIOH DEVOL OEVUU Of DIGIT DISP/01S DLS/OU5 DOC DOM DOT',\n",
       " 'PRIMER AHO ANUAUOAO AUIOAIIC tillER MACHINE AUOIOMATICO AUOIOMATICO DIPRISARIAl AIJTOMAllCAIAUTORIZACION BANCAHCT P£RSONAL tlAN[An11 Pl!OTISIONAl 8AI CO NACJOIIAL Dt MEXICO',\n",
       " 'UI cos',\n",
       " 'BAI CA BAI CAN[l DIRECTO BAI\\\\CAN[I [MPRISAIOAl SAHCOS 8ENEflCIARIO',\n",
       " 'BAHAM£X at so ,MBBA',\n",
       " 'BANCO NACIONAL OE M£IICO BANCANIT EMPIIBARIAl BAn1.11J1t.l rtJUOIIAL BONlrlCACION CAJEIIO CHEOUE CONCUllRACION fONDOS CON COPlA COtiTARltIA CAJUIO CUfJ{TA BALANCE CERO CALlfORNIA COJ,IMERC[ BANK CERllFICAOO 11£.0lPOSIIO CERllnCAOO COHCtNTRACION fONOOS CARGO CHEOUt OEYUUTO Slrl FONDDS CrrlDJRECT CUEKTA MA[SlRA COl,tlSION COMJSION CHEQUE SIN fONOO.S COMISION CONCCHTRADORA CONSULIA tSl CAJERO PERMANElffE CENTRO REPARtO CCUUE(NlfTfAA MAESlRA CUfHIAS CONTRATO CENlRO CREDITO CU(mA CLA\\\\1£ oreno DEPOSITO DEPOSITO POR DISPOSICION DtvDLUCtON D£\\\\JUf.UO OISlRITO filltRAl OIGlt[M DISPOSICION OOLAR£S OOCUM[NTO OOMlCtUACION OOTACION',\n",
       " 'EmDDo Df CTA',\n",
       " 'ffE/EfECTIVIITTO EUC/El.ECTfl EMP ESP',\n",
       " 'talrlr',\n",
       " '01 ff/lOPLAZA FINS fFOlRIiMElPZA GAT G£.N GGORlADClI Gn/roMsUMA> HORZONT HORZN\"ft',\n",
       " 'HZDIA',\n",
       " '10[ ft,IP It.IP.MIi IMP.ME lINt,IPfTAE/INTrAU INCUMPL INT IKlB lliTBCO/INllKBAH',\n",
       " 'I\\'N\"\"ST',\n",
       " 'INY/IHYS ISR IVA LC. MM.HDI.A MAJMAGN£. MED MEN MENS MOD MOY MOYS/111.0VTOS NEG 1m No. No. lNV.',\n",
       " 'No. sue.',\n",
       " 'HOMI OPE.R PAGOS PAO P1lill PO!C< P0.0/Pf:HOIENI PERM PREV AUl ,._PROG',\n",
       " 'fSTAOO rnADO 0[ CIJ[NJA',\n",
       " 'ElJlEiCCJl1RVOONICA EMPRfSARtAl ESPECIAL',\n",
       " 'EXITOSA',\n",
       " \"t[,'.(1111R0A5N0J[RO\",\n",
       " 'fUtRA DE PLAZA',\n",
       " 'ffJODNlJOCOI.ASRIIIIOSUflCl[NJ[S',\n",
       " 'rlRl>IE PLAZA',\n",
       " 'IDIIANEO',\n",
       " 'GANANCIA ANUAt totAL',\n",
       " 'GENERACION',\n",
       " 'liORIZlllfi BAWiCIAOOS Z',\n",
       " 'GRACIAS',\n",
       " 'HGAOSnTuOuSNlt: BANAM<A, UNO',\n",
       " 'FOHDO Df DINERO IBANAMU:',\n",
       " \"liORllONTE l'lUS\",\n",
       " 'HORIZONTtf!A\\'\"MEX DOS',\n",
       " 'lt,IPUfSTO DEPOSIIO EfECl IVQ',\n",
       " 'IMPUBTOS',\n",
       " 'll>!PORTt l>IONrn& N4CIONAL',\n",
       " 'IMPORll MOliEOA £I1RANJ·RA',\n",
       " 'll>IPORlt',\n",
       " 'IPHfllJOS fALLIDDS',\n",
       " 'INCUMPLIMIDITO',\n",
       " 'lhl[R[S',\n",
       " 'IHTEJl8ANCARIO',\n",
       " 'l!ITERBAHCARIO',\n",
       " 'INSllTUCIONES',\n",
       " 'INTERB(S',\n",
       " 'IHVERSION/INVCRSIONES',\n",
       " 'IMPUES10 SOBR( LA RENT,\\\\',\n",
       " 'IMPUESTO VALOR AGREliADO',\n",
       " 'LINEA DE CREDITO',\n",
       " 'MISMO DIA',\n",
       " 'IIONEOA NU IOIIAL',\n",
       " 'MAGNEJICO',\n",
       " 'l>!EOIO',\n",
       " 'M£nst/AUIIAD',\n",
       " 'MENSUAl',\n",
       " '[110DAUOAO',\n",
       " 'MOVll,tlENTO',\n",
       " 'MOVIMIEHIOS',\n",
       " 'NEGOCIO RECEPTOR DE PAGOS',\n",
       " 'BMtCA!IEl',\n",
       " 'HIJ11NO',\n",
       " 'NUMERO DE INVERSION',\n",
       " 'NUMtRO OE SUCURSAL',\n",
       " '1/0MINA. BAHANO',\n",
       " 'OPERACIOH',\n",
       " 'PAGOS ltflERBANCARIOS',\n",
       " 'PAQUET(',\n",
       " 'PCNDIENlES',\n",
       " 'PCTROL0£ S MEllCANDS',\n",
       " 'PENDIOOE',\n",
       " 'PIRMANE.Kll',\n",
       " 'PRhtnCIOH AUTOMATICA.',\n",
       " 'PROGAAMADO',\n",
       " \"PROM PTOS PYl(E RI R2 RJ RRUEC CtlY RECH RE!MB RREUNO RfP/Rf.POS llE'J'OSIC R!:SP\",\n",
       " 'Ra',\n",
       " 'lR!FE.CY',\n",
       " '.A.R SAf',\n",
       " 's.a.c.',\n",
       " 'S/fOH S/£0NIIIIS SA SI, 0£CV',\n",
       " \"SC SOD SEC SCGBANAM[X SER SER BCA EL£C S£A'i SOBRW SOFOM\",\n",
       " 'SPEI',\n",
       " 'SPt\\\\JA',\n",
       " 'SllC T TYCH l.D. lAR/IARJ TB lC TC T. GRA T.OE',\n",
       " 'm',\n",
       " \"TERC lRAS TTXPNV UDl'S YEN1AN\",\n",
       " 'vro',\n",
       " 'l',\n",
       " \"'\",\n",
       " 'PROMEOIO',\n",
       " 'PIJlfTOS PAOUITEPHIE MONIO DE O ,\\\\ 30 MIL MONTO DE 30 MIL A 50 MIL OHIO DE 50 MIL [N AllfLANT!: REACtlVACION !!EC[PCION RRfEECtMtABlOAlDSOOlAl',\n",
       " 'RR£EXrEDRIEfmiCnlAos',\n",
       " 'REPOSICIOH R(;>OSJCJON RCSPALDO JITTIROS Rf>IOCACIOII R[!ilSTRO flOE!W.',\n",
       " 'or CONT!IJBUYt:NT£5',\n",
       " '\"\" au ADMlI. .Sl8ACION RE1Jffll Sl5fEMA A.DMINISlRACIO\\'i lRIBUTIJIIA SAL\\\\\\'0 BUEN COBRO SJN fOHDOS )IH £0NDOS SOClfDAO ANONIMA SOCltOAO AlfOlil!iA Dt CM\\'rtAl',\n",
       " \"VSAORCfIAfOBALEO CIVIL SAlDO SECUENCI,\\\\ S£GUROS BANAMEl SIDJCJO SERYICIO BANCA EltCIRONICA. SEIIVICIO/SEAVlCIOS SOBREGIRO SOCIE.DAD flNAHCIERA OBJfTO MUUIPU 5£J!YICIOS PAGOS [UCJROIIICOS tNlE.RB>.NCARIOS SlST[MA PAGOS illCTRON!COS USOAMl'UADO SUCURSAl lARJCTA JIJIJETA Y CHEOUEJ!A lARJ(TA D[BITO lARJETA TARJETAS BANAMO TARJrTA 0£ CR£0110 JIPO 0£ CAMBIO TA.SA GRAVABL[ lASA 00.PITA TRANSfERENCIA EUCTRONJCA OE PAGOS JERCEROS TRASPASO fE.RMlHAl PUNTO 0[ VENTA IRANCCJON UNIOAOES DE INVERSION VElffAHILLA VUlClMIENTO POR\",\n",
       " 'La informacion aqui contenida forma parte integrante def Estado de Cuenta.',\n",
       " '0006475',\n",
       " '000190.B25INDA0I0.OD.1002.0l',\n",
       " '\\x0c']"
      ]
     },
     "execution_count": 23,
     "metadata": {},
     "output_type": "execute_result"
    }
   ],
   "source": [
    "pdf"
   ]
  },
  {
   "cell_type": "code",
   "execution_count": 24,
   "metadata": {},
   "outputs": [],
   "source": [
    "#movimientos\n",
    "movimientos=[]\n",
    "for i in range(len(pdf)):\n",
    "    if pdf[i].startswith('Detalle'):\n",
    "        movimientos.append(i)"
   ]
  },
  {
   "cell_type": "code",
   "execution_count": 25,
   "metadata": {},
   "outputs": [
    {
     "data": {
      "text/plain": [
       "[94, 124, 160]"
      ]
     },
     "execution_count": 25,
     "metadata": {},
     "output_type": "execute_result"
    }
   ],
   "source": [
    "movimientos"
   ]
  },
  {
   "cell_type": "code",
   "execution_count": 26,
   "metadata": {},
   "outputs": [],
   "source": [
    "#fin de movimientos\n",
    "fin=[]\n",
    "for i in range(len(pdf)):\n",
    "    if pdf[i].startswith('Resumen Operaciones Tarjeta'):\n",
    "        fin.append(i)"
   ]
  },
  {
   "cell_type": "code",
   "execution_count": 27,
   "metadata": {},
   "outputs": [
    {
     "data": {
      "text/plain": [
       "[190]"
      ]
     },
     "execution_count": 27,
     "metadata": {},
     "output_type": "execute_result"
    }
   ],
   "source": [
    "fin"
   ]
  },
  {
   "cell_type": "code",
   "execution_count": 28,
   "metadata": {},
   "outputs": [],
   "source": [
    "tabla_pag_1=pdf[movimientos[0]:movimientos[1]]"
   ]
  },
  {
   "cell_type": "markdown",
   "metadata": {},
   "source": [
    "# PAGINA 1"
   ]
  },
  {
   "cell_type": "code",
   "execution_count": 29,
   "metadata": {},
   "outputs": [
    {
     "data": {
      "text/plain": [
       "['FECHA 05 SEP 07 SEP 08 SEP', '10 SEP 10 SEP 10 SEP 18 SEP 18 SEP', '18 SEP']"
      ]
     },
     "execution_count": 29,
     "metadata": {},
     "output_type": "execute_result"
    }
   ],
   "source": [
    "#fechas\n",
    "fecha_lista_pag_1=[]\n",
    "for i in range(len(tabla_pag_1)):\n",
    "    if re.match('fecha',tabla_pag_1[i].lower()):\n",
    "        fecha_lista_pag_1.append(tabla_pag_1[i])\n",
    "    elif re.match(r'\\d{2} \\w{3}',tabla_pag_1[i]):\n",
    "        fecha_lista_pag_1.append(tabla_pag_1[i])\n",
    "\n",
    "        \n",
    "fecha_lista_pag_1"
   ]
  },
  {
   "cell_type": "code",
   "execution_count": 30,
   "metadata": {},
   "outputs": [],
   "source": [
    "#separo\n",
    "fechas_lista_2_pag_1=[]\n",
    "\n",
    "for i in fecha_lista_pag_1:\n",
    "    fechas_lista_2_pag_1.append(re.findall(r'\\d{2} \\w{3}',i))"
   ]
  },
  {
   "cell_type": "code",
   "execution_count": 31,
   "metadata": {},
   "outputs": [],
   "source": [
    "#aplano lista de listas\n",
    "fechas_pag_1 = []\n",
    "for i in fechas_lista_2_pag_1:\n",
    "    for j in i:\n",
    "        fechas_pag_1.append(j)"
   ]
  },
  {
   "cell_type": "code",
   "execution_count": 32,
   "metadata": {},
   "outputs": [],
   "source": [
    "fechas1_pag_2=fechas_pag_1.pop(-1)"
   ]
  },
  {
   "cell_type": "code",
   "execution_count": 33,
   "metadata": {},
   "outputs": [
    {
     "data": {
      "text/plain": [
       "8"
      ]
     },
     "execution_count": 33,
     "metadata": {},
     "output_type": "execute_result"
    }
   ],
   "source": [
    "len(fechas_pag_1)"
   ]
  },
  {
   "cell_type": "code",
   "execution_count": 34,
   "metadata": {},
   "outputs": [],
   "source": [
    "#conceptos\n",
    "tabla_string1=\" \".join(tabla_pag_1)"
   ]
  },
  {
   "cell_type": "code",
   "execution_count": 35,
   "metadata": {},
   "outputs": [
    {
     "data": {
      "text/plain": [
       "['Detalle de Operaciones En pesos Moneda Nacional FECHA 05 SEP 07 SEP 08 SEP 10 SEP 10 SEP 10 SEP 18 SEP 18 SEP 18 SEP CONCEPTO ',\n",
       " 'ANTERIOR ',\n",
       " 'RO DE CHEQUE NUMERO 000 SUC 0000 CAJA 0000 AUT 00000000 HORA 15:41 EXENCION ',\n",
       " 'RO COMISION MANEJO DE CUENTA PERIODO AGO05 AL SEP04 IMPORTE A EX ENTAR $165.00 CAJA 0000 AUT 00000000 HORA 03:09 SUC 0000 ',\n",
       " 'RO DE CHEQUE NUMERO 000 suc 0000 CAJA 0000 AUT 00000000 HORA 14:30 ',\n",
       " 'RO DE CHEQUE NUMERO 174 suc 0000 CAJA 0000 AUT 00000000 HORA 14:49 ',\n",
       " 'RO DE CHEQUE NUMERO 000 suc 0000 CAJA 0000 AUT 00000000 HORA 14:50 ',\n",
       " 'C PLAZA LILAS MAX0611157H8 9999 999999999999999999999999 99999999 CAJA 0093 AUT 99999999 99999999 HORA 06:48 SUC 9999 ',\n",
       " ' & XXX XX 000000000 0000 suc 0342 CAJA 0000 AUT 00000000 HORA 06:48 00000000 00000000000000000000000 00000000 suc 0000 CAJA 0000 AUT 00000000 HORA 06:48 LILAS 000000000 0006475 Envía y recibe dinero al instante sin dar de alta una cuenta, hazlo desde CoDi(!) en Citibanamex Móvil Maneja tu dinero desde la App. RETIROS DEPÓSITOS 2,000.00 950.00 1 686.00 1,326.00 2,029.70 350.00 000190.B25INDA0I0.OD.1002.01 Página 2 de 11 ',\n",
       " '1 291.41 9,291.41 9,291.41 8,341.41 6 655.41 5,329.41 3,299.71 2 949.71 \\x0ccffibanamex@ NOMBRE APELLIDO P APELLIDO M']"
      ]
     },
     "execution_count": 35,
     "metadata": {},
     "output_type": "execute_result"
    }
   ],
   "source": [
    "conceptos_p1=re.split('SALDO |EXCENSINCION |COB|XXXX XXXX|GN',tabla_string1)\n",
    "conceptos_p1"
   ]
  },
  {
   "cell_type": "code",
   "execution_count": 36,
   "metadata": {},
   "outputs": [
    {
     "data": {
      "text/plain": [
       "['SALDO ANTERIOR ',\n",
       " 'COBRO DE CHEQUE NUMERO 000 SUC 0000 CAJA 0000 AUT 00000000 HORA 15:41 EXENCION ',\n",
       " 'EXCENSION COBRO COMISION MANEJO DE CUENTA PERIODO AGO05 AL SEP04 IMPORTE A EX ENTAR $165.00 CAJA 0000 AUT 00000000 HORA 03:09 SUC 0000 ',\n",
       " 'COBRO DE CHEQUE NUMERO 000 suc 0000 CAJA 0000 AUT 00000000 HORA 14:30 ',\n",
       " 'COBRO DE CHEQUE NUMERO 174 suc 0000 CAJA 0000 AUT 00000000 HORA 14:49 ',\n",
       " 'COBRO DE CHEQUE NUMERO 000 suc 0000 CAJA 0000 AUT 00000000 HORA 14:50 ',\n",
       " 'GNC PLAZA LILAS MAX0611157H8 9999 999999999999999999999999 99999999 CAJA 0093 AUT 99999999 99999999 HORA 06:48 SUC 9999 ',\n",
       " 'XXXX XXXX & XXX XX 000000000 0000 suc 0342 CAJA 0000 AUT 00000000 HORA 06:48 00000000 00000000000000000000000 00000000 suc 0000 CAJA 0000 AUT 00000000 HORA 06:48 LILAS 000000000 0006475 Envía y recibe dinero al instante sin dar de alta una cuenta, hazlo desde CoDi(!) en Citibanamex Móvil Maneja tu dinero desde la App. RETIROS DEPÓSITOS 2,000.00 950.00 1 686.00 1,326.00 2,029.70 350.00 000190.B25INDA0I0.OD.1002.01 Página 2 de 11 ']"
      ]
     },
     "execution_count": 36,
     "metadata": {},
     "output_type": "execute_result"
    }
   ],
   "source": [
    "conceptos_pag_1=[]\n",
    "for i in range(len(conceptos_p1)):\n",
    "    if conceptos_p1[i].startswith('ANTERIOR'):\n",
    "        j='SALDO '+conceptos_p1[i]\n",
    "        conceptos_pag_1.append(j)\n",
    "    elif conceptos_p1[i].startswith('RO COMISION'):\n",
    "        j='EXCENSION COB'+conceptos_p1[i]\n",
    "        conceptos_pag_1.append(j)\n",
    "    elif conceptos_p1[i].startswith('RO'):\n",
    "        j='COB'+conceptos_p1[i]\n",
    "        conceptos_pag_1.append(j)\n",
    "    elif conceptos_p1[i].startswith('C'):\n",
    "        j='GN'+conceptos_p1[i]\n",
    "        conceptos_pag_1.append(j)\n",
    "    elif conceptos_p1[i].startswith(' &'):\n",
    "        j='XXXX XXXX'+conceptos_p1[i]\n",
    "        conceptos_pag_1.append(j)\n",
    "conceptos_pag_1"
   ]
  },
  {
   "cell_type": "code",
   "execution_count": 37,
   "metadata": {},
   "outputs": [
    {
     "data": {
      "text/plain": [
       "['RETIROS',\n",
       " 'DEPÓSITOS',\n",
       " '2,000.00',\n",
       " '950.00 1 686.00 1,326.00 2,029.70',\n",
       " '350.00']"
      ]
     },
     "execution_count": 37,
     "metadata": {},
     "output_type": "execute_result"
    }
   ],
   "source": [
    "#retiros\n",
    "retiros_lista_pag_1=[]\n",
    "for i in range(len(tabla_pag_1)):\n",
    "    if re.match('retiros',tabla_pag_1[i].lower()):\n",
    "        retiros_lista_pag_1.append(tabla_pag_1[i])\n",
    "        retiros_lista_pag_1.append(tabla_pag_1[i+1])\n",
    "        retiros_lista_pag_1.append(tabla_pag_1[i+2])\n",
    "        retiros_lista_pag_1.append(tabla_pag_1[i+3])\n",
    "        retiros_lista_pag_1.append(tabla_pag_1[i+4])\n",
    "retiros_lista_pag_1"
   ]
  },
  {
   "cell_type": "code",
   "execution_count": 38,
   "metadata": {},
   "outputs": [],
   "source": [
    "retiros1_1=[]\n",
    "for i in retiros_lista_pag_1:\n",
    "    if re.search(r'\\d+', i):\n",
    "        retiros1_1.append(i)"
   ]
  },
  {
   "cell_type": "code",
   "execution_count": 39,
   "metadata": {},
   "outputs": [
    {
     "data": {
      "text/plain": [
       "['2,000.00', '950.00 1 686.00 1,326.00 2,029.70', '350.00']"
      ]
     },
     "execution_count": 39,
     "metadata": {},
     "output_type": "execute_result"
    }
   ],
   "source": [
    "retiros1_1"
   ]
  },
  {
   "cell_type": "code",
   "execution_count": 40,
   "metadata": {},
   "outputs": [
    {
     "data": {
      "text/plain": [
       "[['2,000', ''], ['950', ' 1 686', ' 1,326', ' 2,029.70'], ['350', '']]"
      ]
     },
     "execution_count": 40,
     "metadata": {},
     "output_type": "execute_result"
    }
   ],
   "source": [
    "retiros1_2=[]\n",
    "for i in retiros1_1:\n",
    "    retiros1_2.append(i.split('.00'))\n",
    "    \n",
    "retiros1_2"
   ]
  },
  {
   "cell_type": "code",
   "execution_count": 41,
   "metadata": {},
   "outputs": [
    {
     "data": {
      "text/plain": [
       "['2,000.00', '950.00', ' 1 686.00', ' 1,326.00', ' 2,029.70.00', '350.00']"
      ]
     },
     "execution_count": 41,
     "metadata": {},
     "output_type": "execute_result"
    }
   ],
   "source": [
    "retiros1_3=[]\n",
    "for i in retiros1_2:\n",
    "    for j in i:\n",
    "        if re.search(r'\\d+', j):\n",
    "            retiros1_3.append(j+'.00')\n",
    "        \n",
    "retiros1_3"
   ]
  },
  {
   "cell_type": "code",
   "execution_count": 42,
   "metadata": {},
   "outputs": [
    {
     "data": {
      "text/plain": [
       "[0,\n",
       " '2,000.00',\n",
       " 0,\n",
       " '950.00',\n",
       " ' 1 686.00',\n",
       " ' 1,326.00',\n",
       " ' 2,029.70.00',\n",
       " '350.00']"
      ]
     },
     "execution_count": 42,
     "metadata": {},
     "output_type": "execute_result"
    }
   ],
   "source": [
    "#organizo retiros pagina 1\n",
    "retiros_pag_1=[]\n",
    "contador=0\n",
    "for i in range(len(conceptos_pag_1)):\n",
    "    if conceptos_pag_1[i].startswith('COBRO'):\n",
    "        retiros_pag_1.append(retiros1_3[contador])\n",
    "        contador=contador+1\n",
    "    \n",
    "    elif conceptos_pag_1[i].startswith('GNC'):\n",
    "        retiros_pag_1.append(retiros1_3[contador])\n",
    "        contador=contador+1\n",
    "        \n",
    "    elif conceptos_pag_1[i].startswith('XXX'):\n",
    "        retiros_pag_1.append(retiros1_3[contador])\n",
    "        contador=contador+1\n",
    "    \n",
    "    else:\n",
    "        retiros_pag_1.append(0)\n",
    "retiros_pag_1"
   ]
  },
  {
   "cell_type": "code",
   "execution_count": 43,
   "metadata": {},
   "outputs": [
    {
     "data": {
      "text/plain": [
       "['DEPÓSITOS']"
      ]
     },
     "execution_count": 43,
     "metadata": {},
     "output_type": "execute_result"
    }
   ],
   "source": [
    "#depositos\n",
    "depositos_lista_pag_1=[]\n",
    "for i in range(len(tabla_pag_1)):\n",
    "    if re.match('depósitos',tabla_pag_1[i].lower()):\n",
    "        depositos_lista_pag_1.append(tabla_pag_1[i])\n",
    "        \n",
    "depositos_lista_pag_1\n",
    "#no hay depositos"
   ]
  },
  {
   "cell_type": "code",
   "execution_count": 44,
   "metadata": {},
   "outputs": [],
   "source": [
    "depositos1=[]\n",
    "for i in depositos_lista_pag_1:\n",
    "    if re.search(r'\\d+', i):\n",
    "        depositos1.append(i)\n",
    "\n",
    "depositos1_1=[]     \n",
    "for i in depositos1:\n",
    "    j=i.split(' ')\n",
    "    for k in j:\n",
    "        depositos1_1.append(k)"
   ]
  },
  {
   "cell_type": "code",
   "execution_count": 45,
   "metadata": {},
   "outputs": [
    {
     "data": {
      "text/plain": [
       "['0', '0', '0', '0', '0', '0', '0', '0']"
      ]
     },
     "execution_count": 45,
     "metadata": {},
     "output_type": "execute_result"
    }
   ],
   "source": [
    "#organizo depositos\n",
    "depositos_pag_1=[]\n",
    "contador=0\n",
    "for i in range(len(conceptos_pag_1)):\n",
    "    if conceptos_pag_1[i].startswith('DEPOSITO') or conceptos_pag_1[i].startswith('INTERES'):\n",
    "        depositos_pag_1.append(depositos1_1[contador])\n",
    "        contador=contador+1\n",
    "    else:\n",
    "        depositos_pag_1.append('0')\n",
    "depositos_pag_1"
   ]
  },
  {
   "cell_type": "code",
   "execution_count": 46,
   "metadata": {},
   "outputs": [
    {
     "data": {
      "text/plain": [
       "['SALDO ANTERIOR COBRO DE CHEQUE NUMERO 000 SUC 0000 CAJA 0000 AUT 00000000 HORA 15:41 EXENCION COBRO COMISION MANEJO DE CUENTA PERIODO AGO05 AL SEP04 IMPORTE A EX ENTAR $165.00 CAJA 0000 AUT 00000000 HORA 03:09 SUC 0000 COBRO DE CHEQUE NUMERO 000',\n",
       " 'suc 0000',\n",
       " 'CAJA 0000 AUT 00000000 HORA 14:30 COBRO DE CHEQUE NUMERO 174',\n",
       " 'SALDO 1 291.41 9,291.41 9,291.41 8,341.41 6 655.41 5,329.41 3,299.71 2 949.71',\n",
       " '\\x0ccffibanamex@',\n",
       " 'NOMBRE APELLIDO P APELLIDO M']"
      ]
     },
     "execution_count": 46,
     "metadata": {},
     "output_type": "execute_result"
    }
   ],
   "source": [
    "#saldos\n",
    "saldos_lista_pag_1=[]\n",
    "for i in range(len(tabla_pag_1)):\n",
    "    if re.match('saldo',tabla_pag_1[i].lower()):\n",
    "        saldos_lista_pag_1.append(tabla_pag_1[i])\n",
    "        saldos_lista_pag_1.append(tabla_pag_1[i+1])\n",
    "        saldos_lista_pag_1.append(tabla_pag_1[i+2])\n",
    "        \n",
    "saldos_lista_pag_1"
   ]
  },
  {
   "cell_type": "code",
   "execution_count": 47,
   "metadata": {},
   "outputs": [
    {
     "data": {
      "text/plain": [
       "['SALDO 1 291.41 9,291.41 9,291.41 8,341.41 6 655.41 5,329.41 3,299.71 2 949.71',\n",
       " '\\x0ccffibanamex@']"
      ]
     },
     "execution_count": 47,
     "metadata": {},
     "output_type": "execute_result"
    }
   ],
   "source": [
    "saldos1_1=[]\n",
    "for i in range(len(saldos_lista_pag_1)):\n",
    "    if re.search(r'SALDO \\d+', saldos_lista_pag_1[i]):\n",
    "        saldos1_1.append(saldos_lista_pag_1[i])\n",
    "        saldos1_1.append(saldos_lista_pag_1[i+1])\n",
    "        \n",
    "saldos1_1"
   ]
  },
  {
   "cell_type": "code",
   "execution_count": 48,
   "metadata": {},
   "outputs": [
    {
     "data": {
      "text/plain": [
       "[' 1 291',\n",
       " ' 9,291',\n",
       " ' 9,291',\n",
       " ' 8,341',\n",
       " ' 6 655',\n",
       " ' 5,329',\n",
       " ' 3,299',\n",
       " ' 2 949']"
      ]
     },
     "execution_count": 48,
     "metadata": {},
     "output_type": "execute_result"
    }
   ],
   "source": [
    "saldos1_2=[]\n",
    "for i in saldos1_1:\n",
    "    j=re.split('SALDO|\\.\\d{2}',i)\n",
    "    saldos1_2.append(j)\n",
    "    \n",
    "saldos1_3=[]\n",
    "for i in saldos1_2:\n",
    "    for j in i:\n",
    "        if re.search(r'\\d+',j):\n",
    "            saldos1_3.append(j)\n",
    "            \n",
    "saldos1_3"
   ]
  },
  {
   "cell_type": "code",
   "execution_count": 49,
   "metadata": {},
   "outputs": [],
   "source": [
    "saldos_pag_1= saldos1_3"
   ]
  },
  {
   "cell_type": "markdown",
   "metadata": {},
   "source": [
    "# Pagina 2"
   ]
  },
  {
   "cell_type": "code",
   "execution_count": 50,
   "metadata": {},
   "outputs": [],
   "source": [
    "tabla_pag_2=pdf[movimientos[1]:movimientos[2]]"
   ]
  },
  {
   "cell_type": "code",
   "execution_count": 101,
   "metadata": {},
   "outputs": [
    {
     "data": {
      "text/plain": [
       "['FECHA 21 SEP 21 SEP 21 SEP 22 SEP',\n",
       " '24 SEP 24 SEP 24 SEP 25 SEP 25 SEP',\n",
       " '25 SEP',\n",
       " '28 SEP']"
      ]
     },
     "execution_count": 101,
     "metadata": {},
     "output_type": "execute_result"
    }
   ],
   "source": [
    "#fechas\n",
    "fecha_lista_pag_2=[]\n",
    "for i in range(len(tabla_pag_2)):\n",
    "    if re.match('fecha',tabla_pag_2[i].lower()):\n",
    "        fecha_lista_pag_2.append(tabla_pag_2[i])\n",
    "    elif re.match(r'\\d{2} \\w{3}',tabla_pag_2[i]):\n",
    "        fecha_lista_pag_2.append(tabla_pag_2[i])\n",
    "\n",
    "        \n",
    "fecha_lista_pag_2"
   ]
  },
  {
   "cell_type": "code",
   "execution_count": 102,
   "metadata": {},
   "outputs": [],
   "source": [
    "#separo\n",
    "fechas_lista_2_pag_2=[]\n",
    "\n",
    "for i in fecha_lista_pag_2:\n",
    "    fechas_lista_2_pag_2.append(re.findall(r'\\d{2} \\w{3}',i))"
   ]
  },
  {
   "cell_type": "code",
   "execution_count": 103,
   "metadata": {},
   "outputs": [],
   "source": [
    "#aplano lista de listas\n",
    "fechas_pag_2 = []\n",
    "fechas_pag_2.append(fechas1_pag_2)\n",
    "for i in fechas_lista_2_pag_2:\n",
    "    for j in i:\n",
    "        fechas_pag_2.append(j)"
   ]
  },
  {
   "cell_type": "code",
   "execution_count": 104,
   "metadata": {},
   "outputs": [],
   "source": [
    "fechas1_pag_3=fechas_pag_2.pop(-1)"
   ]
  },
  {
   "cell_type": "code",
   "execution_count": 105,
   "metadata": {},
   "outputs": [
    {
     "data": {
      "text/plain": [
       "11"
      ]
     },
     "execution_count": 105,
     "metadata": {},
     "output_type": "execute_result"
    }
   ],
   "source": [
    "len(fechas_pag_2)"
   ]
  },
  {
   "cell_type": "code",
   "execution_count": 133,
   "metadata": {},
   "outputs": [],
   "source": [
    "#conceptos\n",
    "tabla_string_2=\" \".join(tabla_pag_2)"
   ]
  },
  {
   "cell_type": "code",
   "execution_count": 134,
   "metadata": {},
   "outputs": [
    {
     "data": {
      "text/plain": [
       "['Detalle de Operaciones En pesos Moneda Nacional FECHA 21 SEP 21 SEP 21 SEP 22 SEP 24 SEP 24 SEP 24 SEP 25 SEP 25 SEP 25 SEP 28 SEP CONCEPTO ',\n",
       " ' 75412910263975987909057 20200921 CAJA 0093 AUT 02985979 20200921 HORA 06:48 SUC 0342 ',\n",
       " 'TERIA XXXX999999XX9 5441 20200923 75326900265000784368680 20200923 suc 0342 CAJA 0093 AUT 01011285 HORA 05:30 CITY ',\n",
       " 'ET ',\n",
       " ' 75435290266536760465142 20200923 CAJA 0093 AUT 01011287 20200923 HORA 05:30 SUC 0342 ',\n",
       " 'RES 5992 20200923 75412780265000108700221 20200923 suc 0342 CAJA 0093 AUT 01011289 HORA 05:30 TERMINAL 131210UU7 5811 suc 0342 CAJA 0093 AUT 00881422 HORA 05:30 20200924 75445500266001282364505 20200924 suc 0342 CAJA 0093 AUT 00881422 HORA 05:30 CITY ',\n",
       " 'ET ',\n",
       " ' 75435290269536760467046 20200928 CAJA 0093 AUT 00906083 20200928 HORA 05:40 SUC 0342 ',\n",
       " 'RO DE CHEQUE NUMERO 999 SUC 4409 CAJA 0003 AUT 00451934 HORA 12:19 ',\n",
       " 'RO DE CHEQUE NUMERO 999 SUC 4409 CAJA 0003 AUT 00451948 HORA 12:32 ',\n",
       " 'RO DE CHEQUE NUMERO 999 SUC 4409 CAJA 0001 AUT 00017534 HORA 11:29 ',\n",
       " '*EATS HELP.',\n",
       " 'COM 5812 20200928 15276320270002487493963 20200928 suc 0342 CAJA 0093 AUT 02611056 HORA 05:44 1,459.70 Mexican Peso 20200928 CAJA 0093 AUT 02611056 20200928 HORA 05:44 SUC 0342 ',\n",
       " '*EATS HELP.',\n",
       " 'COM 5812 20200928 15276320270002530791413 493.18 20200928 suc 0342 CAJA 0093 AUT 02611057 HORA 05:44 Mexican Peso 20200928 CAJA 0093 AUT 02611057 20200928 HORA 05:44 SUC 0342 ',\n",
       " '*EATS HELP.',\n",
       " 'COM 5812 20200929 15276320272002337138493 351.24 0006475 SUC. 9656 ARCOS BOSQUES, CDMX AVE. PASEO DE LOS TAMARINDOS 400B BOSQUES DE LAS LOMAS RETIROS DEPÓSITOS 234.00 1 360.00 1,496.20 1 000.00 2,186.73 360.00 8 000.00 4,000.00 15 146.00 1,459.70 493.18 000190.B25INDA0I0.OD.1002.01 Página 3 de 11 SALDO 2,715.71 1 355.71 9,859.51 8,859.51 6,672.78 6,312.78 8 312.78 4,312.78 9 166.78 7,707.08 7 213.90 \\x0ccffibanamex@']"
      ]
     },
     "execution_count": 134,
     "metadata": {},
     "output_type": "execute_result"
    }
   ],
   "source": [
    "conceptos_p2=re.split('5411|REPOS|COB|MARK|FLO|UBER.',tabla_string_2)\n",
    "conceptos_p2"
   ]
  },
  {
   "cell_type": "code",
   "execution_count": 135,
   "metadata": {},
   "outputs": [
    {
     "data": {
      "text/plain": [
       "['5411 75412910263975987909057 20200921 CAJA 0093 AUT 02985979 20200921 HORA 06:48 SUC 0342 ',\n",
       " 'REPOSTERIA XXXX999999XX9 5441 20200923 75326900265000784368680 20200923 suc 0342 CAJA 0093 AUT 01011285 HORA 05:30 CITY ',\n",
       " 'MARKET 75435290266536760465142 20200923 CAJA 0093 AUT 01011287 20200923 HORA 05:30 SUC 0342 ',\n",
       " 'FLORES 5992 20200923 75412780265000108700221 20200923 suc 0342 CAJA 0093 AUT 01011289 HORA 05:30 TERMINAL 131210UU7 5811 suc 0342 CAJA 0093 AUT 00881422 HORA 05:30 20200924 75445500266001282364505 20200924 suc 0342 CAJA 0093 AUT 00881422 HORA 05:30 CITY ',\n",
       " 'MARKET 75435290269536760467046 20200928 CAJA 0093 AUT 00906083 20200928 HORA 05:40 SUC 0342 ',\n",
       " 'COBRO DE CHEQUE NUMERO 999 SUC 4409 CAJA 0003 AUT 00451934 HORA 12:19 ',\n",
       " 'COBRO DE CHEQUE NUMERO 999 SUC 4409 CAJA 0003 AUT 00451948 HORA 12:32 ',\n",
       " 'COBRO DE CHEQUE NUMERO 999 SUC 4409 CAJA 0001 AUT 00017534 HORA 11:29 ',\n",
       " 'UBER.COM 5812 20200928 15276320270002487493963 20200928 suc 0342 CAJA 0093 AUT 02611056 HORA 05:44 1,459.70 Mexican Peso 20200928 CAJA 0093 AUT 02611056 20200928 HORA 05:44 SUC 0342 ',\n",
       " 'UBER.COM 5812 20200928 15276320270002530791413 493.18 20200928 suc 0342 CAJA 0093 AUT 02611057 HORA 05:44 Mexican Peso 20200928 CAJA 0093 AUT 02611057 20200928 HORA 05:44 SUC 0342 ',\n",
       " 'UBER.COM 5812 20200929 15276320272002337138493 351.24 0006475 SUC. 9656 ARCOS BOSQUES, CDMX AVE. PASEO DE LOS TAMARINDOS 400B BOSQUES DE LAS LOMAS RETIROS DEPÓSITOS 234.00 1 360.00 1,496.20 1 000.00 2,186.73 360.00 8 000.00 4,000.00 15 146.00 1,459.70 493.18 000190.B25INDA0I0.OD.1002.01 Página 3 de 11 SALDO 2,715.71 1 355.71 9,859.51 8,859.51 6,672.78 6,312.78 8 312.78 4,312.78 9 166.78 7,707.08 7 213.90 \\x0ccffibanamex@']"
      ]
     },
     "execution_count": 135,
     "metadata": {},
     "output_type": "execute_result"
    }
   ],
   "source": [
    "conceptos_pag_2=[]\n",
    "for i in range(len(conceptos_p2)):\n",
    "    if conceptos_p2[i].startswith(' 7541'):\n",
    "        j='5411'+conceptos_p2[i]\n",
    "        conceptos_pag_2.append(j)\n",
    "    elif conceptos_p2[i].startswith('TERIA'):\n",
    "        j='REPOS'+conceptos_p2[i]\n",
    "        conceptos_pag_2.append(j)\n",
    "    elif conceptos_p2[i].startswith('RES '):\n",
    "        j='FLO'+conceptos_p2[i]\n",
    "        conceptos_pag_2.append(j)\n",
    "    elif conceptos_p2[i].startswith('RO'):\n",
    "        j='COB'+conceptos_p2[i]\n",
    "        conceptos_pag_2.append(j)\n",
    "    elif conceptos_p2[i].startswith('ET'):\n",
    "        j='MARKET'+conceptos_p2[i+1]\n",
    "        conceptos_pag_2.append(j)\n",
    "    elif conceptos_p2[i].startswith('COM'):\n",
    "        j='UBER.'+conceptos_p2[i]\n",
    "        conceptos_pag_2.append(j)\n",
    "conceptos_pag_2"
   ]
  },
  {
   "cell_type": "code",
   "execution_count": 136,
   "metadata": {},
   "outputs": [
    {
     "data": {
      "text/plain": [
       "11"
      ]
     },
     "execution_count": 136,
     "metadata": {},
     "output_type": "execute_result"
    }
   ],
   "source": [
    "len(conceptos_pag_2)"
   ]
  },
  {
   "cell_type": "code",
   "execution_count": 60,
   "metadata": {},
   "outputs": [
    {
     "data": {
      "text/plain": [
       "['RETIROS',\n",
       " 'DEPÓSITOS',\n",
       " '234.00',\n",
       " '1 360.00 1,496.20 1 000.00',\n",
       " '2,186.73',\n",
       " '360.00 8 000.00 4,000.00 15 146.00',\n",
       " '1,459.70',\n",
       " '493.18']"
      ]
     },
     "execution_count": 60,
     "metadata": {},
     "output_type": "execute_result"
    }
   ],
   "source": [
    "#retiros\n",
    "retiros_lista_pag_2=[]\n",
    "for i in range(len(tabla_pag_2)):\n",
    "    if re.match('retiros',tabla_pag_2[i].lower()):\n",
    "        retiros_lista_pag_2.append(tabla_pag_2[i])\n",
    "        retiros_lista_pag_2.append(tabla_pag_2[i+1])\n",
    "        retiros_lista_pag_2.append(tabla_pag_2[i+2])\n",
    "        retiros_lista_pag_2.append(tabla_pag_2[i+3])\n",
    "        retiros_lista_pag_2.append(tabla_pag_2[i+4])\n",
    "        retiros_lista_pag_2.append(tabla_pag_2[i+5])\n",
    "        retiros_lista_pag_2.append(tabla_pag_2[i+6])\n",
    "        retiros_lista_pag_2.append(tabla_pag_2[i+7])\n",
    "retiros_lista_pag_2"
   ]
  },
  {
   "cell_type": "code",
   "execution_count": 61,
   "metadata": {},
   "outputs": [],
   "source": [
    "retiros2_1=[]\n",
    "for i in retiros_lista_pag_2:\n",
    "    if re.search(r'\\d+', i):\n",
    "        retiros2_1.append(i)"
   ]
  },
  {
   "cell_type": "code",
   "execution_count": 62,
   "metadata": {},
   "outputs": [
    {
     "data": {
      "text/plain": [
       "[['234', ''],\n",
       " ['1 360', ' 1,496', ' 1 000', ''],\n",
       " ['2,186', ''],\n",
       " ['360', ' 8 000', ' 4,000', ' 15 146', ''],\n",
       " ['1,459', ''],\n",
       " ['493', '']]"
      ]
     },
     "execution_count": 62,
     "metadata": {},
     "output_type": "execute_result"
    }
   ],
   "source": [
    "retiros2_2=[]\n",
    "for i in retiros2_1:\n",
    "    retiros2_2.append(re.split(r'\\.\\d{2}',i))\n",
    "    \n",
    "retiros2_2"
   ]
  },
  {
   "cell_type": "code",
   "execution_count": 63,
   "metadata": {},
   "outputs": [
    {
     "data": {
      "text/plain": [
       "['234.00',\n",
       " '1 360.00',\n",
       " ' 1,496.00',\n",
       " ' 1 000.00',\n",
       " '2,186.00',\n",
       " '360.00',\n",
       " ' 8 000.00',\n",
       " ' 4,000.00',\n",
       " ' 15 146.00',\n",
       " '1,459.00',\n",
       " '493.00']"
      ]
     },
     "execution_count": 63,
     "metadata": {},
     "output_type": "execute_result"
    }
   ],
   "source": [
    "retiros2_3=[]\n",
    "for i in retiros2_2:\n",
    "    for j in i:\n",
    "        if re.search(r'\\d+', j):\n",
    "            retiros2_3.append(j+'.00')\n",
    "        \n",
    "retiros2_3"
   ]
  },
  {
   "cell_type": "code",
   "execution_count": 64,
   "metadata": {},
   "outputs": [
    {
     "data": {
      "text/plain": [
       "11"
      ]
     },
     "execution_count": 64,
     "metadata": {},
     "output_type": "execute_result"
    }
   ],
   "source": [
    "len(retiros2_3)"
   ]
  },
  {
   "cell_type": "code",
   "execution_count": 66,
   "metadata": {},
   "outputs": [
    {
     "data": {
      "text/plain": [
       "['234.00',\n",
       " '1 360.00',\n",
       " ' 1,496.00',\n",
       " ' 1 000.00',\n",
       " '2,186.00',\n",
       " '360.00',\n",
       " ' 8 000.00',\n",
       " ' 4,000.00',\n",
       " ' 15 146.00',\n",
       " '1,459.00',\n",
       " '493.00']"
      ]
     },
     "execution_count": 66,
     "metadata": {},
     "output_type": "execute_result"
    }
   ],
   "source": [
    "#organizo retiros pagina 2\n",
    "retiros_pag_2=[]\n",
    "contador=0\n",
    "for i in range(len(conceptos_pag_2)):\n",
    "    if conceptos_pag_2[i].startswith('DEPOSITO'):\n",
    "        retiros_pag_2.append(0)\n",
    "    \n",
    "    else:\n",
    "        retiros_pag_2.append(retiros2_3[contador])\n",
    "        contador=contador+1\n",
    "retiros_pag_2"
   ]
  },
  {
   "cell_type": "code",
   "execution_count": 152,
   "metadata": {},
   "outputs": [
    {
     "data": {
      "text/plain": [
       "['DEPÓSITOS']"
      ]
     },
     "execution_count": 152,
     "metadata": {},
     "output_type": "execute_result"
    }
   ],
   "source": [
    "#depositos\n",
    "depositos_lista_pag_2=[]\n",
    "for i in range(len(tabla_pag_2)):\n",
    "    if re.match('depósitos',tabla_pag_2[i].lower()):\n",
    "        depositos_lista_pag_2.append(tabla_pag_2[i])\n",
    "depositos_lista_pag_2\n",
    "#no hay depositos"
   ]
  },
  {
   "cell_type": "code",
   "execution_count": 153,
   "metadata": {},
   "outputs": [],
   "source": [
    "depositos2=[]\n",
    "for i in depositos_lista_pag_2:\n",
    "    if re.search(r'\\d+', i):\n",
    "        depositos2.append(i)\n",
    "\n",
    "depositos2_1=[]     \n",
    "for i in depositos2:\n",
    "    j=i.split(' ')\n",
    "    for k in j:\n",
    "        depositos2_1.append(k)"
   ]
  },
  {
   "cell_type": "code",
   "execution_count": 154,
   "metadata": {},
   "outputs": [
    {
     "data": {
      "text/plain": [
       "['0', '0', '0', '0', '0', '0', '0', '0', '0', '0', '0']"
      ]
     },
     "execution_count": 154,
     "metadata": {},
     "output_type": "execute_result"
    }
   ],
   "source": [
    "#organizo depositos\n",
    "depositos_pag_2=[]\n",
    "contador=0\n",
    "for i in range(len(conceptos_pag_2)):\n",
    "    if conceptos_pag_2[i].startswith('DEPOSITO') or conceptos_pag_2[i].startswith('INTERES'):\n",
    "        depositos_pag_2.append(depositos2_1[contador])\n",
    "        contador=contador+1\n",
    "    else:\n",
    "        depositos_pag_2.append('0')\n",
    "depositos_pag_2"
   ]
  },
  {
   "cell_type": "code",
   "execution_count": 75,
   "metadata": {},
   "outputs": [
    {
     "data": {
      "text/plain": [
       "['SALDO 2,715.71 1 355.71 9,859.51 8,859.51',\n",
       " '6,672.78 6,312.78 8 312.78 4,312.78 9 166.78',\n",
       " '7,707.08',\n",
       " '7 213.90']"
      ]
     },
     "execution_count": 75,
     "metadata": {},
     "output_type": "execute_result"
    }
   ],
   "source": [
    "#saldos\n",
    "saldos_lista_pag_2=[]\n",
    "for i in range(len(tabla_pag_2)):\n",
    "    if re.match('saldo',tabla_pag_2[i].lower()):\n",
    "        saldos_lista_pag_2.append(tabla_pag_2[i])\n",
    "        saldos_lista_pag_2.append(tabla_pag_2[i+1])\n",
    "        saldos_lista_pag_2.append(tabla_pag_2[i+2])\n",
    "        saldos_lista_pag_2.append(tabla_pag_2[i+3])\n",
    "        \n",
    "saldos_lista_pag_2"
   ]
  },
  {
   "cell_type": "code",
   "execution_count": 79,
   "metadata": {},
   "outputs": [
    {
     "data": {
      "text/plain": [
       "['SALDO 2,715.71 1 355.71 9,859.51 8,859.51',\n",
       " '6,672.78 6,312.78 8 312.78 4,312.78 9 166.78',\n",
       " '7,707.08',\n",
       " '7 213.90']"
      ]
     },
     "execution_count": 79,
     "metadata": {},
     "output_type": "execute_result"
    }
   ],
   "source": [
    "saldos2_1=[]\n",
    "for i in range(len(saldos_lista_pag_2)):\n",
    "    if re.search(r'SALDO \\d+', saldos_lista_pag_2[i]):\n",
    "        saldos2_1.append(saldos_lista_pag_2[i])\n",
    "        saldos2_1.append(saldos_lista_pag_2[i+1])\n",
    "        saldos2_1.append(saldos_lista_pag_2[i+2])\n",
    "        saldos2_1.append(saldos_lista_pag_2[i+3])\n",
    "        \n",
    "saldos2_1"
   ]
  },
  {
   "cell_type": "code",
   "execution_count": 80,
   "metadata": {},
   "outputs": [
    {
     "data": {
      "text/plain": [
       "[' 2,715',\n",
       " ' 1 355',\n",
       " ' 9,859',\n",
       " ' 8,859',\n",
       " '6,672',\n",
       " ' 6,312',\n",
       " ' 8 312',\n",
       " ' 4,312',\n",
       " ' 9 166',\n",
       " '7,707',\n",
       " '7 213']"
      ]
     },
     "execution_count": 80,
     "metadata": {},
     "output_type": "execute_result"
    }
   ],
   "source": [
    "saldos2_2=[]\n",
    "for i in saldos2_1:\n",
    "    j=re.split('SALDO|\\.\\d{2}',i)\n",
    "    saldos2_2.append(j)\n",
    "    \n",
    "saldos2_3=[]\n",
    "for i in saldos2_2:\n",
    "    for j in i:\n",
    "        if re.search(r'\\d+',j):\n",
    "            saldos2_3.append(j)\n",
    "            \n",
    "saldos2_3"
   ]
  },
  {
   "cell_type": "code",
   "execution_count": 82,
   "metadata": {},
   "outputs": [],
   "source": [
    "saldos_pag_2=saldos2_3"
   ]
  },
  {
   "cell_type": "markdown",
   "metadata": {},
   "source": [
    "# pagina 3"
   ]
  },
  {
   "cell_type": "code",
   "execution_count": 114,
   "metadata": {},
   "outputs": [],
   "source": [
    "tabla_pag_3=pdf[movimientos[2]+1:fin[0]]"
   ]
  },
  {
   "cell_type": "code",
   "execution_count": 115,
   "metadata": {},
   "outputs": [
    {
     "data": {
      "text/plain": [
       "['FECHA 30 SEP 30 SEP', '02 OCT 02 OCT']"
      ]
     },
     "execution_count": 115,
     "metadata": {},
     "output_type": "execute_result"
    }
   ],
   "source": [
    "#fecha\n",
    "#fechas\n",
    "fecha_lista_pag_3=[]\n",
    "for i in range(len(tabla_pag_3)):\n",
    "    if re.match('fecha',tabla_pag_3[i].lower()):\n",
    "        fecha_lista_pag_3.append(tabla_pag_3[i])\n",
    "    elif re.match(r'\\d{2} \\w{3}',tabla_pag_3[i]):\n",
    "        fecha_lista_pag_3.append(tabla_pag_3[i])\n",
    "\n",
    "        \n",
    "fecha_lista_pag_3"
   ]
  },
  {
   "cell_type": "code",
   "execution_count": 116,
   "metadata": {},
   "outputs": [],
   "source": [
    "#separo\n",
    "fechas_lista_2_pag_3=[]\n",
    "\n",
    "for i in fecha_lista_pag_3:\n",
    "    fechas_lista_2_pag_3.append(re.findall(r'\\d{2} \\w{3}',i))"
   ]
  },
  {
   "cell_type": "code",
   "execution_count": 117,
   "metadata": {},
   "outputs": [],
   "source": [
    "#aplano lista de listas\n",
    "fechas_pag_3 = []\n",
    "fechas_pag_3.append(fechas1_pag_3)\n",
    "for i in fechas_lista_2_pag_3:\n",
    "    for j in i:\n",
    "        fechas_pag_3.append(j)"
   ]
  },
  {
   "cell_type": "code",
   "execution_count": 118,
   "metadata": {},
   "outputs": [
    {
     "data": {
      "text/plain": [
       "['28 SEP', '30 SEP', '30 SEP', '02 OCT', '02 OCT']"
      ]
     },
     "execution_count": 118,
     "metadata": {},
     "output_type": "execute_result"
    }
   ],
   "source": [
    "fechas_pag_3"
   ]
  },
  {
   "cell_type": "code",
   "execution_count": 126,
   "metadata": {},
   "outputs": [],
   "source": [
    "#conceptos\n",
    "tabla_string_3=\" \".join(tabla_pag_3)"
   ]
  },
  {
   "cell_type": "code",
   "execution_count": 127,
   "metadata": {},
   "outputs": [
    {
     "data": {
      "text/plain": [
       "['FECHA 30 SEP 30 SEP 02 OCT 02 OCT CONCEPTO 20200929 suc 0342 CAJA 0093 AUT 01012606 HORA 05:39 Mexican Peso 20200929 CAJA 0093 AUT 01012606 20200929 HORA 05:39 SUC 0342 ',\n",
       " 'CCO 20201002 75445500274001277147220 20201002 suc 0342 CAJA 0093 AUT 00684097 HORA 05:25 ',\n",
       " '',\n",
       " '',\n",
       " ' 1311076Y5 7298 suc 0342 CAJA 0093 AUT 00684100 HORA 05:25 20201002 75412910275910272446024 20201002 suc 0342 CAJA 0093 AUT 00684100 HORA 05:25 ',\n",
       " 'ONOP R 7 CHEQUES GIRADOS CAJA 0000 AUT 01906646 HORA 23:59 SUC 9656 IVA ',\n",
       " 'ON CHEQUE GIRADO CAJA 0000 AUT 01906646 HORA 23:59 SUC 9656 Centro de Atención Telefónica Ciudad de México 9-999 9999 (1Banamex) Otra ciudad sin costo 99 999 999 9999 RETIROS DEPÓSITOS 351.24 742.90 350.00 105.00 lNecesitas enviar el comprobante de una transferencia? Compártelo después de hacer tu operación desde Citibanamex Móvil · Maneja tu dinero desde la APP. (ar¡¡¡ft rISl!os lle ooolooci C01111ll0fl!S y cOfllióa lle ISO d! proikrctDI y lmllOS !11 .e Página 4 de 11 SALDO 6 862.66 6,119.76 5 769.76 5 664.76 0006475 000190.B25INDA0I0.OD.1002.01 \\x0ccffibanamex@ NOMBRE APELLIDO P APELLIDO M']"
      ]
     },
     "execution_count": 127,
     "metadata": {},
     "output_type": "execute_result"
    }
   ],
   "source": [
    "conceptos_p3=re.split('COMISI|COB|XXXX|PROSE',tabla_string_3)\n",
    "conceptos_p3"
   ]
  },
  {
   "cell_type": "code",
   "execution_count": 131,
   "metadata": {},
   "outputs": [
    {
     "data": {
      "text/plain": [
       "['FECHA 30 SEP 30 SEP 02 OCT 02 OCT CONCEPTO 20200929 suc 0342 CAJA 0093 AUT 01012606 HORA 05:39 Mexican Peso 20200929 CAJA 0093 AUT 01012606 20200929 HORA 05:39 SUC 0342 ',\n",
       " 'PROSECCO 20201002 75445500274001277147220 20201002 suc 0342 CAJA 0093 AUT 00684097 HORA 05:25 ',\n",
       " 'xxxxxxxxxxONOP R 7 CHEQUES GIRADOS CAJA 0000 AUT 01906646 HORA 23:59 SUC 9656 IVA ',\n",
       " 'COMISIONOP R 7 CHEQUES GIRADOS CAJA 0000 AUT 01906646 HORA 23:59 SUC 9656 IVA ',\n",
       " 'IVA COMISION CHEQUE GIRADO CAJA 0000 AUT 01906646 HORA 23:59 SUC 9656 Centro de Atención Telefónica Ciudad de México 9-999 9999 (1Banamex) Otra ciudad sin costo 99 999 999 9999 RETIROS DEPÓSITOS 351.24 742.90 350.00 105.00 lNecesitas enviar el comprobante de una transferencia? Compártelo después de hacer tu operación desde Citibanamex Móvil · Maneja tu dinero desde la APP. (ar¡¡¡ft rISl!os lle ooolooci C01111ll0fl!S y cOfllióa lle ISO d! proikrctDI y lmllOS !11 .e Página 4 de 11 SALDO 6 862.66 6,119.76 5 769.76 5 664.76 0006475 000190.B25INDA0I0.OD.1002.01 \\x0ccffibanamex@ NOMBRE APELLIDO P APELLIDO M']"
      ]
     },
     "execution_count": 131,
     "metadata": {},
     "output_type": "execute_result"
    }
   ],
   "source": [
    "conceptos_pag_3=[]\n",
    "for i in range(len(conceptos_p3)):\n",
    "    if conceptos_p3[i].startswith('FECHA'):\n",
    "        j=conceptos_p3[i]\n",
    "        conceptos_pag_3.append(j)\n",
    "    elif conceptos_p3[i].startswith('CCO'):\n",
    "        j='PROSE'+conceptos_p3[i]\n",
    "        conceptos_pag_3.append(j)\n",
    "    elif conceptos_p3[i].startswith('ONOP '):\n",
    "        j='COMISI'+conceptos_p3[i]\n",
    "        conceptos_pag_3.append(j)\n",
    "    elif conceptos_p3[i].startswith('ON CHEQUE'):\n",
    "        j='IVA COMISI'+conceptos_p3[i]\n",
    "        conceptos_pag_3.append(j)\n",
    "    elif conceptos_p3[i].startswith(' 1311076Y5'):\n",
    "        j='xxxxxxxxxx'+conceptos_p3[i+1]\n",
    "        conceptos_pag_3.append(j)\n",
    "    elif conceptos_p3[i].startswith('COM'):\n",
    "        j='UBER.'+conceptos_p3[i]\n",
    "        conceptos_pag_3.append(j)\n",
    "conceptos_pag_3"
   ]
  },
  {
   "cell_type": "code",
   "execution_count": 143,
   "metadata": {},
   "outputs": [
    {
     "data": {
      "text/plain": [
       "['RETIROS',\n",
       " 'DEPÓSITOS',\n",
       " '351.24 742.90',\n",
       " '350.00 105.00',\n",
       " 'lNecesitas enviar el comprobante de una transferencia?',\n",
       " 'Compártelo después de hacer tu operación desde Citibanamex Móvil',\n",
       " '· Maneja tu dinero desde la APP.',\n",
       " '(ar¡¡¡ft rISl!os lle ooolooci C01111ll0fl!S y cOfllióa lle ISO d! proikrctDI y lmllOS !11 .e',\n",
       " 'Página 4 de 11']"
      ]
     },
     "execution_count": 143,
     "metadata": {},
     "output_type": "execute_result"
    }
   ],
   "source": [
    "#retiros\n",
    "retiros_lista_pag_3=[]\n",
    "for i in range(len(tabla_pag_3)):\n",
    "    if re.match('retiros',tabla_pag_3[i].lower()):\n",
    "        retiros_lista_pag_3.append(tabla_pag_3[i])\n",
    "        retiros_lista_pag_3.append(tabla_pag_3[i+1])\n",
    "        retiros_lista_pag_3.append(tabla_pag_3[i+2])\n",
    "        retiros_lista_pag_3.append(tabla_pag_3[i+3])\n",
    "        retiros_lista_pag_3.append(tabla_pag_3[i+4])\n",
    "        retiros_lista_pag_3.append(tabla_pag_3[i+5])\n",
    "        retiros_lista_pag_3.append(tabla_pag_3[i+6])\n",
    "        retiros_lista_pag_3.append(tabla_pag_3[i+7])\n",
    "        retiros_lista_pag_3.append(tabla_pag_3[i+8])\n",
    "retiros_lista_pag_3"
   ]
  },
  {
   "cell_type": "code",
   "execution_count": 146,
   "metadata": {},
   "outputs": [],
   "source": [
    "retiros3_1=[]\n",
    "for i in retiros_lista_pag_3:\n",
    "    if re.search(r'\\d+', i):\n",
    "        retiros3_1.append(i)"
   ]
  },
  {
   "cell_type": "code",
   "execution_count": 147,
   "metadata": {},
   "outputs": [
    {
     "data": {
      "text/plain": [
       "[['351', ' 742', ''],\n",
       " ['350', ' 105', ''],\n",
       " ['(ar¡¡¡ft rISl!os lle ooolooci C01111ll0fl!S y cOfllióa lle ISO d! proikrctDI y lmllOS !11 .e'],\n",
       " ['Página 4 de 11']]"
      ]
     },
     "execution_count": 147,
     "metadata": {},
     "output_type": "execute_result"
    }
   ],
   "source": [
    "retiros3_2=[]\n",
    "for i in retiros3_1:\n",
    "    retiros3_2.append(re.split(r'\\.\\d{2}',i))\n",
    "    \n",
    "retiros3_2"
   ]
  },
  {
   "cell_type": "code",
   "execution_count": 148,
   "metadata": {},
   "outputs": [
    {
     "data": {
      "text/plain": [
       "['351.00',\n",
       " ' 742.00',\n",
       " '350.00',\n",
       " ' 105.00',\n",
       " '(ar¡¡¡ft rISl!os lle ooolooci C01111ll0fl!S y cOfllióa lle ISO d! proikrctDI y lmllOS !11 .e.00',\n",
       " 'Página 4 de 11.00']"
      ]
     },
     "execution_count": 148,
     "metadata": {},
     "output_type": "execute_result"
    }
   ],
   "source": [
    "retiros3_3=[]\n",
    "for i in retiros3_2:\n",
    "    for j in i:\n",
    "        if re.search(r'\\d+', j):\n",
    "            retiros3_3.append(j+'.00')\n",
    "        \n",
    "retiros3_3"
   ]
  },
  {
   "cell_type": "code",
   "execution_count": 149,
   "metadata": {},
   "outputs": [
    {
     "data": {
      "text/plain": [
       "['351.00',\n",
       " ' 742.00',\n",
       " '350.00',\n",
       " ' 105.00',\n",
       " '(ar¡¡¡ft rISl!os lle ooolooci C01111ll0fl!S y cOfllióa lle ISO d! proikrctDI y lmllOS !11 .e.00']"
      ]
     },
     "execution_count": 149,
     "metadata": {},
     "output_type": "execute_result"
    }
   ],
   "source": [
    "#organizo retiros pagina 3\n",
    "retiros_pag_3=[]\n",
    "contador=0\n",
    "for i in range(len(conceptos_pag_3)):\n",
    "    if conceptos_pag_3[i].startswith('DEPOSITO'):\n",
    "        retiros_pag_3.append(0)\n",
    "    \n",
    "    else:\n",
    "        retiros_pag_3.append(retiros3_3[contador])\n",
    "        contador=contador+1\n",
    "retiros_pag_3"
   ]
  },
  {
   "cell_type": "code",
   "execution_count": 150,
   "metadata": {},
   "outputs": [
    {
     "data": {
      "text/plain": [
       "['DEPÓSITOS']"
      ]
     },
     "execution_count": 150,
     "metadata": {},
     "output_type": "execute_result"
    }
   ],
   "source": [
    "#depositos\n",
    "depositos_lista_pag_3=[]\n",
    "for i in range(len(tabla_pag_3)):\n",
    "    if re.match('depósitos',tabla_pag_3[i].lower()):\n",
    "        depositos_lista_pag_3.append(tabla_pag_3[i])\n",
    "depositos_lista_pag_3\n",
    "#no hay depositos"
   ]
  },
  {
   "cell_type": "code",
   "execution_count": 151,
   "metadata": {},
   "outputs": [],
   "source": [
    "depositos3=[]\n",
    "for i in depositos_lista_pag_3:\n",
    "    if re.search(r'\\d+', i):\n",
    "        depositos3.append(i)\n",
    "\n",
    "depositos3_1=[]     \n",
    "for i in depositos3:\n",
    "    j=i.split(' ')\n",
    "    for k in j:\n",
    "        depositos3_1.append(k)"
   ]
  },
  {
   "cell_type": "code",
   "execution_count": 155,
   "metadata": {},
   "outputs": [
    {
     "data": {
      "text/plain": [
       "['0', '0', '0', '0', '0']"
      ]
     },
     "execution_count": 155,
     "metadata": {},
     "output_type": "execute_result"
    }
   ],
   "source": [
    "#organizo depositos\n",
    "depositos_pag_3=[]\n",
    "contador=0\n",
    "for i in range(len(conceptos_pag_3)):\n",
    "    if conceptos_pag_3[i].startswith('DEPOSITO') or conceptos_pag_3[i].startswith('INTERES'):\n",
    "        depositos_pag_3.append(depositos3_1[contador])\n",
    "        contador=contador+1\n",
    "    else:\n",
    "        depositos_pag_3.append('0')\n",
    "depositos_pag_3"
   ]
  },
  {
   "cell_type": "code",
   "execution_count": 156,
   "metadata": {},
   "outputs": [
    {
     "data": {
      "text/plain": [
       "['SALDO 6 862.66', '6,119.76', '5 769.76 5 664.76', '0006475']"
      ]
     },
     "execution_count": 156,
     "metadata": {},
     "output_type": "execute_result"
    }
   ],
   "source": [
    "#saldos\n",
    "saldos_lista_pag_3=[]\n",
    "for i in range(len(tabla_pag_3)):\n",
    "    if re.match('saldo',tabla_pag_3[i].lower()):\n",
    "        saldos_lista_pag_3.append(tabla_pag_3[i])\n",
    "        saldos_lista_pag_3.append(tabla_pag_3[i+1])\n",
    "        saldos_lista_pag_3.append(tabla_pag_3[i+2])\n",
    "        saldos_lista_pag_3.append(tabla_pag_3[i+3])\n",
    "        \n",
    "saldos_lista_pag_3"
   ]
  },
  {
   "cell_type": "code",
   "execution_count": 160,
   "metadata": {},
   "outputs": [
    {
     "data": {
      "text/plain": [
       "['SALDO 6 862.66', '6,119.76', '5 769.76 5 664.76', '0006475']"
      ]
     },
     "execution_count": 160,
     "metadata": {},
     "output_type": "execute_result"
    }
   ],
   "source": [
    "saldos3_1=[]\n",
    "for i in range(len(saldos_lista_pag_3)):\n",
    "    if re.search(r'SALDO \\d+', saldos_lista_pag_3[i]):\n",
    "        saldos3_1.append(saldos_lista_pag_3[i])\n",
    "        saldos3_1.append(saldos_lista_pag_3[i+1])\n",
    "        saldos3_1.append(saldos_lista_pag_3[i+2])\n",
    "        saldos3_1.append(saldos_lista_pag_3[i+3])\n",
    "\n",
    "\n",
    "        \n",
    "saldos3_1"
   ]
  },
  {
   "cell_type": "code",
   "execution_count": 161,
   "metadata": {},
   "outputs": [
    {
     "data": {
      "text/plain": [
       "[' 6 862', '6,119', '5 769', ' 5 664', '0006475']"
      ]
     },
     "execution_count": 161,
     "metadata": {},
     "output_type": "execute_result"
    }
   ],
   "source": [
    "saldos3_2=[]\n",
    "for i in saldos3_1:\n",
    "    j=re.split('SALDO|\\.\\d{2}',i)\n",
    "    saldos3_2.append(j)\n",
    "    \n",
    "saldos3_3=[]\n",
    "for i in saldos3_2:\n",
    "    for j in i:\n",
    "        if re.search(r'\\d+',j):\n",
    "            saldos3_3.append(j)\n",
    "            \n",
    "saldos3_3"
   ]
  },
  {
   "cell_type": "code",
   "execution_count": 162,
   "metadata": {},
   "outputs": [],
   "source": [
    "saldos_pag_3= saldos3_3"
   ]
  },
  {
   "cell_type": "markdown",
   "metadata": {},
   "source": [
    "# juntado"
   ]
  },
  {
   "cell_type": "code",
   "execution_count": 164,
   "metadata": {},
   "outputs": [],
   "source": [
    "fechas= fechas_pag_1+fechas_pag_2+fechas_pag_3\n",
    "conceptos=conceptos_pag_1+conceptos_pag_2+conceptos_pag_3\n",
    "retiros= retiros_pag_1+retiros_pag_2+retiros_pag_3\n",
    "depositos= depositos_pag_1+depositos_pag_2+depositos_pag_3\n",
    "saldos= saldos_pag_1+saldos_pag_2+saldos_pag_3\n"
   ]
  },
  {
   "cell_type": "code",
   "execution_count": 165,
   "metadata": {},
   "outputs": [],
   "source": [
    "#este data frame se puede exportar como csv\n",
    "edo_cuenta=pd.DataFrame(list(zip(fechas, conceptos, retiros, depositos, saldos)),\n",
    "              columns=['fecha','concepto','retiro', 'deposito','saldo'])"
   ]
  },
  {
   "cell_type": "code",
   "execution_count": 166,
   "metadata": {},
   "outputs": [
    {
     "data": {
      "text/html": [
       "<div>\n",
       "<style scoped>\n",
       "    .dataframe tbody tr th:only-of-type {\n",
       "        vertical-align: middle;\n",
       "    }\n",
       "\n",
       "    .dataframe tbody tr th {\n",
       "        vertical-align: top;\n",
       "    }\n",
       "\n",
       "    .dataframe thead th {\n",
       "        text-align: right;\n",
       "    }\n",
       "</style>\n",
       "<table border=\"1\" class=\"dataframe\">\n",
       "  <thead>\n",
       "    <tr style=\"text-align: right;\">\n",
       "      <th></th>\n",
       "      <th>fecha</th>\n",
       "      <th>concepto</th>\n",
       "      <th>retiro</th>\n",
       "      <th>deposito</th>\n",
       "      <th>saldo</th>\n",
       "    </tr>\n",
       "  </thead>\n",
       "  <tbody>\n",
       "    <tr>\n",
       "      <th>0</th>\n",
       "      <td>05 SEP</td>\n",
       "      <td>SALDO ANTERIOR</td>\n",
       "      <td>0</td>\n",
       "      <td>0</td>\n",
       "      <td>1 291</td>\n",
       "    </tr>\n",
       "    <tr>\n",
       "      <th>1</th>\n",
       "      <td>07 SEP</td>\n",
       "      <td>COBRO DE CHEQUE NUMERO 000 SUC 0000 CAJA 0000 ...</td>\n",
       "      <td>2,000.00</td>\n",
       "      <td>0</td>\n",
       "      <td>9,291</td>\n",
       "    </tr>\n",
       "    <tr>\n",
       "      <th>2</th>\n",
       "      <td>08 SEP</td>\n",
       "      <td>EXCENSION COBRO COMISION MANEJO DE CUENTA PERI...</td>\n",
       "      <td>0</td>\n",
       "      <td>0</td>\n",
       "      <td>9,291</td>\n",
       "    </tr>\n",
       "    <tr>\n",
       "      <th>3</th>\n",
       "      <td>10 SEP</td>\n",
       "      <td>COBRO DE CHEQUE NUMERO 000 suc 0000 CAJA 0000 ...</td>\n",
       "      <td>950.00</td>\n",
       "      <td>0</td>\n",
       "      <td>8,341</td>\n",
       "    </tr>\n",
       "    <tr>\n",
       "      <th>4</th>\n",
       "      <td>10 SEP</td>\n",
       "      <td>COBRO DE CHEQUE NUMERO 174 suc 0000 CAJA 0000 ...</td>\n",
       "      <td>1 686.00</td>\n",
       "      <td>0</td>\n",
       "      <td>6 655</td>\n",
       "    </tr>\n",
       "    <tr>\n",
       "      <th>5</th>\n",
       "      <td>10 SEP</td>\n",
       "      <td>COBRO DE CHEQUE NUMERO 000 suc 0000 CAJA 0000 ...</td>\n",
       "      <td>1,326.00</td>\n",
       "      <td>0</td>\n",
       "      <td>5,329</td>\n",
       "    </tr>\n",
       "    <tr>\n",
       "      <th>6</th>\n",
       "      <td>18 SEP</td>\n",
       "      <td>GNC PLAZA LILAS MAX0611157H8 9999 999999999999...</td>\n",
       "      <td>2,029.70.00</td>\n",
       "      <td>0</td>\n",
       "      <td>3,299</td>\n",
       "    </tr>\n",
       "    <tr>\n",
       "      <th>7</th>\n",
       "      <td>18 SEP</td>\n",
       "      <td>XXXX XXXX &amp; XXX XX 000000000 0000 suc 0342 CAJ...</td>\n",
       "      <td>350.00</td>\n",
       "      <td>0</td>\n",
       "      <td>2 949</td>\n",
       "    </tr>\n",
       "    <tr>\n",
       "      <th>8</th>\n",
       "      <td>18 SEP</td>\n",
       "      <td>5411 75412910263975987909057 20200921 CAJA 009...</td>\n",
       "      <td>234.00</td>\n",
       "      <td>0</td>\n",
       "      <td>2,715</td>\n",
       "    </tr>\n",
       "    <tr>\n",
       "      <th>9</th>\n",
       "      <td>21 SEP</td>\n",
       "      <td>REPOSTERIA XXXX999999XX9 5441 20200923 7532690...</td>\n",
       "      <td>1 360.00</td>\n",
       "      <td>0</td>\n",
       "      <td>1 355</td>\n",
       "    </tr>\n",
       "    <tr>\n",
       "      <th>10</th>\n",
       "      <td>21 SEP</td>\n",
       "      <td>MARKET 75435290266536760465142 20200923 CAJA 0...</td>\n",
       "      <td>1,496.00</td>\n",
       "      <td>0</td>\n",
       "      <td>9,859</td>\n",
       "    </tr>\n",
       "    <tr>\n",
       "      <th>11</th>\n",
       "      <td>21 SEP</td>\n",
       "      <td>FLORES 5992 20200923 75412780265000108700221 2...</td>\n",
       "      <td>1 000.00</td>\n",
       "      <td>0</td>\n",
       "      <td>8,859</td>\n",
       "    </tr>\n",
       "    <tr>\n",
       "      <th>12</th>\n",
       "      <td>22 SEP</td>\n",
       "      <td>MARKET 75435290269536760467046 20200928 CAJA 0...</td>\n",
       "      <td>2,186.00</td>\n",
       "      <td>0</td>\n",
       "      <td>6,672</td>\n",
       "    </tr>\n",
       "    <tr>\n",
       "      <th>13</th>\n",
       "      <td>24 SEP</td>\n",
       "      <td>COBRO DE CHEQUE NUMERO 999 SUC 4409 CAJA 0003 ...</td>\n",
       "      <td>360.00</td>\n",
       "      <td>0</td>\n",
       "      <td>6,312</td>\n",
       "    </tr>\n",
       "    <tr>\n",
       "      <th>14</th>\n",
       "      <td>24 SEP</td>\n",
       "      <td>COBRO DE CHEQUE NUMERO 999 SUC 4409 CAJA 0003 ...</td>\n",
       "      <td>8 000.00</td>\n",
       "      <td>0</td>\n",
       "      <td>8 312</td>\n",
       "    </tr>\n",
       "    <tr>\n",
       "      <th>15</th>\n",
       "      <td>24 SEP</td>\n",
       "      <td>COBRO DE CHEQUE NUMERO 999 SUC 4409 CAJA 0001 ...</td>\n",
       "      <td>4,000.00</td>\n",
       "      <td>0</td>\n",
       "      <td>4,312</td>\n",
       "    </tr>\n",
       "    <tr>\n",
       "      <th>16</th>\n",
       "      <td>25 SEP</td>\n",
       "      <td>UBER.COM 5812 20200928 15276320270002487493963...</td>\n",
       "      <td>15 146.00</td>\n",
       "      <td>0</td>\n",
       "      <td>9 166</td>\n",
       "    </tr>\n",
       "    <tr>\n",
       "      <th>17</th>\n",
       "      <td>25 SEP</td>\n",
       "      <td>UBER.COM 5812 20200928 15276320270002530791413...</td>\n",
       "      <td>1,459.00</td>\n",
       "      <td>0</td>\n",
       "      <td>7,707</td>\n",
       "    </tr>\n",
       "    <tr>\n",
       "      <th>18</th>\n",
       "      <td>25 SEP</td>\n",
       "      <td>UBER.COM 5812 20200929 15276320272002337138493...</td>\n",
       "      <td>493.00</td>\n",
       "      <td>0</td>\n",
       "      <td>7 213</td>\n",
       "    </tr>\n",
       "    <tr>\n",
       "      <th>19</th>\n",
       "      <td>28 SEP</td>\n",
       "      <td>FECHA 30 SEP 30 SEP 02 OCT 02 OCT CONCEPTO 202...</td>\n",
       "      <td>351.00</td>\n",
       "      <td>0</td>\n",
       "      <td>6 862</td>\n",
       "    </tr>\n",
       "    <tr>\n",
       "      <th>20</th>\n",
       "      <td>30 SEP</td>\n",
       "      <td>PROSECCO 20201002 75445500274001277147220 2020...</td>\n",
       "      <td>742.00</td>\n",
       "      <td>0</td>\n",
       "      <td>6,119</td>\n",
       "    </tr>\n",
       "    <tr>\n",
       "      <th>21</th>\n",
       "      <td>30 SEP</td>\n",
       "      <td>xxxxxxxxxxONOP R 7 CHEQUES GIRADOS CAJA 0000 A...</td>\n",
       "      <td>350.00</td>\n",
       "      <td>0</td>\n",
       "      <td>5 769</td>\n",
       "    </tr>\n",
       "    <tr>\n",
       "      <th>22</th>\n",
       "      <td>02 OCT</td>\n",
       "      <td>COMISIONOP R 7 CHEQUES GIRADOS CAJA 0000 AUT 0...</td>\n",
       "      <td>105.00</td>\n",
       "      <td>0</td>\n",
       "      <td>5 664</td>\n",
       "    </tr>\n",
       "    <tr>\n",
       "      <th>23</th>\n",
       "      <td>02 OCT</td>\n",
       "      <td>IVA COMISION CHEQUE GIRADO CAJA 0000 AUT 01906...</td>\n",
       "      <td>(ar¡¡¡ft rISl!os lle ooolooci C01111ll0fl!S y ...</td>\n",
       "      <td>0</td>\n",
       "      <td>0006475</td>\n",
       "    </tr>\n",
       "  </tbody>\n",
       "</table>\n",
       "</div>"
      ],
      "text/plain": [
       "     fecha                                           concepto  \\\n",
       "0   05 SEP                                    SALDO ANTERIOR    \n",
       "1   07 SEP  COBRO DE CHEQUE NUMERO 000 SUC 0000 CAJA 0000 ...   \n",
       "2   08 SEP  EXCENSION COBRO COMISION MANEJO DE CUENTA PERI...   \n",
       "3   10 SEP  COBRO DE CHEQUE NUMERO 000 suc 0000 CAJA 0000 ...   \n",
       "4   10 SEP  COBRO DE CHEQUE NUMERO 174 suc 0000 CAJA 0000 ...   \n",
       "5   10 SEP  COBRO DE CHEQUE NUMERO 000 suc 0000 CAJA 0000 ...   \n",
       "6   18 SEP  GNC PLAZA LILAS MAX0611157H8 9999 999999999999...   \n",
       "7   18 SEP  XXXX XXXX & XXX XX 000000000 0000 suc 0342 CAJ...   \n",
       "8   18 SEP  5411 75412910263975987909057 20200921 CAJA 009...   \n",
       "9   21 SEP  REPOSTERIA XXXX999999XX9 5441 20200923 7532690...   \n",
       "10  21 SEP  MARKET 75435290266536760465142 20200923 CAJA 0...   \n",
       "11  21 SEP  FLORES 5992 20200923 75412780265000108700221 2...   \n",
       "12  22 SEP  MARKET 75435290269536760467046 20200928 CAJA 0...   \n",
       "13  24 SEP  COBRO DE CHEQUE NUMERO 999 SUC 4409 CAJA 0003 ...   \n",
       "14  24 SEP  COBRO DE CHEQUE NUMERO 999 SUC 4409 CAJA 0003 ...   \n",
       "15  24 SEP  COBRO DE CHEQUE NUMERO 999 SUC 4409 CAJA 0001 ...   \n",
       "16  25 SEP  UBER.COM 5812 20200928 15276320270002487493963...   \n",
       "17  25 SEP  UBER.COM 5812 20200928 15276320270002530791413...   \n",
       "18  25 SEP  UBER.COM 5812 20200929 15276320272002337138493...   \n",
       "19  28 SEP  FECHA 30 SEP 30 SEP 02 OCT 02 OCT CONCEPTO 202...   \n",
       "20  30 SEP  PROSECCO 20201002 75445500274001277147220 2020...   \n",
       "21  30 SEP  xxxxxxxxxxONOP R 7 CHEQUES GIRADOS CAJA 0000 A...   \n",
       "22  02 OCT  COMISIONOP R 7 CHEQUES GIRADOS CAJA 0000 AUT 0...   \n",
       "23  02 OCT  IVA COMISION CHEQUE GIRADO CAJA 0000 AUT 01906...   \n",
       "\n",
       "                                               retiro deposito    saldo  \n",
       "0                                                   0        0    1 291  \n",
       "1                                            2,000.00        0    9,291  \n",
       "2                                                   0        0    9,291  \n",
       "3                                              950.00        0    8,341  \n",
       "4                                            1 686.00        0    6 655  \n",
       "5                                            1,326.00        0    5,329  \n",
       "6                                         2,029.70.00        0    3,299  \n",
       "7                                              350.00        0    2 949  \n",
       "8                                              234.00        0    2,715  \n",
       "9                                            1 360.00        0    1 355  \n",
       "10                                           1,496.00        0    9,859  \n",
       "11                                           1 000.00        0    8,859  \n",
       "12                                           2,186.00        0    6,672  \n",
       "13                                             360.00        0    6,312  \n",
       "14                                           8 000.00        0    8 312  \n",
       "15                                           4,000.00        0    4,312  \n",
       "16                                          15 146.00        0    9 166  \n",
       "17                                           1,459.00        0    7,707  \n",
       "18                                             493.00        0    7 213  \n",
       "19                                             351.00        0    6 862  \n",
       "20                                             742.00        0    6,119  \n",
       "21                                             350.00        0    5 769  \n",
       "22                                             105.00        0    5 664  \n",
       "23  (ar¡¡¡ft rISl!os lle ooolooci C01111ll0fl!S y ...        0  0006475  "
      ]
     },
     "execution_count": 166,
     "metadata": {},
     "output_type": "execute_result"
    }
   ],
   "source": [
    "edo_cuenta"
   ]
  },
  {
   "cell_type": "code",
   "execution_count": null,
   "metadata": {},
   "outputs": [],
   "source": []
  }
 ],
 "metadata": {
  "kernelspec": {
   "display_name": "Python 3",
   "language": "python",
   "name": "python3"
  },
  "language_info": {
   "codemirror_mode": {
    "name": "ipython",
    "version": 3
   },
   "file_extension": ".py",
   "mimetype": "text/x-python",
   "name": "python",
   "nbconvert_exporter": "python",
   "pygments_lexer": "ipython3",
   "version": "3.7.2"
  }
 },
 "nbformat": 4,
 "nbformat_minor": 2
}
