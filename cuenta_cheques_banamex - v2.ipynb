{
 "cells": [
  {
   "cell_type": "code",
   "execution_count": 1,
   "metadata": {},
   "outputs": [],
   "source": [
    "import textract"
   ]
  },
  {
   "cell_type": "code",
   "execution_count": 2,
   "metadata": {},
   "outputs": [],
   "source": [
    "import pandas as pd\n",
    "import numpy as np\n",
    "import re"
   ]
  },
  {
   "cell_type": "code",
   "execution_count": 3,
   "metadata": {},
   "outputs": [],
   "source": [
    "#extraigo texto\n",
    "archivo= 'tresalia\\Bancos\\Banamex_nacional\\pdf\\cuenta_cheques_banamex PDF.pdf'"
   ]
  },
  {
   "cell_type": "code",
   "execution_count": 4,
   "metadata": {},
   "outputs": [],
   "source": [
    "text = textract.process(archivo)"
   ]
  },
  {
   "cell_type": "code",
   "execution_count": 5,
   "metadata": {},
   "outputs": [],
   "source": [
    "#cambio formato\n",
    "encoding = 'utf-8'\n",
    "text_str=text.decode(encoding)"
   ]
  },
  {
   "cell_type": "code",
   "execution_count": 6,
   "metadata": {},
   "outputs": [],
   "source": [
    "#separo\n",
    "pdf=re.split(r\"[~\\r\\n]+\", text_str)"
   ]
  },
  {
   "cell_type": "code",
   "execution_count": 7,
   "metadata": {},
   "outputs": [
    {
     "data": {
      "text/html": [
       "<div>\n",
       "<style scoped>\n",
       "    .dataframe tbody tr th:only-of-type {\n",
       "        vertical-align: middle;\n",
       "    }\n",
       "\n",
       "    .dataframe tbody tr th {\n",
       "        vertical-align: top;\n",
       "    }\n",
       "\n",
       "    .dataframe thead th {\n",
       "        text-align: right;\n",
       "    }\n",
       "</style>\n",
       "<table border=\"1\" class=\"dataframe\">\n",
       "  <thead>\n",
       "    <tr style=\"text-align: right;\">\n",
       "      <th></th>\n",
       "      <th>informacion</th>\n",
       "    </tr>\n",
       "  </thead>\n",
       "  <tbody>\n",
       "    <tr>\n",
       "      <th>0</th>\n",
       "      <td>cffibanamex@</td>\n",
       "    </tr>\n",
       "    <tr>\n",
       "      <th>1</th>\n",
       "      <td>ESTADO DE CUENTA AL 30 DE SEPTIEMBRE DE 2020</td>\n",
       "    </tr>\n",
       "    <tr>\n",
       "      <th>2</th>\n",
       "      <td>CLIENTE:</td>\n",
       "    </tr>\n",
       "    <tr>\n",
       "      <th>3</th>\n",
       "      <td>9999999</td>\n",
       "    </tr>\n",
       "    <tr>\n",
       "      <th>4</th>\n",
       "      <td>Registro F ederal de Contribuyentes:</td>\n",
       "    </tr>\n",
       "  </tbody>\n",
       "</table>\n",
       "</div>"
      ],
      "text/plain": [
       "                                    informacion\n",
       "0                                  cffibanamex@\n",
       "1  ESTADO DE CUENTA AL 30 DE SEPTIEMBRE DE 2020\n",
       "2                                      CLIENTE:\n",
       "3                                       9999999\n",
       "4          Registro F ederal de Contribuyentes:"
      ]
     },
     "execution_count": 7,
     "metadata": {},
     "output_type": "execute_result"
    }
   ],
   "source": [
    "information_pdf=pd.DataFrame(pdf).rename(columns={0:\"informacion\"})\n",
    "information_pdf.head()"
   ]
  },
  {
   "cell_type": "code",
   "execution_count": 8,
   "metadata": {},
   "outputs": [
    {
     "data": {
      "text/plain": [
       "['CLIENTE:', '9999999', 'CLIENTE:', '9999999', 'CLIENTE:', '9999999']"
      ]
     },
     "execution_count": 8,
     "metadata": {},
     "output_type": "execute_result"
    }
   ],
   "source": [
    "#cliente\n",
    "cliente_lista=[]\n",
    "for i in range(len(pdf)):\n",
    "    if pdf[i].lower().startswith('cliente'):\n",
    "        cliente_lista.append(pdf[i])\n",
    "        cliente_lista.append(pdf[i+1])\n",
    "        \n",
    "cliente_lista"
   ]
  },
  {
   "cell_type": "code",
   "execution_count": 9,
   "metadata": {},
   "outputs": [
    {
     "data": {
      "text/plain": [
       "'cliente 9999999'"
      ]
     },
     "execution_count": 9,
     "metadata": {},
     "output_type": "execute_result"
    }
   ],
   "source": [
    "cliente= 'cliente '+cliente_lista[1]\n",
    "cliente"
   ]
  },
  {
   "cell_type": "code",
   "execution_count": 10,
   "metadata": {},
   "outputs": [
    {
     "data": {
      "text/plain": [
       "['ooo o \"\\' NOMBRE APELLIDO P APELLIDO M']"
      ]
     },
     "execution_count": 10,
     "metadata": {},
     "output_type": "execute_result"
    }
   ],
   "source": [
    "#nombre del cliente\n",
    "nombre_lista=[]\n",
    "for i in pdf:\n",
    "    if i.startswith(\"ooo\"):\n",
    "        nombre_lista.append(i)\n",
    "        \n",
    "nombre_lista"
   ]
  },
  {
   "cell_type": "code",
   "execution_count": 11,
   "metadata": {},
   "outputs": [],
   "source": [
    "nombre=nombre_lista[0].split(' ')"
   ]
  },
  {
   "cell_type": "code",
   "execution_count": 12,
   "metadata": {},
   "outputs": [],
   "source": [
    "nombre_cliente=[]\n",
    "for i in nombre:\n",
    "    if i.isupper():\n",
    "        nombre_cliente.append(i)"
   ]
  },
  {
   "cell_type": "code",
   "execution_count": 13,
   "metadata": {},
   "outputs": [
    {
     "data": {
      "text/plain": [
       "'NOMBRE APELLIDO P APELLIDO M'"
      ]
     },
     "execution_count": 13,
     "metadata": {},
     "output_type": "execute_result"
    }
   ],
   "source": [
    "nombre=' '.join(nombre_cliente)\n",
    "nombre"
   ]
  },
  {
   "cell_type": "code",
   "execution_count": 14,
   "metadata": {},
   "outputs": [
    {
     "data": {
      "text/plain": [
       "['RESUMEN DEL: 01/SEP/2020 AL 30/SEP/2020']"
      ]
     },
     "execution_count": 14,
     "metadata": {},
     "output_type": "execute_result"
    }
   ],
   "source": [
    "#periodo\n",
    "periodo_lista=[]\n",
    "for i in pdf:\n",
    "    if i.startswith(\"RESUMEN DEL\"):\n",
    "        periodo_lista.append(i)\n",
    "        \n",
    "periodo_lista"
   ]
  },
  {
   "cell_type": "code",
   "execution_count": 15,
   "metadata": {},
   "outputs": [
    {
     "data": {
      "text/plain": [
       "'RESUMEN DEL: 01/SEP/2020 AL 30/SEP/2020'"
      ]
     },
     "execution_count": 15,
     "metadata": {},
     "output_type": "execute_result"
    }
   ],
   "source": [
    "periodo= periodo_lista[0]\n",
    "periodo"
   ]
  },
  {
   "cell_type": "code",
   "execution_count": 16,
   "metadata": {},
   "outputs": [
    {
     "data": {
      "text/plain": [
       "['Registro F ederal de Contribuyentes:', 'XXXX999999XX9']"
      ]
     },
     "execution_count": 16,
     "metadata": {},
     "output_type": "execute_result"
    }
   ],
   "source": [
    "#rfc\n",
    "rfc_lista=[]\n",
    "for i in range(len(pdf)):\n",
    "    if re.search('contribuyentes', pdf[i].lower()):\n",
    "        rfc_lista.append(pdf[i])\n",
    "        rfc_lista.append(pdf[i+1])\n",
    "        \n",
    "rfc_lista"
   ]
  },
  {
   "cell_type": "code",
   "execution_count": 17,
   "metadata": {},
   "outputs": [
    {
     "data": {
      "text/plain": [
       "'RFC XXXX999999XX9'"
      ]
     },
     "execution_count": 17,
     "metadata": {},
     "output_type": "execute_result"
    }
   ],
   "source": [
    "rfc='RFC '+ rfc_lista[1]\n",
    "rfc"
   ]
  },
  {
   "cell_type": "code",
   "execution_count": 18,
   "metadata": {},
   "outputs": [],
   "source": [
    "#localizo la tabla a partir de la palabra \"detalle operaciones\"\n",
    "indices_detalle=[]\n",
    "for i in range(len(pdf)):\n",
    "    if re.search('detalle de operaciones',pdf[i].lower()):\n",
    "        indices_detalle.append(i)"
   ]
  },
  {
   "cell_type": "code",
   "execution_count": 19,
   "metadata": {},
   "outputs": [
    {
     "data": {
      "text/plain": [
       "[46, 77]"
      ]
     },
     "execution_count": 19,
     "metadata": {},
     "output_type": "execute_result"
    }
   ],
   "source": [
    "indices_detalle"
   ]
  },
  {
   "cell_type": "code",
   "execution_count": 20,
   "metadata": {},
   "outputs": [
    {
     "name": "stdout",
     "output_type": "stream",
     "text": [
      "0\n",
      "1\n"
     ]
    }
   ],
   "source": [
    "# en la automatización se puede hacer un for mas grande con los indeces para casos de muchas páginas\n",
    "for i in range(len(indices_detalle)):\n",
    "    print(i)"
   ]
  },
  {
   "cell_type": "markdown",
   "metadata": {},
   "source": [
    "# todas las páginas juntas"
   ]
  },
  {
   "cell_type": "code",
   "execution_count": 28,
   "metadata": {},
   "outputs": [
    {
     "data": {
      "text/plain": [
       "['DETALLE DE OPERACIONES',\n",
       " 'DEPOSITOS $9,984.00',\n",
       " 'FECHA 01 SEP',\n",
       " 'CONCEPTO SALDO ANTERIOR PAGO RECIBIDO DE BMONEX POR ORDEN DE NOMBRE XXXXXXXXXXX CTA.ORDENANTE 000000000000000000 REF.0000000 TRASPASO A CUENTA PROPIA RASTREO: 00000000',\n",
       " '01 SEP 02 SEP 10 SEP 17 SEP 17 SEP',\n",
       " 'COBRO DE CHEQUE NUMERO 9999 COBRO DE CHEQUE NUMERO 9999 COBRO DE CHEQUE NUMERO 9999 COBRO DE CHEQUE NUMERO 9999 PAGO RECIBIDO DE BMONEX POR',\n",
       " 'RETIROS',\n",
       " 'DEPOSITOS',\n",
       " 'SALDO',\n",
       " '1',\n",
       " '9,021.42',\n",
       " '1',\n",
       " '1',\n",
       " '1-',\n",
       " ',_',\n",
       " ',-',\n",
       " '5,000.00',\n",
       " ',_ 3,000.00',\n",
       " '9,021.42',\n",
       " ',- 3,000.00',\n",
       " ',- 9,021.42',\n",
       " ', 3,000.00 3,000.00',\n",
       " ',_ 9,021.42',\n",
       " '000184.B08CHDA001.OD.0930.01',\n",
       " '\\x0ccffibanamex@ ESTADO DE CUENTA AL 30 DE SEPTIEMBRE DE 2020',\n",
       " 'CLIENTE:',\n",
       " '9999999',\n",
       " 'Página:',\n",
       " '2 de7',\n",
       " 'NOMBRE APELLIDO P APELLIDO M',\n",
       " '7',\n",
       " 'DETALLE DE OPERACIONES',\n",
       " 'FECHA',\n",
       " 'CONCEPTO ORDEN DE XXXXX XXXXXXXXXXXXXX XXXXXXX CTA.ORDENANTE 000000000000000000 REF.0000000 TRASPASO A CUENTA PROPIA RASTREO: 00000000',\n",
       " '18 SEP 24 SEP',\n",
       " 'COBRO DE CHEQUE NUMERO 9999 PAGO RECIBIDO DE BMONEX POR ORDEN DE XXXXXXX XXXXXXXXXXXXXX XXXXXX CTA.ORDENANTE 000000000000000000 REF.0000000 TRASPASO A CUENTA PROPIA RASTREO: 00000000',\n",
       " '24 SEP 24 SEP 24 SEP 30 SEP',\n",
       " 'EXPEDICION ORDEN AL EXTRANJERO 0000000 O.P. ENVIADA AL EXT. POR INSTRUCCION DEL CUENTE 0000000 O.P. ENVIADA AL EXT. POR INSTRUCCION DEL CLIENTE 0000000 O.P. ENVIADA AL EXT. PAGO RECIBIDO DE BMONEX POR ORDEN DE XXXXXXXX XXXXXXXXXXXXXX XXXXXX CTA.ORDENANTE 000000000000000000 REF.0000000 TRASPASO A CUENTA PROPIA RASTREO: 00000000',\n",
       " '30 SEP COBRO DE CHEQUE NUMERO 0000 30 SEP NUMERO DE CHEQUES EXENTOS',\n",
       " '6',\n",
       " 'RETIROS',\n",
       " 'DEPOSITOS',\n",
       " 'SALDO',\n",
       " '1',\n",
       " ',_',\n",
       " ',,-',\n",
       " '-',\n",
       " '9,000.00',\n",
       " '9,000.00',\n",
       " '1',\n",
       " '1',\n",
       " '8,021.42 9,021.42',\n",
       " '-',\n",
       " '_,_ -,_,_',\n",
       " ',_ ,_ ,-',\n",
       " ',',\n",
       " '2,100.00 9,284.00',\n",
       " '2,600.00',\n",
       " '-',\n",
       " '-',\n",
       " '1,984.00',\n",
       " ',_ ,_',\n",
       " ',,-',\n",
       " '-',\n",
       " '3,000.00',\n",
       " '5,000.00',\n",
       " '1',\n",
       " '1 1',\n",
       " ',_ ,-',\n",
       " ',-',\n",
       " '1 1',\n",
       " '9,021.42',\n",
       " '1',\n",
       " '1',\n",
       " '1',\n",
       " '1',\n",
       " ',_ 9,021.42',\n",
       " 'Saldo mínimo requerido para evitar la comisión por manejo de Cuenta: $4,500.00 Si el saldo promedio mensual es menor, se aplica una comisión máxima de: $250.00',\n",
       " '\"Este documento es una representación impresa sin validez fiscal\"',\n",
       " '000184.B08CHDA001.OD.0930.01',\n",
       " '\\x0ccffibanamex@ ESTADO DE CUENTA AL 30 DE SEPTIEMBRE DE 2020',\n",
       " 'CLIENTE:',\n",
       " '9999999',\n",
       " 'Página:',\n",
       " '3 de7',\n",
       " 'NOMBRE APELLIDO P APELLIDO M',\n",
       " '7',\n",
       " 'Banco Nacional de México, S.A., integrante del Grupo Financiero Banamex recibe las consultas, reclamaciones o aclaraciones, en su Unidad Especializada de Atencióna Usuarios, ubicada en Av.Insurgentes Sur No. 926, ColoniaDel Valle,DelegaciónBenitoJuárez, C.P.03100 Ciudad de Méxicoy por correo electrónicoune@citibanamex.como teléfono(55) 1226-4583, así como en cualquiera de sus sucursales u oficinas.En el caso de no obtener una respuesta satisfactoria, podrá acudir a la Comisión Nacional para la Protección y Defensa de los Usuarios de Servicios Financieroswww.condusefgob.mxteléfonos: 01-800-999-8080 y 5340-0999.',\n",
       " 'RFC: BNM840515VBI Isabel la Católica no. 44, Colonia Centro, Delegación Cuaubtémoc, 06000, Ciudad de México. Estamos para servirle, las 24 horas, los 365 días del afio · Reporte de robo o extravió de cheques o Tarjeta de Débi1 · Atención de Aclaraciones',\n",
       " 'IMPORTANTE:',\n",
       " '· Si deseas realizar una aclaración sobre tu estado de cuenta, tienes 90 días naturales posteriores al corte del mismo. Para ello, por favor llama a la Unidad Especializada Banamex. · Incumplir sus obligaciones le puede generar comisiones e intereses moratorios. Para consultar información sobre comisiones con fines informativos y de comparación, ingresa a www.condusefgob.mx y www.citibanamex.ccm',\n",
       " 'mi\"\\'\"\"\"',\n",
       " 'ii:! ·',\n",
       " 'PA\"-.,_L.O, PROTl!CCIO,N',\n",
       " '41, l.HC!RflO',\n",
       " '11\"-IIC ..10',\n",
       " \"Producto garantizado por el 1PAB hasta por 400,000 Unidades de Inversión UDI's por persona y por banco www.gob.mx/ipab\",\n",
       " 'LEY FEDERAL DE PROTECCION DE DATOS PERSONALES EN POSESION DE LOS PARTICULARES.',\n",
       " 'En Banamex tus datos están protegidos, consulta el aviso de privacidad correspondiente en www.citibanamex.com/aviscde privacidad o en la sucursal de tu preferencia.',\n",
       " 'Agradecemos su preferencia',\n",
       " '000184.B08CHDA001.OD.0930.01',\n",
       " '\\x0ccffibanamex@',\n",
       " 'Próximamente podrás realizar depósitos a tu tarjeta de débito y/o cuenta de cheques en 7 - Eleven, Futurama y Casa Ley.',\n",
       " 'Banco Nadonal de México $.A., Integrante del Grupo Financiero Eianarnex, en lo sucesivo \"Citibanamex\", en u1mp1imiento con lo establecido en las disposiciones de carácter general en materia d.e transparencia aplicables a las instituciones de crédito y sociedades HnMcieras de ol,jeto múltiple, entidades regul,,das de 1/3 CONDUSEf informa 10 sigulerite: A partir del 02 de noviembre 2020, estas operaciones tendrán la .siguiente comisión, en tos corresponsales Indicados:',\n",
       " 'Depósito eri efectivo il Tarjetc1 d¡;¡ PébH en cornisltmista futurarria',\n",
       " '$7.76 más IVA por evento',\n",
       " '7',\n",
       " 'Consulta d.etálle de tooas láS comísiones en www.dtibanaroex.com',\n",
       " \"También puedes realizar depósitos.en cajeros automílticos y sucursales Citibarn,mex. E'.n caso\",\n",
       " 'de no estar de ¡¡c1Jerdo con las modifir,acíones se6aladas, podrá& solicitar la ter.minación del',\n",
       " 'Contrato dentro de los 30 días posteriores a que surta efecto la presente notificación, por 1.o que durante ese periodo no se aplicará el cobro de las c.omis.íones mencionadas previamente. Se entenderá que aceptas las modificaciones efectuadas a lrls. .comisiones, si .no solicitas la',\n",
       " 'ruterminación defcontrato dentro del plazo sefüil11do. derecho,, dar por twminado e.l',\n",
       " 'Contrato en c1rnlquier otro momento sequká siendo vigente.',\n",
       " 'Atentamente,',\n",
       " 'Banco Nacional de México S.A., Integrante del Grupo Frnanciero Banamex.',\n",
       " '000184.B08CHDA001.OD.0930.01',\n",
       " '\\x0c\\x0ccffibanamex@',\n",
       " '7',\n",
       " 'con el. objeto de mantenerte informado sobre movimientos y',\n",
       " 'cambios en tus cuentas, es necesario que actualices tus datos',\n",
       " 'para contar con el servicio de Notifh:;adones Citibanamex:',\n",
       " '.. Ce!ular · Correo electrónico',\n",
       " 'Las notiflcaciaries te negarán ál correo e1ectr6nicú cama primera opción y a falta de éste, al celular.',\n",
       " 'En caso de querer modificar tus preferencias de envío, podrás acudir a una',\n",
       " 'Sucursal Cltibanamex, con tu INE/lFE o pasaporte vlg:ente, o a través de',\n",
       " 'BancaNet o C!tibanamex MóviJI.',\n",
       " '··',\n",
       " 'Atentamente, Banco Naci.onal de.Méxfco,.SA, inte9rante del Gr.upo. Financiero Banamex',\n",
       " '000184.B08CHDA001.OD.0930.01']"
      ]
     },
     "execution_count": 28,
     "metadata": {},
     "output_type": "execute_result"
    }
   ],
   "source": [
    "tabla_pag_1= pdf[indices_detalle[0]:-1]\n",
    "tabla_pag_1"
   ]
  },
  {
   "cell_type": "code",
   "execution_count": 29,
   "metadata": {},
   "outputs": [
    {
     "data": {
      "text/plain": [
       "['FECHA 01 SEP',\n",
       " '01 SEP 02 SEP 10 SEP 17 SEP 17 SEP',\n",
       " 'FECHA',\n",
       " '18 SEP 24 SEP',\n",
       " '24 SEP 24 SEP 24 SEP 30 SEP',\n",
       " '30 SEP COBRO DE CHEQUE NUMERO 0000 30 SEP NUMERO DE CHEQUES EXENTOS']"
      ]
     },
     "execution_count": 29,
     "metadata": {},
     "output_type": "execute_result"
    }
   ],
   "source": [
    "#fechas\n",
    "fecha_lista_pag_1=[]\n",
    "for i in range(len(tabla_pag_1)):\n",
    "    if re.match('fecha',tabla_pag_1[i].lower()):\n",
    "        fecha_lista_pag_1.append(tabla_pag_1[i])\n",
    "    elif re.match(r'\\d{2} \\w{3}',tabla_pag_1[i]):\n",
    "        fecha_lista_pag_1.append(tabla_pag_1[i])\n",
    "\n",
    "        \n",
    "fecha_lista_pag_1"
   ]
  },
  {
   "cell_type": "code",
   "execution_count": 30,
   "metadata": {},
   "outputs": [],
   "source": [
    "#separo\n",
    "fechas_lista_2_pag_1=[]\n",
    "\n",
    "for i in fecha_lista_pag_1:\n",
    "    fechas_lista_2_pag_1.append(re.findall(r'\\d{2} \\w{3}',i))"
   ]
  },
  {
   "cell_type": "code",
   "execution_count": 31,
   "metadata": {},
   "outputs": [
    {
     "data": {
      "text/plain": [
       "[['01 SEP'],\n",
       " ['01 SEP', '02 SEP', '10 SEP', '17 SEP', '17 SEP'],\n",
       " [],\n",
       " ['18 SEP', '24 SEP'],\n",
       " ['24 SEP', '24 SEP', '24 SEP', '30 SEP'],\n",
       " ['30 SEP', '30 SEP']]"
      ]
     },
     "execution_count": 31,
     "metadata": {},
     "output_type": "execute_result"
    }
   ],
   "source": [
    "fechas_lista_2_pag_1"
   ]
  },
  {
   "cell_type": "code",
   "execution_count": 74,
   "metadata": {},
   "outputs": [],
   "source": [
    "#aplano lista de listas\n",
    "fechas_pag_1 = ['0']\n",
    "for i in fechas_lista_2_pag_1:\n",
    "    for j in i:\n",
    "        fechas_pag_1.append(j)"
   ]
  },
  {
   "cell_type": "code",
   "execution_count": 75,
   "metadata": {},
   "outputs": [
    {
     "data": {
      "text/plain": [
       "['0',\n",
       " '01 SEP',\n",
       " '01 SEP',\n",
       " '02 SEP',\n",
       " '10 SEP',\n",
       " '17 SEP',\n",
       " '17 SEP',\n",
       " '18 SEP',\n",
       " '24 SEP',\n",
       " '24 SEP',\n",
       " '24 SEP',\n",
       " '24 SEP',\n",
       " '30 SEP',\n",
       " '30 SEP',\n",
       " '30 SEP']"
      ]
     },
     "execution_count": 75,
     "metadata": {},
     "output_type": "execute_result"
    }
   ],
   "source": [
    "fechas_pag_1"
   ]
  },
  {
   "cell_type": "code",
   "execution_count": 68,
   "metadata": {},
   "outputs": [
    {
     "data": {
      "text/plain": [
       "['CONCEPTO SALDO ANTERIOR PAGO RECIBIDO DE BMONEX POR ORDEN DE NOMBRE XXXXXXXXXXX CTA.ORDENANTE 000000000000000000 REF.0000000 TRASPASO A CUENTA PROPIA RASTREO: 00000000',\n",
       " 'COBRO DE CHEQUE NUMERO 9999 COBRO DE CHEQUE NUMERO 9999 COBRO DE CHEQUE NUMERO 9999 COBRO DE CHEQUE NUMERO 9999 PAGO RECIBIDO DE BMONEX POR',\n",
       " 'CONCEPTO ORDEN DE XXXXX XXXXXXXXXXXXXX XXXXXXX CTA.ORDENANTE 000000000000000000 REF.0000000 TRASPASO A CUENTA PROPIA RASTREO: 00000000',\n",
       " 'COBRO DE CHEQUE NUMERO 9999 PAGO RECIBIDO DE BMONEX POR ORDEN DE XXXXXXX XXXXXXXXXXXXXX XXXXXX CTA.ORDENANTE 000000000000000000 REF.0000000 TRASPASO A CUENTA PROPIA RASTREO: 00000000',\n",
       " 'EXPEDICION ORDEN AL EXTRANJERO 0000000 O.P. ENVIADA AL EXT. POR INSTRUCCION DEL CUENTE 0000000 O.P. ENVIADA AL EXT. POR INSTRUCCION DEL CLIENTE 0000000 O.P. ENVIADA AL EXT. PAGO RECIBIDO DE BMONEX POR ORDEN DE XXXXXXXX XXXXXXXXXXXXXX XXXXXX CTA.ORDENANTE 000000000000000000 REF.0000000 TRASPASO A CUENTA PROPIA RASTREO: 00000000',\n",
       " '30 SEP COBRO DE CHEQUE NUMERO 0000 30 SEP NUMERO DE CHEQUES EXENTOS',\n",
       " '6']"
      ]
     },
     "execution_count": 68,
     "metadata": {},
     "output_type": "execute_result"
    }
   ],
   "source": [
    "#conceptos\n",
    "conceptos_lista_pag_1=[]\n",
    "for i in range(len(tabla_pag_1)):\n",
    "    if re.match('concepto',tabla_pag_1[i].lower()):\n",
    "        conceptos_lista_pag_1.append(tabla_pag_1[i])\n",
    "        \n",
    "    elif re.match('cobro',tabla_pag_1[i].lower()):\n",
    "        conceptos_lista_pag_1.append(tabla_pag_1[i])\n",
    "        \n",
    "    elif re.match('pago',tabla_pag_1[i].lower()):\n",
    "        conceptos_lista_pag_1.append(tabla_pag_1[i])\n",
    "        \n",
    "    elif re.match('expedicion',tabla_pag_1[i].lower()):\n",
    "        conceptos_lista_pag_1.append(tabla_pag_1[i])\n",
    "        \n",
    "    elif re.match('por instruccion',tabla_pag_1[i].lower()):\n",
    "        conceptos_lista_pag_1.append(tabla_pag_1[i])\n",
    "        \n",
    "    elif re.search('exentos',tabla_pag_1[i].lower()):\n",
    "        conceptos_lista_pag_1.append(tabla_pag_1[i])\n",
    "        conceptos_lista_pag_1.append(tabla_pag_1[i+1])\n",
    "       \n",
    "        \n",
    "conceptos_lista_pag_1"
   ]
  },
  {
   "cell_type": "code",
   "execution_count": 69,
   "metadata": {},
   "outputs": [
    {
     "data": {
      "text/plain": [
       "['CONCEPTO ',\n",
       " 'ANTERIOR ',\n",
       " 'RECIBIDO DE BMONEX POR ORDEN DE NOMBRE XXXXXXXXXXX CTA.ORDENANTE 000000000000000000 REF.0000000 TRASPASO A CUENTA PROPIA RASTREO: 00000000',\n",
       " 'RO DE CHEQUE NUMERO 9999',\n",
       " 'RO DE CHEQUE NUMERO 9999',\n",
       " 'RO DE CHEQUE NUMERO 9999',\n",
       " 'RO DE CHEQUE NUMERO 9999 ',\n",
       " 'RECIBIDO DE BMONEX POR CONCEPTO ORDEN DE XXXXX XXXXXXXXXXXXXX XXXXXXX CTA.ORDENANTE 000000000000000000 REF.0000000 TRASPASO A CUENTA PROPIA RASTREO: 00000000',\n",
       " 'RO DE CHEQUE NUMERO 9999 ',\n",
       " 'RECIBIDO DE BMONEX POR ORDEN DE XXXXXXX XXXXXXXXXXXXXX XXXXXX CTA.ORDENANTE 000000000000000000 REF.0000000 TRASPASO A CUENTA PROPIA RASTREO: 00000000 ',\n",
       " 'DICION ORDEN AL EXTRANJERO 0000000 O.P. ENVIADA AL EXT. ',\n",
       " 'DEL CUENTE 0000000 O.P. ENVIADA AL EXT. ',\n",
       " 'DEL CLIENTE 0000000 O.P. ENVIADA AL EXT. ',\n",
       " 'RECIBIDO DE BMONEX POR ORDEN DE XXXXXXXX XXXXXXXXXXXXXX XXXXXX CTA.ORDENANTE 000000000000000000 REF.0000000 TRASPASO A CUENTA PROPIA RASTREO: 00000000 30 SEP',\n",
       " 'RO DE CHEQUE NUMERO 0000 30 SEP ',\n",
       " 'QUES EXENTOS 6']"
      ]
     },
     "execution_count": 69,
     "metadata": {},
     "output_type": "execute_result"
    }
   ],
   "source": [
    "conceptos1_1=' '.join(conceptos_lista_pag_1)\n",
    "conceptos1_2=re.split('SALDO |PAGO | COB|POR INSTRUCCION |EXPE|NUMERO DE CHE', conceptos1_1)\n",
    "conceptos1_2"
   ]
  },
  {
   "cell_type": "code",
   "execution_count": 70,
   "metadata": {},
   "outputs": [],
   "source": [
    "conceptos1_3=[]\n",
    "for i in conceptos1_2:\n",
    "    if i.startswith('ANTERIOR'):\n",
    "        conceptos1_3.append('SALDO '+i)\n",
    "    elif i.startswith('RECIBIDO'):\n",
    "        conceptos1_3.append('PAGO '+i)\n",
    "    elif i.startswith('RO'):\n",
    "        conceptos1_3.append('COB'+i)\n",
    "        \n",
    "    elif i.startswith('DEL'):\n",
    "        conceptos1_3.append('POR INSTRUCCION '+i)\n",
    "    \n",
    "    elif i.startswith('DICION'):\n",
    "        conceptos1_3.append('EXPE'+i)\n",
    "    elif i.startswith('QUES'):\n",
    "        conceptos1_3.append('NUMERO DE CHE'+i)\n",
    "        "
   ]
  },
  {
   "cell_type": "code",
   "execution_count": 73,
   "metadata": {},
   "outputs": [
    {
     "data": {
      "text/plain": [
       "['SALDO ANTERIOR ',\n",
       " 'PAGO RECIBIDO DE BMONEX POR ORDEN DE NOMBRE XXXXXXXXXXX CTA.ORDENANTE 000000000000000000 REF.0000000 TRASPASO A CUENTA PROPIA RASTREO: 00000000',\n",
       " 'COBRO DE CHEQUE NUMERO 9999',\n",
       " 'COBRO DE CHEQUE NUMERO 9999',\n",
       " 'COBRO DE CHEQUE NUMERO 9999',\n",
       " 'COBRO DE CHEQUE NUMERO 9999 ',\n",
       " 'PAGO RECIBIDO DE BMONEX POR CONCEPTO ORDEN DE XXXXX XXXXXXXXXXXXXX XXXXXXX CTA.ORDENANTE 000000000000000000 REF.0000000 TRASPASO A CUENTA PROPIA RASTREO: 00000000',\n",
       " 'COBRO DE CHEQUE NUMERO 9999 ',\n",
       " 'PAGO RECIBIDO DE BMONEX POR ORDEN DE XXXXXXX XXXXXXXXXXXXXX XXXXXX CTA.ORDENANTE 000000000000000000 REF.0000000 TRASPASO A CUENTA PROPIA RASTREO: 00000000 ',\n",
       " 'EXPEDICION ORDEN AL EXTRANJERO 0000000 O.P. ENVIADA AL EXT. ',\n",
       " 'POR INSTRUCCION DEL CUENTE 0000000 O.P. ENVIADA AL EXT. ',\n",
       " 'POR INSTRUCCION DEL CLIENTE 0000000 O.P. ENVIADA AL EXT. ',\n",
       " 'PAGO RECIBIDO DE BMONEX POR ORDEN DE XXXXXXXX XXXXXXXXXXXXXX XXXXXX CTA.ORDENANTE 000000000000000000 REF.0000000 TRASPASO A CUENTA PROPIA RASTREO: 00000000 30 SEP',\n",
       " 'COBRO DE CHEQUE NUMERO 0000 30 SEP ',\n",
       " 'NUMERO DE CHEQUES EXENTOS 6']"
      ]
     },
     "execution_count": 73,
     "metadata": {},
     "output_type": "execute_result"
    }
   ],
   "source": [
    "conceptos1_3"
   ]
  },
  {
   "cell_type": "markdown",
   "metadata": {},
   "source": [
    "# USando libreria tabula"
   ]
  },
  {
   "cell_type": "code",
   "execution_count": 21,
   "metadata": {},
   "outputs": [],
   "source": [
    "#pip install tabula-py"
   ]
  },
  {
   "cell_type": "code",
   "execution_count": 22,
   "metadata": {},
   "outputs": [],
   "source": [
    "import tabula"
   ]
  },
  {
   "cell_type": "code",
   "execution_count": 23,
   "metadata": {},
   "outputs": [],
   "source": [
    "tabu=tabula.read_pdf(archivo, pages='all')\n"
   ]
  },
  {
   "cell_type": "code",
   "execution_count": 138,
   "metadata": {},
   "outputs": [],
   "source": [
    "#saldos\n",
    "saldos_1=[]\n",
    "for i in range(len(tabu)):\n",
    "    tabu[i].fillna(0,inplace=True)\n",
    "    try:\n",
    "        for j in tabu[i]['SALDO']:\n",
    "            if j!=0:\n",
    "                saldos_1.append(j)\n",
    "    except:\n",
    "        pass"
   ]
  },
  {
   "cell_type": "code",
   "execution_count": 141,
   "metadata": {},
   "outputs": [],
   "source": [
    "saldos_2=[]\n",
    "for i in saldos_1:\n",
    "    if re.search(r'\\d+\\,\\d+\\.\\d{2}', i):\n",
    "        saldos_2.append(i)"
   ]
  },
  {
   "cell_type": "code",
   "execution_count": 146,
   "metadata": {},
   "outputs": [
    {
     "data": {
      "text/plain": [
       "['9,021.42',\n",
       " '9,021.42',\n",
       " '9,021.42',\n",
       " '9,021.42',\n",
       " '8,021.42',\n",
       " '9,021.42',\n",
       " '9,021.42',\n",
       " '9,021.42']"
      ]
     },
     "execution_count": 146,
     "metadata": {},
     "output_type": "execute_result"
    }
   ],
   "source": [
    "#ordeno saldos\n",
    "saldos_2"
   ]
  },
  {
   "cell_type": "code",
   "execution_count": 142,
   "metadata": {},
   "outputs": [],
   "source": [
    "#depositos\n",
    "depositos_1=[]\n",
    "for i in range(len(tabu)):\n",
    "    tabu[i].fillna(0,inplace=True)\n",
    "    try:\n",
    "        for j in tabu[i]['DEPOSITOS']:\n",
    "            if j!=0:\n",
    "                depositos_1.append(j)\n",
    "    except:\n",
    "        pass"
   ]
  },
  {
   "cell_type": "code",
   "execution_count": 145,
   "metadata": {},
   "outputs": [
    {
     "data": {
      "text/plain": [
       "['5,000.00', '9,000.00', '1,984.00', '5,000.00']"
      ]
     },
     "execution_count": 145,
     "metadata": {},
     "output_type": "execute_result"
    }
   ],
   "source": [
    "depositos_2=[]\n",
    "for i in depositos_1:\n",
    "    if re.search(r'\\d+\\,\\d+\\.\\d{2}', i):\n",
    "        depositos_2.append(i)\n",
    "depositos_2"
   ]
  },
  {
   "cell_type": "code",
   "execution_count": 179,
   "metadata": {},
   "outputs": [],
   "source": [
    "#organizo depositos\n",
    "depositos_3=[]\n",
    "contador=0\n",
    "for i in conceptos1_3:\n",
    "    if i.startswith('PAGO'):\n",
    "        depositos_3.append(depositos_2[contador])\n",
    "        contador=contador+1\n",
    "    else:\n",
    "        depositos_3.append(0)"
   ]
  },
  {
   "cell_type": "code",
   "execution_count": 185,
   "metadata": {},
   "outputs": [
    {
     "name": "stdout",
     "output_type": "stream",
     "text": [
      "[0, '5,000.00', 0, 0, 0, 0, '9,000.00', 0, '1,984.00', 0, 0, 0, '5,000.00', 0, 0]\n"
     ]
    }
   ],
   "source": [
    "print(depositos_3)"
   ]
  },
  {
   "cell_type": "code",
   "execution_count": 191,
   "metadata": {},
   "outputs": [
    {
     "data": {
      "text/plain": [
       "15"
      ]
     },
     "execution_count": 191,
     "metadata": {},
     "output_type": "execute_result"
    }
   ],
   "source": [
    "len(depositos_3)"
   ]
  },
  {
   "cell_type": "code",
   "execution_count": 160,
   "metadata": {},
   "outputs": [],
   "source": [
    "#retiros\n",
    "retiros_1=[]\n",
    "for i in range(len(tabu)):\n",
    "    tabu[i].fillna(0,inplace=True)\n",
    "    try:\n",
    "        for j in tabu[i]['RETIROS']:\n",
    "            if j!=0:\n",
    "                retiros_1.append(j)\n",
    "    except:\n",
    "        try:\n",
    "            for j in tabu[i]['CONCEPTO ORDEN RETIROS']:\n",
    "                if j!=0:\n",
    "                    k= re.findall(r'\\d+\\,\\d+\\.\\d{2}$',j)\n",
    "                    retiros_1.append(k)\n",
    "        except:\n",
    "            pass"
   ]
  },
  {
   "cell_type": "code",
   "execution_count": 214,
   "metadata": {},
   "outputs": [],
   "source": [
    "#limpio\n",
    "retiros_2=[]\n",
    "for i in retiros_1:\n",
    "    j=re.findall(r'\\d+\\,\\d+\\.\\d{2}', str(i))\n",
    "    retiros_2.append(j)"
   ]
  },
  {
   "cell_type": "code",
   "execution_count": 215,
   "metadata": {},
   "outputs": [],
   "source": [
    "#aplano\n",
    "retiros_3=[]\n",
    "for sublist in retiros_2:\n",
    "    for item in sublist:\n",
    "        if re.search(r'\\d+\\,\\d+\\.\\d+',item):\n",
    "            retiros_3.append(item)"
   ]
  },
  {
   "cell_type": "code",
   "execution_count": 216,
   "metadata": {},
   "outputs": [
    {
     "data": {
      "text/plain": [
       "['3,000.00',\n",
       " '3,000.00',\n",
       " '3,000.00',\n",
       " '3,000.00',\n",
       " '9,000.00',\n",
       " '2,100.00',\n",
       " '9,284.00',\n",
       " '2,600.00',\n",
       " '3,000.00']"
      ]
     },
     "execution_count": 216,
     "metadata": {},
     "output_type": "execute_result"
    }
   ],
   "source": [
    "retiros_3"
   ]
  },
  {
   "cell_type": "code",
   "execution_count": 217,
   "metadata": {},
   "outputs": [],
   "source": [
    "#organizo\n",
    "retiros_4=[]\n",
    "contador=0\n",
    "for i in conceptos1_3:\n",
    "    if i.startswith('COBRO'):\n",
    "        retiros_4.append(retiros_3[contador])\n",
    "        contador=contador+1\n",
    "    elif i.startswith('EXPEDICION'):\n",
    "        retiros_4.append(retiros_3[contador])\n",
    "        contador=contador+1\n",
    "    elif i.startswith('POR'):\n",
    "        retiros_4.append(retiros_3[contador])\n",
    "        contador=contador+1\n",
    "    else:\n",
    "        retiros_4.append(0)"
   ]
  },
  {
   "cell_type": "code",
   "execution_count": 218,
   "metadata": {},
   "outputs": [
    {
     "name": "stdout",
     "output_type": "stream",
     "text": [
      "[0, 0, '3,000.00', '3,000.00', '3,000.00', '3,000.00', 0, '9,000.00', 0, '2,100.00', '9,284.00', '2,600.00', 0, '3,000.00', 0]\n",
      "[0, '5,000.00', 0, 0, 0, 0, '9,000.00', 0, '1,984.00', 0, 0, 0, '5,000.00', 0, 0]\n"
     ]
    }
   ],
   "source": [
    "print(retiros_4)\n",
    "print(depositos_3)"
   ]
  },
  {
   "cell_type": "code",
   "execution_count": 265,
   "metadata": {},
   "outputs": [],
   "source": [
    "saldos_3=[saldos_2[0]]\n",
    "contador=0\n",
    "for i in range(0,len(depositos_3)):\n",
    "    if depositos_3[i]==0:\n",
    "        try:\n",
    "            saldos_3.append(saldos_2[contador])\n",
    "            contador=contador+1\n",
    "        except:\n",
    "            pass\n",
    "    else:\n",
    "        saldos_3.append(0)\n",
    "saldos_3.append(saldos_2[-1])\n",
    "saldos_3.append(saldos_2[-1])"
   ]
  },
  {
   "cell_type": "code",
   "execution_count": 266,
   "metadata": {},
   "outputs": [
    {
     "data": {
      "text/plain": [
       "15"
      ]
     },
     "execution_count": 266,
     "metadata": {},
     "output_type": "execute_result"
    }
   ],
   "source": [
    "len(saldos_3)"
   ]
  },
  {
   "cell_type": "markdown",
   "metadata": {},
   "source": [
    "# junto"
   ]
  },
  {
   "cell_type": "code",
   "execution_count": 270,
   "metadata": {},
   "outputs": [],
   "source": [
    "estado=pd.DataFrame(list(zip(fechas_pag_1, conceptos1_3, retiros_4, depositos_3, saldos_3)),\n",
    "              columns=['fecha','concepto','retiro', 'deposito','saldo'])"
   ]
  },
  {
   "cell_type": "code",
   "execution_count": 272,
   "metadata": {},
   "outputs": [],
   "source": [
    "estado['banco']='banamex'"
   ]
  },
  {
   "cell_type": "code",
   "execution_count": 273,
   "metadata": {},
   "outputs": [],
   "source": [
    "estado['nacionalidad']='nacional'"
   ]
  },
  {
   "cell_type": "code",
   "execution_count": 274,
   "metadata": {},
   "outputs": [],
   "source": [
    "estado['fecha de corte']=periodo"
   ]
  },
  {
   "cell_type": "code",
   "execution_count": 275,
   "metadata": {},
   "outputs": [],
   "source": [
    "estado['titular']=nombre"
   ]
  },
  {
   "cell_type": "code",
   "execution_count": 276,
   "metadata": {},
   "outputs": [],
   "source": [
    "estado['cuenta']=cliente"
   ]
  },
  {
   "cell_type": "code",
   "execution_count": 277,
   "metadata": {},
   "outputs": [],
   "source": [
    "estado['saldo inicial']= estado['saldo'][0]"
   ]
  },
  {
   "cell_type": "code",
   "execution_count": 278,
   "metadata": {},
   "outputs": [],
   "source": [
    "if re.search('usd',text_str.lower()) or re.search('dolar', text_str.lower()) or re.search('dollar', text_str.lower()):\n",
    "    moneda='usd'\n",
    "else:\n",
    "    moneda='mxn'"
   ]
  },
  {
   "cell_type": "code",
   "execution_count": 279,
   "metadata": {},
   "outputs": [
    {
     "data": {
      "text/plain": [
       "'mxn'"
      ]
     },
     "execution_count": 279,
     "metadata": {},
     "output_type": "execute_result"
    }
   ],
   "source": [
    "moneda"
   ]
  },
  {
   "cell_type": "code",
   "execution_count": 280,
   "metadata": {},
   "outputs": [],
   "source": [
    "estado['divisa']=moneda"
   ]
  },
  {
   "cell_type": "code",
   "execution_count": 281,
   "metadata": {},
   "outputs": [],
   "source": [
    "edo_cuenta= estado[['banco','nacionalidad','fecha de corte', 'titular','cuenta','fecha','concepto','saldo inicial',\n",
    "                    'retiro','deposito','saldo','divisa']]"
   ]
  },
  {
   "cell_type": "code",
   "execution_count": 285,
   "metadata": {},
   "outputs": [
    {
     "data": {
      "text/html": [
       "<div>\n",
       "<style scoped>\n",
       "    .dataframe tbody tr th:only-of-type {\n",
       "        vertical-align: middle;\n",
       "    }\n",
       "\n",
       "    .dataframe tbody tr th {\n",
       "        vertical-align: top;\n",
       "    }\n",
       "\n",
       "    .dataframe thead th {\n",
       "        text-align: right;\n",
       "    }\n",
       "</style>\n",
       "<table border=\"1\" class=\"dataframe\">\n",
       "  <thead>\n",
       "    <tr style=\"text-align: right;\">\n",
       "      <th></th>\n",
       "      <th>banco</th>\n",
       "      <th>nacionalidad</th>\n",
       "      <th>fecha de corte</th>\n",
       "      <th>titular</th>\n",
       "      <th>cuenta</th>\n",
       "      <th>fecha</th>\n",
       "      <th>concepto</th>\n",
       "      <th>saldo inicial</th>\n",
       "      <th>retiro</th>\n",
       "      <th>deposito</th>\n",
       "      <th>saldo</th>\n",
       "      <th>divisa</th>\n",
       "    </tr>\n",
       "  </thead>\n",
       "  <tbody>\n",
       "    <tr>\n",
       "      <th>0</th>\n",
       "      <td>banamex</td>\n",
       "      <td>nacional</td>\n",
       "      <td>RESUMEN DEL: 01/SEP/2020 AL 30/SEP/2020</td>\n",
       "      <td>NOMBRE APELLIDO P APELLIDO M</td>\n",
       "      <td>cliente 9999999</td>\n",
       "      <td>0</td>\n",
       "      <td>SALDO ANTERIOR</td>\n",
       "      <td>9,021.42</td>\n",
       "      <td>0</td>\n",
       "      <td>0</td>\n",
       "      <td>9,021.42</td>\n",
       "      <td>mxn</td>\n",
       "    </tr>\n",
       "    <tr>\n",
       "      <th>1</th>\n",
       "      <td>banamex</td>\n",
       "      <td>nacional</td>\n",
       "      <td>RESUMEN DEL: 01/SEP/2020 AL 30/SEP/2020</td>\n",
       "      <td>NOMBRE APELLIDO P APELLIDO M</td>\n",
       "      <td>cliente 9999999</td>\n",
       "      <td>01 SEP</td>\n",
       "      <td>PAGO RECIBIDO DE BMONEX POR ORDEN DE NOMBRE XX...</td>\n",
       "      <td>9,021.42</td>\n",
       "      <td>0</td>\n",
       "      <td>5,000.00</td>\n",
       "      <td>9,021.42</td>\n",
       "      <td>mxn</td>\n",
       "    </tr>\n",
       "    <tr>\n",
       "      <th>2</th>\n",
       "      <td>banamex</td>\n",
       "      <td>nacional</td>\n",
       "      <td>RESUMEN DEL: 01/SEP/2020 AL 30/SEP/2020</td>\n",
       "      <td>NOMBRE APELLIDO P APELLIDO M</td>\n",
       "      <td>cliente 9999999</td>\n",
       "      <td>01 SEP</td>\n",
       "      <td>COBRO DE CHEQUE NUMERO 9999</td>\n",
       "      <td>9,021.42</td>\n",
       "      <td>3,000.00</td>\n",
       "      <td>0</td>\n",
       "      <td>0</td>\n",
       "      <td>mxn</td>\n",
       "    </tr>\n",
       "    <tr>\n",
       "      <th>3</th>\n",
       "      <td>banamex</td>\n",
       "      <td>nacional</td>\n",
       "      <td>RESUMEN DEL: 01/SEP/2020 AL 30/SEP/2020</td>\n",
       "      <td>NOMBRE APELLIDO P APELLIDO M</td>\n",
       "      <td>cliente 9999999</td>\n",
       "      <td>02 SEP</td>\n",
       "      <td>COBRO DE CHEQUE NUMERO 9999</td>\n",
       "      <td>9,021.42</td>\n",
       "      <td>3,000.00</td>\n",
       "      <td>0</td>\n",
       "      <td>9,021.42</td>\n",
       "      <td>mxn</td>\n",
       "    </tr>\n",
       "    <tr>\n",
       "      <th>4</th>\n",
       "      <td>banamex</td>\n",
       "      <td>nacional</td>\n",
       "      <td>RESUMEN DEL: 01/SEP/2020 AL 30/SEP/2020</td>\n",
       "      <td>NOMBRE APELLIDO P APELLIDO M</td>\n",
       "      <td>cliente 9999999</td>\n",
       "      <td>10 SEP</td>\n",
       "      <td>COBRO DE CHEQUE NUMERO 9999</td>\n",
       "      <td>9,021.42</td>\n",
       "      <td>3,000.00</td>\n",
       "      <td>0</td>\n",
       "      <td>9,021.42</td>\n",
       "      <td>mxn</td>\n",
       "    </tr>\n",
       "    <tr>\n",
       "      <th>5</th>\n",
       "      <td>banamex</td>\n",
       "      <td>nacional</td>\n",
       "      <td>RESUMEN DEL: 01/SEP/2020 AL 30/SEP/2020</td>\n",
       "      <td>NOMBRE APELLIDO P APELLIDO M</td>\n",
       "      <td>cliente 9999999</td>\n",
       "      <td>17 SEP</td>\n",
       "      <td>COBRO DE CHEQUE NUMERO 9999</td>\n",
       "      <td>9,021.42</td>\n",
       "      <td>3,000.00</td>\n",
       "      <td>0</td>\n",
       "      <td>9,021.42</td>\n",
       "      <td>mxn</td>\n",
       "    </tr>\n",
       "    <tr>\n",
       "      <th>6</th>\n",
       "      <td>banamex</td>\n",
       "      <td>nacional</td>\n",
       "      <td>RESUMEN DEL: 01/SEP/2020 AL 30/SEP/2020</td>\n",
       "      <td>NOMBRE APELLIDO P APELLIDO M</td>\n",
       "      <td>cliente 9999999</td>\n",
       "      <td>17 SEP</td>\n",
       "      <td>PAGO RECIBIDO DE BMONEX POR CONCEPTO ORDEN DE ...</td>\n",
       "      <td>9,021.42</td>\n",
       "      <td>0</td>\n",
       "      <td>9,000.00</td>\n",
       "      <td>8,021.42</td>\n",
       "      <td>mxn</td>\n",
       "    </tr>\n",
       "    <tr>\n",
       "      <th>7</th>\n",
       "      <td>banamex</td>\n",
       "      <td>nacional</td>\n",
       "      <td>RESUMEN DEL: 01/SEP/2020 AL 30/SEP/2020</td>\n",
       "      <td>NOMBRE APELLIDO P APELLIDO M</td>\n",
       "      <td>cliente 9999999</td>\n",
       "      <td>18 SEP</td>\n",
       "      <td>COBRO DE CHEQUE NUMERO 9999</td>\n",
       "      <td>9,021.42</td>\n",
       "      <td>9,000.00</td>\n",
       "      <td>0</td>\n",
       "      <td>0</td>\n",
       "      <td>mxn</td>\n",
       "    </tr>\n",
       "    <tr>\n",
       "      <th>8</th>\n",
       "      <td>banamex</td>\n",
       "      <td>nacional</td>\n",
       "      <td>RESUMEN DEL: 01/SEP/2020 AL 30/SEP/2020</td>\n",
       "      <td>NOMBRE APELLIDO P APELLIDO M</td>\n",
       "      <td>cliente 9999999</td>\n",
       "      <td>24 SEP</td>\n",
       "      <td>PAGO RECIBIDO DE BMONEX POR ORDEN DE XXXXXXX X...</td>\n",
       "      <td>9,021.42</td>\n",
       "      <td>0</td>\n",
       "      <td>1,984.00</td>\n",
       "      <td>9,021.42</td>\n",
       "      <td>mxn</td>\n",
       "    </tr>\n",
       "    <tr>\n",
       "      <th>9</th>\n",
       "      <td>banamex</td>\n",
       "      <td>nacional</td>\n",
       "      <td>RESUMEN DEL: 01/SEP/2020 AL 30/SEP/2020</td>\n",
       "      <td>NOMBRE APELLIDO P APELLIDO M</td>\n",
       "      <td>cliente 9999999</td>\n",
       "      <td>24 SEP</td>\n",
       "      <td>EXPEDICION ORDEN AL EXTRANJERO 0000000 O.P. EN...</td>\n",
       "      <td>9,021.42</td>\n",
       "      <td>2,100.00</td>\n",
       "      <td>0</td>\n",
       "      <td>0</td>\n",
       "      <td>mxn</td>\n",
       "    </tr>\n",
       "    <tr>\n",
       "      <th>10</th>\n",
       "      <td>banamex</td>\n",
       "      <td>nacional</td>\n",
       "      <td>RESUMEN DEL: 01/SEP/2020 AL 30/SEP/2020</td>\n",
       "      <td>NOMBRE APELLIDO P APELLIDO M</td>\n",
       "      <td>cliente 9999999</td>\n",
       "      <td>24 SEP</td>\n",
       "      <td>POR INSTRUCCION DEL CUENTE 0000000 O.P. ENVIAD...</td>\n",
       "      <td>9,021.42</td>\n",
       "      <td>9,284.00</td>\n",
       "      <td>0</td>\n",
       "      <td>9,021.42</td>\n",
       "      <td>mxn</td>\n",
       "    </tr>\n",
       "    <tr>\n",
       "      <th>11</th>\n",
       "      <td>banamex</td>\n",
       "      <td>nacional</td>\n",
       "      <td>RESUMEN DEL: 01/SEP/2020 AL 30/SEP/2020</td>\n",
       "      <td>NOMBRE APELLIDO P APELLIDO M</td>\n",
       "      <td>cliente 9999999</td>\n",
       "      <td>24 SEP</td>\n",
       "      <td>POR INSTRUCCION DEL CLIENTE 0000000 O.P. ENVIA...</td>\n",
       "      <td>9,021.42</td>\n",
       "      <td>2,600.00</td>\n",
       "      <td>0</td>\n",
       "      <td>9,021.42</td>\n",
       "      <td>mxn</td>\n",
       "    </tr>\n",
       "    <tr>\n",
       "      <th>12</th>\n",
       "      <td>banamex</td>\n",
       "      <td>nacional</td>\n",
       "      <td>RESUMEN DEL: 01/SEP/2020 AL 30/SEP/2020</td>\n",
       "      <td>NOMBRE APELLIDO P APELLIDO M</td>\n",
       "      <td>cliente 9999999</td>\n",
       "      <td>30 SEP</td>\n",
       "      <td>PAGO RECIBIDO DE BMONEX POR ORDEN DE XXXXXXXX ...</td>\n",
       "      <td>9,021.42</td>\n",
       "      <td>0</td>\n",
       "      <td>5,000.00</td>\n",
       "      <td>0</td>\n",
       "      <td>mxn</td>\n",
       "    </tr>\n",
       "    <tr>\n",
       "      <th>13</th>\n",
       "      <td>banamex</td>\n",
       "      <td>nacional</td>\n",
       "      <td>RESUMEN DEL: 01/SEP/2020 AL 30/SEP/2020</td>\n",
       "      <td>NOMBRE APELLIDO P APELLIDO M</td>\n",
       "      <td>cliente 9999999</td>\n",
       "      <td>30 SEP</td>\n",
       "      <td>COBRO DE CHEQUE NUMERO 0000 30 SEP</td>\n",
       "      <td>9,021.42</td>\n",
       "      <td>3,000.00</td>\n",
       "      <td>0</td>\n",
       "      <td>9,021.42</td>\n",
       "      <td>mxn</td>\n",
       "    </tr>\n",
       "    <tr>\n",
       "      <th>14</th>\n",
       "      <td>banamex</td>\n",
       "      <td>nacional</td>\n",
       "      <td>RESUMEN DEL: 01/SEP/2020 AL 30/SEP/2020</td>\n",
       "      <td>NOMBRE APELLIDO P APELLIDO M</td>\n",
       "      <td>cliente 9999999</td>\n",
       "      <td>30 SEP</td>\n",
       "      <td>NUMERO DE CHEQUES EXENTOS 6</td>\n",
       "      <td>9,021.42</td>\n",
       "      <td>0</td>\n",
       "      <td>0</td>\n",
       "      <td>9,021.42</td>\n",
       "      <td>mxn</td>\n",
       "    </tr>\n",
       "  </tbody>\n",
       "</table>\n",
       "</div>"
      ],
      "text/plain": [
       "      banco nacionalidad                           fecha de corte  \\\n",
       "0   banamex     nacional  RESUMEN DEL: 01/SEP/2020 AL 30/SEP/2020   \n",
       "1   banamex     nacional  RESUMEN DEL: 01/SEP/2020 AL 30/SEP/2020   \n",
       "2   banamex     nacional  RESUMEN DEL: 01/SEP/2020 AL 30/SEP/2020   \n",
       "3   banamex     nacional  RESUMEN DEL: 01/SEP/2020 AL 30/SEP/2020   \n",
       "4   banamex     nacional  RESUMEN DEL: 01/SEP/2020 AL 30/SEP/2020   \n",
       "5   banamex     nacional  RESUMEN DEL: 01/SEP/2020 AL 30/SEP/2020   \n",
       "6   banamex     nacional  RESUMEN DEL: 01/SEP/2020 AL 30/SEP/2020   \n",
       "7   banamex     nacional  RESUMEN DEL: 01/SEP/2020 AL 30/SEP/2020   \n",
       "8   banamex     nacional  RESUMEN DEL: 01/SEP/2020 AL 30/SEP/2020   \n",
       "9   banamex     nacional  RESUMEN DEL: 01/SEP/2020 AL 30/SEP/2020   \n",
       "10  banamex     nacional  RESUMEN DEL: 01/SEP/2020 AL 30/SEP/2020   \n",
       "11  banamex     nacional  RESUMEN DEL: 01/SEP/2020 AL 30/SEP/2020   \n",
       "12  banamex     nacional  RESUMEN DEL: 01/SEP/2020 AL 30/SEP/2020   \n",
       "13  banamex     nacional  RESUMEN DEL: 01/SEP/2020 AL 30/SEP/2020   \n",
       "14  banamex     nacional  RESUMEN DEL: 01/SEP/2020 AL 30/SEP/2020   \n",
       "\n",
       "                         titular           cuenta   fecha  \\\n",
       "0   NOMBRE APELLIDO P APELLIDO M  cliente 9999999       0   \n",
       "1   NOMBRE APELLIDO P APELLIDO M  cliente 9999999  01 SEP   \n",
       "2   NOMBRE APELLIDO P APELLIDO M  cliente 9999999  01 SEP   \n",
       "3   NOMBRE APELLIDO P APELLIDO M  cliente 9999999  02 SEP   \n",
       "4   NOMBRE APELLIDO P APELLIDO M  cliente 9999999  10 SEP   \n",
       "5   NOMBRE APELLIDO P APELLIDO M  cliente 9999999  17 SEP   \n",
       "6   NOMBRE APELLIDO P APELLIDO M  cliente 9999999  17 SEP   \n",
       "7   NOMBRE APELLIDO P APELLIDO M  cliente 9999999  18 SEP   \n",
       "8   NOMBRE APELLIDO P APELLIDO M  cliente 9999999  24 SEP   \n",
       "9   NOMBRE APELLIDO P APELLIDO M  cliente 9999999  24 SEP   \n",
       "10  NOMBRE APELLIDO P APELLIDO M  cliente 9999999  24 SEP   \n",
       "11  NOMBRE APELLIDO P APELLIDO M  cliente 9999999  24 SEP   \n",
       "12  NOMBRE APELLIDO P APELLIDO M  cliente 9999999  30 SEP   \n",
       "13  NOMBRE APELLIDO P APELLIDO M  cliente 9999999  30 SEP   \n",
       "14  NOMBRE APELLIDO P APELLIDO M  cliente 9999999  30 SEP   \n",
       "\n",
       "                                             concepto saldo inicial    retiro  \\\n",
       "0                                     SALDO ANTERIOR       9,021.42         0   \n",
       "1   PAGO RECIBIDO DE BMONEX POR ORDEN DE NOMBRE XX...      9,021.42         0   \n",
       "2                         COBRO DE CHEQUE NUMERO 9999      9,021.42  3,000.00   \n",
       "3                         COBRO DE CHEQUE NUMERO 9999      9,021.42  3,000.00   \n",
       "4                         COBRO DE CHEQUE NUMERO 9999      9,021.42  3,000.00   \n",
       "5                        COBRO DE CHEQUE NUMERO 9999       9,021.42  3,000.00   \n",
       "6   PAGO RECIBIDO DE BMONEX POR CONCEPTO ORDEN DE ...      9,021.42         0   \n",
       "7                        COBRO DE CHEQUE NUMERO 9999       9,021.42  9,000.00   \n",
       "8   PAGO RECIBIDO DE BMONEX POR ORDEN DE XXXXXXX X...      9,021.42         0   \n",
       "9   EXPEDICION ORDEN AL EXTRANJERO 0000000 O.P. EN...      9,021.42  2,100.00   \n",
       "10  POR INSTRUCCION DEL CUENTE 0000000 O.P. ENVIAD...      9,021.42  9,284.00   \n",
       "11  POR INSTRUCCION DEL CLIENTE 0000000 O.P. ENVIA...      9,021.42  2,600.00   \n",
       "12  PAGO RECIBIDO DE BMONEX POR ORDEN DE XXXXXXXX ...      9,021.42         0   \n",
       "13                COBRO DE CHEQUE NUMERO 0000 30 SEP       9,021.42  3,000.00   \n",
       "14                        NUMERO DE CHEQUES EXENTOS 6      9,021.42         0   \n",
       "\n",
       "    deposito     saldo divisa  \n",
       "0          0  9,021.42    mxn  \n",
       "1   5,000.00  9,021.42    mxn  \n",
       "2          0         0    mxn  \n",
       "3          0  9,021.42    mxn  \n",
       "4          0  9,021.42    mxn  \n",
       "5          0  9,021.42    mxn  \n",
       "6   9,000.00  8,021.42    mxn  \n",
       "7          0         0    mxn  \n",
       "8   1,984.00  9,021.42    mxn  \n",
       "9          0         0    mxn  \n",
       "10         0  9,021.42    mxn  \n",
       "11         0  9,021.42    mxn  \n",
       "12  5,000.00         0    mxn  \n",
       "13         0  9,021.42    mxn  \n",
       "14         0  9,021.42    mxn  "
      ]
     },
     "execution_count": 285,
     "metadata": {},
     "output_type": "execute_result"
    }
   ],
   "source": [
    "edo_cuenta"
   ]
  },
  {
   "cell_type": "code",
   "execution_count": 283,
   "metadata": {},
   "outputs": [
    {
     "data": {
      "text/plain": [
       "'01-SEP-2020-banamex-cuenta-cheques-banamex'"
      ]
     },
     "execution_count": 283,
     "metadata": {},
     "output_type": "execute_result"
    }
   ],
   "source": [
    "nombre_archivo=re.findall(r'\\d+/\\w+/\\d+',periodo)[0]+'-banamex-cuenta-cheques-banamex'\n",
    "nombre_archivo=nombre_archivo.replace('/','-')\n",
    "nombre_archivo"
   ]
  },
  {
   "cell_type": "code",
   "execution_count": 284,
   "metadata": {},
   "outputs": [],
   "source": [
    "#exporto\n",
    "#edo_cuenta.to_csv('tresalia\\Bancos\\Banamex_nacional\\salida\\\\'+nombre_archivo+'.txt' , sep='\\t', index=False)"
   ]
  },
  {
   "cell_type": "code",
   "execution_count": null,
   "metadata": {},
   "outputs": [],
   "source": []
  }
 ],
 "metadata": {
  "kernelspec": {
   "display_name": "Python 3",
   "language": "python",
   "name": "python3"
  },
  "language_info": {
   "codemirror_mode": {
    "name": "ipython",
    "version": 3
   },
   "file_extension": ".py",
   "mimetype": "text/x-python",
   "name": "python",
   "nbconvert_exporter": "python",
   "pygments_lexer": "ipython3",
   "version": "3.7.2"
  }
 },
 "nbformat": 4,
 "nbformat_minor": 2
}
