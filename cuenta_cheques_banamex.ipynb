{
 "cells": [
  {
   "cell_type": "code",
   "execution_count": 213,
   "metadata": {},
   "outputs": [],
   "source": [
    "import textract"
   ]
  },
  {
   "cell_type": "code",
   "execution_count": 215,
   "metadata": {},
   "outputs": [],
   "source": [
    "import pandas as pd\n",
    "import numpy as np\n",
    "import re"
   ]
  },
  {
   "cell_type": "code",
   "execution_count": 216,
   "metadata": {},
   "outputs": [],
   "source": [
    "#extraigo texto\n",
    "archivo= 'tresalia\\Edo Cta\\cuenta_cheques_banamex PDF.pdf'"
   ]
  },
  {
   "cell_type": "code",
   "execution_count": 217,
   "metadata": {},
   "outputs": [],
   "source": [
    "text = textract.process(archivo)"
   ]
  },
  {
   "cell_type": "code",
   "execution_count": 218,
   "metadata": {},
   "outputs": [],
   "source": [
    "#cambio formato\n",
    "encoding = 'utf-8'\n",
    "text_str=text.decode(encoding)"
   ]
  },
  {
   "cell_type": "code",
   "execution_count": 219,
   "metadata": {},
   "outputs": [],
   "source": [
    "#separo\n",
    "pdf=re.split(r\"[~\\r\\n]+\", text_str)"
   ]
  },
  {
   "cell_type": "code",
   "execution_count": 220,
   "metadata": {},
   "outputs": [
    {
     "data": {
      "text/html": [
       "<div>\n",
       "<style scoped>\n",
       "    .dataframe tbody tr th:only-of-type {\n",
       "        vertical-align: middle;\n",
       "    }\n",
       "\n",
       "    .dataframe tbody tr th {\n",
       "        vertical-align: top;\n",
       "    }\n",
       "\n",
       "    .dataframe thead th {\n",
       "        text-align: right;\n",
       "    }\n",
       "</style>\n",
       "<table border=\"1\" class=\"dataframe\">\n",
       "  <thead>\n",
       "    <tr style=\"text-align: right;\">\n",
       "      <th></th>\n",
       "      <th>informacion</th>\n",
       "    </tr>\n",
       "  </thead>\n",
       "  <tbody>\n",
       "    <tr>\n",
       "      <th>0</th>\n",
       "      <td>cffibanamex@</td>\n",
       "    </tr>\n",
       "    <tr>\n",
       "      <th>1</th>\n",
       "      <td>ESTADO DE CUENTA AL 30 DE SEPTIEMBRE DE 2020</td>\n",
       "    </tr>\n",
       "    <tr>\n",
       "      <th>2</th>\n",
       "      <td>CLIENTE:</td>\n",
       "    </tr>\n",
       "    <tr>\n",
       "      <th>3</th>\n",
       "      <td>9999999</td>\n",
       "    </tr>\n",
       "    <tr>\n",
       "      <th>4</th>\n",
       "      <td>Registro F ederal de Contribuyentes:</td>\n",
       "    </tr>\n",
       "  </tbody>\n",
       "</table>\n",
       "</div>"
      ],
      "text/plain": [
       "                                    informacion\n",
       "0                                  cffibanamex@\n",
       "1  ESTADO DE CUENTA AL 30 DE SEPTIEMBRE DE 2020\n",
       "2                                      CLIENTE:\n",
       "3                                       9999999\n",
       "4          Registro F ederal de Contribuyentes:"
      ]
     },
     "execution_count": 220,
     "metadata": {},
     "output_type": "execute_result"
    }
   ],
   "source": [
    "information_pdf=pd.DataFrame(pdf).rename(columns={0:\"informacion\"})\n",
    "information_pdf.head()"
   ]
  },
  {
   "cell_type": "code",
   "execution_count": 221,
   "metadata": {},
   "outputs": [
    {
     "data": {
      "text/plain": [
       "['CLIENTE:', '9999999', 'CLIENTE:', '9999999', 'CLIENTE:', '9999999']"
      ]
     },
     "execution_count": 221,
     "metadata": {},
     "output_type": "execute_result"
    }
   ],
   "source": [
    "#cliente\n",
    "cliente_lista=[]\n",
    "for i in range(len(pdf)):\n",
    "    if pdf[i].lower().startswith('cliente'):\n",
    "        cliente_lista.append(pdf[i])\n",
    "        cliente_lista.append(pdf[i+1])\n",
    "        \n",
    "cliente_lista"
   ]
  },
  {
   "cell_type": "code",
   "execution_count": 222,
   "metadata": {},
   "outputs": [
    {
     "data": {
      "text/plain": [
       "'cliente 9999999'"
      ]
     },
     "execution_count": 222,
     "metadata": {},
     "output_type": "execute_result"
    }
   ],
   "source": [
    "cliente= 'cliente '+cliente_lista[1]\n",
    "cliente"
   ]
  },
  {
   "cell_type": "code",
   "execution_count": 223,
   "metadata": {},
   "outputs": [
    {
     "data": {
      "text/plain": [
       "['ooo o \"\\' NOMBRE APELLIDO P APELLIDO M']"
      ]
     },
     "execution_count": 223,
     "metadata": {},
     "output_type": "execute_result"
    }
   ],
   "source": [
    "#nombre del cliente\n",
    "nombre_lista=[]\n",
    "for i in pdf:\n",
    "    if i.startswith(\"ooo\"):\n",
    "        nombre_lista.append(i)\n",
    "        \n",
    "nombre_lista"
   ]
  },
  {
   "cell_type": "code",
   "execution_count": 224,
   "metadata": {},
   "outputs": [],
   "source": [
    "nombre=nombre_lista[0].split(' ')"
   ]
  },
  {
   "cell_type": "code",
   "execution_count": 225,
   "metadata": {},
   "outputs": [],
   "source": [
    "nombre_cliente=[]\n",
    "for i in nombre:\n",
    "    if i.isupper():\n",
    "        nombre_cliente.append(i)"
   ]
  },
  {
   "cell_type": "code",
   "execution_count": 226,
   "metadata": {},
   "outputs": [
    {
     "data": {
      "text/plain": [
       "'NOMBRE APELLIDO P APELLIDO M'"
      ]
     },
     "execution_count": 226,
     "metadata": {},
     "output_type": "execute_result"
    }
   ],
   "source": [
    "nombre=' '.join(nombre_cliente)\n",
    "nombre"
   ]
  },
  {
   "cell_type": "code",
   "execution_count": 227,
   "metadata": {},
   "outputs": [
    {
     "data": {
      "text/plain": [
       "['RESUMEN DEL: 01/SEP/2020 AL 30/SEP/2020']"
      ]
     },
     "execution_count": 227,
     "metadata": {},
     "output_type": "execute_result"
    }
   ],
   "source": [
    "#periodo\n",
    "periodo_lista=[]\n",
    "for i in pdf:\n",
    "    if i.startswith(\"RESUMEN DEL\"):\n",
    "        periodo_lista.append(i)\n",
    "        \n",
    "periodo_lista"
   ]
  },
  {
   "cell_type": "code",
   "execution_count": 228,
   "metadata": {},
   "outputs": [
    {
     "data": {
      "text/plain": [
       "'RESUMEN DEL: 01/SEP/2020 AL 30/SEP/2020'"
      ]
     },
     "execution_count": 228,
     "metadata": {},
     "output_type": "execute_result"
    }
   ],
   "source": [
    "periodo= periodo_lista[0]\n",
    "periodo"
   ]
  },
  {
   "cell_type": "code",
   "execution_count": 229,
   "metadata": {},
   "outputs": [
    {
     "data": {
      "text/plain": [
       "['Registro F ederal de Contribuyentes:', 'XXXX999999XX9']"
      ]
     },
     "execution_count": 229,
     "metadata": {},
     "output_type": "execute_result"
    }
   ],
   "source": [
    "#rfc\n",
    "rfc_lista=[]\n",
    "for i in range(len(pdf)):\n",
    "    if re.search('contribuyentes', pdf[i].lower()):\n",
    "        rfc_lista.append(pdf[i])\n",
    "        rfc_lista.append(pdf[i+1])\n",
    "        \n",
    "rfc_lista"
   ]
  },
  {
   "cell_type": "code",
   "execution_count": 230,
   "metadata": {},
   "outputs": [
    {
     "data": {
      "text/plain": [
       "'RFC XXXX999999XX9'"
      ]
     },
     "execution_count": 230,
     "metadata": {},
     "output_type": "execute_result"
    }
   ],
   "source": [
    "rfc='RFC '+ rfc_lista[1]\n",
    "rfc"
   ]
  },
  {
   "cell_type": "code",
   "execution_count": 231,
   "metadata": {},
   "outputs": [],
   "source": [
    "#localizo la tabla a partir de la palabra \"detalle operaciones\"\n",
    "indices_detalle=[]\n",
    "for i in range(len(pdf)):\n",
    "    if re.search('detalle de operaciones',pdf[i].lower()):\n",
    "        indices_detalle.append(i)"
   ]
  },
  {
   "cell_type": "code",
   "execution_count": 232,
   "metadata": {},
   "outputs": [
    {
     "data": {
      "text/plain": [
       "[46, 77]"
      ]
     },
     "execution_count": 232,
     "metadata": {},
     "output_type": "execute_result"
    }
   ],
   "source": [
    "indices_detalle"
   ]
  },
  {
   "cell_type": "code",
   "execution_count": 233,
   "metadata": {},
   "outputs": [
    {
     "name": "stdout",
     "output_type": "stream",
     "text": [
      "0\n",
      "1\n"
     ]
    }
   ],
   "source": [
    "# en la automatización se puede hacer un for mas grande con los indeces para casos de muchas páginas\n",
    "for i in range(len(indices_detalle)):\n",
    "    print(i)"
   ]
  },
  {
   "cell_type": "markdown",
   "metadata": {},
   "source": [
    "# PAGINA 1"
   ]
  },
  {
   "cell_type": "code",
   "execution_count": 20,
   "metadata": {},
   "outputs": [
    {
     "data": {
      "text/plain": [
       "['DETALLE DE OPERACIONES',\n",
       " 'DEPOSITOS $9,984.00',\n",
       " 'FECHA 01 SEP',\n",
       " 'CONCEPTO SALDO ANTERIOR PAGO RECIBIDO DE BMONEX POR ORDEN DE NOMBRE XXXXXXXXXXX CTA.ORDENANTE 000000000000000000 REF.0000000 TRASPASO A CUENTA PROPIA RASTREO: 00000000',\n",
       " '01 SEP 02 SEP 10 SEP 17 SEP 17 SEP',\n",
       " 'COBRO DE CHEQUE NUMERO 9999 COBRO DE CHEQUE NUMERO 9999 COBRO DE CHEQUE NUMERO 9999 COBRO DE CHEQUE NUMERO 9999 PAGO RECIBIDO DE BMONEX POR',\n",
       " 'RETIROS',\n",
       " 'DEPOSITOS',\n",
       " 'SALDO',\n",
       " '1',\n",
       " '9,021.42',\n",
       " '1',\n",
       " '1',\n",
       " '1-',\n",
       " ',_',\n",
       " ',-',\n",
       " '5,000.00',\n",
       " ',_ 3,000.00',\n",
       " '9,021.42',\n",
       " ',- 3,000.00',\n",
       " ',- 9,021.42',\n",
       " ', 3,000.00 3,000.00',\n",
       " ',_ 9,021.42',\n",
       " '000184.B08CHDA001.OD.0930.01',\n",
       " '\\x0ccffibanamex@ ESTADO DE CUENTA AL 30 DE SEPTIEMBRE DE 2020',\n",
       " 'CLIENTE:',\n",
       " '9999999',\n",
       " 'Página:',\n",
       " '2 de7',\n",
       " 'NOMBRE APELLIDO P APELLIDO M',\n",
       " '7']"
      ]
     },
     "execution_count": 20,
     "metadata": {},
     "output_type": "execute_result"
    }
   ],
   "source": [
    "tabla_pag_1= pdf[indices_detalle[0]: indices_detalle[1]]\n",
    "tabla_pag_1"
   ]
  },
  {
   "cell_type": "code",
   "execution_count": 54,
   "metadata": {},
   "outputs": [
    {
     "data": {
      "text/plain": [
       "['FECHA 01 SEP', '01 SEP 02 SEP 10 SEP 17 SEP 17 SEP']"
      ]
     },
     "execution_count": 54,
     "metadata": {},
     "output_type": "execute_result"
    }
   ],
   "source": [
    "#fechas\n",
    "fecha_lista_pag_1=[]\n",
    "for i in range(len(tabla_pag_1)):\n",
    "    if re.match('fecha',tabla_pag_1[i].lower()):\n",
    "        fecha_lista_pag_1.append(tabla_pag_1[i])\n",
    "    elif re.match(r'\\d{2} \\w{3}',tabla_pag_1[i]):\n",
    "        fecha_lista_pag_1.append(tabla_pag_1[i])\n",
    "\n",
    "        \n",
    "fecha_lista_pag_1"
   ]
  },
  {
   "cell_type": "code",
   "execution_count": 58,
   "metadata": {},
   "outputs": [],
   "source": [
    "#separo\n",
    "fechas_lista_2_pag_1=[]\n",
    "\n",
    "for i in fecha_lista_pag_1:\n",
    "    fechas_lista_2_pag_1.append(re.findall(r'\\d{2} \\w{3}',i))"
   ]
  },
  {
   "cell_type": "code",
   "execution_count": 61,
   "metadata": {},
   "outputs": [
    {
     "data": {
      "text/plain": [
       "[['01 SEP'], ['01 SEP', '02 SEP', '10 SEP', '17 SEP', '17 SEP']]"
      ]
     },
     "execution_count": 61,
     "metadata": {},
     "output_type": "execute_result"
    }
   ],
   "source": [
    "fechas_lista_2_pag_1"
   ]
  },
  {
   "cell_type": "code",
   "execution_count": 62,
   "metadata": {},
   "outputs": [],
   "source": [
    "#aplano lista de listas\n",
    "fechas_pag_1 = []\n",
    "for i in fechas_lista_2_pag_1:\n",
    "    for j in i:\n",
    "        fechas_pag_1.append(j)"
   ]
  },
  {
   "cell_type": "code",
   "execution_count": 63,
   "metadata": {},
   "outputs": [
    {
     "data": {
      "text/plain": [
       "['01 SEP', '01 SEP', '02 SEP', '10 SEP', '17 SEP', '17 SEP']"
      ]
     },
     "execution_count": 63,
     "metadata": {},
     "output_type": "execute_result"
    }
   ],
   "source": [
    "fechas_pag_1"
   ]
  },
  {
   "cell_type": "code",
   "execution_count": 69,
   "metadata": {},
   "outputs": [
    {
     "data": {
      "text/plain": [
       "['CONCEPTO SALDO ANTERIOR PAGO RECIBIDO DE BMONEX POR ORDEN DE NOMBRE XXXXXXXXXXX CTA.ORDENANTE 000000000000000000 REF.0000000 TRASPASO A CUENTA PROPIA RASTREO: 00000000',\n",
       " 'COBRO DE CHEQUE NUMERO 9999 COBRO DE CHEQUE NUMERO 9999 COBRO DE CHEQUE NUMERO 9999 COBRO DE CHEQUE NUMERO 9999 PAGO RECIBIDO DE BMONEX POR']"
      ]
     },
     "execution_count": 69,
     "metadata": {},
     "output_type": "execute_result"
    }
   ],
   "source": [
    "#conceptos\n",
    "conceptos_lista_pag_1=[]\n",
    "for i in range(len(tabla_pag_1)):\n",
    "    if re.match('concepto',tabla_pag_1[i].lower()):\n",
    "        conceptos_lista_pag_1.append(tabla_pag_1[i])\n",
    "    elif re.match('cobro',tabla_pag_1[i].lower()):\n",
    "        conceptos_lista_pag_1.append(tabla_pag_1[i])\n",
    "    elif re.match('pago',tabla_pag_1[i].lower()):\n",
    "        conceptos_lista_pag_1.append(tabla_pag_1[i])\n",
    "        \n",
    "conceptos_lista_pag_1"
   ]
  },
  {
   "cell_type": "code",
   "execution_count": 76,
   "metadata": {},
   "outputs": [
    {
     "data": {
      "text/plain": [
       "[['CONCEPTO ',\n",
       "  'ANTERIOR',\n",
       "  'GO RECIBIDO DE BMONEX POR ORDEN DE NOMBRE XXXXXXXXXXX CTA.ORDENANTE 000000000000000000 REF.0000000 TRASPASO A CUENTA PROPIA RASTREO: 00000000'],\n",
       " ['COBRO DE CHEQUE NUMERO 9999',\n",
       "  'RO DE CHEQUE NUMERO 9999',\n",
       "  'RO DE CHEQUE NUMERO 9999',\n",
       "  'RO DE CHEQUE NUMERO 9999',\n",
       "  'GO RECIBIDO DE BMONEX POR']]"
      ]
     },
     "execution_count": 76,
     "metadata": {},
     "output_type": "execute_result"
    }
   ],
   "source": [
    "conceptos_p1=[]\n",
    "\n",
    "for i in range(len(conceptos_lista_pag_1)):\n",
    "    j=re.split('SALDO | COB| PA',conceptos_lista_pag_1[i])\n",
    "    conceptos_p1.append(j)\n",
    "conceptos_p1"
   ]
  },
  {
   "cell_type": "code",
   "execution_count": 84,
   "metadata": {},
   "outputs": [],
   "source": [
    "#aplano lista de listas\n",
    "conceptos_p2 = []\n",
    "for i in conceptos_p1:\n",
    "    for j in i:\n",
    "        conceptos_p2.append(j)"
   ]
  },
  {
   "cell_type": "code",
   "execution_count": 85,
   "metadata": {},
   "outputs": [
    {
     "data": {
      "text/plain": [
       "['CONCEPTO ',\n",
       " 'ANTERIOR',\n",
       " 'GO RECIBIDO DE BMONEX POR ORDEN DE NOMBRE XXXXXXXXXXX CTA.ORDENANTE 000000000000000000 REF.0000000 TRASPASO A CUENTA PROPIA RASTREO: 00000000',\n",
       " 'COBRO DE CHEQUE NUMERO 9999',\n",
       " 'RO DE CHEQUE NUMERO 9999',\n",
       " 'RO DE CHEQUE NUMERO 9999',\n",
       " 'RO DE CHEQUE NUMERO 9999',\n",
       " 'GO RECIBIDO DE BMONEX POR']"
      ]
     },
     "execution_count": 85,
     "metadata": {},
     "output_type": "execute_result"
    }
   ],
   "source": [
    "conceptos_p2"
   ]
  },
  {
   "cell_type": "code",
   "execution_count": 87,
   "metadata": {},
   "outputs": [
    {
     "data": {
      "text/plain": [
       "['SALDO ANTERIOR',\n",
       " 'PAGO RECIBIDO DE BMONEX POR ORDEN DE NOMBRE XXXXXXXXXXX CTA.ORDENANTE 000000000000000000 REF.0000000 TRASPASO A CUENTA PROPIA RASTREO: 00000000',\n",
       " 'COBRO DE CHEQUE NUMERO 9999',\n",
       " 'COBRO DE CHEQUE NUMERO 9999',\n",
       " 'COBRO DE CHEQUE NUMERO 9999',\n",
       " 'COBRO DE CHEQUE NUMERO 9999',\n",
       " 'PAGO RECIBIDO DE BMONEX POR']"
      ]
     },
     "execution_count": 87,
     "metadata": {},
     "output_type": "execute_result"
    }
   ],
   "source": [
    "conceptos_pag_1=[]\n",
    "for i in range(len(conceptos_p2)):\n",
    "    if conceptos_p2[i].startswith('ANTERIOR'):\n",
    "        j='SALDO '+conceptos_p2[i]\n",
    "        conceptos_pag_1.append(j)\n",
    "    elif conceptos_p2[i].startswith('GO'):\n",
    "        j='PA'+conceptos_p2[i]\n",
    "        conceptos_pag_1.append(j)\n",
    "    elif conceptos_p2[i].startswith('RO'):\n",
    "        j='COB'+ conceptos_p2[i]\n",
    "        conceptos_pag_1.append(j)\n",
    "    elif conceptos_p2[i].startswith('COBRO'):\n",
    "        j=conceptos_p2[i]\n",
    "        conceptos_pag_1.append(j)\n",
    "conceptos_pag_1"
   ]
  },
  {
   "cell_type": "code",
   "execution_count": 88,
   "metadata": {},
   "outputs": [
    {
     "data": {
      "text/plain": [
       "['RETIROS', 'DEPOSITOS']"
      ]
     },
     "execution_count": 88,
     "metadata": {},
     "output_type": "execute_result"
    }
   ],
   "source": [
    "#retiros\n",
    "retiros_lista_pag_1=[]\n",
    "for i in range(len(tabla_pag_1)):\n",
    "    if re.match('retiros',tabla_pag_1[i].lower()):\n",
    "        retiros_lista_pag_1.append(tabla_pag_1[i])\n",
    "        retiros_lista_pag_1.append(tabla_pag_1[i+1])\n",
    "        \n",
    "retiros_lista_pag_1"
   ]
  },
  {
   "cell_type": "code",
   "execution_count": 89,
   "metadata": {},
   "outputs": [
    {
     "data": {
      "text/plain": [
       "['DETALLE DE OPERACIONES',\n",
       " 'DEPOSITOS $9,984.00',\n",
       " 'FECHA 01 SEP',\n",
       " 'CONCEPTO SALDO ANTERIOR PAGO RECIBIDO DE BMONEX POR ORDEN DE NOMBRE XXXXXXXXXXX CTA.ORDENANTE 000000000000000000 REF.0000000 TRASPASO A CUENTA PROPIA RASTREO: 00000000',\n",
       " '01 SEP 02 SEP 10 SEP 17 SEP 17 SEP',\n",
       " 'COBRO DE CHEQUE NUMERO 9999 COBRO DE CHEQUE NUMERO 9999 COBRO DE CHEQUE NUMERO 9999 COBRO DE CHEQUE NUMERO 9999 PAGO RECIBIDO DE BMONEX POR',\n",
       " 'RETIROS',\n",
       " 'DEPOSITOS',\n",
       " 'SALDO',\n",
       " '1',\n",
       " '9,021.42',\n",
       " '1',\n",
       " '1',\n",
       " '1-',\n",
       " ',_',\n",
       " ',-',\n",
       " '5,000.00',\n",
       " ',_ 3,000.00',\n",
       " '9,021.42',\n",
       " ',- 3,000.00',\n",
       " ',- 9,021.42',\n",
       " ', 3,000.00 3,000.00',\n",
       " ',_ 9,021.42',\n",
       " '000184.B08CHDA001.OD.0930.01',\n",
       " '\\x0ccffibanamex@ ESTADO DE CUENTA AL 30 DE SEPTIEMBRE DE 2020',\n",
       " 'CLIENTE:',\n",
       " '9999999',\n",
       " 'Página:',\n",
       " '2 de7',\n",
       " 'NOMBRE APELLIDO P APELLIDO M',\n",
       " '7']"
      ]
     },
     "execution_count": 89,
     "metadata": {},
     "output_type": "execute_result"
    }
   ],
   "source": [
    "tabla_pag_1"
   ]
  },
  {
   "cell_type": "markdown",
   "metadata": {},
   "source": [
    "# USando libreria tabula"
   ]
  },
  {
   "cell_type": "code",
   "execution_count": 93,
   "metadata": {},
   "outputs": [
    {
     "name": "stdout",
     "output_type": "stream",
     "text": [
      "Collecting tabula-py\n",
      "  Using cached tabula_py-2.2.0-py3-none-any.whl (11.7 MB)\n",
      "Requirement already satisfied: pandas>=0.25.3 in c:\\users\\gotsa\\appdata\\local\\programs\\python\\python37\\lib\\site-packages (from tabula-py) (1.2.1)\n",
      "Collecting distro\n",
      "  Using cached distro-1.5.0-py2.py3-none-any.whl (18 kB)\n",
      "Requirement already satisfied: numpy in c:\\users\\gotsa\\appdata\\local\\programs\\python\\python37\\lib\\site-packages (from tabula-py) (1.16.1)\n",
      "Requirement already satisfied: pytz>=2017.3 in c:\\users\\gotsa\\appdata\\local\\programs\\python\\python37\\lib\\site-packages (from pandas>=0.25.3->tabula-py) (2019.1)\n",
      "Requirement already satisfied: python-dateutil>=2.7.3 in c:\\users\\gotsa\\appdata\\local\\programs\\python\\python37\\lib\\site-packages (from pandas>=0.25.3->tabula-py) (2.8.0)\n",
      "Requirement already satisfied: six>=1.5 in c:\\users\\gotsa\\appdata\\local\\programs\\python\\python37\\lib\\site-packages (from python-dateutil>=2.7.3->pandas>=0.25.3->tabula-py) (1.12.0)\n",
      "Installing collected packages: distro, tabula-py\n",
      "Successfully installed distro-1.5.0 tabula-py-2.2.0\n",
      "Note: you may need to restart the kernel to use updated packages.\n"
     ]
    },
    {
     "name": "stderr",
     "output_type": "stream",
     "text": [
      "WARNING: You are using pip version 20.2.2; however, version 21.0.1 is available.\n",
      "You should consider upgrading via the 'c:\\users\\gotsa\\appdata\\local\\programs\\python\\python37\\python.exe -m pip install --upgrade pip' command.\n"
     ]
    }
   ],
   "source": [
    "#pip install tabula-py"
   ]
  },
  {
   "cell_type": "code",
   "execution_count": 94,
   "metadata": {},
   "outputs": [],
   "source": [
    "import tabula"
   ]
  },
  {
   "cell_type": "code",
   "execution_count": 106,
   "metadata": {},
   "outputs": [],
   "source": [
    "tabu=tabula.read_pdf(archivo, pages='all')"
   ]
  },
  {
   "cell_type": "code",
   "execution_count": 111,
   "metadata": {},
   "outputs": [],
   "source": [
    "pagina_1=tabu[1]\n",
    "pagina_2=tabu[2]"
   ]
  },
  {
   "cell_type": "code",
   "execution_count": 135,
   "metadata": {},
   "outputs": [],
   "source": [
    "pagina1_2=pagina_1.fillna(0).drop(['1','Unnamed: 0'], axis=1)"
   ]
  },
  {
   "cell_type": "code",
   "execution_count": 131,
   "metadata": {},
   "outputs": [
    {
     "data": {
      "text/html": [
       "<div>\n",
       "<style scoped>\n",
       "    .dataframe tbody tr th:only-of-type {\n",
       "        vertical-align: middle;\n",
       "    }\n",
       "\n",
       "    .dataframe tbody tr th {\n",
       "        vertical-align: top;\n",
       "    }\n",
       "\n",
       "    .dataframe thead th {\n",
       "        text-align: right;\n",
       "    }\n",
       "</style>\n",
       "<table border=\"1\" class=\"dataframe\">\n",
       "  <thead>\n",
       "    <tr style=\"text-align: right;\">\n",
       "      <th></th>\n",
       "      <th>FECHA</th>\n",
       "      <th>CONCEPTO</th>\n",
       "      <th>RETIROS</th>\n",
       "      <th>DEPOSITOS</th>\n",
       "      <th>SALDO</th>\n",
       "    </tr>\n",
       "  </thead>\n",
       "  <tbody>\n",
       "    <tr>\n",
       "      <th>0</th>\n",
       "      <td>0</td>\n",
       "      <td>SALDO ANTERIOR</td>\n",
       "      <td>0</td>\n",
       "      <td>0</td>\n",
       "      <td>9,021.42</td>\n",
       "    </tr>\n",
       "    <tr>\n",
       "      <th>1</th>\n",
       "      <td>01 SEP</td>\n",
       "      <td>PAGO RECIBIDO DE BMONEX POR</td>\n",
       "      <td>0</td>\n",
       "      <td>0</td>\n",
       "      <td>0</td>\n",
       "    </tr>\n",
       "    <tr>\n",
       "      <th>2</th>\n",
       "      <td>0</td>\n",
       "      <td>ORDEN DE NOMBRE</td>\n",
       "      <td>0</td>\n",
       "      <td>0</td>\n",
       "      <td>0</td>\n",
       "    </tr>\n",
       "    <tr>\n",
       "      <th>3</th>\n",
       "      <td>0</td>\n",
       "      <td>XXXXXXXXXXX CT A.ORDENANTE</td>\n",
       "      <td>0</td>\n",
       "      <td>0</td>\n",
       "      <td>0</td>\n",
       "    </tr>\n",
       "    <tr>\n",
       "      <th>4</th>\n",
       "      <td>0</td>\n",
       "      <td>000000000000000000 REF.0000000</td>\n",
       "      <td>0</td>\n",
       "      <td>0</td>\n",
       "      <td>0</td>\n",
       "    </tr>\n",
       "    <tr>\n",
       "      <th>5</th>\n",
       "      <td>0</td>\n",
       "      <td>TRASPASO A CUENTA PROPIA</td>\n",
       "      <td>0</td>\n",
       "      <td>0</td>\n",
       "      <td>0</td>\n",
       "    </tr>\n",
       "    <tr>\n",
       "      <th>6</th>\n",
       "      <td>0</td>\n",
       "      <td>RASTREO: 00000000</td>\n",
       "      <td>0</td>\n",
       "      <td>0</td>\n",
       "      <td>0</td>\n",
       "    </tr>\n",
       "    <tr>\n",
       "      <th>9</th>\n",
       "      <td>0</td>\n",
       "      <td>0</td>\n",
       "      <td>0</td>\n",
       "      <td>5,000.00</td>\n",
       "      <td>0</td>\n",
       "    </tr>\n",
       "    <tr>\n",
       "      <th>11</th>\n",
       "      <td>01 SEP</td>\n",
       "      <td>COBRO DE CHEQUE NUMERO 9999</td>\n",
       "      <td>3,000.00</td>\n",
       "      <td>0</td>\n",
       "      <td>9,021.42</td>\n",
       "    </tr>\n",
       "    <tr>\n",
       "      <th>13</th>\n",
       "      <td>02 SEP</td>\n",
       "      <td>COBRO DE CHEQUE NUMERO 9999</td>\n",
       "      <td>3,000.00</td>\n",
       "      <td>0</td>\n",
       "      <td>9,021.42</td>\n",
       "    </tr>\n",
       "    <tr>\n",
       "      <th>15</th>\n",
       "      <td>10 SEP</td>\n",
       "      <td>COBRO DE CHEQUE NUMERO 9999</td>\n",
       "      <td>, 3,000.00</td>\n",
       "      <td>0</td>\n",
       "      <td>9,021.42</td>\n",
       "    </tr>\n",
       "    <tr>\n",
       "      <th>16</th>\n",
       "      <td>17 SEP</td>\n",
       "      <td>COBRO DE CHEQUE NUMERO 9999</td>\n",
       "      <td>3,000.00</td>\n",
       "      <td>0</td>\n",
       "      <td>0</td>\n",
       "    </tr>\n",
       "    <tr>\n",
       "      <th>17</th>\n",
       "      <td>17 SEP</td>\n",
       "      <td>PAGO RECIBIDO DE BMONEX POR</td>\n",
       "      <td>0</td>\n",
       "      <td>0</td>\n",
       "      <td>0</td>\n",
       "    </tr>\n",
       "  </tbody>\n",
       "</table>\n",
       "</div>"
      ],
      "text/plain": [
       "     FECHA                        CONCEPTO     RETIROS DEPOSITOS     SALDO\n",
       "0        0                  SALDO ANTERIOR           0         0  9,021.42\n",
       "1   01 SEP     PAGO RECIBIDO DE BMONEX POR           0         0         0\n",
       "2        0                 ORDEN DE NOMBRE           0         0         0\n",
       "3        0      XXXXXXXXXXX CT A.ORDENANTE           0         0         0\n",
       "4        0  000000000000000000 REF.0000000           0         0         0\n",
       "5        0        TRASPASO A CUENTA PROPIA           0         0         0\n",
       "6        0               RASTREO: 00000000           0         0         0\n",
       "9        0                               0           0  5,000.00         0\n",
       "11  01 SEP     COBRO DE CHEQUE NUMERO 9999    3,000.00         0  9,021.42\n",
       "13  02 SEP     COBRO DE CHEQUE NUMERO 9999    3,000.00         0  9,021.42\n",
       "15  10 SEP     COBRO DE CHEQUE NUMERO 9999  , 3,000.00         0  9,021.42\n",
       "16  17 SEP     COBRO DE CHEQUE NUMERO 9999    3,000.00         0         0\n",
       "17  17 SEP     PAGO RECIBIDO DE BMONEX POR           0         0         0"
      ]
     },
     "execution_count": 131,
     "metadata": {},
     "output_type": "execute_result"
    }
   ],
   "source": [
    "pagina1_3=pagina1_2[(pagina1_2['RETIROS']!= ',-') & (pagina1_2['RETIROS']!= ',_') & (pagina1_2['DEPOSITOS']!='-')]\n",
    "pagina1_3"
   ]
  },
  {
   "cell_type": "code",
   "execution_count": 204,
   "metadata": {},
   "outputs": [],
   "source": [
    "pagina2_2=pagina_2.fillna(0).drop(['1'], axis=1)"
   ]
  },
  {
   "cell_type": "code",
   "execution_count": 205,
   "metadata": {},
   "outputs": [
    {
     "data": {
      "text/html": [
       "<div>\n",
       "<style scoped>\n",
       "    .dataframe tbody tr th:only-of-type {\n",
       "        vertical-align: middle;\n",
       "    }\n",
       "\n",
       "    .dataframe tbody tr th {\n",
       "        vertical-align: top;\n",
       "    }\n",
       "\n",
       "    .dataframe thead th {\n",
       "        text-align: right;\n",
       "    }\n",
       "</style>\n",
       "<table border=\"1\" class=\"dataframe\">\n",
       "  <thead>\n",
       "    <tr style=\"text-align: right;\">\n",
       "      <th></th>\n",
       "      <th>FECHA</th>\n",
       "      <th>CONCEPTO ORDEN RETIROS</th>\n",
       "      <th>DEPOSITOS</th>\n",
       "      <th>SALDO</th>\n",
       "    </tr>\n",
       "  </thead>\n",
       "  <tbody>\n",
       "    <tr>\n",
       "      <th>0</th>\n",
       "      <td>0</td>\n",
       "      <td>DE XXXXX XXXXXXXXXXXXXX</td>\n",
       "      <td>0</td>\n",
       "      <td>0</td>\n",
       "    </tr>\n",
       "    <tr>\n",
       "      <th>1</th>\n",
       "      <td>0</td>\n",
       "      <td>XXXXXXX</td>\n",
       "      <td>0</td>\n",
       "      <td>0</td>\n",
       "    </tr>\n",
       "    <tr>\n",
       "      <th>2</th>\n",
       "      <td>0</td>\n",
       "      <td>CTA.O RDENANTE</td>\n",
       "      <td>0</td>\n",
       "      <td>0</td>\n",
       "    </tr>\n",
       "    <tr>\n",
       "      <th>3</th>\n",
       "      <td>0</td>\n",
       "      <td>1000000000000000000 REF.0000000</td>\n",
       "      <td>0</td>\n",
       "      <td>0</td>\n",
       "    </tr>\n",
       "    <tr>\n",
       "      <th>4</th>\n",
       "      <td>0</td>\n",
       "      <td>TRASPASO A CUENTA PROPIA</td>\n",
       "      <td>0</td>\n",
       "      <td>0</td>\n",
       "    </tr>\n",
       "    <tr>\n",
       "      <th>6</th>\n",
       "      <td>0</td>\n",
       "      <td>RASTREO: 00000000</td>\n",
       "      <td>0</td>\n",
       "      <td>0</td>\n",
       "    </tr>\n",
       "    <tr>\n",
       "      <th>8</th>\n",
       "      <td>0</td>\n",
       "      <td>0</td>\n",
       "      <td>9,000.00</td>\n",
       "      <td>8,021.42</td>\n",
       "    </tr>\n",
       "    <tr>\n",
       "      <th>10</th>\n",
       "      <td>18 SEP</td>\n",
       "      <td>COBRO DE CHEQUE NUMERO 9999 , 9,000.00</td>\n",
       "      <td>0</td>\n",
       "      <td>9,021.42</td>\n",
       "    </tr>\n",
       "    <tr>\n",
       "      <th>11</th>\n",
       "      <td>24 SEP</td>\n",
       "      <td>PAGO RECIBIDO DE BMONEX POR</td>\n",
       "      <td>0</td>\n",
       "      <td>0</td>\n",
       "    </tr>\n",
       "    <tr>\n",
       "      <th>12</th>\n",
       "      <td>0</td>\n",
       "      <td>ORDEN DE XXXXXXX</td>\n",
       "      <td>0</td>\n",
       "      <td>0</td>\n",
       "    </tr>\n",
       "    <tr>\n",
       "      <th>13</th>\n",
       "      <td>0</td>\n",
       "      <td>XXXXXXXXXXXXXX XXXXXX</td>\n",
       "      <td>0</td>\n",
       "      <td>0</td>\n",
       "    </tr>\n",
       "    <tr>\n",
       "      <th>14</th>\n",
       "      <td>0</td>\n",
       "      <td>0</td>\n",
       "      <td>0</td>\n",
       "      <td>0</td>\n",
       "    </tr>\n",
       "    <tr>\n",
       "      <th>15</th>\n",
       "      <td>0</td>\n",
       "      <td>CTA.ORDENANTE</td>\n",
       "      <td>0</td>\n",
       "      <td>0</td>\n",
       "    </tr>\n",
       "    <tr>\n",
       "      <th>16</th>\n",
       "      <td>0</td>\n",
       "      <td>000000000000000000 REF.0000000</td>\n",
       "      <td>0</td>\n",
       "      <td>0</td>\n",
       "    </tr>\n",
       "    <tr>\n",
       "      <th>17</th>\n",
       "      <td>0</td>\n",
       "      <td>1 TRASPASO A CUENTA PROPIA</td>\n",
       "      <td>0</td>\n",
       "      <td>0</td>\n",
       "    </tr>\n",
       "    <tr>\n",
       "      <th>19</th>\n",
       "      <td>0</td>\n",
       "      <td>RASTREO: 00000000</td>\n",
       "      <td>0</td>\n",
       "      <td>0</td>\n",
       "    </tr>\n",
       "    <tr>\n",
       "      <th>21</th>\n",
       "      <td>0</td>\n",
       "      <td>0</td>\n",
       "      <td>1,984.00</td>\n",
       "      <td>0</td>\n",
       "    </tr>\n",
       "    <tr>\n",
       "      <th>23</th>\n",
       "      <td>24 SEP</td>\n",
       "      <td>EXPEDICION ORDEN AL EXTRANJERO</td>\n",
       "      <td>0</td>\n",
       "      <td>0</td>\n",
       "    </tr>\n",
       "    <tr>\n",
       "      <th>25</th>\n",
       "      <td>0</td>\n",
       "      <td>0000000 O.P. ENVIADA AL EXT. _,_ 2,100.00</td>\n",
       "      <td>0</td>\n",
       "      <td>0</td>\n",
       "    </tr>\n",
       "    <tr>\n",
       "      <th>26</th>\n",
       "      <td>24 SEP</td>\n",
       "      <td>POR INSTRUCCION DEL CUENTE</td>\n",
       "      <td>0</td>\n",
       "      <td>0</td>\n",
       "    </tr>\n",
       "    <tr>\n",
       "      <th>28</th>\n",
       "      <td>0</td>\n",
       "      <td>0000000 O.P. ENVIADA AL EXT. 9,284.00</td>\n",
       "      <td>0</td>\n",
       "      <td>0</td>\n",
       "    </tr>\n",
       "    <tr>\n",
       "      <th>30</th>\n",
       "      <td>24 SEP</td>\n",
       "      <td>POR INSTRUCCION DEL CLIENTE</td>\n",
       "      <td>0</td>\n",
       "      <td>0</td>\n",
       "    </tr>\n",
       "    <tr>\n",
       "      <th>32</th>\n",
       "      <td>0</td>\n",
       "      <td>0000000 O.P. ENVIADA AL EXT. 2,600.00</td>\n",
       "      <td>0</td>\n",
       "      <td>9,021.42</td>\n",
       "    </tr>\n",
       "    <tr>\n",
       "      <th>33</th>\n",
       "      <td>30 SEP</td>\n",
       "      <td>PAGO RECIBIDO DE BMONEX POR ,</td>\n",
       "      <td>0</td>\n",
       "      <td>,-</td>\n",
       "    </tr>\n",
       "    <tr>\n",
       "      <th>34</th>\n",
       "      <td>0</td>\n",
       "      <td>ORDEN DE XXXXXXXX</td>\n",
       "      <td>0</td>\n",
       "      <td>0</td>\n",
       "    </tr>\n",
       "    <tr>\n",
       "      <th>35</th>\n",
       "      <td>0</td>\n",
       "      <td>XXXXXXXXXXXXXX XXXXXX</td>\n",
       "      <td>0</td>\n",
       "      <td>0</td>\n",
       "    </tr>\n",
       "    <tr>\n",
       "      <th>36</th>\n",
       "      <td>0</td>\n",
       "      <td>0</td>\n",
       "      <td>0</td>\n",
       "      <td>0</td>\n",
       "    </tr>\n",
       "    <tr>\n",
       "      <th>37</th>\n",
       "      <td>0</td>\n",
       "      <td>CTA.ORDENANTE</td>\n",
       "      <td>0</td>\n",
       "      <td>0</td>\n",
       "    </tr>\n",
       "    <tr>\n",
       "      <th>38</th>\n",
       "      <td>0</td>\n",
       "      <td>000000000000000000 REF.0000000</td>\n",
       "      <td>0</td>\n",
       "      <td>0</td>\n",
       "    </tr>\n",
       "    <tr>\n",
       "      <th>39</th>\n",
       "      <td>0</td>\n",
       "      <td>0</td>\n",
       "      <td>0</td>\n",
       "      <td>0</td>\n",
       "    </tr>\n",
       "    <tr>\n",
       "      <th>40</th>\n",
       "      <td>0</td>\n",
       "      <td>TRASPASO A CUENTA PROPIA</td>\n",
       "      <td>0</td>\n",
       "      <td>0</td>\n",
       "    </tr>\n",
       "    <tr>\n",
       "      <th>42</th>\n",
       "      <td>0</td>\n",
       "      <td>RASTREO: 00000000</td>\n",
       "      <td>0</td>\n",
       "      <td>0</td>\n",
       "    </tr>\n",
       "    <tr>\n",
       "      <th>44</th>\n",
       "      <td>0</td>\n",
       "      <td>0</td>\n",
       "      <td>5,000.00</td>\n",
       "      <td>0</td>\n",
       "    </tr>\n",
       "    <tr>\n",
       "      <th>46</th>\n",
       "      <td>30 SEP</td>\n",
       "      <td>COBRO DE CHEQUE NUMERO 0000 3,000.00</td>\n",
       "      <td>0</td>\n",
       "      <td>0</td>\n",
       "    </tr>\n",
       "    <tr>\n",
       "      <th>48</th>\n",
       "      <td>30 SEP</td>\n",
       "      <td>NUMERO DE CHEQUES EXENTOS ,</td>\n",
       "      <td>0</td>\n",
       "      <td>,_</td>\n",
       "    </tr>\n",
       "    <tr>\n",
       "      <th>49</th>\n",
       "      <td>0</td>\n",
       "      <td>6</td>\n",
       "      <td>0</td>\n",
       "      <td>9,021.42</td>\n",
       "    </tr>\n",
       "  </tbody>\n",
       "</table>\n",
       "</div>"
      ],
      "text/plain": [
       "     FECHA                     CONCEPTO ORDEN RETIROS DEPOSITOS     SALDO\n",
       "0        0                    DE XXXXX XXXXXXXXXXXXXX         0         0\n",
       "1        0                                    XXXXXXX         0         0\n",
       "2        0                             CTA.O RDENANTE         0         0\n",
       "3        0            1000000000000000000 REF.0000000         0         0\n",
       "4        0                   TRASPASO A CUENTA PROPIA         0         0\n",
       "6        0                          RASTREO: 00000000         0         0\n",
       "8        0                                          0  9,000.00  8,021.42\n",
       "10  18 SEP     COBRO DE CHEQUE NUMERO 9999 , 9,000.00         0  9,021.42\n",
       "11  24 SEP                PAGO RECIBIDO DE BMONEX POR         0         0\n",
       "12       0                           ORDEN DE XXXXXXX         0         0\n",
       "13       0                      XXXXXXXXXXXXXX XXXXXX         0         0\n",
       "14       0                                          0         0         0\n",
       "15       0                              CTA.ORDENANTE         0         0\n",
       "16       0             000000000000000000 REF.0000000         0         0\n",
       "17       0                 1 TRASPASO A CUENTA PROPIA         0         0\n",
       "19       0                          RASTREO: 00000000         0         0\n",
       "21       0                                          0  1,984.00         0\n",
       "23  24 SEP             EXPEDICION ORDEN AL EXTRANJERO         0         0\n",
       "25       0  0000000 O.P. ENVIADA AL EXT. _,_ 2,100.00         0         0\n",
       "26  24 SEP                 POR INSTRUCCION DEL CUENTE         0         0\n",
       "28       0      0000000 O.P. ENVIADA AL EXT. 9,284.00         0         0\n",
       "30  24 SEP                POR INSTRUCCION DEL CLIENTE         0         0\n",
       "32       0      0000000 O.P. ENVIADA AL EXT. 2,600.00         0  9,021.42\n",
       "33  30 SEP              PAGO RECIBIDO DE BMONEX POR ,         0        ,-\n",
       "34       0                          ORDEN DE XXXXXXXX         0         0\n",
       "35       0                      XXXXXXXXXXXXXX XXXXXX         0         0\n",
       "36       0                                          0         0         0\n",
       "37       0                              CTA.ORDENANTE         0         0\n",
       "38       0             000000000000000000 REF.0000000         0         0\n",
       "39       0                                          0         0         0\n",
       "40       0                   TRASPASO A CUENTA PROPIA         0         0\n",
       "42       0                          RASTREO: 00000000         0         0\n",
       "44       0                                          0  5,000.00         0\n",
       "46  30 SEP       COBRO DE CHEQUE NUMERO 0000 3,000.00         0         0\n",
       "48  30 SEP                NUMERO DE CHEQUES EXENTOS ,         0        ,_\n",
       "49       0                                          6         0  9,021.42"
      ]
     },
     "execution_count": 205,
     "metadata": {},
     "output_type": "execute_result"
    }
   ],
   "source": [
    "pagina2_3=pagina2_2[(pagina2_2['CONCEPTO ORDEN RETIROS']!= ',-') & \n",
    "                    (pagina2_2['CONCEPTO ORDEN RETIROS']!= ',_') & \n",
    "                    (pagina2_2['CONCEPTO ORDEN RETIROS']!= '_,_') &\n",
    "                    (pagina2_2['CONCEPTO ORDEN RETIROS']!= '-,-') &\n",
    "                    (pagina2_2['DEPOSITOS']!='-')]\n",
    "pagina2_3"
   ]
  },
  {
   "cell_type": "code",
   "execution_count": 206,
   "metadata": {},
   "outputs": [],
   "source": [
    "#extraer retiros\n",
    "retiros=[]\n",
    "for i in pagina2_3['CONCEPTO ORDEN RETIROS']:\n",
    "    #if str(i).startswith('COBRO'):\n",
    "        #print(i)\n",
    "    if re.search(r'\\.\\d{2}$', str(i)):\n",
    "        retiros.append(re.findall(r'\\d+\\,\\d+\\.\\d{2}$', str(i))[0])\n",
    "    else:\n",
    "        retiros.append(0)"
   ]
  },
  {
   "cell_type": "code",
   "execution_count": 207,
   "metadata": {},
   "outputs": [
    {
     "name": "stderr",
     "output_type": "stream",
     "text": [
      "c:\\users\\gotsa\\appdata\\local\\programs\\python\\python37\\lib\\site-packages\\ipykernel_launcher.py:1: SettingWithCopyWarning: \n",
      "A value is trying to be set on a copy of a slice from a DataFrame.\n",
      "Try using .loc[row_indexer,col_indexer] = value instead\n",
      "\n",
      "See the caveats in the documentation: http://pandas.pydata.org/pandas-docs/stable/indexing.html#indexing-view-versus-copy\n",
      "  \"\"\"Entry point for launching an IPython kernel.\n"
     ]
    }
   ],
   "source": [
    "pagina2_3['RETIROS']=retiros"
   ]
  },
  {
   "cell_type": "code",
   "execution_count": 208,
   "metadata": {},
   "outputs": [],
   "source": [
    "pagina2_3.rename(columns={'CONCEPTO ORDEN RETIROS':'CONCEPTO'}, inplace=True)"
   ]
  },
  {
   "cell_type": "code",
   "execution_count": 210,
   "metadata": {},
   "outputs": [],
   "source": [
    "pagina2_4= pagina2_3[['FECHA','CONCEPTO', 'RETIROS','DEPOSITOS', 'SALDO']]"
   ]
  },
  {
   "cell_type": "code",
   "execution_count": 211,
   "metadata": {},
   "outputs": [],
   "source": [
    "estado= pd.concat( [pagina1_3, pagina2_4], ignore_index=True)"
   ]
  },
  {
   "cell_type": "code",
   "execution_count": 212,
   "metadata": {},
   "outputs": [
    {
     "data": {
      "text/html": [
       "<div>\n",
       "<style scoped>\n",
       "    .dataframe tbody tr th:only-of-type {\n",
       "        vertical-align: middle;\n",
       "    }\n",
       "\n",
       "    .dataframe tbody tr th {\n",
       "        vertical-align: top;\n",
       "    }\n",
       "\n",
       "    .dataframe thead th {\n",
       "        text-align: right;\n",
       "    }\n",
       "</style>\n",
       "<table border=\"1\" class=\"dataframe\">\n",
       "  <thead>\n",
       "    <tr style=\"text-align: right;\">\n",
       "      <th></th>\n",
       "      <th>FECHA</th>\n",
       "      <th>CONCEPTO</th>\n",
       "      <th>RETIROS</th>\n",
       "      <th>DEPOSITOS</th>\n",
       "      <th>SALDO</th>\n",
       "    </tr>\n",
       "  </thead>\n",
       "  <tbody>\n",
       "    <tr>\n",
       "      <th>0</th>\n",
       "      <td>0</td>\n",
       "      <td>SALDO ANTERIOR</td>\n",
       "      <td>0</td>\n",
       "      <td>0</td>\n",
       "      <td>9,021.42</td>\n",
       "    </tr>\n",
       "    <tr>\n",
       "      <th>1</th>\n",
       "      <td>01 SEP</td>\n",
       "      <td>PAGO RECIBIDO DE BMONEX POR</td>\n",
       "      <td>0</td>\n",
       "      <td>0</td>\n",
       "      <td>0</td>\n",
       "    </tr>\n",
       "    <tr>\n",
       "      <th>2</th>\n",
       "      <td>0</td>\n",
       "      <td>ORDEN DE NOMBRE</td>\n",
       "      <td>0</td>\n",
       "      <td>0</td>\n",
       "      <td>0</td>\n",
       "    </tr>\n",
       "    <tr>\n",
       "      <th>3</th>\n",
       "      <td>0</td>\n",
       "      <td>XXXXXXXXXXX CT A.ORDENANTE</td>\n",
       "      <td>0</td>\n",
       "      <td>0</td>\n",
       "      <td>0</td>\n",
       "    </tr>\n",
       "    <tr>\n",
       "      <th>4</th>\n",
       "      <td>0</td>\n",
       "      <td>000000000000000000 REF.0000000</td>\n",
       "      <td>0</td>\n",
       "      <td>0</td>\n",
       "      <td>0</td>\n",
       "    </tr>\n",
       "    <tr>\n",
       "      <th>5</th>\n",
       "      <td>0</td>\n",
       "      <td>TRASPASO A CUENTA PROPIA</td>\n",
       "      <td>0</td>\n",
       "      <td>0</td>\n",
       "      <td>0</td>\n",
       "    </tr>\n",
       "    <tr>\n",
       "      <th>6</th>\n",
       "      <td>0</td>\n",
       "      <td>RASTREO: 00000000</td>\n",
       "      <td>0</td>\n",
       "      <td>0</td>\n",
       "      <td>0</td>\n",
       "    </tr>\n",
       "    <tr>\n",
       "      <th>7</th>\n",
       "      <td>0</td>\n",
       "      <td>0</td>\n",
       "      <td>0</td>\n",
       "      <td>5,000.00</td>\n",
       "      <td>0</td>\n",
       "    </tr>\n",
       "    <tr>\n",
       "      <th>8</th>\n",
       "      <td>01 SEP</td>\n",
       "      <td>COBRO DE CHEQUE NUMERO 9999</td>\n",
       "      <td>3,000.00</td>\n",
       "      <td>0</td>\n",
       "      <td>9,021.42</td>\n",
       "    </tr>\n",
       "    <tr>\n",
       "      <th>9</th>\n",
       "      <td>02 SEP</td>\n",
       "      <td>COBRO DE CHEQUE NUMERO 9999</td>\n",
       "      <td>3,000.00</td>\n",
       "      <td>0</td>\n",
       "      <td>9,021.42</td>\n",
       "    </tr>\n",
       "    <tr>\n",
       "      <th>10</th>\n",
       "      <td>10 SEP</td>\n",
       "      <td>COBRO DE CHEQUE NUMERO 9999</td>\n",
       "      <td>, 3,000.00</td>\n",
       "      <td>0</td>\n",
       "      <td>9,021.42</td>\n",
       "    </tr>\n",
       "    <tr>\n",
       "      <th>11</th>\n",
       "      <td>17 SEP</td>\n",
       "      <td>COBRO DE CHEQUE NUMERO 9999</td>\n",
       "      <td>3,000.00</td>\n",
       "      <td>0</td>\n",
       "      <td>0</td>\n",
       "    </tr>\n",
       "    <tr>\n",
       "      <th>12</th>\n",
       "      <td>17 SEP</td>\n",
       "      <td>PAGO RECIBIDO DE BMONEX POR</td>\n",
       "      <td>0</td>\n",
       "      <td>0</td>\n",
       "      <td>0</td>\n",
       "    </tr>\n",
       "    <tr>\n",
       "      <th>13</th>\n",
       "      <td>0</td>\n",
       "      <td>DE XXXXX XXXXXXXXXXXXXX</td>\n",
       "      <td>0</td>\n",
       "      <td>0</td>\n",
       "      <td>0</td>\n",
       "    </tr>\n",
       "    <tr>\n",
       "      <th>14</th>\n",
       "      <td>0</td>\n",
       "      <td>XXXXXXX</td>\n",
       "      <td>0</td>\n",
       "      <td>0</td>\n",
       "      <td>0</td>\n",
       "    </tr>\n",
       "    <tr>\n",
       "      <th>15</th>\n",
       "      <td>0</td>\n",
       "      <td>CTA.O RDENANTE</td>\n",
       "      <td>0</td>\n",
       "      <td>0</td>\n",
       "      <td>0</td>\n",
       "    </tr>\n",
       "    <tr>\n",
       "      <th>16</th>\n",
       "      <td>0</td>\n",
       "      <td>1000000000000000000 REF.0000000</td>\n",
       "      <td>0</td>\n",
       "      <td>0</td>\n",
       "      <td>0</td>\n",
       "    </tr>\n",
       "    <tr>\n",
       "      <th>17</th>\n",
       "      <td>0</td>\n",
       "      <td>TRASPASO A CUENTA PROPIA</td>\n",
       "      <td>0</td>\n",
       "      <td>0</td>\n",
       "      <td>0</td>\n",
       "    </tr>\n",
       "    <tr>\n",
       "      <th>18</th>\n",
       "      <td>0</td>\n",
       "      <td>RASTREO: 00000000</td>\n",
       "      <td>0</td>\n",
       "      <td>0</td>\n",
       "      <td>0</td>\n",
       "    </tr>\n",
       "    <tr>\n",
       "      <th>19</th>\n",
       "      <td>0</td>\n",
       "      <td>0</td>\n",
       "      <td>0</td>\n",
       "      <td>9,000.00</td>\n",
       "      <td>8,021.42</td>\n",
       "    </tr>\n",
       "    <tr>\n",
       "      <th>20</th>\n",
       "      <td>18 SEP</td>\n",
       "      <td>COBRO DE CHEQUE NUMERO 9999 , 9,000.00</td>\n",
       "      <td>9,000.00</td>\n",
       "      <td>0</td>\n",
       "      <td>9,021.42</td>\n",
       "    </tr>\n",
       "    <tr>\n",
       "      <th>21</th>\n",
       "      <td>24 SEP</td>\n",
       "      <td>PAGO RECIBIDO DE BMONEX POR</td>\n",
       "      <td>0</td>\n",
       "      <td>0</td>\n",
       "      <td>0</td>\n",
       "    </tr>\n",
       "    <tr>\n",
       "      <th>22</th>\n",
       "      <td>0</td>\n",
       "      <td>ORDEN DE XXXXXXX</td>\n",
       "      <td>0</td>\n",
       "      <td>0</td>\n",
       "      <td>0</td>\n",
       "    </tr>\n",
       "    <tr>\n",
       "      <th>23</th>\n",
       "      <td>0</td>\n",
       "      <td>XXXXXXXXXXXXXX XXXXXX</td>\n",
       "      <td>0</td>\n",
       "      <td>0</td>\n",
       "      <td>0</td>\n",
       "    </tr>\n",
       "    <tr>\n",
       "      <th>24</th>\n",
       "      <td>0</td>\n",
       "      <td>0</td>\n",
       "      <td>0</td>\n",
       "      <td>0</td>\n",
       "      <td>0</td>\n",
       "    </tr>\n",
       "    <tr>\n",
       "      <th>25</th>\n",
       "      <td>0</td>\n",
       "      <td>CTA.ORDENANTE</td>\n",
       "      <td>0</td>\n",
       "      <td>0</td>\n",
       "      <td>0</td>\n",
       "    </tr>\n",
       "    <tr>\n",
       "      <th>26</th>\n",
       "      <td>0</td>\n",
       "      <td>000000000000000000 REF.0000000</td>\n",
       "      <td>0</td>\n",
       "      <td>0</td>\n",
       "      <td>0</td>\n",
       "    </tr>\n",
       "    <tr>\n",
       "      <th>27</th>\n",
       "      <td>0</td>\n",
       "      <td>1 TRASPASO A CUENTA PROPIA</td>\n",
       "      <td>0</td>\n",
       "      <td>0</td>\n",
       "      <td>0</td>\n",
       "    </tr>\n",
       "    <tr>\n",
       "      <th>28</th>\n",
       "      <td>0</td>\n",
       "      <td>RASTREO: 00000000</td>\n",
       "      <td>0</td>\n",
       "      <td>0</td>\n",
       "      <td>0</td>\n",
       "    </tr>\n",
       "    <tr>\n",
       "      <th>29</th>\n",
       "      <td>0</td>\n",
       "      <td>0</td>\n",
       "      <td>0</td>\n",
       "      <td>1,984.00</td>\n",
       "      <td>0</td>\n",
       "    </tr>\n",
       "    <tr>\n",
       "      <th>30</th>\n",
       "      <td>24 SEP</td>\n",
       "      <td>EXPEDICION ORDEN AL EXTRANJERO</td>\n",
       "      <td>0</td>\n",
       "      <td>0</td>\n",
       "      <td>0</td>\n",
       "    </tr>\n",
       "    <tr>\n",
       "      <th>31</th>\n",
       "      <td>0</td>\n",
       "      <td>0000000 O.P. ENVIADA AL EXT. _,_ 2,100.00</td>\n",
       "      <td>2,100.00</td>\n",
       "      <td>0</td>\n",
       "      <td>0</td>\n",
       "    </tr>\n",
       "    <tr>\n",
       "      <th>32</th>\n",
       "      <td>24 SEP</td>\n",
       "      <td>POR INSTRUCCION DEL CUENTE</td>\n",
       "      <td>0</td>\n",
       "      <td>0</td>\n",
       "      <td>0</td>\n",
       "    </tr>\n",
       "    <tr>\n",
       "      <th>33</th>\n",
       "      <td>0</td>\n",
       "      <td>0000000 O.P. ENVIADA AL EXT. 9,284.00</td>\n",
       "      <td>9,284.00</td>\n",
       "      <td>0</td>\n",
       "      <td>0</td>\n",
       "    </tr>\n",
       "    <tr>\n",
       "      <th>34</th>\n",
       "      <td>24 SEP</td>\n",
       "      <td>POR INSTRUCCION DEL CLIENTE</td>\n",
       "      <td>0</td>\n",
       "      <td>0</td>\n",
       "      <td>0</td>\n",
       "    </tr>\n",
       "    <tr>\n",
       "      <th>35</th>\n",
       "      <td>0</td>\n",
       "      <td>0000000 O.P. ENVIADA AL EXT. 2,600.00</td>\n",
       "      <td>2,600.00</td>\n",
       "      <td>0</td>\n",
       "      <td>9,021.42</td>\n",
       "    </tr>\n",
       "    <tr>\n",
       "      <th>36</th>\n",
       "      <td>30 SEP</td>\n",
       "      <td>PAGO RECIBIDO DE BMONEX POR ,</td>\n",
       "      <td>0</td>\n",
       "      <td>0</td>\n",
       "      <td>,-</td>\n",
       "    </tr>\n",
       "    <tr>\n",
       "      <th>37</th>\n",
       "      <td>0</td>\n",
       "      <td>ORDEN DE XXXXXXXX</td>\n",
       "      <td>0</td>\n",
       "      <td>0</td>\n",
       "      <td>0</td>\n",
       "    </tr>\n",
       "    <tr>\n",
       "      <th>38</th>\n",
       "      <td>0</td>\n",
       "      <td>XXXXXXXXXXXXXX XXXXXX</td>\n",
       "      <td>0</td>\n",
       "      <td>0</td>\n",
       "      <td>0</td>\n",
       "    </tr>\n",
       "    <tr>\n",
       "      <th>39</th>\n",
       "      <td>0</td>\n",
       "      <td>0</td>\n",
       "      <td>0</td>\n",
       "      <td>0</td>\n",
       "      <td>0</td>\n",
       "    </tr>\n",
       "    <tr>\n",
       "      <th>40</th>\n",
       "      <td>0</td>\n",
       "      <td>CTA.ORDENANTE</td>\n",
       "      <td>0</td>\n",
       "      <td>0</td>\n",
       "      <td>0</td>\n",
       "    </tr>\n",
       "    <tr>\n",
       "      <th>41</th>\n",
       "      <td>0</td>\n",
       "      <td>000000000000000000 REF.0000000</td>\n",
       "      <td>0</td>\n",
       "      <td>0</td>\n",
       "      <td>0</td>\n",
       "    </tr>\n",
       "    <tr>\n",
       "      <th>42</th>\n",
       "      <td>0</td>\n",
       "      <td>0</td>\n",
       "      <td>0</td>\n",
       "      <td>0</td>\n",
       "      <td>0</td>\n",
       "    </tr>\n",
       "    <tr>\n",
       "      <th>43</th>\n",
       "      <td>0</td>\n",
       "      <td>TRASPASO A CUENTA PROPIA</td>\n",
       "      <td>0</td>\n",
       "      <td>0</td>\n",
       "      <td>0</td>\n",
       "    </tr>\n",
       "    <tr>\n",
       "      <th>44</th>\n",
       "      <td>0</td>\n",
       "      <td>RASTREO: 00000000</td>\n",
       "      <td>0</td>\n",
       "      <td>0</td>\n",
       "      <td>0</td>\n",
       "    </tr>\n",
       "    <tr>\n",
       "      <th>45</th>\n",
       "      <td>0</td>\n",
       "      <td>0</td>\n",
       "      <td>0</td>\n",
       "      <td>5,000.00</td>\n",
       "      <td>0</td>\n",
       "    </tr>\n",
       "    <tr>\n",
       "      <th>46</th>\n",
       "      <td>30 SEP</td>\n",
       "      <td>COBRO DE CHEQUE NUMERO 0000 3,000.00</td>\n",
       "      <td>3,000.00</td>\n",
       "      <td>0</td>\n",
       "      <td>0</td>\n",
       "    </tr>\n",
       "    <tr>\n",
       "      <th>47</th>\n",
       "      <td>30 SEP</td>\n",
       "      <td>NUMERO DE CHEQUES EXENTOS ,</td>\n",
       "      <td>0</td>\n",
       "      <td>0</td>\n",
       "      <td>,_</td>\n",
       "    </tr>\n",
       "    <tr>\n",
       "      <th>48</th>\n",
       "      <td>0</td>\n",
       "      <td>6</td>\n",
       "      <td>0</td>\n",
       "      <td>0</td>\n",
       "      <td>9,021.42</td>\n",
       "    </tr>\n",
       "  </tbody>\n",
       "</table>\n",
       "</div>"
      ],
      "text/plain": [
       "     FECHA                                   CONCEPTO     RETIROS DEPOSITOS  \\\n",
       "0        0                             SALDO ANTERIOR           0         0   \n",
       "1   01 SEP                PAGO RECIBIDO DE BMONEX POR           0         0   \n",
       "2        0                            ORDEN DE NOMBRE           0         0   \n",
       "3        0                 XXXXXXXXXXX CT A.ORDENANTE           0         0   \n",
       "4        0             000000000000000000 REF.0000000           0         0   \n",
       "5        0                   TRASPASO A CUENTA PROPIA           0         0   \n",
       "6        0                          RASTREO: 00000000           0         0   \n",
       "7        0                                          0           0  5,000.00   \n",
       "8   01 SEP                COBRO DE CHEQUE NUMERO 9999    3,000.00         0   \n",
       "9   02 SEP                COBRO DE CHEQUE NUMERO 9999    3,000.00         0   \n",
       "10  10 SEP                COBRO DE CHEQUE NUMERO 9999  , 3,000.00         0   \n",
       "11  17 SEP                COBRO DE CHEQUE NUMERO 9999    3,000.00         0   \n",
       "12  17 SEP                PAGO RECIBIDO DE BMONEX POR           0         0   \n",
       "13       0                    DE XXXXX XXXXXXXXXXXXXX           0         0   \n",
       "14       0                                    XXXXXXX           0         0   \n",
       "15       0                             CTA.O RDENANTE           0         0   \n",
       "16       0            1000000000000000000 REF.0000000           0         0   \n",
       "17       0                   TRASPASO A CUENTA PROPIA           0         0   \n",
       "18       0                          RASTREO: 00000000           0         0   \n",
       "19       0                                          0           0  9,000.00   \n",
       "20  18 SEP     COBRO DE CHEQUE NUMERO 9999 , 9,000.00    9,000.00         0   \n",
       "21  24 SEP                PAGO RECIBIDO DE BMONEX POR           0         0   \n",
       "22       0                           ORDEN DE XXXXXXX           0         0   \n",
       "23       0                      XXXXXXXXXXXXXX XXXXXX           0         0   \n",
       "24       0                                          0           0         0   \n",
       "25       0                              CTA.ORDENANTE           0         0   \n",
       "26       0             000000000000000000 REF.0000000           0         0   \n",
       "27       0                 1 TRASPASO A CUENTA PROPIA           0         0   \n",
       "28       0                          RASTREO: 00000000           0         0   \n",
       "29       0                                          0           0  1,984.00   \n",
       "30  24 SEP             EXPEDICION ORDEN AL EXTRANJERO           0         0   \n",
       "31       0  0000000 O.P. ENVIADA AL EXT. _,_ 2,100.00    2,100.00         0   \n",
       "32  24 SEP                 POR INSTRUCCION DEL CUENTE           0         0   \n",
       "33       0      0000000 O.P. ENVIADA AL EXT. 9,284.00    9,284.00         0   \n",
       "34  24 SEP                POR INSTRUCCION DEL CLIENTE           0         0   \n",
       "35       0      0000000 O.P. ENVIADA AL EXT. 2,600.00    2,600.00         0   \n",
       "36  30 SEP              PAGO RECIBIDO DE BMONEX POR ,           0         0   \n",
       "37       0                          ORDEN DE XXXXXXXX           0         0   \n",
       "38       0                      XXXXXXXXXXXXXX XXXXXX           0         0   \n",
       "39       0                                          0           0         0   \n",
       "40       0                              CTA.ORDENANTE           0         0   \n",
       "41       0             000000000000000000 REF.0000000           0         0   \n",
       "42       0                                          0           0         0   \n",
       "43       0                   TRASPASO A CUENTA PROPIA           0         0   \n",
       "44       0                          RASTREO: 00000000           0         0   \n",
       "45       0                                          0           0  5,000.00   \n",
       "46  30 SEP       COBRO DE CHEQUE NUMERO 0000 3,000.00    3,000.00         0   \n",
       "47  30 SEP                NUMERO DE CHEQUES EXENTOS ,           0         0   \n",
       "48       0                                          6           0         0   \n",
       "\n",
       "       SALDO  \n",
       "0   9,021.42  \n",
       "1          0  \n",
       "2          0  \n",
       "3          0  \n",
       "4          0  \n",
       "5          0  \n",
       "6          0  \n",
       "7          0  \n",
       "8   9,021.42  \n",
       "9   9,021.42  \n",
       "10  9,021.42  \n",
       "11         0  \n",
       "12         0  \n",
       "13         0  \n",
       "14         0  \n",
       "15         0  \n",
       "16         0  \n",
       "17         0  \n",
       "18         0  \n",
       "19  8,021.42  \n",
       "20  9,021.42  \n",
       "21         0  \n",
       "22         0  \n",
       "23         0  \n",
       "24         0  \n",
       "25         0  \n",
       "26         0  \n",
       "27         0  \n",
       "28         0  \n",
       "29         0  \n",
       "30         0  \n",
       "31         0  \n",
       "32         0  \n",
       "33         0  \n",
       "34         0  \n",
       "35  9,021.42  \n",
       "36        ,-  \n",
       "37         0  \n",
       "38         0  \n",
       "39         0  \n",
       "40         0  \n",
       "41         0  \n",
       "42         0  \n",
       "43         0  \n",
       "44         0  \n",
       "45         0  \n",
       "46         0  \n",
       "47        ,_  \n",
       "48  9,021.42  "
      ]
     },
     "execution_count": 212,
     "metadata": {},
     "output_type": "execute_result"
    }
   ],
   "source": [
    "estado #tabla se puede exportar"
   ]
  },
  {
   "cell_type": "code",
   "execution_count": null,
   "metadata": {},
   "outputs": [],
   "source": []
  }
 ],
 "metadata": {
  "kernelspec": {
   "display_name": "Python 3",
   "language": "python",
   "name": "python3"
  },
  "language_info": {
   "codemirror_mode": {
    "name": "ipython",
    "version": 3
   },
   "file_extension": ".py",
   "mimetype": "text/x-python",
   "name": "python",
   "nbconvert_exporter": "python",
   "pygments_lexer": "ipython3",
   "version": "3.7.2"
  }
 },
 "nbformat": 4,
 "nbformat_minor": 2
}
