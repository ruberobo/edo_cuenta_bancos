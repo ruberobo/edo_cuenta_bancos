{
 "cells": [
  {
   "cell_type": "code",
   "execution_count": 5,
   "metadata": {},
   "outputs": [],
   "source": [
    "import pandas as pd\n",
    "import numpy as np\n",
    "import re\n",
    "import textract"
   ]
  },
  {
   "cell_type": "code",
   "execution_count": 6,
   "metadata": {},
   "outputs": [],
   "source": [
    "import tabula"
   ]
  },
  {
   "cell_type": "code",
   "execution_count": 7,
   "metadata": {},
   "outputs": [],
   "source": [
    "#extraigo texto\n",
    "archivo= 'tresalia\\Bancos\\Banamex_nacional\\pdf\\Banamex_Inversion _Empresarial-rotado.pdf'"
   ]
  },
  {
   "cell_type": "code",
   "execution_count": 8,
   "metadata": {},
   "outputs": [],
   "source": [
    "text = textract.process(archivo)"
   ]
  },
  {
   "cell_type": "code",
   "execution_count": 9,
   "metadata": {},
   "outputs": [],
   "source": [
    "#cambio formato\n",
    "encoding = 'utf-8'\n",
    "text_str=text.decode(encoding)"
   ]
  },
  {
   "cell_type": "code",
   "execution_count": 10,
   "metadata": {},
   "outputs": [],
   "source": [
    "#separo\n",
    "pdf=re.split(r\"[~\\r\\n]+\", text_str)"
   ]
  },
  {
   "cell_type": "code",
   "execution_count": 11,
   "metadata": {},
   "outputs": [
    {
     "data": {
      "text/html": [
       "<div>\n",
       "<style scoped>\n",
       "    .dataframe tbody tr th:only-of-type {\n",
       "        vertical-align: middle;\n",
       "    }\n",
       "\n",
       "    .dataframe tbody tr th {\n",
       "        vertical-align: top;\n",
       "    }\n",
       "\n",
       "    .dataframe thead th {\n",
       "        text-align: right;\n",
       "    }\n",
       "</style>\n",
       "<table border=\"1\" class=\"dataframe\">\n",
       "  <thead>\n",
       "    <tr style=\"text-align: right;\">\n",
       "      <th></th>\n",
       "      <th>informacion</th>\n",
       "    </tr>\n",
       "  </thead>\n",
       "  <tbody>\n",
       "    <tr>\n",
       "      <th>0</th>\n",
       "      <td>0.24% 0.29% 0.26% 0.34% 0.41% 0.37% 0.44% 0.50...</td>\n",
       "    </tr>\n",
       "    <tr>\n",
       "      <th>1</th>\n",
       "      <td>Jul Jun May Abr Mar Feb Ene Dic Nov Oct Sep 20...</td>\n",
       "    </tr>\n",
       "    <tr>\n",
       "      <th>2</th>\n",
       "      <td>Por Producto</td>\n",
       "    </tr>\n",
       "    <tr>\n",
       "      <th>3</th>\n",
       "      <td>INVERSIÓN EN RENTA VARIABLE 0.00% INVERSIÓN IN...</td>\n",
       "    </tr>\n",
       "    <tr>\n",
       "      <th>4</th>\n",
       "      <td>NOTAS ESTRUCTURADAS 0.00% BONOS ESTRUCTURADOS ...</td>\n",
       "    </tr>\n",
       "  </tbody>\n",
       "</table>\n",
       "</div>"
      ],
      "text/plain": [
       "                                         informacion\n",
       "0  0.24% 0.29% 0.26% 0.34% 0.41% 0.37% 0.44% 0.50...\n",
       "1  Jul Jun May Abr Mar Feb Ene Dic Nov Oct Sep 20...\n",
       "2                                       Por Producto\n",
       "3  INVERSIÓN EN RENTA VARIABLE 0.00% INVERSIÓN IN...\n",
       "4  NOTAS ESTRUCTURADAS 0.00% BONOS ESTRUCTURADOS ..."
      ]
     },
     "execution_count": 11,
     "metadata": {},
     "output_type": "execute_result"
    }
   ],
   "source": [
    "information_pdf=pd.DataFrame(pdf).rename(columns={0:\"informacion\"})\n",
    "information_pdf.head()"
   ]
  },
  {
   "cell_type": "code",
   "execution_count": 12,
   "metadata": {},
   "outputs": [
    {
     "data": {
      "text/plain": [
       "['0.24% 0.29% 0.26% 0.34% 0.41% 0.37% 0.44% 0.50% 0.48% 0.51% 0.53%',\n",
       " 'Jul Jun May Abr Mar Feb Ene Dic Nov Oct Sep 2020 2020 2020 2020 2020 2020 2020 2019 2019 2019 2019',\n",
       " 'Por Producto',\n",
       " 'INVERSIÓN EN RENTA VARIABLE 0.00% INVERSIÓN INSTRUMENTOS DE DEUDA 0.00% FONDOS DE INVERSIÓN 100.00%',\n",
       " 'NOTAS ESTRUCTURADAS 0.00% BONOS ESTRUCTURADOS 0.00% CARTERA CAUCIONADA 0.00%',\n",
       " 'NO-V-7006-8-004741-0000000000001038',\n",
       " 'POSICIÓN INFORMATIVA 0.00% EFECTIVO 0.00%',\n",
       " '*Instrumentos valorizados en pesos.',\n",
       " 'Referencias de Mercado Deuda Corto Plazo (PIPG CETES 28D) Deuda Largo Plazo (PIPG FIX 12M) Deuda Tasa Real (PIPG REAL) Renta Variable Local (IPC) Renta Variable Global (MSCI ACWI) Renta Variable Emergente (MSCI EMERGING MAKETS)',\n",
       " 'Rendimiento último mes 0.39 -0.60 1.16 -0.03 0.58',\n",
       " '0.32',\n",
       " 'Consulta Rubros de Estado de Cuenta en',\n",
       " 'Rendimiento YTD 4.11 9.53 1.15 -1.35 0.31',\n",
       " '0.02',\n",
       " '000132.TANPATONDCOR14.ED.0831.01',\n",
       " 'BEI 00',\n",
       " '\\x0c1,064,001.37',\n",
       " '159,000.69',\n",
       " 'DÍA CONCEPTO 01 SALDO ANTERIOR 14 ABONO CTA.CHEQ. 14 VENTA FONDO 17 ABONO CTA.CHEQ. 17 VENTA FONDO 28 CGO.CTA.CHEQUES 28 COMPRA FONDO',\n",
       " 'EMISORA/SERIE/ TÍTULOS',\n",
       " 'EFECTIVO/ 0 0660/000065945/ 0 BLKGUB1 M1-A/ 1302 0660/000065945/ 0 BLKGUB1 M1-A/ 67688 0660/000065945/ 0 BLKGUB1 M1-A/ 461300',\n",
       " 'PRECIO PZO.',\n",
       " '2.30416 2.30470 2.30652',\n",
       " 'TASA 0.00 0.00 0.00 0.00 0.00 0.00 0.00',\n",
       " 'MOVIMIENTOS',\n",
       " '3,000.023,000.02+ 156,000.67156,000.67+ 1,064,001.37+ 1,064,001.37-',\n",
       " 'DEPÓSITOS POR',\n",
       " 'INTERESES',\n",
       " 'RETIROS POR COM.',\n",
       " 'RETIROS POR',\n",
       " 'IMPUESTO',\n",
       " '0.00 0.00',\n",
       " 'I=IVA SUMA R=ISR SUMA',\n",
       " '0.00',\n",
       " '0.00 0.00',\n",
       " 'NETO DEPÓSITOS',\n",
       " 'RETIROS',\n",
       " '3,000.023,000.02+ 156,000.67156,000.67+ 1,064,001.37+ 1,064,001.37-',\n",
       " 'COSTO PROMEDIO',\n",
       " '0.00',\n",
       " 'DIFERENCIA COSTO PROMEDIO',\n",
       " 'VS PRECIO DE VENTA',\n",
       " '0.00',\n",
       " '0.00000',\n",
       " '0.00',\n",
       " '2.29585',\n",
       " '0.008310',\n",
       " '0.00000',\n",
       " '0.00',\n",
       " '2.29585',\n",
       " '0.008850',\n",
       " '0.00000',\n",
       " '0.00',\n",
       " '0.00000',\n",
       " '0.00',\n",
       " 'DÍA CONCEPTO',\n",
       " 'EMISORA/SERIE/ TÍTULOS',\n",
       " '01 SALDO ANTERIOR EFECTIVO NO-V-7006-8-004742-0000000000001038',\n",
       " 'PRECIO PLAZO 0.00000',\n",
       " 'TASA 0.00',\n",
       " 'MOVIMIENTOS 0.00',\n",
       " 'DEPÓSITOS POR',\n",
       " 'INTERESES',\n",
       " 'RETIROS POR COM.',\n",
       " 'RETIROS POR',\n",
       " 'IMPUESTO',\n",
       " 'NETO DEPÓSITOS',\n",
       " 'RETIROS',\n",
       " 'COSTO PROMEDIO',\n",
       " 'VENTA',\n",
       " 'DIFERENCIA COSTO PROMEDIO',\n",
       " 'VS PRECIO DE VENTA',\n",
       " '000132.TANPATONDCOR14.ED.0831.01',\n",
       " 'BEI 00',\n",
       " '\\x0cDÍA CONCEPTO',\n",
       " 'EMISORA/SERIE/ TÍTULOS',\n",
       " 'PRECIO PLAZO TASA',\n",
       " 'MOVIMIENTOS',\n",
       " 'DEPÓSITOS POR',\n",
       " 'INTERESES',\n",
       " 'RETIROS POR COM.',\n",
       " 'RETIROS POR',\n",
       " 'IMPUESTO',\n",
       " 'NETO DEPÓSITOS',\n",
       " 'RETIROS',\n",
       " 'COSTO PROMEDIO',\n",
       " 'VENTA',\n",
       " 'DIFERENCIA COSTO PROMEDIO',\n",
       " 'VS PRECIO DE VENTA',\n",
       " 'A continuación se presenta el total de las Comisiones y Gastos de Intermediación, por Servicios y Administrativos (incluyen IVA) e ISR 1. Total de Comisiones y Gastos de Intermediación: 0 pesos 2. Total de Comisiones y Gastos por Servicios: 0 pesos 3. Total de Comisiones y Gastos Administrativos: 0 pesos R Total Impuesto Sobre la Renta: 0 pesos El monto total de las comisiones, gastos e impuestos (IVA e ISR) del mes son 0 pesos, representa el (0.00)% de su cartera de inversión al cierre del mes.',\n",
       " 'Las comisiones que se muestran en el mismo renglón de las operaciones de compra o venta de productos financieros en la sección de DETALLE DE MOVIMIENTOS DEL PERÍODO de este estado de cuenta bajo el rubro de \"Comisión\", hacen referencia a las comisiones cobradas por corretaje y están sumarizadas en el número 1 Total de Comisiones y Gastos de Intermediación.',\n",
       " 'La forma para calcular el monto de las comisiones y gastos lo puede encontrar en la Guía de Servicios de Inversión en el sitio https://www.banamex.com/bancapatrimonial/informacion_clientes/guia-de-servicios-de-inversion.htm Para mayor información con respecto a las comisiones cobradas, favor de comunicarse con su promotor.',\n",
       " 'INVER EMPRE/0 NO-V-7006-8-004743-0000000000001038',\n",
       " '000132.TANPATONDCOR14.ED.0831.01',\n",
       " 'BEI 00',\n",
       " '\\x0cBLKGUB1 M1-A/0',\n",
       " 'EL COSTO PROMEDIO DE ADQUISICION ACTUALIZADO (COSTO FISCAL) QUE SE PRESENTA EN ESTE ESTADO DE CUENTA ES DE CARACTER INFORMATIVO. EN LA CONSTANCIA FISCALANUALSEINCLUIRA ELDATODEFINITIVO',\n",
       " 'Los tipos de cambio utilizados para la valuación en pesos del portafolio en moneda extranjera son 21.86 para Dólar y 26.48 para Euro.',\n",
       " 'NO-V-7006-8-004744-0000000000001038',\n",
       " '000132.TANPATONDCOR14.ED.0831.01',\n",
       " 'BEI 00',\n",
       " '\\x0cA través de este reporte le informamos los intereses nominales, dividendos e impuestos retenidos durante el mes conforme a lo establecido en los artículos 103 y 104 de la Ley de Impuesto Sobre la Renta (LISR). Sin embargo, dicho reporte no incluye la retención correspondiente a sus instrucciones de compra o venta recibidas durante los últimos días del mes que tengan fecha de liquidación al mes siguiente, por lo que las cifras incluidas en este reporte son solamente informativas en el entendido de que usted recibirá la constancia anual de retención de impuestos sobre la renta con las cifras definitivas conforme al artículo 59 fracción II y 105 de la LISR.',\n",
       " '\"En cumplimiento con el artículo 14 de la Ley de Fondos de Inversión, le informamos el porcentaje que representa su tenencia de acciones de Fondos de Inversión en este Estado de Cuenta, del total de cada una de ellas.\" *Instrumentos valorizados en pesos.',\n",
       " 'NO-V-7006-8-004745-0000000000001038',\n",
       " '000132.TANPATONDCOR14.ED.0831.01',\n",
       " 'BEI 00',\n",
       " '\\x0cLos rangos son una referencia para dimensionar las pérdidas potenciales para el cliente.',\n",
       " '\"La diversificación apropiada y su seguimiento permiten limitar la volatilidad de un portafolio y, en consecuencia, reducir riesgo. Por lo tanto es importante establecer una mezcla de activos que evite la concentración en alguno de ellos, buscando un equilibrio entre el riesgo, rendimiento y horizonte de inversión. Diversificar su portafolio considerando el total de sus inversiones es esencial para minimizar los riesgos. En el caso de haber contratado el Servicio de Asesoría de Inversiones, su Banquero lo ayudará recomendándole productos congruentes con su perfil de inversión considerando también una diversificación apropiada o en su caso, la adopción de una Estrategia de inversión o composición de cartera que corresponda a su perfil.\"',\n",
       " '+Tasa libre de riesgo: ofrece un rendimiento seguro en una unidad monetaria y en un plazo determinado, donde no existe riesgo crediticio; usualmente valores gubernamentales.',\n",
       " 'NO-V-7006-8-004746-0000000000001038',\n",
       " '000132.TANPATONDCOR14.ED.0831.01',\n",
       " 'BEI 00',\n",
       " '\\x0cNO-V-7006-8-004747-0000000000001038',\n",
       " '000132.TANPATONDCOR14.ED.0831.01',\n",
       " 'BEI 00',\n",
       " '\\x0cPara Reclamaciones y Aclaraciones Centro de Atención Telefónica Patrimonial: (01-55) 2226-3680 en la Ciudad de México y el resto del país LADA sin costo 01-800-827-8000. Desde USA y Canadá LADA sin costo 1-877-338-3861. Horario de atención de lunes a viernes de 9:00 AM a 4:00 PM (horario de la Ciudad de México). Correo Electrónico: lpatrim001@banamex.com Privada: (01-55) 2226-9965 en la Ciudad de México y el resto del país LADA sin costo 01-800-101-8111. Desde USA y Canadá LADA sin costo 1-877-469-1217. Horario de atención de lunes a viernes de 9:00 AM a 4:00 PM (horario de la Ciudad de México). Correo Electrónico: lprivada01@banamex.com Banca Empresarial: (01-55) 12267687, (01-55) 12267691, (01-55) 12267690 en la Ciudad de México y el resto del país. Desde el extranjero 52 55 12267687, 52 55 12267691, 52 55 12267690. Horario de atención de lunes a viernes de 9:00 AM a 4:00 PM (horario de la Ciudad de México.)',\n",
       " 'NO-V-7006-8-004748-0000000000001038',\n",
       " '000132.TANPATONDCOR14.ED.0831.01',\n",
       " 'BEI 00',\n",
       " '\\x0cNO-V-7006-8-004749-0000000000001038',\n",
       " '000132.TANPATONDCOR14.ED.0831.01',\n",
       " 'BEI 00',\n",
       " '\\x0cNO-V-7006-8-004750-0000000000001038',\n",
       " '000132.TANPATONDCOR14.ED.0831.01',\n",
       " 'BEI 00',\n",
       " '\\x0cNO-V-7006-8-004751-0000000000001038',\n",
       " '000132.TANPATONDCOR14.ED.0831.01',\n",
       " 'BEI 00',\n",
       " '\\x0c']"
      ]
     },
     "execution_count": 12,
     "metadata": {},
     "output_type": "execute_result"
    }
   ],
   "source": [
    "pdf"
   ]
  },
  {
   "cell_type": "code",
   "execution_count": 18,
   "metadata": {},
   "outputs": [],
   "source": [
    "cliente_lista=[]\n",
    "for i in pdf:\n",
    "    if re.search('SA DE CV', i):\n",
    "        cliente_lista.append(i)"
   ]
  },
  {
   "cell_type": "code",
   "execution_count": 19,
   "metadata": {},
   "outputs": [
    {
     "data": {
      "text/plain": [
       "[]"
      ]
     },
     "execution_count": 19,
     "metadata": {},
     "output_type": "execute_result"
    }
   ],
   "source": [
    "cliente_lista"
   ]
  },
  {
   "cell_type": "code",
   "execution_count": 15,
   "metadata": {},
   "outputs": [],
   "source": [
    "tabla=tabula.read_pdf(archivo, pages='all')"
   ]
  },
  {
   "cell_type": "code",
   "execution_count": 42,
   "metadata": {},
   "outputs": [],
   "source": [
    "pagina_2=tabula.read_pdf(archivo, pages=2)"
   ]
  },
  {
   "cell_type": "code",
   "execution_count": 50,
   "metadata": {},
   "outputs": [],
   "source": [
    "for i in pagina_2:\n",
    "    if len(i)>1:\n",
    "        tabla_1=i"
   ]
  },
  {
   "cell_type": "code",
   "execution_count": 52,
   "metadata": {},
   "outputs": [],
   "source": [
    "tabla_1=pagina_2[4].T.reset_index().T"
   ]
  },
  {
   "cell_type": "code",
   "execution_count": 53,
   "metadata": {},
   "outputs": [],
   "source": [
    "columnas= ['CONCEPTO','EMISORA/SERIE/TÍTULOS', 'PRECIO','PZO', 'TASA', 'MOVIMIENTOS','DEPOSITO POR INTERESES', 'RETIROS POR COM',\n",
    "          'RETIROS POR IMPUESTO' ,'SALDO', 'COSTO PROMEDIO', 'DIFERENCIA COSTO PROMEDIO VS PRECIO DE VENTA' ]"
   ]
  },
  {
   "cell_type": "code",
   "execution_count": 54,
   "metadata": {},
   "outputs": [],
   "source": [
    "tabla_1.columns=tabla_1.columns[:0].tolist()+columnas"
   ]
  },
  {
   "cell_type": "code",
   "execution_count": 55,
   "metadata": {},
   "outputs": [
    {
     "data": {
      "text/html": [
       "<div>\n",
       "<style scoped>\n",
       "    .dataframe tbody tr th:only-of-type {\n",
       "        vertical-align: middle;\n",
       "    }\n",
       "\n",
       "    .dataframe tbody tr th {\n",
       "        vertical-align: top;\n",
       "    }\n",
       "\n",
       "    .dataframe thead th {\n",
       "        text-align: right;\n",
       "    }\n",
       "</style>\n",
       "<table border=\"1\" class=\"dataframe\">\n",
       "  <thead>\n",
       "    <tr style=\"text-align: right;\">\n",
       "      <th></th>\n",
       "      <th>CONCEPTO</th>\n",
       "      <th>EMISORA/SERIE/TÍTULOS</th>\n",
       "      <th>PRECIO</th>\n",
       "      <th>PZO</th>\n",
       "      <th>TASA</th>\n",
       "      <th>MOVIMIENTOS</th>\n",
       "      <th>DEPOSITO POR INTERESES</th>\n",
       "      <th>RETIROS POR COM</th>\n",
       "      <th>RETIROS POR IMPUESTO</th>\n",
       "      <th>SALDO</th>\n",
       "      <th>COSTO PROMEDIO</th>\n",
       "      <th>DIFERENCIA COSTO PROMEDIO VS PRECIO DE VENTA</th>\n",
       "    </tr>\n",
       "  </thead>\n",
       "  <tbody>\n",
       "    <tr>\n",
       "      <th>0</th>\n",
       "      <td>SALDO ANTERIOR</td>\n",
       "      <td>EFECTIVO/\\r0</td>\n",
       "      <td>Unnamed: 0</td>\n",
       "      <td>Unnamed: 1</td>\n",
       "      <td>0.00</td>\n",
       "      <td>Unnamed: 2</td>\n",
       "      <td>Unnamed: 3</td>\n",
       "      <td>Unnamed: 4</td>\n",
       "      <td>Unnamed: 5</td>\n",
       "      <td>Unnamed: 6</td>\n",
       "      <td>Unnamed: 7</td>\n",
       "      <td>0.00.1</td>\n",
       "    </tr>\n",
       "    <tr>\n",
       "      <th>1</th>\n",
       "      <td>ABONO CTA.CHEQ.</td>\n",
       "      <td>0660/000065945/\\r0</td>\n",
       "      <td>NaN</td>\n",
       "      <td>NaN</td>\n",
       "      <td>0.0</td>\n",
       "      <td>3,000.02-</td>\n",
       "      <td>NaN</td>\n",
       "      <td>NaN</td>\n",
       "      <td>NaN</td>\n",
       "      <td>3,000.02-</td>\n",
       "      <td>NaN</td>\n",
       "      <td>0.0</td>\n",
       "    </tr>\n",
       "    <tr>\n",
       "      <th>2</th>\n",
       "      <td>VENTA FONDO</td>\n",
       "      <td>BLKGUB1    M1-A/\\r1302</td>\n",
       "      <td>2.30416</td>\n",
       "      <td>NaN</td>\n",
       "      <td>0.0</td>\n",
       "      <td>3,000.02+</td>\n",
       "      <td>NaN</td>\n",
       "      <td>NaN</td>\n",
       "      <td>NaN</td>\n",
       "      <td>3,000.02+</td>\n",
       "      <td>NaN</td>\n",
       "      <td>2.29585</td>\n",
       "    </tr>\n",
       "    <tr>\n",
       "      <th>3</th>\n",
       "      <td>ABONO CTA.CHEQ.</td>\n",
       "      <td>0660/000065945/\\r0</td>\n",
       "      <td>NaN</td>\n",
       "      <td>NaN</td>\n",
       "      <td>0.0</td>\n",
       "      <td>156,000.67-</td>\n",
       "      <td>NaN</td>\n",
       "      <td>NaN</td>\n",
       "      <td>NaN</td>\n",
       "      <td>156,000.67-</td>\n",
       "      <td>NaN</td>\n",
       "      <td>0.0</td>\n",
       "    </tr>\n",
       "    <tr>\n",
       "      <th>4</th>\n",
       "      <td>VENTA FONDO</td>\n",
       "      <td>BLKGUB1    M1-A/\\r67688</td>\n",
       "      <td>2.3047</td>\n",
       "      <td>NaN</td>\n",
       "      <td>0.0</td>\n",
       "      <td>156,000.67+</td>\n",
       "      <td>NaN</td>\n",
       "      <td>NaN</td>\n",
       "      <td>NaN</td>\n",
       "      <td>156,000.67+</td>\n",
       "      <td>NaN</td>\n",
       "      <td>2.29585</td>\n",
       "    </tr>\n",
       "    <tr>\n",
       "      <th>5</th>\n",
       "      <td>CGO.CTA.CHEQUES</td>\n",
       "      <td>0660/000065945/\\r0</td>\n",
       "      <td>NaN</td>\n",
       "      <td>NaN</td>\n",
       "      <td>0.0</td>\n",
       "      <td>1,064,001.37+</td>\n",
       "      <td>NaN</td>\n",
       "      <td>NaN</td>\n",
       "      <td>NaN</td>\n",
       "      <td>1,064,001.37+</td>\n",
       "      <td>NaN</td>\n",
       "      <td>0.0</td>\n",
       "    </tr>\n",
       "    <tr>\n",
       "      <th>6</th>\n",
       "      <td>COMPRA FONDO</td>\n",
       "      <td>BLKGUB1    M1-A/\\r461300</td>\n",
       "      <td>2.30652</td>\n",
       "      <td>NaN</td>\n",
       "      <td>0.0</td>\n",
       "      <td>1,064,001.37-</td>\n",
       "      <td>NaN</td>\n",
       "      <td>NaN</td>\n",
       "      <td>NaN</td>\n",
       "      <td>1,064,001.37-</td>\n",
       "      <td>NaN</td>\n",
       "      <td>0.0</td>\n",
       "    </tr>\n",
       "    <tr>\n",
       "      <th>7</th>\n",
       "      <td>0.00</td>\n",
       "      <td>0.00</td>\n",
       "      <td>0.0</td>\n",
       "      <td>NaN</td>\n",
       "      <td>NaN</td>\n",
       "      <td>NaN</td>\n",
       "      <td>NaN</td>\n",
       "      <td>NaN</td>\n",
       "      <td>NaN</td>\n",
       "      <td>NaN</td>\n",
       "      <td>NaN</td>\n",
       "      <td>NaN</td>\n",
       "    </tr>\n",
       "    <tr>\n",
       "      <th>8</th>\n",
       "      <td>I=IVASUMA0.00\\rR=ISRSUMA0.00</td>\n",
       "      <td>NaN</td>\n",
       "      <td>NaN</td>\n",
       "      <td>NaN</td>\n",
       "      <td>NaN</td>\n",
       "      <td>NaN</td>\n",
       "      <td>NaN</td>\n",
       "      <td>NaN</td>\n",
       "      <td>NaN</td>\n",
       "      <td>NaN</td>\n",
       "      <td>NaN</td>\n",
       "      <td>NaN</td>\n",
       "    </tr>\n",
       "  </tbody>\n",
       "</table>\n",
       "</div>"
      ],
      "text/plain": [
       "                       CONCEPTO     EMISORA/SERIE/TÍTULOS      PRECIO  \\\n",
       "0                SALDO ANTERIOR              EFECTIVO/\\r0  Unnamed: 0   \n",
       "1               ABONO CTA.CHEQ.        0660/000065945/\\r0         NaN   \n",
       "2                   VENTA FONDO    BLKGUB1    M1-A/\\r1302     2.30416   \n",
       "3               ABONO CTA.CHEQ.        0660/000065945/\\r0         NaN   \n",
       "4                   VENTA FONDO   BLKGUB1    M1-A/\\r67688      2.3047   \n",
       "5               CGO.CTA.CHEQUES        0660/000065945/\\r0         NaN   \n",
       "6                  COMPRA FONDO  BLKGUB1    M1-A/\\r461300     2.30652   \n",
       "7                          0.00                      0.00         0.0   \n",
       "8  I=IVASUMA0.00\\rR=ISRSUMA0.00                       NaN         NaN   \n",
       "\n",
       "          PZO  TASA    MOVIMIENTOS DEPOSITO POR INTERESES RETIROS POR COM  \\\n",
       "0  Unnamed: 1  0.00     Unnamed: 2             Unnamed: 3      Unnamed: 4   \n",
       "1         NaN   0.0      3,000.02-                    NaN             NaN   \n",
       "2         NaN   0.0      3,000.02+                    NaN             NaN   \n",
       "3         NaN   0.0    156,000.67-                    NaN             NaN   \n",
       "4         NaN   0.0    156,000.67+                    NaN             NaN   \n",
       "5         NaN   0.0  1,064,001.37+                    NaN             NaN   \n",
       "6         NaN   0.0  1,064,001.37-                    NaN             NaN   \n",
       "7         NaN   NaN            NaN                    NaN             NaN   \n",
       "8         NaN   NaN            NaN                    NaN             NaN   \n",
       "\n",
       "  RETIROS POR IMPUESTO          SALDO COSTO PROMEDIO  \\\n",
       "0           Unnamed: 5     Unnamed: 6     Unnamed: 7   \n",
       "1                  NaN      3,000.02-            NaN   \n",
       "2                  NaN      3,000.02+            NaN   \n",
       "3                  NaN    156,000.67-            NaN   \n",
       "4                  NaN    156,000.67+            NaN   \n",
       "5                  NaN  1,064,001.37+            NaN   \n",
       "6                  NaN  1,064,001.37-            NaN   \n",
       "7                  NaN            NaN            NaN   \n",
       "8                  NaN            NaN            NaN   \n",
       "\n",
       "  DIFERENCIA COSTO PROMEDIO VS PRECIO DE VENTA  \n",
       "0                                       0.00.1  \n",
       "1                                          0.0  \n",
       "2                                      2.29585  \n",
       "3                                          0.0  \n",
       "4                                      2.29585  \n",
       "5                                          0.0  \n",
       "6                                          0.0  \n",
       "7                                          NaN  \n",
       "8                                          NaN  "
      ]
     },
     "execution_count": 55,
     "metadata": {},
     "output_type": "execute_result"
    }
   ],
   "source": [
    "tabla1_2=tabla_1.reset_index(drop=True)\n",
    "tabla1_2"
   ]
  },
  {
   "cell_type": "code",
   "execution_count": 56,
   "metadata": {},
   "outputs": [],
   "source": [
    "def unamed(x):\n",
    "    if str(x).lower().startswith('unnamed'):\n",
    "        return 0\n",
    "    else:\n",
    "        return x"
   ]
  },
  {
   "cell_type": "code",
   "execution_count": 57,
   "metadata": {},
   "outputs": [],
   "source": [
    "tabla1_2.iloc[0]=tabla1_2.iloc[0].apply(unamed)"
   ]
  },
  {
   "cell_type": "code",
   "execution_count": 58,
   "metadata": {},
   "outputs": [
    {
     "data": {
      "text/html": [
       "<div>\n",
       "<style scoped>\n",
       "    .dataframe tbody tr th:only-of-type {\n",
       "        vertical-align: middle;\n",
       "    }\n",
       "\n",
       "    .dataframe tbody tr th {\n",
       "        vertical-align: top;\n",
       "    }\n",
       "\n",
       "    .dataframe thead th {\n",
       "        text-align: right;\n",
       "    }\n",
       "</style>\n",
       "<table border=\"1\" class=\"dataframe\">\n",
       "  <thead>\n",
       "    <tr style=\"text-align: right;\">\n",
       "      <th></th>\n",
       "      <th>CONCEPTO</th>\n",
       "      <th>EMISORA/SERIE/TÍTULOS</th>\n",
       "      <th>PRECIO</th>\n",
       "      <th>PZO</th>\n",
       "      <th>TASA</th>\n",
       "      <th>MOVIMIENTOS</th>\n",
       "      <th>DEPOSITO POR INTERESES</th>\n",
       "      <th>RETIROS POR COM</th>\n",
       "      <th>RETIROS POR IMPUESTO</th>\n",
       "      <th>SALDO</th>\n",
       "      <th>COSTO PROMEDIO</th>\n",
       "      <th>DIFERENCIA COSTO PROMEDIO VS PRECIO DE VENTA</th>\n",
       "    </tr>\n",
       "  </thead>\n",
       "  <tbody>\n",
       "    <tr>\n",
       "      <th>0</th>\n",
       "      <td>SALDO ANTERIOR</td>\n",
       "      <td>EFECTIVO/\\r0</td>\n",
       "      <td>0</td>\n",
       "      <td>0</td>\n",
       "      <td>0.00</td>\n",
       "      <td>0</td>\n",
       "      <td>0</td>\n",
       "      <td>0</td>\n",
       "      <td>0</td>\n",
       "      <td>0</td>\n",
       "      <td>0</td>\n",
       "      <td>0.00.1</td>\n",
       "    </tr>\n",
       "    <tr>\n",
       "      <th>1</th>\n",
       "      <td>ABONO CTA.CHEQ.</td>\n",
       "      <td>0660/000065945/\\r0</td>\n",
       "      <td>NaN</td>\n",
       "      <td>NaN</td>\n",
       "      <td>0.0</td>\n",
       "      <td>3,000.02-</td>\n",
       "      <td>NaN</td>\n",
       "      <td>NaN</td>\n",
       "      <td>NaN</td>\n",
       "      <td>3,000.02-</td>\n",
       "      <td>NaN</td>\n",
       "      <td>0.0</td>\n",
       "    </tr>\n",
       "    <tr>\n",
       "      <th>2</th>\n",
       "      <td>VENTA FONDO</td>\n",
       "      <td>BLKGUB1    M1-A/\\r1302</td>\n",
       "      <td>2.30416</td>\n",
       "      <td>NaN</td>\n",
       "      <td>0.0</td>\n",
       "      <td>3,000.02+</td>\n",
       "      <td>NaN</td>\n",
       "      <td>NaN</td>\n",
       "      <td>NaN</td>\n",
       "      <td>3,000.02+</td>\n",
       "      <td>NaN</td>\n",
       "      <td>2.29585</td>\n",
       "    </tr>\n",
       "    <tr>\n",
       "      <th>3</th>\n",
       "      <td>ABONO CTA.CHEQ.</td>\n",
       "      <td>0660/000065945/\\r0</td>\n",
       "      <td>NaN</td>\n",
       "      <td>NaN</td>\n",
       "      <td>0.0</td>\n",
       "      <td>156,000.67-</td>\n",
       "      <td>NaN</td>\n",
       "      <td>NaN</td>\n",
       "      <td>NaN</td>\n",
       "      <td>156,000.67-</td>\n",
       "      <td>NaN</td>\n",
       "      <td>0.0</td>\n",
       "    </tr>\n",
       "    <tr>\n",
       "      <th>4</th>\n",
       "      <td>VENTA FONDO</td>\n",
       "      <td>BLKGUB1    M1-A/\\r67688</td>\n",
       "      <td>2.3047</td>\n",
       "      <td>NaN</td>\n",
       "      <td>0.0</td>\n",
       "      <td>156,000.67+</td>\n",
       "      <td>NaN</td>\n",
       "      <td>NaN</td>\n",
       "      <td>NaN</td>\n",
       "      <td>156,000.67+</td>\n",
       "      <td>NaN</td>\n",
       "      <td>2.29585</td>\n",
       "    </tr>\n",
       "    <tr>\n",
       "      <th>5</th>\n",
       "      <td>CGO.CTA.CHEQUES</td>\n",
       "      <td>0660/000065945/\\r0</td>\n",
       "      <td>NaN</td>\n",
       "      <td>NaN</td>\n",
       "      <td>0.0</td>\n",
       "      <td>1,064,001.37+</td>\n",
       "      <td>NaN</td>\n",
       "      <td>NaN</td>\n",
       "      <td>NaN</td>\n",
       "      <td>1,064,001.37+</td>\n",
       "      <td>NaN</td>\n",
       "      <td>0.0</td>\n",
       "    </tr>\n",
       "    <tr>\n",
       "      <th>6</th>\n",
       "      <td>COMPRA FONDO</td>\n",
       "      <td>BLKGUB1    M1-A/\\r461300</td>\n",
       "      <td>2.30652</td>\n",
       "      <td>NaN</td>\n",
       "      <td>0.0</td>\n",
       "      <td>1,064,001.37-</td>\n",
       "      <td>NaN</td>\n",
       "      <td>NaN</td>\n",
       "      <td>NaN</td>\n",
       "      <td>1,064,001.37-</td>\n",
       "      <td>NaN</td>\n",
       "      <td>0.0</td>\n",
       "    </tr>\n",
       "    <tr>\n",
       "      <th>7</th>\n",
       "      <td>0.00</td>\n",
       "      <td>0.00</td>\n",
       "      <td>0.0</td>\n",
       "      <td>NaN</td>\n",
       "      <td>NaN</td>\n",
       "      <td>NaN</td>\n",
       "      <td>NaN</td>\n",
       "      <td>NaN</td>\n",
       "      <td>NaN</td>\n",
       "      <td>NaN</td>\n",
       "      <td>NaN</td>\n",
       "      <td>NaN</td>\n",
       "    </tr>\n",
       "    <tr>\n",
       "      <th>8</th>\n",
       "      <td>I=IVASUMA0.00\\rR=ISRSUMA0.00</td>\n",
       "      <td>NaN</td>\n",
       "      <td>NaN</td>\n",
       "      <td>NaN</td>\n",
       "      <td>NaN</td>\n",
       "      <td>NaN</td>\n",
       "      <td>NaN</td>\n",
       "      <td>NaN</td>\n",
       "      <td>NaN</td>\n",
       "      <td>NaN</td>\n",
       "      <td>NaN</td>\n",
       "      <td>NaN</td>\n",
       "    </tr>\n",
       "  </tbody>\n",
       "</table>\n",
       "</div>"
      ],
      "text/plain": [
       "                       CONCEPTO     EMISORA/SERIE/TÍTULOS   PRECIO  PZO  TASA  \\\n",
       "0                SALDO ANTERIOR              EFECTIVO/\\r0        0    0  0.00   \n",
       "1               ABONO CTA.CHEQ.        0660/000065945/\\r0      NaN  NaN   0.0   \n",
       "2                   VENTA FONDO    BLKGUB1    M1-A/\\r1302  2.30416  NaN   0.0   \n",
       "3               ABONO CTA.CHEQ.        0660/000065945/\\r0      NaN  NaN   0.0   \n",
       "4                   VENTA FONDO   BLKGUB1    M1-A/\\r67688   2.3047  NaN   0.0   \n",
       "5               CGO.CTA.CHEQUES        0660/000065945/\\r0      NaN  NaN   0.0   \n",
       "6                  COMPRA FONDO  BLKGUB1    M1-A/\\r461300  2.30652  NaN   0.0   \n",
       "7                          0.00                      0.00      0.0  NaN   NaN   \n",
       "8  I=IVASUMA0.00\\rR=ISRSUMA0.00                       NaN      NaN  NaN   NaN   \n",
       "\n",
       "     MOVIMIENTOS DEPOSITO POR INTERESES RETIROS POR COM RETIROS POR IMPUESTO  \\\n",
       "0              0                      0               0                    0   \n",
       "1      3,000.02-                    NaN             NaN                  NaN   \n",
       "2      3,000.02+                    NaN             NaN                  NaN   \n",
       "3    156,000.67-                    NaN             NaN                  NaN   \n",
       "4    156,000.67+                    NaN             NaN                  NaN   \n",
       "5  1,064,001.37+                    NaN             NaN                  NaN   \n",
       "6  1,064,001.37-                    NaN             NaN                  NaN   \n",
       "7            NaN                    NaN             NaN                  NaN   \n",
       "8            NaN                    NaN             NaN                  NaN   \n",
       "\n",
       "           SALDO COSTO PROMEDIO DIFERENCIA COSTO PROMEDIO VS PRECIO DE VENTA  \n",
       "0              0              0                                       0.00.1  \n",
       "1      3,000.02-            NaN                                          0.0  \n",
       "2      3,000.02+            NaN                                      2.29585  \n",
       "3    156,000.67-            NaN                                          0.0  \n",
       "4    156,000.67+            NaN                                      2.29585  \n",
       "5  1,064,001.37+            NaN                                          0.0  \n",
       "6  1,064,001.37-            NaN                                          0.0  \n",
       "7            NaN            NaN                                          NaN  \n",
       "8            NaN            NaN                                          NaN  "
      ]
     },
     "execution_count": 58,
     "metadata": {},
     "output_type": "execute_result"
    }
   ],
   "source": [
    "tabla1_2"
   ]
  },
  {
   "cell_type": "code",
   "execution_count": 59,
   "metadata": {},
   "outputs": [],
   "source": [
    "indices_dia=[]\n",
    "for i in range(len(pdf)):\n",
    "    if re.search('día', pdf[i].lower()):\n",
    "        indices_dia.append(i)"
   ]
  },
  {
   "cell_type": "code",
   "execution_count": 60,
   "metadata": {},
   "outputs": [
    {
     "data": {
      "text/plain": [
       "[18, 55, 74, 101]"
      ]
     },
     "execution_count": 60,
     "metadata": {},
     "output_type": "execute_result"
    }
   ],
   "source": [
    "indices_dia"
   ]
  },
  {
   "cell_type": "code",
   "execution_count": 61,
   "metadata": {},
   "outputs": [],
   "source": [
    "tabla_1=pdf[indices_dia[0]:indices_dia[1]]"
   ]
  },
  {
   "cell_type": "code",
   "execution_count": 62,
   "metadata": {},
   "outputs": [
    {
     "data": {
      "text/plain": [
       "['DÍA CONCEPTO 01 SALDO ANTERIOR 14 ABONO CTA.CHEQ. 14 VENTA FONDO 17 ABONO CTA.CHEQ. 17 VENTA FONDO 28 CGO.CTA.CHEQUES 28 COMPRA FONDO',\n",
       " 'EMISORA/SERIE/ TÍTULOS',\n",
       " 'EFECTIVO/ 0 0660/000065945/ 0 BLKGUB1 M1-A/ 1302 0660/000065945/ 0 BLKGUB1 M1-A/ 67688 0660/000065945/ 0 BLKGUB1 M1-A/ 461300',\n",
       " 'PRECIO PZO.',\n",
       " '2.30416 2.30470 2.30652',\n",
       " 'TASA 0.00 0.00 0.00 0.00 0.00 0.00 0.00',\n",
       " 'MOVIMIENTOS',\n",
       " '3,000.023,000.02+ 156,000.67156,000.67+ 1,064,001.37+ 1,064,001.37-',\n",
       " 'DEPÓSITOS POR',\n",
       " 'INTERESES',\n",
       " 'RETIROS POR COM.',\n",
       " 'RETIROS POR',\n",
       " 'IMPUESTO',\n",
       " '0.00 0.00',\n",
       " 'I=IVA SUMA R=ISR SUMA',\n",
       " '0.00',\n",
       " '0.00 0.00',\n",
       " 'NETO DEPÓSITOS',\n",
       " 'RETIROS',\n",
       " '3,000.023,000.02+ 156,000.67156,000.67+ 1,064,001.37+ 1,064,001.37-',\n",
       " 'COSTO PROMEDIO',\n",
       " '0.00',\n",
       " 'DIFERENCIA COSTO PROMEDIO',\n",
       " 'VS PRECIO DE VENTA',\n",
       " '0.00',\n",
       " '0.00000',\n",
       " '0.00',\n",
       " '2.29585',\n",
       " '0.008310',\n",
       " '0.00000',\n",
       " '0.00',\n",
       " '2.29585',\n",
       " '0.008850',\n",
       " '0.00000',\n",
       " '0.00',\n",
       " '0.00000',\n",
       " '0.00']"
      ]
     },
     "execution_count": 62,
     "metadata": {},
     "output_type": "execute_result"
    }
   ],
   "source": [
    "tabla_1"
   ]
  },
  {
   "cell_type": "code",
   "execution_count": 63,
   "metadata": {},
   "outputs": [
    {
     "data": {
      "text/plain": [
       "['01', '14', '14', '17', '17', '28', '28']"
      ]
     },
     "execution_count": 63,
     "metadata": {},
     "output_type": "execute_result"
    }
   ],
   "source": [
    "dias_tabla_1=re.findall(r'\\d{2}',tabla_1[0])\n",
    "dias_tabla_1"
   ]
  },
  {
   "cell_type": "code",
   "execution_count": 64,
   "metadata": {},
   "outputs": [],
   "source": [
    "#quito ceros y nulos\n",
    "tabla1_3=tabla1_2.fillna(0)\n",
    "tabla1_4=tabla1_3[(tabla1_3['EMISORA/SERIE/TÍTULOS']!='0.00')]\n",
    "tabla1_5=tabla1_4[tabla1_4['EMISORA/SERIE/TÍTULOS']!=0]"
   ]
  },
  {
   "cell_type": "code",
   "execution_count": 65,
   "metadata": {},
   "outputs": [
    {
     "name": "stderr",
     "output_type": "stream",
     "text": [
      "c:\\users\\gotsa\\appdata\\local\\programs\\python\\python37\\lib\\site-packages\\ipykernel_launcher.py:2: SettingWithCopyWarning: \n",
      "A value is trying to be set on a copy of a slice from a DataFrame.\n",
      "Try using .loc[row_indexer,col_indexer] = value instead\n",
      "\n",
      "See the caveats in the documentation: https://pandas.pydata.org/pandas-docs/stable/user_guide/indexing.html#returning-a-view-versus-a-copy\n",
      "  \n"
     ]
    }
   ],
   "source": [
    "#agrego días\n",
    "tabla1_5['dias']= dias_tabla_1"
   ]
  },
  {
   "cell_type": "code",
   "execution_count": 66,
   "metadata": {},
   "outputs": [],
   "source": [
    "tabla_pesos=tabla1_5[['dias', 'CONCEPTO','EMISORA/SERIE/TÍTULOS', 'PRECIO','PZO','MOVIMIENTOS',\n",
    "                     'DEPOSITO POR INTERESES','RETIROS POR COM', 'RETIROS POR IMPUESTO','SALDO']]"
   ]
  },
  {
   "cell_type": "code",
   "execution_count": 67,
   "metadata": {},
   "outputs": [
    {
     "data": {
      "text/html": [
       "<div>\n",
       "<style scoped>\n",
       "    .dataframe tbody tr th:only-of-type {\n",
       "        vertical-align: middle;\n",
       "    }\n",
       "\n",
       "    .dataframe tbody tr th {\n",
       "        vertical-align: top;\n",
       "    }\n",
       "\n",
       "    .dataframe thead th {\n",
       "        text-align: right;\n",
       "    }\n",
       "</style>\n",
       "<table border=\"1\" class=\"dataframe\">\n",
       "  <thead>\n",
       "    <tr style=\"text-align: right;\">\n",
       "      <th></th>\n",
       "      <th>dias</th>\n",
       "      <th>CONCEPTO</th>\n",
       "      <th>EMISORA/SERIE/TÍTULOS</th>\n",
       "      <th>PRECIO</th>\n",
       "      <th>PZO</th>\n",
       "      <th>MOVIMIENTOS</th>\n",
       "      <th>DEPOSITO POR INTERESES</th>\n",
       "      <th>RETIROS POR COM</th>\n",
       "      <th>RETIROS POR IMPUESTO</th>\n",
       "      <th>SALDO</th>\n",
       "    </tr>\n",
       "  </thead>\n",
       "  <tbody>\n",
       "    <tr>\n",
       "      <th>0</th>\n",
       "      <td>01</td>\n",
       "      <td>SALDO ANTERIOR</td>\n",
       "      <td>EFECTIVO/\\r0</td>\n",
       "      <td>0.00000</td>\n",
       "      <td>0</td>\n",
       "      <td>0</td>\n",
       "      <td>0</td>\n",
       "      <td>0</td>\n",
       "      <td>0</td>\n",
       "      <td>0</td>\n",
       "    </tr>\n",
       "    <tr>\n",
       "      <th>1</th>\n",
       "      <td>14</td>\n",
       "      <td>ABONO CTA.CHEQ.</td>\n",
       "      <td>0660/000065945/\\r0</td>\n",
       "      <td>0.00000</td>\n",
       "      <td>0</td>\n",
       "      <td>3,000.02-</td>\n",
       "      <td>0</td>\n",
       "      <td>0</td>\n",
       "      <td>0</td>\n",
       "      <td>3,000.02-</td>\n",
       "    </tr>\n",
       "    <tr>\n",
       "      <th>2</th>\n",
       "      <td>14</td>\n",
       "      <td>VENTA FONDO</td>\n",
       "      <td>BLKGUB1    M1-A/\\r1302</td>\n",
       "      <td>2.30416</td>\n",
       "      <td>0</td>\n",
       "      <td>3,000.02+</td>\n",
       "      <td>0</td>\n",
       "      <td>0</td>\n",
       "      <td>0</td>\n",
       "      <td>3,000.02+</td>\n",
       "    </tr>\n",
       "    <tr>\n",
       "      <th>3</th>\n",
       "      <td>17</td>\n",
       "      <td>ABONO CTA.CHEQ.</td>\n",
       "      <td>0660/000065945/\\r0</td>\n",
       "      <td>0.00000</td>\n",
       "      <td>0</td>\n",
       "      <td>156,000.67-</td>\n",
       "      <td>0</td>\n",
       "      <td>0</td>\n",
       "      <td>0</td>\n",
       "      <td>156,000.67-</td>\n",
       "    </tr>\n",
       "    <tr>\n",
       "      <th>4</th>\n",
       "      <td>17</td>\n",
       "      <td>VENTA FONDO</td>\n",
       "      <td>BLKGUB1    M1-A/\\r67688</td>\n",
       "      <td>2.30470</td>\n",
       "      <td>0</td>\n",
       "      <td>156,000.67+</td>\n",
       "      <td>0</td>\n",
       "      <td>0</td>\n",
       "      <td>0</td>\n",
       "      <td>156,000.67+</td>\n",
       "    </tr>\n",
       "    <tr>\n",
       "      <th>5</th>\n",
       "      <td>28</td>\n",
       "      <td>CGO.CTA.CHEQUES</td>\n",
       "      <td>0660/000065945/\\r0</td>\n",
       "      <td>0.00000</td>\n",
       "      <td>0</td>\n",
       "      <td>1,064,001.37+</td>\n",
       "      <td>0</td>\n",
       "      <td>0</td>\n",
       "      <td>0</td>\n",
       "      <td>1,064,001.37+</td>\n",
       "    </tr>\n",
       "    <tr>\n",
       "      <th>6</th>\n",
       "      <td>28</td>\n",
       "      <td>COMPRA FONDO</td>\n",
       "      <td>BLKGUB1    M1-A/\\r461300</td>\n",
       "      <td>2.30652</td>\n",
       "      <td>0</td>\n",
       "      <td>1,064,001.37-</td>\n",
       "      <td>0</td>\n",
       "      <td>0</td>\n",
       "      <td>0</td>\n",
       "      <td>1,064,001.37-</td>\n",
       "    </tr>\n",
       "  </tbody>\n",
       "</table>\n",
       "</div>"
      ],
      "text/plain": [
       "  dias         CONCEPTO     EMISORA/SERIE/TÍTULOS   PRECIO  PZO  \\\n",
       "0   01   SALDO ANTERIOR              EFECTIVO/\\r0  0.00000    0   \n",
       "1   14  ABONO CTA.CHEQ.        0660/000065945/\\r0  0.00000    0   \n",
       "2   14      VENTA FONDO    BLKGUB1    M1-A/\\r1302  2.30416    0   \n",
       "3   17  ABONO CTA.CHEQ.        0660/000065945/\\r0  0.00000    0   \n",
       "4   17      VENTA FONDO   BLKGUB1    M1-A/\\r67688  2.30470    0   \n",
       "5   28  CGO.CTA.CHEQUES        0660/000065945/\\r0  0.00000    0   \n",
       "6   28     COMPRA FONDO  BLKGUB1    M1-A/\\r461300  2.30652    0   \n",
       "\n",
       "     MOVIMIENTOS  DEPOSITO POR INTERESES  RETIROS POR COM  \\\n",
       "0              0                       0                0   \n",
       "1      3,000.02-                       0                0   \n",
       "2      3,000.02+                       0                0   \n",
       "3    156,000.67-                       0                0   \n",
       "4    156,000.67+                       0                0   \n",
       "5  1,064,001.37+                       0                0   \n",
       "6  1,064,001.37-                       0                0   \n",
       "\n",
       "   RETIROS POR IMPUESTO          SALDO  \n",
       "0                     0              0  \n",
       "1                     0      3,000.02-  \n",
       "2                     0      3,000.02+  \n",
       "3                     0    156,000.67-  \n",
       "4                     0    156,000.67+  \n",
       "5                     0  1,064,001.37+  \n",
       "6                     0  1,064,001.37-  "
      ]
     },
     "execution_count": 67,
     "metadata": {},
     "output_type": "execute_result"
    }
   ],
   "source": [
    "#tabla pesos para exportar\n",
    "tabla_pesos"
   ]
  },
  {
   "cell_type": "code",
   "execution_count": 83,
   "metadata": {},
   "outputs": [],
   "source": [
    "retiro=[]\n",
    "deposito=[]\n",
    "for i in tabla_pesos['MOVIMIENTOS']:\n",
    "    if re.search(r'\\-$',str(i)):\n",
    "        retiro.append(i)\n",
    "        deposito.append(0)\n",
    "    elif re.search(r'\\+$',str(i)):\n",
    "        retiro.append(0)\n",
    "        deposito.append(i)\n",
    "        \n",
    "    else:\n",
    "        retiro.append(0)\n",
    "        deposito.append(0)"
   ]
  },
  {
   "cell_type": "code",
   "execution_count": 85,
   "metadata": {},
   "outputs": [
    {
     "name": "stderr",
     "output_type": "stream",
     "text": [
      "c:\\users\\gotsa\\appdata\\local\\programs\\python\\python37\\lib\\site-packages\\ipykernel_launcher.py:1: SettingWithCopyWarning: \n",
      "A value is trying to be set on a copy of a slice from a DataFrame.\n",
      "Try using .loc[row_indexer,col_indexer] = value instead\n",
      "\n",
      "See the caveats in the documentation: https://pandas.pydata.org/pandas-docs/stable/user_guide/indexing.html#returning-a-view-versus-a-copy\n",
      "  \"\"\"Entry point for launching an IPython kernel.\n",
      "c:\\users\\gotsa\\appdata\\local\\programs\\python\\python37\\lib\\site-packages\\ipykernel_launcher.py:2: SettingWithCopyWarning: \n",
      "A value is trying to be set on a copy of a slice from a DataFrame.\n",
      "Try using .loc[row_indexer,col_indexer] = value instead\n",
      "\n",
      "See the caveats in the documentation: https://pandas.pydata.org/pandas-docs/stable/user_guide/indexing.html#returning-a-view-versus-a-copy\n",
      "  \n"
     ]
    }
   ],
   "source": [
    "tabla_pesos['retiro']=retiro\n",
    "tabla_pesos['deposito']=deposito\n",
    "tabla_pesos['saldo']=tabla_pesos['SALDO']"
   ]
  },
  {
   "cell_type": "code",
   "execution_count": 86,
   "metadata": {},
   "outputs": [],
   "source": [
    "tabla_pesos['concepto']=tabla_pesos['CONCEPTO']+tabla_pesos['EMISORA/SERIE/TÍTULOS']"
   ]
  },
  {
   "cell_type": "code",
   "execution_count": 87,
   "metadata": {},
   "outputs": [],
   "source": [
    "tabla_pesos['banco']= 'banamex'\n",
    "tabla_pesos['saldo inicial']=tabla_pesos['saldo'][0]"
   ]
  },
  {
   "cell_type": "code",
   "execution_count": 88,
   "metadata": {},
   "outputs": [],
   "source": [
    "tabla_pesos['nacionalidad']='nacional'"
   ]
  },
  {
   "cell_type": "code",
   "execution_count": 68,
   "metadata": {},
   "outputs": [
    {
     "data": {
      "text/plain": [
       "['DÍA CONCEPTO',\n",
       " 'EMISORA/SERIE/ TÍTULOS',\n",
       " '01 SALDO ANTERIOR EFECTIVO NO-V-7006-8-004742-0000000000001038',\n",
       " 'PRECIO PLAZO 0.00000',\n",
       " 'TASA 0.00',\n",
       " 'MOVIMIENTOS 0.00',\n",
       " 'DEPÓSITOS POR',\n",
       " 'INTERESES',\n",
       " 'RETIROS POR COM.',\n",
       " 'RETIROS POR',\n",
       " 'IMPUESTO',\n",
       " 'NETO DEPÓSITOS',\n",
       " 'RETIROS',\n",
       " 'COSTO PROMEDIO',\n",
       " 'VENTA',\n",
       " 'DIFERENCIA COSTO PROMEDIO',\n",
       " 'VS PRECIO DE VENTA',\n",
       " '000132.TANPATONDCOR14.ED.0831.01',\n",
       " 'BEI 00']"
      ]
     },
     "execution_count": 68,
     "metadata": {},
     "output_type": "execute_result"
    }
   ],
   "source": [
    "tabla_2=pdf[indices_dia[1]:indices_dia[2]]\n",
    "tabla_2\n"
   ]
  },
  {
   "cell_type": "code",
   "execution_count": 69,
   "metadata": {},
   "outputs": [
    {
     "data": {
      "text/plain": [
       "[]"
      ]
     },
     "execution_count": 69,
     "metadata": {},
     "output_type": "execute_result"
    }
   ],
   "source": [
    "#la tabla2 no tiene días, es nula\n",
    "dias_tabla_2=re.findall(r'\\d{2}',tabla_2[0])\n",
    "dias_tabla_2"
   ]
  },
  {
   "cell_type": "code",
   "execution_count": 70,
   "metadata": {},
   "outputs": [
    {
     "data": {
      "text/plain": [
       "['\\x0cDÍA CONCEPTO',\n",
       " 'EMISORA/SERIE/ TÍTULOS',\n",
       " 'PRECIO PLAZO TASA',\n",
       " 'MOVIMIENTOS',\n",
       " 'DEPÓSITOS POR',\n",
       " 'INTERESES',\n",
       " 'RETIROS POR COM.',\n",
       " 'RETIROS POR',\n",
       " 'IMPUESTO',\n",
       " 'NETO DEPÓSITOS',\n",
       " 'RETIROS',\n",
       " 'COSTO PROMEDIO',\n",
       " 'VENTA',\n",
       " 'DIFERENCIA COSTO PROMEDIO',\n",
       " 'VS PRECIO DE VENTA',\n",
       " 'A continuación se presenta el total de las Comisiones y Gastos de Intermediación, por Servicios y Administrativos (incluyen IVA) e ISR 1. Total de Comisiones y Gastos de Intermediación: 0 pesos 2. Total de Comisiones y Gastos por Servicios: 0 pesos 3. Total de Comisiones y Gastos Administrativos: 0 pesos R Total Impuesto Sobre la Renta: 0 pesos El monto total de las comisiones, gastos e impuestos (IVA e ISR) del mes son 0 pesos, representa el (0.00)% de su cartera de inversión al cierre del mes.',\n",
       " 'Las comisiones que se muestran en el mismo renglón de las operaciones de compra o venta de productos financieros en la sección de DETALLE DE MOVIMIENTOS DEL PERÍODO de este estado de cuenta bajo el rubro de \"Comisión\", hacen referencia a las comisiones cobradas por corretaje y están sumarizadas en el número 1 Total de Comisiones y Gastos de Intermediación.',\n",
       " 'La forma para calcular el monto de las comisiones y gastos lo puede encontrar en la Guía de Servicios de Inversión en el sitio https://www.banamex.com/bancapatrimonial/informacion_clientes/guia-de-servicios-de-inversion.htm Para mayor información con respecto a las comisiones cobradas, favor de comunicarse con su promotor.',\n",
       " 'INVER EMPRE/0 NO-V-7006-8-004743-0000000000001038',\n",
       " '000132.TANPATONDCOR14.ED.0831.01',\n",
       " 'BEI 00',\n",
       " '\\x0cBLKGUB1 M1-A/0',\n",
       " 'EL COSTO PROMEDIO DE ADQUISICION ACTUALIZADO (COSTO FISCAL) QUE SE PRESENTA EN ESTE ESTADO DE CUENTA ES DE CARACTER INFORMATIVO. EN LA CONSTANCIA FISCALANUALSEINCLUIRA ELDATODEFINITIVO',\n",
       " 'Los tipos de cambio utilizados para la valuación en pesos del portafolio en moneda extranjera son 21.86 para Dólar y 26.48 para Euro.',\n",
       " 'NO-V-7006-8-004744-0000000000001038',\n",
       " '000132.TANPATONDCOR14.ED.0831.01',\n",
       " 'BEI 00']"
      ]
     },
     "execution_count": 70,
     "metadata": {},
     "output_type": "execute_result"
    }
   ],
   "source": [
    "tabla_3=pdf[indices_dia[2]:indices_dia[3]]\n",
    "tabla_3\n"
   ]
  },
  {
   "cell_type": "code",
   "execution_count": 71,
   "metadata": {},
   "outputs": [
    {
     "data": {
      "text/plain": [
       "[]"
      ]
     },
     "execution_count": 71,
     "metadata": {},
     "output_type": "execute_result"
    }
   ],
   "source": [
    "#la tabla 3 no tiene días es nula\n",
    "dias_tabla_3=re.findall(r'\\d{2}',tabla_3[0])\n",
    "dias_tabla_3"
   ]
  },
  {
   "cell_type": "code",
   "execution_count": null,
   "metadata": {},
   "outputs": [],
   "source": []
  }
 ],
 "metadata": {
  "kernelspec": {
   "display_name": "Python 3",
   "language": "python",
   "name": "python3"
  },
  "language_info": {
   "codemirror_mode": {
    "name": "ipython",
    "version": 3
   },
   "file_extension": ".py",
   "mimetype": "text/x-python",
   "name": "python",
   "nbconvert_exporter": "python",
   "pygments_lexer": "ipython3",
   "version": "3.7.2"
  }
 },
 "nbformat": 4,
 "nbformat_minor": 2
}
