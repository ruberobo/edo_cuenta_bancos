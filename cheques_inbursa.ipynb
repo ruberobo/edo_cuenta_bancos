{
 "cells": [
  {
   "cell_type": "code",
   "execution_count": 1,
   "metadata": {},
   "outputs": [],
   "source": [
    "import textract\n",
    "import tabula"
   ]
  },
  {
   "cell_type": "code",
   "execution_count": 2,
   "metadata": {},
   "outputs": [],
   "source": [
    "import pandas as pd\n",
    "import numpy as np\n",
    "import re"
   ]
  },
  {
   "cell_type": "code",
   "execution_count": 3,
   "metadata": {},
   "outputs": [],
   "source": [
    "#extraigo texto\n",
    "archivo= 'tresalia\\Bancos\\inbursa\\pdf\\Cheques_Inbursa.pdf'"
   ]
  },
  {
   "cell_type": "code",
   "execution_count": 4,
   "metadata": {},
   "outputs": [],
   "source": [
    "text = textract.process(archivo)"
   ]
  },
  {
   "cell_type": "code",
   "execution_count": 5,
   "metadata": {},
   "outputs": [],
   "source": [
    "#cambio formato\n",
    "encoding = 'utf-8'\n",
    "text_str=text.decode(encoding)"
   ]
  },
  {
   "cell_type": "code",
   "execution_count": 6,
   "metadata": {},
   "outputs": [],
   "source": [
    "#separo\n",
    "pdf=re.split(r\"[~\\r\\n]+\", text_str)"
   ]
  },
  {
   "cell_type": "code",
   "execution_count": 7,
   "metadata": {},
   "outputs": [
    {
     "data": {
      "text/html": [
       "<div>\n",
       "<style scoped>\n",
       "    .dataframe tbody tr th:only-of-type {\n",
       "        vertical-align: middle;\n",
       "    }\n",
       "\n",
       "    .dataframe tbody tr th {\n",
       "        vertical-align: top;\n",
       "    }\n",
       "\n",
       "    .dataframe thead th {\n",
       "        text-align: right;\n",
       "    }\n",
       "</style>\n",
       "<table border=\"1\" class=\"dataframe\">\n",
       "  <thead>\n",
       "    <tr style=\"text-align: right;\">\n",
       "      <th></th>\n",
       "      <th>informacion</th>\n",
       "    </tr>\n",
       "  </thead>\n",
       "  <tbody>\n",
       "    <tr>\n",
       "      <th>0</th>\n",
       "      <td>l,'INBURSA</td>\n",
       "    </tr>\n",
       "    <tr>\n",
       "      <th>1</th>\n",
       "      <td>11 Banco</td>\n",
       "    </tr>\n",
       "    <tr>\n",
       "      <th>2</th>\n",
       "      <td>NOMBRE APELLIDO P APELLIDO M</td>\n",
       "    </tr>\n",
       "    <tr>\n",
       "      <th>3</th>\n",
       "      <td>CLIENTE INBURS A: 99999999</td>\n",
       "    </tr>\n",
       "    <tr>\n",
       "      <th>4</th>\n",
       "      <td>CUENTA: 99999999999</td>\n",
       "    </tr>\n",
       "  </tbody>\n",
       "</table>\n",
       "</div>"
      ],
      "text/plain": [
       "                    informacion\n",
       "0                    l,'INBURSA\n",
       "1                      11 Banco\n",
       "2  NOMBRE APELLIDO P APELLIDO M\n",
       "3    CLIENTE INBURS A: 99999999\n",
       "4           CUENTA: 99999999999"
      ]
     },
     "execution_count": 7,
     "metadata": {},
     "output_type": "execute_result"
    }
   ],
   "source": [
    "information_pdf=pd.DataFrame(pdf).rename(columns={0:\"informacion\"})\n",
    "information_pdf.head()"
   ]
  },
  {
   "cell_type": "code",
   "execution_count": 8,
   "metadata": {},
   "outputs": [
    {
     "data": {
      "text/plain": [
       "[\"l,'INBURSA\",\n",
       " '11 Banco',\n",
       " 'NOMBRE APELLIDO P APELLIDO M',\n",
       " 'CLIENTE INBURS A: 99999999',\n",
       " 'CUENTA: 99999999999',\n",
       " 'CUENTA CLABE: 999999999999999999',\n",
       " 'CT CUENTA CT MONEDA: MXP PERIODO: 01-09-2020 AL 02-10-2020',\n",
       " 'LIDEZ',\n",
       " '------------------- -E-S-T-A-D-O-DE- -C-UE-N-T-A-----------------...',\n",
       " 'SALDO 965.94',\n",
       " 'SALDO DISPONIBLE',\n",
       " '965.94',\n",
       " 'OPERACIONES EN',\n",
       " 'o',\n",
       " 'CREDITO O',\n",
       " 'MONTO SBC',\n",
       " 'o',\n",
       " 'SALDO DEUDOR',\n",
       " 'o',\n",
       " 'SALDO PROMEDIO 965.94 AL 01-10-2020',\n",
       " 'FECHA',\n",
       " '01/09/2020 15/09/2020 17/09/2020 18/09/2020 21/09/2020 23/09/2020 24/09/2020 25/09/2020 28/09/2020 30/09/2020',\n",
       " 'REFERENCIA',\n",
       " '1778656351',\n",
       " '1789342019',\n",
       " 'CONCEPTO',\n",
       " 'DEPOSITO SPEI (BANAMEX, 000000, 000000000000000000, 9999999, RETIRO A SOLICITUD DEL CLIENTE,',\n",
       " 'CHEQUE INBURSA (Num Cheque:0000000 EFECTIVO)',\n",
       " '1790409801',\n",
       " 'COMPRA COMERCIO ( ISHOP MIXUP REFORMA319',\n",
       " 'MX)',\n",
       " '1791586923',\n",
       " 'CHEQUE INBURSA (Num Cheque:0000000 EFECTIVO)',\n",
       " '1793261725',\n",
       " 'CHEQUE INBURSA (Num Cheque:0000000 EFECTIVO)',\n",
       " '1794683538',\n",
       " 'COMPRA COMERCIO ( IZ BIOMEDICA DE REFER',\n",
       " 'MX)',\n",
       " '1795290747',\n",
       " 'COMPRA COMERCIO',\n",
       " '( FOSTIMEX',\n",
       " 'MX)',\n",
       " '1795984921',\n",
       " 'COMPRA COMERCIO ( FSNPABLO PRADO NORTE',\n",
       " 'MX)',\n",
       " '1798363229',\n",
       " 'COMPRA COMERCIO ( SAN PABLO TECAMACHALCO',\n",
       " 'MX)',\n",
       " '1800835033',\n",
       " 'INTERESES GANADOS',\n",
       " 'CARGOS',\n",
       " '$5,000.00 $2,099.00 $5,000.00 $5,000.00 $3,274.20 $8,200.00 $922.50 $578.00',\n",
       " '30/09/2020',\n",
       " '1800835033',\n",
       " 'ISR RETENIDO',\n",
       " '$5,660.37',\n",
       " '30/09/2020',\n",
       " '1800835033',\n",
       " 'COMISION MANEJO DE CUENTA',\n",
       " '$228.45',\n",
       " '30/09/2020',\n",
       " '1800835033',\n",
       " '01/10/2020',\n",
       " '1801615848',\n",
       " 'IVA COMISION MANEJO DE CUENTA (Tasa IVA 16.0%)',\n",
       " 'DEPOSITO SPEI (BANAMEX, 000000, 000000000000000000, 000000, RETIRO A SOLICITUD DEL CLIENTE,',\n",
       " '$36.55',\n",
       " 'ABONOS',\n",
       " '$1,108.93',\n",
       " '$8,005.89 $1,108.93',\n",
       " 'SALDO',\n",
       " '$2,850.19 $2,850.19 $3,751.19 $8,751.19 $3,751.19 $7,476.99 $9,276.99 $8,354.49 $7,776.49 $5,782.38 $2,122.01 $9,893.56 $9,857.01 $2,965.94',\n",
       " 'FECHA IMPRESION: 02/10/2020 02:58:51 PM',\n",
       " 'Pagina 1 de1',\n",
       " '\\x0c']"
      ]
     },
     "execution_count": 8,
     "metadata": {},
     "output_type": "execute_result"
    }
   ],
   "source": [
    "pdf"
   ]
  },
  {
   "cell_type": "code",
   "execution_count": 9,
   "metadata": {},
   "outputs": [
    {
     "data": {
      "text/plain": [
       "'CLIENTE INBURS A: 99999999'"
      ]
     },
     "execution_count": 9,
     "metadata": {},
     "output_type": "execute_result"
    }
   ],
   "source": [
    "#cliente\n",
    "cliente_lista=[]\n",
    "for i in pdf:\n",
    "    if re.search('cliente',i.lower()):\n",
    "        cliente_lista.append(i)\n",
    "cliente=cliente_lista[0]\n",
    "cliente"
   ]
  },
  {
   "cell_type": "code",
   "execution_count": 10,
   "metadata": {},
   "outputs": [
    {
     "data": {
      "text/plain": [
       "'CUENTA CLABE: 999999999999999999'"
      ]
     },
     "execution_count": 10,
     "metadata": {},
     "output_type": "execute_result"
    }
   ],
   "source": [
    "#clabe\n",
    "clabe_lista=[]\n",
    "for i in pdf:\n",
    "    if re.search('clabe',i.lower()):\n",
    "        clabe_lista.append(i)\n",
    "clabe=clabe_lista[0]\n",
    "clabe"
   ]
  },
  {
   "cell_type": "code",
   "execution_count": 11,
   "metadata": {},
   "outputs": [],
   "source": [
    "#moneda\n",
    "moneda_lista=[]\n",
    "for i in pdf:\n",
    "    if re.search('moneda',i.lower()):\n",
    "        moneda_lista.append(i)"
   ]
  },
  {
   "cell_type": "code",
   "execution_count": 12,
   "metadata": {},
   "outputs": [
    {
     "data": {
      "text/plain": [
       "'mxn'"
      ]
     },
     "execution_count": 12,
     "metadata": {},
     "output_type": "execute_result"
    }
   ],
   "source": [
    "moneda_lista_2=moneda_lista[0].split(' ')\n",
    "for i in moneda_lista_2:\n",
    "    if re.search('mx', i.lower()):\n",
    "        moneda='mxn'\n",
    "    elif re.search('usd',i.lower()):\n",
    "        moneda='usd'\n",
    "        \n",
    "moneda"
   ]
  },
  {
   "cell_type": "code",
   "execution_count": 13,
   "metadata": {},
   "outputs": [],
   "source": [
    "#periodo\n",
    "periodo_lista=[]\n",
    "for i in pdf:\n",
    "    if re.search('periodo', i.lower()):\n",
    "        periodo_lista.append(i)\n",
    "\n",
    "        "
   ]
  },
  {
   "cell_type": "code",
   "execution_count": 14,
   "metadata": {},
   "outputs": [
    {
     "data": {
      "text/plain": [
       "'01-09-2020 al 02-10-2020'"
      ]
     },
     "execution_count": 14,
     "metadata": {},
     "output_type": "execute_result"
    }
   ],
   "source": [
    "periodo=periodo_lista[0].lower().split('periodo:')[-1].strip()\n",
    "periodo"
   ]
  },
  {
   "cell_type": "code",
   "execution_count": 15,
   "metadata": {},
   "outputs": [],
   "source": [
    "#localizo la tabla a partir de la palabra Fecha\n",
    "indices_fecha=[]\n",
    "for i in range(len(pdf)):\n",
    "    if re.search('fecha',pdf[i].lower()):\n",
    "        indices_fecha.append(i)"
   ]
  },
  {
   "cell_type": "code",
   "execution_count": 16,
   "metadata": {},
   "outputs": [],
   "source": [
    "tabla=pdf[indices_fecha[0]:-1]"
   ]
  },
  {
   "cell_type": "code",
   "execution_count": 17,
   "metadata": {},
   "outputs": [
    {
     "data": {
      "text/plain": [
       "['01/09/2020 15/09/2020 17/09/2020 18/09/2020 21/09/2020 23/09/2020 24/09/2020 25/09/2020 28/09/2020 30/09/2020',\n",
       " '30/09/2020',\n",
       " '30/09/2020',\n",
       " '30/09/2020',\n",
       " '01/10/2020']"
      ]
     },
     "execution_count": 17,
     "metadata": {},
     "output_type": "execute_result"
    }
   ],
   "source": [
    "#extraigo fechas\n",
    "fecha_lista=[]\n",
    "for i in tabla:\n",
    "    if re.match(r'\\d{2}/\\d{2}',i):\n",
    "        fecha_lista.append(i)\n",
    "fecha_lista        "
   ]
  },
  {
   "cell_type": "code",
   "execution_count": 18,
   "metadata": {},
   "outputs": [
    {
     "data": {
      "text/plain": [
       "['01/09/2020',\n",
       " '15/09/2020',\n",
       " '17/09/2020',\n",
       " '18/09/2020',\n",
       " '21/09/2020',\n",
       " '23/09/2020',\n",
       " '24/09/2020',\n",
       " '25/09/2020',\n",
       " '28/09/2020',\n",
       " '30/09/2020',\n",
       " '30/09/2020',\n",
       " '30/09/2020',\n",
       " '30/09/2020',\n",
       " '01/10/2020']"
      ]
     },
     "execution_count": 18,
     "metadata": {},
     "output_type": "execute_result"
    }
   ],
   "source": [
    "#organizo fechas\n",
    "fechas=[]\n",
    "for i in fecha_lista:\n",
    "    fecha_1=i.split(' ')\n",
    "    for j in fecha_1:\n",
    "        fechas.append(j)\n",
    "fechas"
   ]
  },
  {
   "cell_type": "code",
   "execution_count": 19,
   "metadata": {},
   "outputs": [
    {
     "data": {
      "text/plain": [
       "['1778656351',\n",
       " '1789342019',\n",
       " '1790409801',\n",
       " '1791586923',\n",
       " '1793261725',\n",
       " '1794683538',\n",
       " '1795290747',\n",
       " '1795984921',\n",
       " '1798363229',\n",
       " '1800835033',\n",
       " '1800835033',\n",
       " '1800835033',\n",
       " '1800835033',\n",
       " '1801615848']"
      ]
     },
     "execution_count": 19,
     "metadata": {},
     "output_type": "execute_result"
    }
   ],
   "source": [
    "#referencias\n",
    "referencias_lista=[]\n",
    "for i in tabla:\n",
    "    if re.match(r'\\d{10}',i):\n",
    "        referencias_lista.append(i)\n",
    "referencias_lista        "
   ]
  },
  {
   "cell_type": "code",
   "execution_count": 20,
   "metadata": {},
   "outputs": [],
   "source": [
    "#conceptos"
   ]
  },
  {
   "cell_type": "code",
   "execution_count": 21,
   "metadata": {},
   "outputs": [
    {
     "data": {
      "text/plain": [
       "['FECHA',\n",
       " 'REFERENCIA',\n",
       " 'CONCEPTO',\n",
       " 'DEPOSITO SPEI (BANAMEX, 000000, 000000000000000000, 9999999, RETIRO A SOLICITUD DEL CLIENTE,',\n",
       " 'CHEQUE INBURSA (Num Cheque:0000000 EFECTIVO)',\n",
       " 'COMPRA COMERCIO ( ISHOP MIXUP REFORMA319',\n",
       " 'MX)',\n",
       " 'CHEQUE INBURSA (Num Cheque:0000000 EFECTIVO)',\n",
       " 'CHEQUE INBURSA (Num Cheque:0000000 EFECTIVO)',\n",
       " 'COMPRA COMERCIO ( IZ BIOMEDICA DE REFER',\n",
       " 'MX)',\n",
       " 'COMPRA COMERCIO',\n",
       " '( FOSTIMEX',\n",
       " 'MX)',\n",
       " 'COMPRA COMERCIO ( FSNPABLO PRADO NORTE',\n",
       " 'MX)',\n",
       " 'COMPRA COMERCIO ( SAN PABLO TECAMACHALCO',\n",
       " 'MX)',\n",
       " 'INTERESES GANADOS',\n",
       " 'CARGOS',\n",
       " 'ISR RETENIDO',\n",
       " 'COMISION MANEJO DE CUENTA',\n",
       " 'IVA COMISION MANEJO DE CUENTA (Tasa IVA 16.0%)',\n",
       " 'DEPOSITO SPEI (BANAMEX, 000000, 000000000000000000, 000000, RETIRO A SOLICITUD DEL CLIENTE,',\n",
       " 'ABONOS',\n",
       " 'SALDO',\n",
       " 'FECHA IMPRESION: 02/10/2020 02:58:51 PM',\n",
       " 'Pagina 1 de1']"
      ]
     },
     "execution_count": 21,
     "metadata": {},
     "output_type": "execute_result"
    }
   ],
   "source": [
    "conceptos=[]\n",
    "for i in tabla:\n",
    "    if re.search(r'[a-zA-Z]+',i):\n",
    "        conceptos.append(i)\n",
    "conceptos"
   ]
  },
  {
   "cell_type": "code",
   "execution_count": 22,
   "metadata": {},
   "outputs": [],
   "source": [
    "#quito palabras raras\n",
    "stop_words=['ABONOS', 'FECHA', 'CARGOS', 'SALDO','REFERENCIA', 'CONCEPTO', 'MX)', 'Pagina']\n",
    "conceptos_2=[]\n",
    "for i in conceptos:\n",
    "    if i.startswith(('ABONOS', 'FECHA', 'CARGOS', 'SALDO','REFERENCIA', 'CONCEPTO', 'MX)', 'Pagina'))==False:\n",
    "        conceptos_2.append(i)"
   ]
  },
  {
   "cell_type": "code",
   "execution_count": 23,
   "metadata": {},
   "outputs": [
    {
     "data": {
      "text/plain": [
       "['DEPOSITO SPEI (BANAMEX, 000000, 000000000000000000, 9999999, RETIRO A SOLICITUD DEL CLIENTE,',\n",
       " 'CHEQUE INBURSA (Num Cheque:0000000 EFECTIVO)',\n",
       " 'COMPRA COMERCIO ( ISHOP MIXUP REFORMA319',\n",
       " 'CHEQUE INBURSA (Num Cheque:0000000 EFECTIVO)',\n",
       " 'CHEQUE INBURSA (Num Cheque:0000000 EFECTIVO)',\n",
       " 'COMPRA COMERCIO ( IZ BIOMEDICA DE REFER',\n",
       " 'COMPRA COMERCIO',\n",
       " 'COMPRA COMERCIO ( FSNPABLO PRADO NORTE',\n",
       " 'COMPRA COMERCIO ( SAN PABLO TECAMACHALCO',\n",
       " 'INTERESES GANADOS',\n",
       " 'ISR RETENIDO',\n",
       " 'COMISION MANEJO DE CUENTA',\n",
       " 'IVA COMISION MANEJO DE CUENTA (Tasa IVA 16.0%)',\n",
       " 'DEPOSITO SPEI (BANAMEX, 000000, 000000000000000000, 000000, RETIRO A SOLICITUD DEL CLIENTE,']"
      ]
     },
     "execution_count": 23,
     "metadata": {},
     "output_type": "execute_result"
    }
   ],
   "source": [
    "#solo conceptos\n",
    "conceptos_3=[]\n",
    "for i in conceptos:\n",
    "    if i.startswith(('DEPOSITO', 'CHEQUE', 'COMPRA', 'INTERES','ISR', 'COMISION', 'IVA', 'RETIRO')):\n",
    "        conceptos_3.append(i)\n",
    "conceptos_3"
   ]
  },
  {
   "cell_type": "code",
   "execution_count": 24,
   "metadata": {},
   "outputs": [],
   "source": [
    "#cargos\n",
    "indice_cargos=[]\n",
    "for i in range(len(tabla)):\n",
    "    if re.match('CARGOS',tabla[i]):\n",
    "        indice_cargos.append(i)"
   ]
  },
  {
   "cell_type": "code",
   "execution_count": 25,
   "metadata": {},
   "outputs": [
    {
     "data": {
      "text/plain": [
       "['CARGOS',\n",
       " '$5,000.00 $2,099.00 $5,000.00 $5,000.00 $3,274.20 $8,200.00 $922.50 $578.00',\n",
       " '30/09/2020',\n",
       " '1800835033',\n",
       " 'ISR RETENIDO',\n",
       " '$5,660.37',\n",
       " '30/09/2020',\n",
       " '1800835033',\n",
       " 'COMISION MANEJO DE CUENTA',\n",
       " '$228.45',\n",
       " '30/09/2020',\n",
       " '1800835033',\n",
       " '01/10/2020',\n",
       " '1801615848',\n",
       " 'IVA COMISION MANEJO DE CUENTA (Tasa IVA 16.0%)',\n",
       " 'DEPOSITO SPEI (BANAMEX, 000000, 000000000000000000, 000000, RETIRO A SOLICITUD DEL CLIENTE,',\n",
       " '$36.55',\n",
       " 'ABONOS',\n",
       " '$1,108.93',\n",
       " '$8,005.89 $1,108.93',\n",
       " 'SALDO',\n",
       " '$2,850.19 $2,850.19 $3,751.19 $8,751.19 $3,751.19 $7,476.99 $9,276.99 $8,354.49 $7,776.49 $5,782.38 $2,122.01 $9,893.56 $9,857.01 $2,965.94',\n",
       " 'FECHA IMPRESION: 02/10/2020 02:58:51 PM',\n",
       " 'Pagina 1 de1']"
      ]
     },
     "execution_count": 25,
     "metadata": {},
     "output_type": "execute_result"
    }
   ],
   "source": [
    "tabla[indice_cargos[0]:len(tabla)]"
   ]
  },
  {
   "cell_type": "code",
   "execution_count": 26,
   "metadata": {},
   "outputs": [
    {
     "data": {
      "text/plain": [
       "['$5,000.00 $2,099.00 $5,000.00 $5,000.00 $3,274.20 $8,200.00 $922.50 $578.00',\n",
       " '$5,660.37',\n",
       " '$228.45',\n",
       " '$36.55',\n",
       " '$1,108.93',\n",
       " '$8,005.89 $1,108.93',\n",
       " '$2,850.19 $2,850.19 $3,751.19 $8,751.19 $3,751.19 $7,476.99 $9,276.99 $8,354.49 $7,776.49 $5,782.38 $2,122.01 $9,893.56 $9,857.01 $2,965.94']"
      ]
     },
     "execution_count": 26,
     "metadata": {},
     "output_type": "execute_result"
    }
   ],
   "source": [
    "#cargos\n",
    "cargos_lista=[]\n",
    "for i in tabla:\n",
    "    if re.match(r'\\$',i):\n",
    "        cargos_lista.append(i)\n",
    "cargos_lista "
   ]
  },
  {
   "cell_type": "code",
   "execution_count": 27,
   "metadata": {},
   "outputs": [],
   "source": [
    "cargos_lista_2=[]\n",
    "for i in cargos_lista:\n",
    "    j=i.split(\" \")\n",
    "    for k in j:\n",
    "        cargos_lista_2.append(k)"
   ]
  },
  {
   "cell_type": "code",
   "execution_count": 28,
   "metadata": {},
   "outputs": [
    {
     "data": {
      "text/plain": [
       "['$5,000.00',\n",
       " '$2,099.00',\n",
       " '$5,000.00',\n",
       " '$5,000.00',\n",
       " '$3,274.20',\n",
       " '$8,200.00',\n",
       " '$922.50',\n",
       " '$578.00',\n",
       " '$5,660.37',\n",
       " '$228.45',\n",
       " '$36.55',\n",
       " '$1,108.93',\n",
       " '$8,005.89',\n",
       " '$1,108.93',\n",
       " '$2,850.19',\n",
       " '$2,850.19',\n",
       " '$3,751.19',\n",
       " '$8,751.19',\n",
       " '$3,751.19',\n",
       " '$7,476.99',\n",
       " '$9,276.99',\n",
       " '$8,354.49',\n",
       " '$7,776.49',\n",
       " '$5,782.38',\n",
       " '$2,122.01',\n",
       " '$9,893.56',\n",
       " '$9,857.01',\n",
       " '$2,965.94']"
      ]
     },
     "execution_count": 28,
     "metadata": {},
     "output_type": "execute_result"
    }
   ],
   "source": [
    "cargos_lista_2"
   ]
  },
  {
   "cell_type": "code",
   "execution_count": 29,
   "metadata": {},
   "outputs": [
    {
     "data": {
      "text/plain": [
       "['DEPOSITO SPEI (BANAMEX, 000000, 000000000000000000, 9999999, RETIRO A SOLICITUD DEL CLIENTE,',\n",
       " 'CHEQUE INBURSA (Num Cheque:0000000 EFECTIVO)',\n",
       " 'COMPRA COMERCIO ( ISHOP MIXUP REFORMA319',\n",
       " 'CHEQUE INBURSA (Num Cheque:0000000 EFECTIVO)',\n",
       " 'CHEQUE INBURSA (Num Cheque:0000000 EFECTIVO)',\n",
       " 'COMPRA COMERCIO ( IZ BIOMEDICA DE REFER',\n",
       " 'COMPRA COMERCIO',\n",
       " 'COMPRA COMERCIO ( FSNPABLO PRADO NORTE',\n",
       " 'COMPRA COMERCIO ( SAN PABLO TECAMACHALCO',\n",
       " 'INTERESES GANADOS',\n",
       " 'ISR RETENIDO',\n",
       " 'COMISION MANEJO DE CUENTA',\n",
       " 'IVA COMISION MANEJO DE CUENTA (Tasa IVA 16.0%)',\n",
       " 'DEPOSITO SPEI (BANAMEX, 000000, 000000000000000000, 000000, RETIRO A SOLICITUD DEL CLIENTE,']"
      ]
     },
     "execution_count": 29,
     "metadata": {},
     "output_type": "execute_result"
    }
   ],
   "source": [
    "conceptos_3"
   ]
  },
  {
   "cell_type": "code",
   "execution_count": 30,
   "metadata": {},
   "outputs": [],
   "source": [
    "## organizo cargos\n",
    "cargos=[]\n",
    "contador=0\n",
    "for i in range(len(conceptos_3)):\n",
    "    if conceptos_3[i].startswith('CHEQUE'):\n",
    "        cargos.append(cargos_lista_2[contador])\n",
    "        contador=contador+1\n",
    "    elif conceptos_3[i].startswith('COMPRA'):\n",
    "        cargos.append(cargos_lista_2[contador])\n",
    "        contador=contador+1\n",
    "    elif conceptos_3[i].startswith('ISR'):\n",
    "        cargos.append(cargos_lista_2[contador])\n",
    "        contador=contador+1\n",
    "    elif conceptos_3[i].startswith('COMISION'):\n",
    "        cargos.append(cargos_lista_2[contador])\n",
    "        contador=contador+1\n",
    "    elif conceptos_3[i].startswith('IVA'):\n",
    "        cargos.append(cargos_lista_2[contador])\n",
    "        contador=contador+1\n",
    "    else:\n",
    "        cargos.append(0)"
   ]
  },
  {
   "cell_type": "code",
   "execution_count": 31,
   "metadata": {},
   "outputs": [],
   "source": [
    "#abonos\n",
    "indice_abonos=[]\n",
    "for i in range(len(tabla)):\n",
    "    if re.match('ABONOS',tabla[i]):\n",
    "        indice_abonos.append(i)"
   ]
  },
  {
   "cell_type": "code",
   "execution_count": 44,
   "metadata": {},
   "outputs": [],
   "source": [
    "tabla_abonos=tabla[indice_abonos[0]:-1]"
   ]
  },
  {
   "cell_type": "code",
   "execution_count": 45,
   "metadata": {},
   "outputs": [],
   "source": [
    "abonos_lista_1=[]\n",
    "for i in tabla_abonos:\n",
    "    abonos_lista_1.append(i)\n",
    "    if i.startswith('SALDO'):\n",
    "        break\n",
    "    "
   ]
  },
  {
   "cell_type": "code",
   "execution_count": 46,
   "metadata": {},
   "outputs": [
    {
     "data": {
      "text/plain": [
       "['ABONOS', '$1,108.93', '$8,005.89 $1,108.93', 'SALDO']"
      ]
     },
     "execution_count": 46,
     "metadata": {},
     "output_type": "execute_result"
    }
   ],
   "source": [
    "abonos_lista_1"
   ]
  },
  {
   "cell_type": "code",
   "execution_count": 47,
   "metadata": {},
   "outputs": [],
   "source": [
    "abonos_lista_2=[]\n",
    "for i in abonos_lista_1:\n",
    "    if i.startswith('$'):\n",
    "        abonos_lista_2.append(i)"
   ]
  },
  {
   "cell_type": "code",
   "execution_count": 48,
   "metadata": {},
   "outputs": [],
   "source": [
    "abonos_lista_3=[]\n",
    "for i in abonos_lista_2:\n",
    "    j=i.split(' ')\n",
    "    for k in j:\n",
    "        abonos_lista_3.append(k)"
   ]
  },
  {
   "cell_type": "code",
   "execution_count": 49,
   "metadata": {},
   "outputs": [
    {
     "data": {
      "text/plain": [
       "['$1,108.93', '$8,005.89', '$1,108.93']"
      ]
     },
     "execution_count": 49,
     "metadata": {},
     "output_type": "execute_result"
    }
   ],
   "source": [
    "#organizo abonos\n",
    "abonos_previo=[]\n",
    "for i in abonos_lista_3:\n",
    "    abo=str(i).split(' ')\n",
    "    \n",
    "    for j in abo:\n",
    "        abonos_previo.append(j)\n",
    "abonos_previo"
   ]
  },
  {
   "cell_type": "code",
   "execution_count": 50,
   "metadata": {},
   "outputs": [],
   "source": [
    "abonos=[]\n",
    "contador=0\n",
    "for i in range(len(conceptos_3)):\n",
    "    if conceptos_3[i].startswith('DEPOSITO'):\n",
    "        abonos.append(abonos_previo[contador])\n",
    "        contador=contador+1\n",
    "    elif conceptos_3[i].startswith('INTERES'):\n",
    "        abonos.append(abonos_previo[contador])\n",
    "        contador=contador+1\n",
    "    else:\n",
    "        abonos.append(0)"
   ]
  },
  {
   "cell_type": "code",
   "execution_count": 51,
   "metadata": {},
   "outputs": [
    {
     "data": {
      "text/plain": [
       "['$1,108.93', 0, 0, 0, 0, 0, 0, 0, 0, '$8,005.89', 0, 0, 0, '$1,108.93']"
      ]
     },
     "execution_count": 51,
     "metadata": {},
     "output_type": "execute_result"
    }
   ],
   "source": [
    "abonos"
   ]
  },
  {
   "cell_type": "code",
   "execution_count": 52,
   "metadata": {},
   "outputs": [],
   "source": [
    "#saldo\n",
    "indice_saldo=[]\n",
    "for i in range(len(tabla)):\n",
    "    if re.match('SALDO',tabla[i]):\n",
    "        indice_saldo.append(i)"
   ]
  },
  {
   "cell_type": "code",
   "execution_count": 53,
   "metadata": {},
   "outputs": [],
   "source": [
    "tabla_saldo=tabla[indice_saldo[0]:-1]"
   ]
  },
  {
   "cell_type": "code",
   "execution_count": 54,
   "metadata": {},
   "outputs": [
    {
     "data": {
      "text/plain": [
       "'$2,850.19 $2,850.19 $3,751.19 $8,751.19 $3,751.19 $7,476.99 $9,276.99 $8,354.49 $7,776.49 $5,782.38 $2,122.01 $9,893.56 $9,857.01 $2,965.94'"
      ]
     },
     "execution_count": 54,
     "metadata": {},
     "output_type": "execute_result"
    }
   ],
   "source": [
    "tabla_saldo[1]"
   ]
  },
  {
   "cell_type": "code",
   "execution_count": 55,
   "metadata": {},
   "outputs": [],
   "source": [
    "saldo=tabla_saldo[1].split(' ')"
   ]
  },
  {
   "cell_type": "code",
   "execution_count": 56,
   "metadata": {},
   "outputs": [],
   "source": [
    "#este data frame se puede exportar como csv\n",
    "estado=pd.DataFrame(list(zip(fechas, referencias_lista,conceptos_3, cargos, abonos,saldo)),\n",
    "              columns=['fecha','referencia', 'conceptos','retiro', 'deposito','saldo'])"
   ]
  },
  {
   "cell_type": "code",
   "execution_count": 57,
   "metadata": {},
   "outputs": [],
   "source": [
    "estado['concepto']='referencia: '+ estado['referencia']+' '+estado['conceptos']"
   ]
  },
  {
   "cell_type": "code",
   "execution_count": 58,
   "metadata": {},
   "outputs": [],
   "source": [
    "estado['banco']='inbursa'"
   ]
  },
  {
   "cell_type": "code",
   "execution_count": 59,
   "metadata": {},
   "outputs": [],
   "source": [
    "estado['nacionalidad']='nacional'"
   ]
  },
  {
   "cell_type": "code",
   "execution_count": 60,
   "metadata": {},
   "outputs": [],
   "source": [
    "estado['fecha de corte']=periodo"
   ]
  },
  {
   "cell_type": "code",
   "execution_count": 61,
   "metadata": {},
   "outputs": [],
   "source": [
    "estado['titular']=cliente"
   ]
  },
  {
   "cell_type": "code",
   "execution_count": 62,
   "metadata": {},
   "outputs": [],
   "source": [
    "estado['cuenta']=clabe"
   ]
  },
  {
   "cell_type": "code",
   "execution_count": 63,
   "metadata": {},
   "outputs": [],
   "source": [
    "if re.search('usd',text_str.lower()) or re.search('dolar', text_str.lower()) or re.search('dollar', text_str.lower()):\n",
    "    moneda='usd'\n",
    "else:\n",
    "    moneda='mxn'"
   ]
  },
  {
   "cell_type": "code",
   "execution_count": 64,
   "metadata": {},
   "outputs": [
    {
     "data": {
      "text/plain": [
       "'mxn'"
      ]
     },
     "execution_count": 64,
     "metadata": {},
     "output_type": "execute_result"
    }
   ],
   "source": [
    "moneda"
   ]
  },
  {
   "cell_type": "code",
   "execution_count": 65,
   "metadata": {},
   "outputs": [],
   "source": [
    "estado['divisa']=moneda"
   ]
  },
  {
   "cell_type": "code",
   "execution_count": 66,
   "metadata": {},
   "outputs": [],
   "source": [
    "saldo_inicial=saldo[0]"
   ]
  },
  {
   "cell_type": "code",
   "execution_count": 67,
   "metadata": {},
   "outputs": [],
   "source": [
    "estado['saldo inicial']=saldo_inicial"
   ]
  },
  {
   "cell_type": "code",
   "execution_count": 68,
   "metadata": {},
   "outputs": [],
   "source": [
    "edo_cuenta= estado[['banco','nacionalidad','fecha de corte', 'titular','cuenta','fecha','concepto','saldo inicial',\n",
    "                    'retiro','deposito','saldo','divisa']]"
   ]
  },
  {
   "cell_type": "code",
   "execution_count": 70,
   "metadata": {},
   "outputs": [
    {
     "data": {
      "text/html": [
       "<div>\n",
       "<style scoped>\n",
       "    .dataframe tbody tr th:only-of-type {\n",
       "        vertical-align: middle;\n",
       "    }\n",
       "\n",
       "    .dataframe tbody tr th {\n",
       "        vertical-align: top;\n",
       "    }\n",
       "\n",
       "    .dataframe thead th {\n",
       "        text-align: right;\n",
       "    }\n",
       "</style>\n",
       "<table border=\"1\" class=\"dataframe\">\n",
       "  <thead>\n",
       "    <tr style=\"text-align: right;\">\n",
       "      <th></th>\n",
       "      <th>banco</th>\n",
       "      <th>nacionalidad</th>\n",
       "      <th>fecha de corte</th>\n",
       "      <th>titular</th>\n",
       "      <th>cuenta</th>\n",
       "      <th>fecha</th>\n",
       "      <th>concepto</th>\n",
       "      <th>saldo inicial</th>\n",
       "      <th>retiro</th>\n",
       "      <th>deposito</th>\n",
       "      <th>saldo</th>\n",
       "      <th>divisa</th>\n",
       "    </tr>\n",
       "  </thead>\n",
       "  <tbody>\n",
       "    <tr>\n",
       "      <th>0</th>\n",
       "      <td>inbursa</td>\n",
       "      <td>nacional</td>\n",
       "      <td>01-09-2020 al 02-10-2020</td>\n",
       "      <td>CLIENTE INBURS A: 99999999</td>\n",
       "      <td>CUENTA CLABE: 999999999999999999</td>\n",
       "      <td>01/09/2020</td>\n",
       "      <td>referencia: 1778656351 DEPOSITO SPEI (BANAMEX,...</td>\n",
       "      <td>$2,850.19</td>\n",
       "      <td>0</td>\n",
       "      <td>$1,108.93</td>\n",
       "      <td>$2,850.19</td>\n",
       "      <td>mxn</td>\n",
       "    </tr>\n",
       "    <tr>\n",
       "      <th>1</th>\n",
       "      <td>inbursa</td>\n",
       "      <td>nacional</td>\n",
       "      <td>01-09-2020 al 02-10-2020</td>\n",
       "      <td>CLIENTE INBURS A: 99999999</td>\n",
       "      <td>CUENTA CLABE: 999999999999999999</td>\n",
       "      <td>15/09/2020</td>\n",
       "      <td>referencia: 1789342019 CHEQUE INBURSA (Num Che...</td>\n",
       "      <td>$2,850.19</td>\n",
       "      <td>$5,000.00</td>\n",
       "      <td>0</td>\n",
       "      <td>$2,850.19</td>\n",
       "      <td>mxn</td>\n",
       "    </tr>\n",
       "    <tr>\n",
       "      <th>2</th>\n",
       "      <td>inbursa</td>\n",
       "      <td>nacional</td>\n",
       "      <td>01-09-2020 al 02-10-2020</td>\n",
       "      <td>CLIENTE INBURS A: 99999999</td>\n",
       "      <td>CUENTA CLABE: 999999999999999999</td>\n",
       "      <td>17/09/2020</td>\n",
       "      <td>referencia: 1790409801 COMPRA COMERCIO ( ISHOP...</td>\n",
       "      <td>$2,850.19</td>\n",
       "      <td>$2,099.00</td>\n",
       "      <td>0</td>\n",
       "      <td>$3,751.19</td>\n",
       "      <td>mxn</td>\n",
       "    </tr>\n",
       "    <tr>\n",
       "      <th>3</th>\n",
       "      <td>inbursa</td>\n",
       "      <td>nacional</td>\n",
       "      <td>01-09-2020 al 02-10-2020</td>\n",
       "      <td>CLIENTE INBURS A: 99999999</td>\n",
       "      <td>CUENTA CLABE: 999999999999999999</td>\n",
       "      <td>18/09/2020</td>\n",
       "      <td>referencia: 1791586923 CHEQUE INBURSA (Num Che...</td>\n",
       "      <td>$2,850.19</td>\n",
       "      <td>$5,000.00</td>\n",
       "      <td>0</td>\n",
       "      <td>$8,751.19</td>\n",
       "      <td>mxn</td>\n",
       "    </tr>\n",
       "    <tr>\n",
       "      <th>4</th>\n",
       "      <td>inbursa</td>\n",
       "      <td>nacional</td>\n",
       "      <td>01-09-2020 al 02-10-2020</td>\n",
       "      <td>CLIENTE INBURS A: 99999999</td>\n",
       "      <td>CUENTA CLABE: 999999999999999999</td>\n",
       "      <td>21/09/2020</td>\n",
       "      <td>referencia: 1793261725 CHEQUE INBURSA (Num Che...</td>\n",
       "      <td>$2,850.19</td>\n",
       "      <td>$5,000.00</td>\n",
       "      <td>0</td>\n",
       "      <td>$3,751.19</td>\n",
       "      <td>mxn</td>\n",
       "    </tr>\n",
       "    <tr>\n",
       "      <th>5</th>\n",
       "      <td>inbursa</td>\n",
       "      <td>nacional</td>\n",
       "      <td>01-09-2020 al 02-10-2020</td>\n",
       "      <td>CLIENTE INBURS A: 99999999</td>\n",
       "      <td>CUENTA CLABE: 999999999999999999</td>\n",
       "      <td>23/09/2020</td>\n",
       "      <td>referencia: 1794683538 COMPRA COMERCIO ( IZ BI...</td>\n",
       "      <td>$2,850.19</td>\n",
       "      <td>$3,274.20</td>\n",
       "      <td>0</td>\n",
       "      <td>$7,476.99</td>\n",
       "      <td>mxn</td>\n",
       "    </tr>\n",
       "    <tr>\n",
       "      <th>6</th>\n",
       "      <td>inbursa</td>\n",
       "      <td>nacional</td>\n",
       "      <td>01-09-2020 al 02-10-2020</td>\n",
       "      <td>CLIENTE INBURS A: 99999999</td>\n",
       "      <td>CUENTA CLABE: 999999999999999999</td>\n",
       "      <td>24/09/2020</td>\n",
       "      <td>referencia: 1795290747 COMPRA COMERCIO</td>\n",
       "      <td>$2,850.19</td>\n",
       "      <td>$8,200.00</td>\n",
       "      <td>0</td>\n",
       "      <td>$9,276.99</td>\n",
       "      <td>mxn</td>\n",
       "    </tr>\n",
       "    <tr>\n",
       "      <th>7</th>\n",
       "      <td>inbursa</td>\n",
       "      <td>nacional</td>\n",
       "      <td>01-09-2020 al 02-10-2020</td>\n",
       "      <td>CLIENTE INBURS A: 99999999</td>\n",
       "      <td>CUENTA CLABE: 999999999999999999</td>\n",
       "      <td>25/09/2020</td>\n",
       "      <td>referencia: 1795984921 COMPRA COMERCIO ( FSNPA...</td>\n",
       "      <td>$2,850.19</td>\n",
       "      <td>$922.50</td>\n",
       "      <td>0</td>\n",
       "      <td>$8,354.49</td>\n",
       "      <td>mxn</td>\n",
       "    </tr>\n",
       "    <tr>\n",
       "      <th>8</th>\n",
       "      <td>inbursa</td>\n",
       "      <td>nacional</td>\n",
       "      <td>01-09-2020 al 02-10-2020</td>\n",
       "      <td>CLIENTE INBURS A: 99999999</td>\n",
       "      <td>CUENTA CLABE: 999999999999999999</td>\n",
       "      <td>28/09/2020</td>\n",
       "      <td>referencia: 1798363229 COMPRA COMERCIO ( SAN P...</td>\n",
       "      <td>$2,850.19</td>\n",
       "      <td>$578.00</td>\n",
       "      <td>0</td>\n",
       "      <td>$7,776.49</td>\n",
       "      <td>mxn</td>\n",
       "    </tr>\n",
       "    <tr>\n",
       "      <th>9</th>\n",
       "      <td>inbursa</td>\n",
       "      <td>nacional</td>\n",
       "      <td>01-09-2020 al 02-10-2020</td>\n",
       "      <td>CLIENTE INBURS A: 99999999</td>\n",
       "      <td>CUENTA CLABE: 999999999999999999</td>\n",
       "      <td>30/09/2020</td>\n",
       "      <td>referencia: 1800835033 INTERESES GANADOS</td>\n",
       "      <td>$2,850.19</td>\n",
       "      <td>0</td>\n",
       "      <td>$8,005.89</td>\n",
       "      <td>$5,782.38</td>\n",
       "      <td>mxn</td>\n",
       "    </tr>\n",
       "    <tr>\n",
       "      <th>10</th>\n",
       "      <td>inbursa</td>\n",
       "      <td>nacional</td>\n",
       "      <td>01-09-2020 al 02-10-2020</td>\n",
       "      <td>CLIENTE INBURS A: 99999999</td>\n",
       "      <td>CUENTA CLABE: 999999999999999999</td>\n",
       "      <td>30/09/2020</td>\n",
       "      <td>referencia: 1800835033 ISR RETENIDO</td>\n",
       "      <td>$2,850.19</td>\n",
       "      <td>$5,660.37</td>\n",
       "      <td>0</td>\n",
       "      <td>$2,122.01</td>\n",
       "      <td>mxn</td>\n",
       "    </tr>\n",
       "    <tr>\n",
       "      <th>11</th>\n",
       "      <td>inbursa</td>\n",
       "      <td>nacional</td>\n",
       "      <td>01-09-2020 al 02-10-2020</td>\n",
       "      <td>CLIENTE INBURS A: 99999999</td>\n",
       "      <td>CUENTA CLABE: 999999999999999999</td>\n",
       "      <td>30/09/2020</td>\n",
       "      <td>referencia: 1800835033 COMISION MANEJO DE CUENTA</td>\n",
       "      <td>$2,850.19</td>\n",
       "      <td>$228.45</td>\n",
       "      <td>0</td>\n",
       "      <td>$9,893.56</td>\n",
       "      <td>mxn</td>\n",
       "    </tr>\n",
       "    <tr>\n",
       "      <th>12</th>\n",
       "      <td>inbursa</td>\n",
       "      <td>nacional</td>\n",
       "      <td>01-09-2020 al 02-10-2020</td>\n",
       "      <td>CLIENTE INBURS A: 99999999</td>\n",
       "      <td>CUENTA CLABE: 999999999999999999</td>\n",
       "      <td>30/09/2020</td>\n",
       "      <td>referencia: 1800835033 IVA COMISION MANEJO DE ...</td>\n",
       "      <td>$2,850.19</td>\n",
       "      <td>$36.55</td>\n",
       "      <td>0</td>\n",
       "      <td>$9,857.01</td>\n",
       "      <td>mxn</td>\n",
       "    </tr>\n",
       "    <tr>\n",
       "      <th>13</th>\n",
       "      <td>inbursa</td>\n",
       "      <td>nacional</td>\n",
       "      <td>01-09-2020 al 02-10-2020</td>\n",
       "      <td>CLIENTE INBURS A: 99999999</td>\n",
       "      <td>CUENTA CLABE: 999999999999999999</td>\n",
       "      <td>01/10/2020</td>\n",
       "      <td>referencia: 1801615848 DEPOSITO SPEI (BANAMEX,...</td>\n",
       "      <td>$2,850.19</td>\n",
       "      <td>0</td>\n",
       "      <td>$1,108.93</td>\n",
       "      <td>$2,965.94</td>\n",
       "      <td>mxn</td>\n",
       "    </tr>\n",
       "  </tbody>\n",
       "</table>\n",
       "</div>"
      ],
      "text/plain": [
       "      banco nacionalidad            fecha de corte  \\\n",
       "0   inbursa     nacional  01-09-2020 al 02-10-2020   \n",
       "1   inbursa     nacional  01-09-2020 al 02-10-2020   \n",
       "2   inbursa     nacional  01-09-2020 al 02-10-2020   \n",
       "3   inbursa     nacional  01-09-2020 al 02-10-2020   \n",
       "4   inbursa     nacional  01-09-2020 al 02-10-2020   \n",
       "5   inbursa     nacional  01-09-2020 al 02-10-2020   \n",
       "6   inbursa     nacional  01-09-2020 al 02-10-2020   \n",
       "7   inbursa     nacional  01-09-2020 al 02-10-2020   \n",
       "8   inbursa     nacional  01-09-2020 al 02-10-2020   \n",
       "9   inbursa     nacional  01-09-2020 al 02-10-2020   \n",
       "10  inbursa     nacional  01-09-2020 al 02-10-2020   \n",
       "11  inbursa     nacional  01-09-2020 al 02-10-2020   \n",
       "12  inbursa     nacional  01-09-2020 al 02-10-2020   \n",
       "13  inbursa     nacional  01-09-2020 al 02-10-2020   \n",
       "\n",
       "                       titular                            cuenta       fecha  \\\n",
       "0   CLIENTE INBURS A: 99999999  CUENTA CLABE: 999999999999999999  01/09/2020   \n",
       "1   CLIENTE INBURS A: 99999999  CUENTA CLABE: 999999999999999999  15/09/2020   \n",
       "2   CLIENTE INBURS A: 99999999  CUENTA CLABE: 999999999999999999  17/09/2020   \n",
       "3   CLIENTE INBURS A: 99999999  CUENTA CLABE: 999999999999999999  18/09/2020   \n",
       "4   CLIENTE INBURS A: 99999999  CUENTA CLABE: 999999999999999999  21/09/2020   \n",
       "5   CLIENTE INBURS A: 99999999  CUENTA CLABE: 999999999999999999  23/09/2020   \n",
       "6   CLIENTE INBURS A: 99999999  CUENTA CLABE: 999999999999999999  24/09/2020   \n",
       "7   CLIENTE INBURS A: 99999999  CUENTA CLABE: 999999999999999999  25/09/2020   \n",
       "8   CLIENTE INBURS A: 99999999  CUENTA CLABE: 999999999999999999  28/09/2020   \n",
       "9   CLIENTE INBURS A: 99999999  CUENTA CLABE: 999999999999999999  30/09/2020   \n",
       "10  CLIENTE INBURS A: 99999999  CUENTA CLABE: 999999999999999999  30/09/2020   \n",
       "11  CLIENTE INBURS A: 99999999  CUENTA CLABE: 999999999999999999  30/09/2020   \n",
       "12  CLIENTE INBURS A: 99999999  CUENTA CLABE: 999999999999999999  30/09/2020   \n",
       "13  CLIENTE INBURS A: 99999999  CUENTA CLABE: 999999999999999999  01/10/2020   \n",
       "\n",
       "                                             concepto saldo inicial  \\\n",
       "0   referencia: 1778656351 DEPOSITO SPEI (BANAMEX,...     $2,850.19   \n",
       "1   referencia: 1789342019 CHEQUE INBURSA (Num Che...     $2,850.19   \n",
       "2   referencia: 1790409801 COMPRA COMERCIO ( ISHOP...     $2,850.19   \n",
       "3   referencia: 1791586923 CHEQUE INBURSA (Num Che...     $2,850.19   \n",
       "4   referencia: 1793261725 CHEQUE INBURSA (Num Che...     $2,850.19   \n",
       "5   referencia: 1794683538 COMPRA COMERCIO ( IZ BI...     $2,850.19   \n",
       "6              referencia: 1795290747 COMPRA COMERCIO     $2,850.19   \n",
       "7   referencia: 1795984921 COMPRA COMERCIO ( FSNPA...     $2,850.19   \n",
       "8   referencia: 1798363229 COMPRA COMERCIO ( SAN P...     $2,850.19   \n",
       "9            referencia: 1800835033 INTERESES GANADOS     $2,850.19   \n",
       "10                referencia: 1800835033 ISR RETENIDO     $2,850.19   \n",
       "11   referencia: 1800835033 COMISION MANEJO DE CUENTA     $2,850.19   \n",
       "12  referencia: 1800835033 IVA COMISION MANEJO DE ...     $2,850.19   \n",
       "13  referencia: 1801615848 DEPOSITO SPEI (BANAMEX,...     $2,850.19   \n",
       "\n",
       "       retiro   deposito      saldo divisa  \n",
       "0           0  $1,108.93  $2,850.19    mxn  \n",
       "1   $5,000.00          0  $2,850.19    mxn  \n",
       "2   $2,099.00          0  $3,751.19    mxn  \n",
       "3   $5,000.00          0  $8,751.19    mxn  \n",
       "4   $5,000.00          0  $3,751.19    mxn  \n",
       "5   $3,274.20          0  $7,476.99    mxn  \n",
       "6   $8,200.00          0  $9,276.99    mxn  \n",
       "7     $922.50          0  $8,354.49    mxn  \n",
       "8     $578.00          0  $7,776.49    mxn  \n",
       "9           0  $8,005.89  $5,782.38    mxn  \n",
       "10  $5,660.37          0  $2,122.01    mxn  \n",
       "11    $228.45          0  $9,893.56    mxn  \n",
       "12     $36.55          0  $9,857.01    mxn  \n",
       "13          0  $1,108.93  $2,965.94    mxn  "
      ]
     },
     "execution_count": 70,
     "metadata": {},
     "output_type": "execute_result"
    }
   ],
   "source": [
    "edo_cuenta"
   ]
  },
  {
   "cell_type": "code",
   "execution_count": 71,
   "metadata": {},
   "outputs": [
    {
     "data": {
      "text/plain": [
       "'01-09-2020-inbursa'"
      ]
     },
     "execution_count": 71,
     "metadata": {},
     "output_type": "execute_result"
    }
   ],
   "source": [
    "nombre_archivo=re.findall(r'\\d+-\\d+-\\d+',periodo)[0]+'-cheques-inbursa'\n",
    "nombre_archivo=nombre_archivo.replace('/','-')\n",
    "nombre_archivo"
   ]
  },
  {
   "cell_type": "code",
   "execution_count": 72,
   "metadata": {},
   "outputs": [],
   "source": [
    "#exporto\n",
    "#edo_cuenta.to_csv('tresalia\\Bancos\\inbursa\\salida\\\\'+nombre_archivo+'.txt' , sep='\\t', index=False)"
   ]
  },
  {
   "cell_type": "code",
   "execution_count": null,
   "metadata": {},
   "outputs": [],
   "source": []
  }
 ],
 "metadata": {
  "kernelspec": {
   "display_name": "Python 3",
   "language": "python",
   "name": "python3"
  },
  "language_info": {
   "codemirror_mode": {
    "name": "ipython",
    "version": 3
   },
   "file_extension": ".py",
   "mimetype": "text/x-python",
   "name": "python",
   "nbconvert_exporter": "python",
   "pygments_lexer": "ipython3",
   "version": "3.7.2"
  }
 },
 "nbformat": 4,
 "nbformat_minor": 2
}
